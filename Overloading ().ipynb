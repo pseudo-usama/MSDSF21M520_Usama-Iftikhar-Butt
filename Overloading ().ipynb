{
 "cells": [
  {
   "cell_type": "code",
   "execution_count": 12,
   "id": "0b664438-cd46-4d44-b298-3ffa34b659cd",
   "metadata": {},
   "outputs": [],
   "source": [
    "class abc:\n",
    "    pass\n",
    "    def __call__(self, *args, **kwargs):\n",
    "        print(args)\n",
    "        print(kwargs)"
   ]
  },
  {
   "cell_type": "code",
   "execution_count": 14,
   "id": "0d497e2c-3997-48dd-bc39-30411428b7a8",
   "metadata": {},
   "outputs": [
    {
     "name": "stdout",
     "output_type": "stream",
     "text": [
      "(1, 2)\n",
      "{'a': 2}\n"
     ]
    }
   ],
   "source": [
    "obj = abc()\n",
    "obj(1,2, a=2)"
   ]
  }
 ],
 "metadata": {
  "kernelspec": {
   "display_name": "tools-and-techniques-in-data-science",
   "language": "python",
   "name": "tools-and-techniques-in-data-science"
  },
  "language_info": {
   "codemirror_mode": {
    "name": "ipython",
    "version": 3
   },
   "file_extension": ".py",
   "mimetype": "text/x-python",
   "name": "python",
   "nbconvert_exporter": "python",
   "pygments_lexer": "ipython3",
   "version": "3.9.7"
  }
 },
 "nbformat": 4,
 "nbformat_minor": 5
}
