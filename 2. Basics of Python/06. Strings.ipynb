{
 "cells": [
  {
   "cell_type": "code",
   "execution_count": 1,
   "id": "b7a8c784-5fb9-4150-b477-faed5dd3e90d",
   "metadata": {},
   "outputs": [],
   "source": [
    "str1 = 'my string'"
   ]
  },
  {
   "cell_type": "code",
   "execution_count": 12,
   "id": "82f65a6e-7b32-4900-b551-60f55eb3235f",
   "metadata": {},
   "outputs": [
    {
     "data": {
      "text/plain": [
       "3"
      ]
     },
     "execution_count": 12,
     "metadata": {},
     "output_type": "execute_result"
    }
   ],
   "source": [
    "str1.index('s')"
   ]
  },
  {
   "cell_type": "code",
   "execution_count": 17,
   "id": "462ca422-8b11-40e9-baed-2e5ec4b32a78",
   "metadata": {},
   "outputs": [
    {
     "data": {
      "text/plain": [
       "'g'"
      ]
     },
     "execution_count": 17,
     "metadata": {},
     "output_type": "execute_result"
    }
   ],
   "source": [
    "str1[-1]"
   ]
  },
  {
   "cell_type": "code",
   "execution_count": null,
   "id": "4e8477d3-b434-44a6-9742-e02359eb6841",
   "metadata": {},
   "outputs": [],
   "source": []
  },
  {
   "cell_type": "code",
   "execution_count": null,
   "id": "90ac12dc-3edf-4b9f-82d1-2804736db9fc",
   "metadata": {},
   "outputs": [],
   "source": []
  },
  {
   "cell_type": "code",
   "execution_count": null,
   "id": "169e759d-8be7-4a5b-a2f2-d94bbcfde1b3",
   "metadata": {},
   "outputs": [],
   "source": []
  },
  {
   "cell_type": "code",
   "execution_count": 59,
   "id": "77a9a1c5-eb6c-44fb-a805-ebdbca63959f",
   "metadata": {},
   "outputs": [
    {
     "data": {
      "text/plain": [
       "True"
      ]
     },
     "execution_count": 59,
     "metadata": {},
     "output_type": "execute_result"
    }
   ],
   "source": [
    "\"John\" > \"Jhon\""
   ]
  },
  {
   "cell_type": "code",
   "execution_count": 60,
   "id": "ffbb586a-f77c-4a3e-b0fa-d1f07358cd5d",
   "metadata": {},
   "outputs": [
    {
     "data": {
      "text/plain": [
       "False"
      ]
     },
     "execution_count": 60,
     "metadata": {},
     "output_type": "execute_result"
    }
   ],
   "source": [
    "\"Emma\" < \"Emm\""
   ]
  },
  {
   "cell_type": "code",
   "execution_count": null,
   "id": "919072c5-961d-4f93-ada1-64eaea0f0150",
   "metadata": {},
   "outputs": [],
   "source": []
  },
  {
   "cell_type": "code",
   "execution_count": null,
   "id": "b5deace3-fde6-4e6c-b670-2145f1eb054a",
   "metadata": {},
   "outputs": [],
   "source": []
  },
  {
   "cell_type": "code",
   "execution_count": null,
   "id": "f4f19826-724a-4939-b1a7-5a3173eb7a94",
   "metadata": {},
   "outputs": [],
   "source": []
  },
  {
   "cell_type": "code",
   "execution_count": 35,
   "id": "fc5898c7-5842-4d70-b9e7-60045fb03dc5",
   "metadata": {},
   "outputs": [
    {
     "data": {
      "text/plain": [
       "'is '"
      ]
     },
     "execution_count": 35,
     "metadata": {},
     "output_type": "execute_result"
    }
   ],
   "source": [
    "'this is my string'[2:5]"
   ]
  },
  {
   "cell_type": "code",
   "execution_count": 37,
   "id": "9037a3d3-c79e-4380-b474-21634e198740",
   "metadata": {},
   "outputs": [
    {
     "data": {
      "text/plain": [
       "'is is my string'"
      ]
     },
     "execution_count": 37,
     "metadata": {},
     "output_type": "execute_result"
    }
   ],
   "source": [
    "'this is my string'[2:]"
   ]
  },
  {
   "cell_type": "code",
   "execution_count": 38,
   "id": "bad838c3-ec65-45eb-8af7-727d37ad7606",
   "metadata": {},
   "outputs": [
    {
     "data": {
      "text/plain": [
       "'this'"
      ]
     },
     "execution_count": 38,
     "metadata": {},
     "output_type": "execute_result"
    }
   ],
   "source": [
    "'this is my string'[:4]"
   ]
  },
  {
   "cell_type": "code",
   "execution_count": 39,
   "id": "ff8ffa95-f353-4625-b3f3-5fb7b113f2ff",
   "metadata": {},
   "outputs": [
    {
     "data": {
      "text/plain": [
       "'ti sm tig'"
      ]
     },
     "execution_count": 39,
     "metadata": {},
     "output_type": "execute_result"
    }
   ],
   "source": [
    "'this is my string'[::2]"
   ]
  },
  {
   "cell_type": "code",
   "execution_count": 40,
   "id": "458b42a4-2e38-4b3b-ba86-d176fd7881f7",
   "metadata": {},
   "outputs": [
    {
     "data": {
      "text/plain": [
       "'gnirts ym si siht'"
      ]
     },
     "execution_count": 40,
     "metadata": {},
     "output_type": "execute_result"
    }
   ],
   "source": [
    "'this is my string'[::-1]"
   ]
  },
  {
   "cell_type": "code",
   "execution_count": 41,
   "id": "9d55f9d4-b11f-481c-a9b5-70b4c9013355",
   "metadata": {},
   "outputs": [
    {
     "data": {
      "text/plain": [
       "'his is my stri'"
      ]
     },
     "execution_count": 41,
     "metadata": {},
     "output_type": "execute_result"
    }
   ],
   "source": [
    "'this is my string'[1:-2]"
   ]
  },
  {
   "cell_type": "code",
   "execution_count": 42,
   "id": "f2f59c1b-fa88-43e9-acb5-e45bfca09d64",
   "metadata": {},
   "outputs": [
    {
     "data": {
      "text/plain": [
       "'ri'"
      ]
     },
     "execution_count": 42,
     "metadata": {},
     "output_type": "execute_result"
    }
   ],
   "source": [
    "'this is my string'[-4:-2]"
   ]
  },
  {
   "cell_type": "code",
   "execution_count": 43,
   "id": "892abef9-7594-4228-b783-6c0f7b29cb19",
   "metadata": {},
   "outputs": [
    {
     "data": {
      "text/plain": [
       "''"
      ]
     },
     "execution_count": 43,
     "metadata": {},
     "output_type": "execute_result"
    }
   ],
   "source": [
    "'this is my string'[-4:-2:-1]"
   ]
  },
  {
   "cell_type": "code",
   "execution_count": 48,
   "id": "1754e198-b099-4a62-8e49-bb5ed358e4c7",
   "metadata": {},
   "outputs": [
    {
     "data": {
      "text/plain": [
       "'nirts'"
      ]
     },
     "execution_count": 48,
     "metadata": {},
     "output_type": "execute_result"
    }
   ],
   "source": [
    "'this is my string'[-2:-7:-1]"
   ]
  },
  {
   "cell_type": "code",
   "execution_count": 50,
   "id": "6dcbf2c5-2762-4274-881c-c1ded0636d27",
   "metadata": {},
   "outputs": [
    {
     "data": {
      "text/plain": [
       "' stri'"
      ]
     },
     "execution_count": 50,
     "metadata": {},
     "output_type": "execute_result"
    }
   ],
   "source": [
    "'this is my string'[-7:-2]"
   ]
  },
  {
   "cell_type": "code",
   "execution_count": 72,
   "id": "3009cbee-ca51-475f-be92-f4767d79f676",
   "metadata": {},
   "outputs": [
    {
     "data": {
      "text/plain": [
       "''"
      ]
     },
     "execution_count": 72,
     "metadata": {},
     "output_type": "execute_result"
    }
   ],
   "source": [
    "'This is yo.Hello motto'[:-101]"
   ]
  },
  {
   "cell_type": "code",
   "execution_count": null,
   "id": "1a275db4-1938-4e90-886c-94dd1d7d05e4",
   "metadata": {},
   "outputs": [],
   "source": []
  },
  {
   "cell_type": "code",
   "execution_count": 111,
   "id": "8df6d122-f65d-4749-9dca-d511f3b3aed6",
   "metadata": {},
   "outputs": [
    {
     "data": {
      "text/plain": [
       "'i s'"
      ]
     },
     "execution_count": 111,
     "metadata": {},
     "output_type": "execute_result"
    }
   ],
   "source": [
    "'This is yo.Hello motto'[5:-20:-1]"
   ]
  },
  {
   "cell_type": "code",
   "execution_count": 110,
   "id": "92155d75-7d6c-49b3-aff4-1ab785e0e361",
   "metadata": {},
   "outputs": [
    {
     "data": {
      "text/plain": [
       "'otto'"
      ]
     },
     "execution_count": 110,
     "metadata": {},
     "output_type": "execute_result"
    }
   ],
   "source": [
    "'This is yo.Hello motto'[:-5:-1]"
   ]
  },
  {
   "cell_type": "code",
   "execution_count": null,
   "id": "96e59753-e90c-4aec-9274-00c06645c426",
   "metadata": {},
   "outputs": [],
   "source": []
  },
  {
   "cell_type": "code",
   "execution_count": null,
   "id": "37f496a6-8043-4865-ab62-fe7f9f0308fd",
   "metadata": {},
   "outputs": [],
   "source": []
  },
  {
   "cell_type": "code",
   "execution_count": null,
   "id": "f73d9ab0-4118-41f1-a1d5-a3e931f46492",
   "metadata": {},
   "outputs": [],
   "source": []
  },
  {
   "cell_type": "code",
   "execution_count": null,
   "id": "132ce9a3-4acf-49d7-bef4-a7c13e9ee596",
   "metadata": {},
   "outputs": [],
   "source": []
  },
  {
   "cell_type": "code",
   "execution_count": 115,
   "id": "4b6e2a5d-5e7b-4b4b-8b08-aa096518db73",
   "metadata": {},
   "outputs": [
    {
     "data": {
      "text/plain": [
       "''"
      ]
     },
     "execution_count": 115,
     "metadata": {},
     "output_type": "execute_result"
    }
   ],
   "source": [
    "'This is yo.Hello motto'[-1:100:-1]"
   ]
  },
  {
   "cell_type": "code",
   "execution_count": 116,
   "id": "973c51bf-0c62-4912-817d-f7a64f626b3c",
   "metadata": {},
   "outputs": [
    {
     "data": {
      "text/plain": [
       "'to'"
      ]
     },
     "execution_count": 116,
     "metadata": {},
     "output_type": "execute_result"
    }
   ],
   "source": [
    "'This is yo.Hello motto'[-2:100]"
   ]
  },
  {
   "cell_type": "code",
   "execution_count": 120,
   "id": "826bfe06-dac4-441d-9ebe-fddfa74e6284",
   "metadata": {},
   "outputs": [
    {
     "data": {
      "text/plain": [
       "'ii'"
      ]
     },
     "execution_count": 120,
     "metadata": {},
     "output_type": "execute_result"
    }
   ],
   "source": [
    "'This is yo.Hello motto'[5:-100:-3]"
   ]
  },
  {
   "cell_type": "code",
   "execution_count": 122,
   "id": "02027df6-254c-4fae-89bc-7d30f7175ffa",
   "metadata": {},
   "outputs": [
    {
     "data": {
      "text/plain": [
       "'i sih'"
      ]
     },
     "execution_count": 122,
     "metadata": {},
     "output_type": "execute_result"
    }
   ],
   "source": [
    "'This is yo.Hello motto'[5:-22:-1]"
   ]
  },
  {
   "cell_type": "code",
   "execution_count": null,
   "id": "f83bd67e-0754-4665-921b-13a20ebc688d",
   "metadata": {},
   "outputs": [],
   "source": []
  },
  {
   "cell_type": "code",
   "execution_count": null,
   "id": "d67a1fbd-0ad1-47f0-92d3-4dc961095d6b",
   "metadata": {},
   "outputs": [],
   "source": []
  },
  {
   "cell_type": "code",
   "execution_count": 51,
   "id": "4803cbe7-e6b5-4824-ab20-e4f38b61b646",
   "metadata": {},
   "outputs": [
    {
     "data": {
      "text/plain": [
       "'s is'"
      ]
     },
     "execution_count": 51,
     "metadata": {},
     "output_type": "execute_result"
    }
   ],
   "source": [
    "'This is yo.Hello motto'[3:7]"
   ]
  },
  {
   "cell_type": "code",
   "execution_count": 52,
   "id": "e92402f6-9526-405f-96cc-1525e3b8967b",
   "metadata": {},
   "outputs": [
    {
     "data": {
      "text/plain": [
       "''"
      ]
     },
     "execution_count": 52,
     "metadata": {},
     "output_type": "execute_result"
    }
   ],
   "source": [
    "'This is yo.Hello motto'[-3:7]"
   ]
  },
  {
   "cell_type": "code",
   "execution_count": 54,
   "id": "227e9c73-a7e0-42c7-9984-2c1e4fa84f22",
   "metadata": {},
   "outputs": [
    {
     "data": {
      "text/plain": [
       "'is'"
      ]
     },
     "execution_count": 54,
     "metadata": {},
     "output_type": "execute_result"
    }
   ],
   "source": [
    "'This iso'[-3:7]"
   ]
  },
  {
   "cell_type": "code",
   "execution_count": 56,
   "id": "fb89409b-e759-47d9-ac5a-29f478ca8b90",
   "metadata": {},
   "outputs": [
    {
     "data": {
      "text/plain": [
       "'tom olleH.oy'"
      ]
     },
     "execution_count": 56,
     "metadata": {},
     "output_type": "execute_result"
    }
   ],
   "source": [
    "'This is yo.Hello motto'[-3:7:-1]"
   ]
  },
  {
   "cell_type": "code",
   "execution_count": null,
   "id": "17ffcde9-17cd-4391-b383-dfad6c94e67b",
   "metadata": {},
   "outputs": [],
   "source": []
  },
  {
   "cell_type": "code",
   "execution_count": null,
   "id": "1830fc47-7838-49fa-87ec-84a42ba138b7",
   "metadata": {},
   "outputs": [],
   "source": []
  },
  {
   "cell_type": "code",
   "execution_count": null,
   "id": "6942885e-fcce-4e52-b52c-c7e5ba89586a",
   "metadata": {},
   "outputs": [],
   "source": []
  },
  {
   "cell_type": "code",
   "execution_count": 57,
   "id": "43a10c25-e741-46cd-b58e-d7fbfaabe782",
   "metadata": {},
   "outputs": [
    {
     "data": {
      "text/plain": [
       "('Yna', 'PYnat', 'tive', 'PYnativ', 'PYnativ')"
      ]
     },
     "execution_count": 57,
     "metadata": {},
     "output_type": "execute_result"
    }
   ],
   "source": [
    "str1 = \"PYnative\"\n",
    "(str1[1:4], str1[:5], str1[4:], str1[0:-1], str1[:-1])"
   ]
  },
  {
   "cell_type": "code",
   "execution_count": null,
   "id": "18a63b1f-cc6a-460d-b6d4-1d4b2dc14e42",
   "metadata": {},
   "outputs": [],
   "source": []
  },
  {
   "cell_type": "code",
   "execution_count": null,
   "id": "b90ad7ff-d532-40c9-9929-7e5e5592278a",
   "metadata": {},
   "outputs": [],
   "source": []
  },
  {
   "cell_type": "code",
   "execution_count": null,
   "id": "f85a11cf-5baf-4ac9-8b69-b2ce25c8b6dd",
   "metadata": {},
   "outputs": [],
   "source": []
  },
  {
   "cell_type": "code",
   "execution_count": null,
   "id": "73622356-9c6c-48af-afa0-37f319f22736",
   "metadata": {},
   "outputs": [],
   "source": []
  },
  {
   "cell_type": "code",
   "execution_count": null,
   "id": "07c6ae83-cc1e-48b0-b6e5-0896f12767f8",
   "metadata": {},
   "outputs": [],
   "source": []
  },
  {
   "cell_type": "code",
   "execution_count": null,
   "id": "39c5b3f8-0ad7-4c62-89f7-79d9441835ae",
   "metadata": {},
   "outputs": [],
   "source": []
  },
  {
   "cell_type": "code",
   "execution_count": null,
   "id": "74e2e92d-1efe-498f-9aec-617bb2cb1a69",
   "metadata": {},
   "outputs": [],
   "source": []
  },
  {
   "cell_type": "code",
   "execution_count": null,
   "id": "79370e05-cf7a-4ffc-965e-627758a179b7",
   "metadata": {},
   "outputs": [],
   "source": []
  },
  {
   "cell_type": "code",
   "execution_count": null,
   "id": "7741b000-474b-44ee-aecb-7229667d5acf",
   "metadata": {},
   "outputs": [],
   "source": []
  },
  {
   "cell_type": "code",
   "execution_count": null,
   "id": "ca44ff85-2ef8-4bfb-ba5d-034a5a995605",
   "metadata": {},
   "outputs": [],
   "source": []
  },
  {
   "cell_type": "code",
   "execution_count": null,
   "id": "d732a87d-6da2-4143-aafb-b2f77a32088a",
   "metadata": {},
   "outputs": [],
   "source": []
  },
  {
   "cell_type": "markdown",
   "id": "7c42f39d-366b-4e5e-963f-236ce5d9f507",
   "metadata": {},
   "source": [
    "# String method"
   ]
  },
  {
   "cell_type": "code",
   "execution_count": 124,
   "id": "9a2a6d42-ecc3-45bf-bbc7-b6f367880582",
   "metadata": {},
   "outputs": [
    {
     "data": {
      "text/plain": [
       "'this is yo.hello motto'"
      ]
     },
     "execution_count": 124,
     "metadata": {},
     "output_type": "execute_result"
    }
   ],
   "source": [
    "'This is yo.Hello motto'.lower()"
   ]
  },
  {
   "cell_type": "code",
   "execution_count": 126,
   "id": "b715fa49-dd73-4f8c-b508-3a96e699b1b0",
   "metadata": {},
   "outputs": [
    {
     "data": {
      "text/plain": [
       "'THIS IS YO.HELLO MOTTO'"
      ]
     },
     "execution_count": 126,
     "metadata": {},
     "output_type": "execute_result"
    }
   ],
   "source": [
    "'This is yo.Hello motto'.upper()"
   ]
  },
  {
   "cell_type": "code",
   "execution_count": 128,
   "id": "4c32c649-18d8-43f9-b24b-80dd17fc5920",
   "metadata": {},
   "outputs": [
    {
     "data": {
      "text/plain": [
       "'This is yo. hello motto'"
      ]
     },
     "execution_count": 128,
     "metadata": {},
     "output_type": "execute_result"
    }
   ],
   "source": [
    "'This IS yo. hello motto'.capitalize()"
   ]
  },
  {
   "cell_type": "code",
   "execution_count": null,
   "id": "0c75e7e9-0d22-413a-84a9-8fb0774c731a",
   "metadata": {},
   "outputs": [],
   "source": []
  },
  {
   "cell_type": "code",
   "execution_count": null,
   "id": "b4e481ce-ad46-4a4e-81dd-fcd1cd36bd47",
   "metadata": {},
   "outputs": [],
   "source": []
  },
  {
   "cell_type": "code",
   "execution_count": null,
   "id": "7ec58ca9-9617-4686-a466-7f29a339800b",
   "metadata": {},
   "outputs": [],
   "source": []
  },
  {
   "cell_type": "code",
   "execution_count": 135,
   "id": "16a1c31a-8be3-492b-b22c-ea64d34fbcf9",
   "metadata": {},
   "outputs": [],
   "source": [
    "str1 = '    asldfjasdf dfasjfadsjkf     ljadsfjadsf      '"
   ]
  },
  {
   "cell_type": "code",
   "execution_count": 136,
   "id": "a581c29c-78cf-477e-8b65-4c46e038960f",
   "metadata": {},
   "outputs": [
    {
     "data": {
      "text/plain": [
       "'asldfjasdf dfasjfadsjkf     ljadsfjadsf'"
      ]
     },
     "execution_count": 136,
     "metadata": {},
     "output_type": "execute_result"
    }
   ],
   "source": [
    "str1.strip()"
   ]
  },
  {
   "cell_type": "code",
   "execution_count": 137,
   "id": "208d99e1-49bc-4277-9d5f-ea4ce4a306dc",
   "metadata": {},
   "outputs": [
    {
     "data": {
      "text/plain": [
       "'asldfjasdf dfasjfadsjkf     ljadsfjadsf      '"
      ]
     },
     "execution_count": 137,
     "metadata": {},
     "output_type": "execute_result"
    }
   ],
   "source": [
    "str1.lstrip()"
   ]
  },
  {
   "cell_type": "code",
   "execution_count": 138,
   "id": "8254f0ea-b586-4458-a869-24f1bd992761",
   "metadata": {},
   "outputs": [
    {
     "data": {
      "text/plain": [
       "'    asldfjasdf dfasjfadsjkf     ljadsfjadsf'"
      ]
     },
     "execution_count": 138,
     "metadata": {},
     "output_type": "execute_result"
    }
   ],
   "source": [
    "str1.rstrip()"
   ]
  },
  {
   "cell_type": "code",
   "execution_count": 143,
   "id": "89083679-23b1-460d-8670-2afe2548b359",
   "metadata": {},
   "outputs": [
    {
     "data": {
      "text/plain": [
       "'    dfghjk '"
      ]
     },
     "execution_count": 143,
     "metadata": {},
     "output_type": "execute_result"
    }
   ],
   "source": [
    "'    dfghjk 123'.strip('123')"
   ]
  },
  {
   "cell_type": "code",
   "execution_count": 145,
   "id": "0e65e355-9740-4e57-b103-547a2ced8686",
   "metadata": {},
   "outputs": [
    {
     "data": {
      "text/plain": [
       "'    dfghjk 123'"
      ]
     },
     "execution_count": 145,
     "metadata": {},
     "output_type": "execute_result"
    }
   ],
   "source": [
    "'    dfghjk 123'.lstrip('123')"
   ]
  },
  {
   "cell_type": "code",
   "execution_count": 146,
   "id": "484be123-a9fb-4d66-baaf-9c77d5a14055",
   "metadata": {},
   "outputs": [
    {
     "data": {
      "text/plain": [
       "'    dfghjk '"
      ]
     },
     "execution_count": 146,
     "metadata": {},
     "output_type": "execute_result"
    }
   ],
   "source": [
    "'    dfghjk 123'.rstrip('123')"
   ]
  },
  {
   "cell_type": "code",
   "execution_count": null,
   "id": "0cbe3b58-dfff-4558-9abc-d8d60e71e4c6",
   "metadata": {},
   "outputs": [],
   "source": []
  },
  {
   "cell_type": "code",
   "execution_count": null,
   "id": "5690b2d7-4194-4a37-9ec9-a3da654c15a9",
   "metadata": {},
   "outputs": [],
   "source": []
  },
  {
   "cell_type": "code",
   "execution_count": null,
   "id": "d3d98e78-865b-4998-955c-ae84ee6dc5d3",
   "metadata": {},
   "outputs": [],
   "source": []
  },
  {
   "cell_type": "code",
   "execution_count": 152,
   "id": "4bb49388-4118-4a98-9241-c17dcd927255",
   "metadata": {},
   "outputs": [
    {
     "data": {
      "text/plain": [
       "True"
      ]
     },
     "execution_count": 152,
     "metadata": {},
     "output_type": "execute_result"
    }
   ],
   "source": [
    "'    dfghjk 123'.startswith('    d')"
   ]
  },
  {
   "cell_type": "code",
   "execution_count": 153,
   "id": "ac6c2b63-7db7-478f-b783-f29caaea201b",
   "metadata": {},
   "outputs": [
    {
     "data": {
      "text/plain": [
       "True"
      ]
     },
     "execution_count": 153,
     "metadata": {},
     "output_type": "execute_result"
    }
   ],
   "source": [
    "'    dfghjk 123'.endswith('123')"
   ]
  },
  {
   "cell_type": "code",
   "execution_count": null,
   "id": "390ae01c-78b7-4b6e-9a24-0d21d9989c4f",
   "metadata": {},
   "outputs": [],
   "source": []
  },
  {
   "cell_type": "code",
   "execution_count": null,
   "id": "515e5307-02a4-47b2-accf-1d17b3acf07c",
   "metadata": {},
   "outputs": [],
   "source": []
  },
  {
   "cell_type": "code",
   "execution_count": null,
   "id": "e86f6a77-c18e-4a32-a55b-d26b98dbbb4e",
   "metadata": {},
   "outputs": [],
   "source": []
  },
  {
   "cell_type": "code",
   "execution_count": 159,
   "id": "b75cea3a-ae4f-46c4-a767-8796767baefd",
   "metadata": {},
   "outputs": [
    {
     "data": {
      "text/plain": [
       "['', '', '', '', 'dfghjk', '123']"
      ]
     },
     "execution_count": 159,
     "metadata": {},
     "output_type": "execute_result"
    }
   ],
   "source": [
    "'    dfghjk 123'.split(' ')"
   ]
  },
  {
   "cell_type": "code",
   "execution_count": 162,
   "id": "6878bd23-ff32-43b3-98cb-b894bed24a80",
   "metadata": {},
   "outputs": [
    {
     "data": {
      "text/plain": [
       "'1 2 3 4'"
      ]
     },
     "execution_count": 162,
     "metadata": {},
     "output_type": "execute_result"
    }
   ],
   "source": [
    "' '.join(['1','2','3','4'])"
   ]
  },
  {
   "cell_type": "code",
   "execution_count": null,
   "id": "818a1abf-e93b-47e4-8171-782b5c9dffba",
   "metadata": {},
   "outputs": [],
   "source": []
  },
  {
   "cell_type": "code",
   "execution_count": null,
   "id": "c77339b4-bffd-4431-a15d-e23b7ac018b6",
   "metadata": {},
   "outputs": [],
   "source": []
  },
  {
   "cell_type": "code",
   "execution_count": null,
   "id": "f79ea516-ec4c-4f68-b1c6-07fdcceb27e0",
   "metadata": {},
   "outputs": [],
   "source": []
  },
  {
   "cell_type": "code",
   "execution_count": 183,
   "id": "6989f88c-52b1-4df2-9dfe-5f8f1d9f440a",
   "metadata": {},
   "outputs": [
    {
     "data": {
      "text/plain": [
       "4"
      ]
     },
     "execution_count": 183,
     "metadata": {},
     "output_type": "execute_result"
    }
   ],
   "source": [
    "'    dfghjk 123'.find('d')"
   ]
  },
  {
   "cell_type": "code",
   "execution_count": 168,
   "id": "166914d7-8226-463b-a92d-bbb9e8f91862",
   "metadata": {},
   "outputs": [
    {
     "data": {
      "text/plain": [
       "-1"
      ]
     },
     "execution_count": 168,
     "metadata": {},
     "output_type": "execute_result"
    }
   ],
   "source": [
    "'    dfghjk 123'.find('ghjkl')"
   ]
  },
  {
   "cell_type": "code",
   "execution_count": 186,
   "id": "c1abb10e-f1b1-4fe0-9445-024394da1444",
   "metadata": {},
   "outputs": [
    {
     "data": {
      "text/plain": [
       "-1"
      ]
     },
     "execution_count": 186,
     "metadata": {},
     "output_type": "execute_result"
    }
   ],
   "source": [
    "'    dfghjk 123'.find('123', 400, 500)"
   ]
  },
  {
   "cell_type": "code",
   "execution_count": null,
   "id": "5ef3681b-9124-416d-b469-a2047c2b94b3",
   "metadata": {},
   "outputs": [],
   "source": []
  },
  {
   "cell_type": "code",
   "execution_count": null,
   "id": "5b49d35d-8d2e-46d8-bdec-2f68a31c045d",
   "metadata": {},
   "outputs": [],
   "source": []
  },
  {
   "cell_type": "code",
   "execution_count": null,
   "id": "adf2813c-829d-4cfd-8604-169448908fc9",
   "metadata": {},
   "outputs": [],
   "source": []
  },
  {
   "cell_type": "code",
   "execution_count": null,
   "id": "119b3fc0-0a86-4090-a527-f7f06f36dac6",
   "metadata": {},
   "outputs": [],
   "source": []
  },
  {
   "cell_type": "code",
   "execution_count": 172,
   "id": "298ee48d-b802-4bc8-bcfe-48db4fd92741",
   "metadata": {},
   "outputs": [
    {
     "data": {
      "text/plain": [
       "'    dfghjk asdf'"
      ]
     },
     "execution_count": 172,
     "metadata": {},
     "output_type": "execute_result"
    }
   ],
   "source": [
    "'    dfghjk 123'.replace('123', 'asdf')"
   ]
  },
  {
   "cell_type": "code",
   "execution_count": 177,
   "id": "47209a15-98ba-4e3a-a57b-cb09bc3d0f88",
   "metadata": {},
   "outputs": [
    {
     "data": {
      "text/plain": [
       "'    dfghjk asd 123'"
      ]
     },
     "execution_count": 177,
     "metadata": {},
     "output_type": "execute_result"
    }
   ],
   "source": [
    "'    dfghjk 123 123'.replace('123', 'asd', 1)"
   ]
  },
  {
   "cell_type": "code",
   "execution_count": 173,
   "id": "fe0719c1-8d96-47b3-bbdd-9ae54218827a",
   "metadata": {},
   "outputs": [
    {
     "data": {
      "text/plain": [
       "\u001b[1;31mSignature:\u001b[0m \u001b[0mstr\u001b[0m\u001b[1;33m.\u001b[0m\u001b[0mreplace\u001b[0m\u001b[1;33m(\u001b[0m\u001b[0mself\u001b[0m\u001b[1;33m,\u001b[0m \u001b[0mold\u001b[0m\u001b[1;33m,\u001b[0m \u001b[0mnew\u001b[0m\u001b[1;33m,\u001b[0m \u001b[0mcount\u001b[0m\u001b[1;33m=\u001b[0m\u001b[1;33m-\u001b[0m\u001b[1;36m1\u001b[0m\u001b[1;33m,\u001b[0m \u001b[1;33m/\u001b[0m\u001b[1;33m)\u001b[0m\u001b[1;33m\u001b[0m\u001b[1;33m\u001b[0m\u001b[0m\n",
       "\u001b[1;31mDocstring:\u001b[0m\n",
       "Return a copy with all occurrences of substring old replaced by new.\n",
       "\n",
       "  count\n",
       "    Maximum number of occurrences to replace.\n",
       "    -1 (the default value) means replace all occurrences.\n",
       "\n",
       "If the optional argument count is given, only the first count occurrences are\n",
       "replaced.\n",
       "\u001b[1;31mType:\u001b[0m      method_descriptor\n"
      ]
     },
     "metadata": {},
     "output_type": "display_data"
    }
   ],
   "source": [
    "str.replace?"
   ]
  },
  {
   "cell_type": "code",
   "execution_count": null,
   "id": "3ab18d0a-87c4-4c51-bf6d-1cc06461f88e",
   "metadata": {},
   "outputs": [],
   "source": []
  },
  {
   "cell_type": "code",
   "execution_count": null,
   "id": "934c7110-1877-4ffa-ac39-9109d937c44d",
   "metadata": {},
   "outputs": [],
   "source": []
  },
  {
   "cell_type": "code",
   "execution_count": null,
   "id": "d980f417-6b11-4dd2-b225-04e8e1d8b85e",
   "metadata": {},
   "outputs": [],
   "source": []
  },
  {
   "cell_type": "code",
   "execution_count": 178,
   "id": "5fb5e67c-972d-4330-bb24-eadb23e8738a",
   "metadata": {},
   "outputs": [
    {
     "data": {
      "text/plain": [
       "14"
      ]
     },
     "execution_count": 178,
     "metadata": {},
     "output_type": "execute_result"
    }
   ],
   "source": [
    "len('    dfghjk 123')"
   ]
  },
  {
   "cell_type": "code",
   "execution_count": 179,
   "id": "07f2e359-3ae1-4675-ab42-a62af3fec088",
   "metadata": {},
   "outputs": [
    {
     "ename": "AttributeError",
     "evalue": "'str' object has no attribute 'len'",
     "output_type": "error",
     "traceback": [
      "\u001b[1;31m---------------------------------------------------------------------------\u001b[0m",
      "\u001b[1;31mAttributeError\u001b[0m                            Traceback (most recent call last)",
      "\u001b[1;32mF:\\else\\Windows\\DELLTE~1/ipykernel_12024/2263792977.py\u001b[0m in \u001b[0;36m<module>\u001b[1;34m\u001b[0m\n\u001b[1;32m----> 1\u001b[1;33m \u001b[1;34m'    dfghjk 123'\u001b[0m\u001b[1;33m.\u001b[0m\u001b[0mlen\u001b[0m\u001b[1;33m(\u001b[0m\u001b[1;33m)\u001b[0m\u001b[1;33m\u001b[0m\u001b[1;33m\u001b[0m\u001b[0m\n\u001b[0m",
      "\u001b[1;31mAttributeError\u001b[0m: 'str' object has no attribute 'len'"
     ]
    }
   ],
   "source": [
    "'    dfghjk 123'.len()"
   ]
  },
  {
   "cell_type": "code",
   "execution_count": null,
   "id": "887066e2-5120-4064-ae53-dca71c3de7f4",
   "metadata": {},
   "outputs": [],
   "source": []
  },
  {
   "cell_type": "code",
   "execution_count": null,
   "id": "af19f297-244f-4e2d-920a-c1bad7de8eeb",
   "metadata": {},
   "outputs": [],
   "source": []
  },
  {
   "cell_type": "code",
   "execution_count": null,
   "id": "663ad7cf-38a0-4d5a-8fe6-6af41f918b68",
   "metadata": {},
   "outputs": [],
   "source": []
  },
  {
   "cell_type": "code",
   "execution_count": 191,
   "id": "326877a7-88d3-4349-9177-9cb86d467c8b",
   "metadata": {},
   "outputs": [
    {
     "name": "stdout",
     "output_type": "stream",
     "text": [
      "Object `isalnum` not found.\n"
     ]
    }
   ],
   "source": [
    "'    dfghjk 123'.isalnum?"
   ]
  },
  {
   "cell_type": "code",
   "execution_count": 198,
   "id": "1dd7c627-8249-4b7d-84ce-291a649a4b52",
   "metadata": {},
   "outputs": [
    {
     "data": {
      "text/plain": [
       "(False, True)"
      ]
     },
     "execution_count": 198,
     "metadata": {},
     "output_type": "execute_result"
    }
   ],
   "source": [
    "'    dfghjk 123'.isalnum(), '6743829'.isalnum()"
   ]
  },
  {
   "cell_type": "code",
   "execution_count": 204,
   "id": "1ac1085a-01e7-483e-aaee-d17d16a051a1",
   "metadata": {},
   "outputs": [
    {
     "data": {
      "text/plain": [
       "True"
      ]
     },
     "execution_count": 204,
     "metadata": {},
     "output_type": "execute_result"
    }
   ],
   "source": [
    "'aldhfladjfaHGHJK'.isalpha()"
   ]
  },
  {
   "cell_type": "code",
   "execution_count": 209,
   "id": "adc1badd-666d-4f5b-86fe-c23f5fb5eebc",
   "metadata": {},
   "outputs": [
    {
     "data": {
      "text/plain": [
       "True"
      ]
     },
     "execution_count": 209,
     "metadata": {},
     "output_type": "execute_result"
    }
   ],
   "source": [
    "'dfghjk123'.isalnum()"
   ]
  },
  {
   "cell_type": "code",
   "execution_count": 195,
   "id": "3a1a1da0-0f29-4466-97d9-09e2859bfbf6",
   "metadata": {},
   "outputs": [
    {
     "data": {
      "text/plain": [
       "3"
      ]
     },
     "execution_count": 195,
     "metadata": {},
     "output_type": "execute_result"
    }
   ],
   "source": [
    "'    dfghjk 123 123 1df'.count('1')"
   ]
  },
  {
   "cell_type": "code",
   "execution_count": null,
   "id": "29c08df4-8f8b-48b1-8368-0606ab552500",
   "metadata": {},
   "outputs": [],
   "source": []
  },
  {
   "cell_type": "code",
   "execution_count": null,
   "id": "0465cff2-464d-46b2-a10c-3391234b3335",
   "metadata": {},
   "outputs": [],
   "source": []
  },
  {
   "cell_type": "code",
   "execution_count": null,
   "id": "5794d7f4-4847-401b-9073-d3d5b9c22edc",
   "metadata": {},
   "outputs": [],
   "source": []
  },
  {
   "cell_type": "code",
   "execution_count": null,
   "id": "fdbe03f8-11af-46b8-9ac7-8e393bed85ae",
   "metadata": {},
   "outputs": [],
   "source": [
    "str.__dict__"
   ]
  },
  {
   "cell_type": "code",
   "execution_count": null,
   "id": "959a38f8-7e12-4b11-a69b-991511ddc17d",
   "metadata": {},
   "outputs": [],
   "source": [
    "dir(str)"
   ]
  }
 ],
 "metadata": {
  "kernelspec": {
   "display_name": "tools-and-techniques-in-data-science",
   "language": "python",
   "name": "tools-and-techniques-in-data-science"
  },
  "language_info": {
   "codemirror_mode": {
    "name": "ipython",
    "version": 3
   },
   "file_extension": ".py",
   "mimetype": "text/x-python",
   "name": "python",
   "nbconvert_exporter": "python",
   "pygments_lexer": "ipython3",
   "version": "3.9.7"
  }
 },
 "nbformat": 4,
 "nbformat_minor": 5
}
