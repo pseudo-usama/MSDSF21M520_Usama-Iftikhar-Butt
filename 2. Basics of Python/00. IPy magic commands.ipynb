{
 "cells": [
  {
   "cell_type": "code",
   "execution_count": 5,
   "id": "89014d06-ebd3-4e10-b788-94752ca9ddc7",
   "metadata": {},
   "outputs": [
    {
     "name": "stdout",
     "output_type": "stream",
     "text": [
      " Volume in drive D is ddd\n",
      " Volume Serial Number is C099-E0A0\n",
      "\n",
      " Directory of D:\\2PU\\5 TATFDS\\MSDSF21M520_Usama-Iftikhar-Butt\\2. Basics of Python\n",
      "\n",
      "05-Jan-22  15:22    <DIR>          .\n",
      "05-Jan-22  15:22    <DIR>          ..\n",
      "05-Jan-22  15:21    <DIR>          .ipynb_checkpoints\n",
      "05-Jan-22  15:22             2,818 00. IPy magic commands.ipynb\n",
      "05-Jan-22  14:46             7,861 01. strings.ipynb\n",
      "05-Jan-22  14:46            22,152 02. Lists.ipynb\n",
      "05-Jan-22  14:46             3,294 03. Arrays.ipynb\n",
      "05-Jan-22  14:46             4,727 04. Tuple.ipynb\n",
      "05-Jan-22  14:46             5,933 05. Sets.ipynb\n",
      "05-Jan-22  14:46             7,979 06. Dict.ipynb\n",
      "05-Jan-22  14:46             2,402 07. If else.ipynb\n",
      "05-Jan-22  14:46             4,110 08. While loop.ipynb\n",
      "05-Jan-22  14:46            15,540 09. iter() & next().ipynb\n",
      "05-Jan-22  14:46             9,232 10. For loop.ipynb\n",
      "05-Jan-22  15:01             3,764 11. Comprehension.ipynb\n",
      "05-Jan-22  14:49             2,309 12. Functions.ipynb\n",
      "              13 File(s)         92,121 bytes\n",
      "               3 Dir(s)  63,715,278,848 bytes free\n"
     ]
    }
   ],
   "source": [
    "!dir"
   ]
  },
  {
   "cell_type": "code",
   "execution_count": 3,
   "id": "75ffeb05-4500-488e-b4e5-67db04cede52",
   "metadata": {},
   "outputs": [
    {
     "name": "stdout",
     "output_type": "stream",
     "text": [
      "Total number of aliases: 8\n"
     ]
    },
    {
     "data": {
      "text/plain": [
       "[('copy', 'copy'),\n",
       " ('ddir', 'dir /ad /on'),\n",
       " ('echo', 'echo'),\n",
       " ('ldir', 'dir /ad /on'),\n",
       " ('ls', 'dir /on'),\n",
       " ('mkdir', 'mkdir'),\n",
       " ('ren', 'ren'),\n",
       " ('rmdir', 'rmdir')]"
      ]
     },
     "execution_count": 3,
     "metadata": {},
     "output_type": "execute_result"
    }
   ],
   "source": [
    "%alias"
   ]
  },
  {
   "cell_type": "code",
   "execution_count": null,
   "id": "51225321-e5d5-4686-ba5f-0100a37de6af",
   "metadata": {},
   "outputs": [],
   "source": []
  },
  {
   "cell_type": "code",
   "execution_count": null,
   "id": "f7d5dc42-19b0-46d7-b7e3-e2605d3099a9",
   "metadata": {},
   "outputs": [],
   "source": []
  },
  {
   "cell_type": "code",
   "execution_count": null,
   "id": "c2e0668e-3299-464b-9369-9e45af18aa82",
   "metadata": {},
   "outputs": [],
   "source": []
  },
  {
   "cell_type": "code",
   "execution_count": 1,
   "id": "303b563c-c054-49d9-81f2-58d5d45e8b77",
   "metadata": {},
   "outputs": [
    {
     "data": {
      "text/html": [
       "<input type=\"button\" value=\"Click me!\" />\n"
      ],
      "text/plain": [
       "<IPython.core.display.HTML object>"
      ]
     },
     "metadata": {},
     "output_type": "display_data"
    }
   ],
   "source": [
    "%%html\n",
    "<input type=\"button\" value=\"Click me!\" />"
   ]
  },
  {
   "cell_type": "code",
   "execution_count": 3,
   "id": "d77ac5d3-0692-4689-b7f4-b2ad879271fb",
   "metadata": {},
   "outputs": [
    {
     "data": {
      "application/javascript": [
       "alert('Hello')\n"
      ],
      "text/plain": [
       "<IPython.core.display.Javascript object>"
      ]
     },
     "metadata": {},
     "output_type": "display_data"
    }
   ],
   "source": [
    "%%js\n",
    "alert('Hello')"
   ]
  },
  {
   "cell_type": "code",
   "execution_count": null,
   "id": "76d98b98-1bd6-4add-895d-c605ade65e1a",
   "metadata": {},
   "outputs": [],
   "source": []
  },
  {
   "cell_type": "code",
   "execution_count": null,
   "id": "ffc22756-4023-4b08-9698-72c86f698067",
   "metadata": {},
   "outputs": [],
   "source": []
  },
  {
   "cell_type": "code",
   "execution_count": null,
   "id": "edfbcad6-b5c8-4516-98e5-0f8aa9477c6d",
   "metadata": {},
   "outputs": [],
   "source": []
  },
  {
   "cell_type": "code",
   "execution_count": 24,
   "id": "3f194d60-690f-4dde-ac42-bce65be00675",
   "metadata": {},
   "outputs": [
    {
     "name": "stdout",
     "output_type": "stream",
     "text": [
      "Couldn't find program: 'ruby'\n"
     ]
    }
   ],
   "source": [
    "%%ruby\n",
    "puts \"Hello World\""
   ]
  },
  {
   "cell_type": "code",
   "execution_count": null,
   "id": "70d6f3eb-b949-4361-883a-cf0fc4c38790",
   "metadata": {},
   "outputs": [],
   "source": []
  },
  {
   "cell_type": "code",
   "execution_count": null,
   "id": "c50cd250-d7b1-4b1a-a22b-21a79f85874d",
   "metadata": {},
   "outputs": [],
   "source": []
  },
  {
   "cell_type": "code",
   "execution_count": null,
   "id": "2d7bd0b9-16f7-4e2f-8eae-0b98bea2368e",
   "metadata": {},
   "outputs": [],
   "source": []
  },
  {
   "cell_type": "code",
   "execution_count": 22,
   "id": "7115c3fb-4df4-40d5-8aaa-9cd76bcc2e09",
   "metadata": {},
   "outputs": [
    {
     "data": {
      "text/latex": [
       "\n",
       "\\[\n",
       "    \\frac\n",
       "    {\n",
       "        \\begin{bmatrix}\n",
       "            1 & 2 & 3\\\\\n",
       "            a & b & c\n",
       "        \\end{bmatrix}\n",
       "            ^x\n",
       "    }\n",
       "    {x}\n",
       "\\]\n"
      ],
      "text/plain": [
       "<IPython.core.display.Latex object>"
      ]
     },
     "metadata": {},
     "output_type": "display_data"
    }
   ],
   "source": [
    "%%latex\n",
    "\n",
    "\\[\n",
    "    \\frac\n",
    "    {\n",
    "        \\begin{bmatrix}\n",
    "            1 & 2 & 3\\\\\n",
    "            a & b & c\n",
    "        \\end{bmatrix}\n",
    "            ^x\n",
    "    }\n",
    "    {x}\n",
    "\\]"
   ]
  }
 ],
 "metadata": {
  "kernelspec": {
   "display_name": "tools-and-techniques-in-data-science",
   "language": "python",
   "name": "tools-and-techniques-in-data-science"
  },
  "language_info": {
   "codemirror_mode": {
    "name": "ipython",
    "version": 3
   },
   "file_extension": ".py",
   "mimetype": "text/x-python",
   "name": "python",
   "nbconvert_exporter": "python",
   "pygments_lexer": "ipython3",
   "version": "3.9.7"
  }
 },
 "nbformat": 4,
 "nbformat_minor": 5
}
