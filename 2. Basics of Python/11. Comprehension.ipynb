{
 "cells": [
  {
   "cell_type": "code",
   "execution_count": 1,
   "id": "9da118fa-5875-4610-9846-0e7e5df0495b",
   "metadata": {},
   "outputs": [
    {
     "data": {
      "text/plain": [
       "[0, 1, 2, 3, 4]"
      ]
     },
     "execution_count": 1,
     "metadata": {},
     "output_type": "execute_result"
    }
   ],
   "source": [
    "[i for i in range(5)]"
   ]
  },
  {
   "cell_type": "code",
   "execution_count": 3,
   "id": "d4f6c026-de54-44d6-9728-e8256f4de6ad",
   "metadata": {},
   "outputs": [
    {
     "data": {
      "text/plain": [
       "{0, 1, 2, 3, 4}"
      ]
     },
     "execution_count": 3,
     "metadata": {},
     "output_type": "execute_result"
    }
   ],
   "source": [
    "{i for i in range(5)}"
   ]
  },
  {
   "cell_type": "code",
   "execution_count": 4,
   "id": "d068b893-6ea8-45cc-aa32-e68109bc6232",
   "metadata": {},
   "outputs": [
    {
     "data": {
      "text/plain": [
       "{0: 0, 1: 1, 2: 2, 3: 3, 4: 4}"
      ]
     },
     "execution_count": 4,
     "metadata": {},
     "output_type": "execute_result"
    }
   ],
   "source": [
    "{i: i for i in range(5)}"
   ]
  },
  {
   "cell_type": "code",
   "execution_count": 6,
   "id": "9c9540c0-0361-4080-98ee-e4604fe9c612",
   "metadata": {},
   "outputs": [],
   "source": [
    "a = (i for i in range(5))"
   ]
  },
  {
   "cell_type": "code",
   "execution_count": 12,
   "id": "34085608-7dfa-408f-bca3-cfb2a72aefcc",
   "metadata": {},
   "outputs": [
    {
     "ename": "StopIteration",
     "evalue": "",
     "output_type": "error",
     "traceback": [
      "\u001b[1;31m---------------------------------------------------------------------------\u001b[0m",
      "\u001b[1;31mStopIteration\u001b[0m                             Traceback (most recent call last)",
      "\u001b[1;32mF:\\else\\Windows\\DELLTE~1/ipykernel_16764/1242322984.py\u001b[0m in \u001b[0;36m<module>\u001b[1;34m\u001b[0m\n\u001b[1;32m----> 1\u001b[1;33m \u001b[0mnext\u001b[0m\u001b[1;33m(\u001b[0m\u001b[0ma\u001b[0m\u001b[1;33m)\u001b[0m\u001b[1;33m\u001b[0m\u001b[1;33m\u001b[0m\u001b[0m\n\u001b[0m",
      "\u001b[1;31mStopIteration\u001b[0m: "
     ]
    }
   ],
   "source": [
    "next(a)"
   ]
  },
  {
   "cell_type": "code",
   "execution_count": 13,
   "id": "2b3a31df-39b9-4555-9c1d-21f98b0ce85c",
   "metadata": {},
   "outputs": [
    {
     "data": {
      "text/plain": [
       "(0, 1, 2, 3, 4)"
      ]
     },
     "execution_count": 13,
     "metadata": {},
     "output_type": "execute_result"
    }
   ],
   "source": [
    "tuple(i for i in range(5))"
   ]
  },
  {
   "cell_type": "code",
   "execution_count": 15,
   "id": "a759773c-7241-4ca5-bdb0-4539bb01ecfc",
   "metadata": {},
   "outputs": [
    {
     "ename": "SyntaxError",
     "evalue": "invalid syntax (DELLTE~1/ipykernel_16764/4008900009.py, line 1)",
     "output_type": "error",
     "traceback": [
      "\u001b[1;36m  File \u001b[1;32m\"F:\\else\\Windows\\DELLTE~1/ipykernel_16764/4008900009.py\"\u001b[1;36m, line \u001b[1;32m1\u001b[0m\n\u001b[1;33m    (i for i in range(5),)\u001b[0m\n\u001b[1;37m                        ^\u001b[0m\n\u001b[1;31mSyntaxError\u001b[0m\u001b[1;31m:\u001b[0m invalid syntax\n"
     ]
    }
   ],
   "source": [
    "(i for i in range(5),)"
   ]
  }
 ],
 "metadata": {
  "kernelspec": {
   "display_name": "tools-and-techniques-in-data-science",
   "language": "python",
   "name": "tools-and-techniques-in-data-science"
  },
  "language_info": {
   "codemirror_mode": {
    "name": "ipython",
    "version": 3
   },
   "file_extension": ".py",
   "mimetype": "text/x-python",
   "name": "python",
   "nbconvert_exporter": "python",
   "pygments_lexer": "ipython3",
   "version": "3.9.7"
  }
 },
 "nbformat": 4,
 "nbformat_minor": 5
}
