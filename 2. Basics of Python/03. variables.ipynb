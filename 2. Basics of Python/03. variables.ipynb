{
 "cells": [
  {
   "cell_type": "code",
   "execution_count": 1,
   "id": "c252750b-1ab8-4e3a-b9dd-c4be1bc7ab60",
   "metadata": {},
   "outputs": [],
   "source": [
    "a = 1"
   ]
  },
  {
   "cell_type": "code",
   "execution_count": 2,
   "id": "a76c43c3-d8e8-4434-bce4-b25ff1cc1e80",
   "metadata": {},
   "outputs": [],
   "source": [
    "A= 1"
   ]
  },
  {
   "cell_type": "code",
   "execution_count": 3,
   "id": "fa9f9d5a-563a-47ef-bc60-4e0ac3913c61",
   "metadata": {},
   "outputs": [
    {
     "data": {
      "text/plain": [
       "True"
      ]
     },
     "execution_count": 3,
     "metadata": {},
     "output_type": "execute_result"
    }
   ],
   "source": [
    "a is A"
   ]
  },
  {
   "cell_type": "code",
   "execution_count": null,
   "id": "ba49a1fe-e1bf-449f-ac9e-0d99a0a86e79",
   "metadata": {},
   "outputs": [],
   "source": []
  },
  {
   "cell_type": "code",
   "execution_count": null,
   "id": "a7abdfcd-5c86-4ad1-a783-63ba9b419c05",
   "metadata": {},
   "outputs": [],
   "source": []
  },
  {
   "cell_type": "code",
   "execution_count": null,
   "id": "c82f7135-97de-4aff-92d1-ac8c1efb22e6",
   "metadata": {},
   "outputs": [],
   "source": []
  },
  {
   "cell_type": "code",
   "execution_count": null,
   "id": "f74c7b95-82af-4dfb-9a8f-95d85a20b3c9",
   "metadata": {},
   "outputs": [],
   "source": []
  }
 ],
 "metadata": {
  "kernelspec": {
   "display_name": "tools-and-techniques-in-data-science",
   "language": "python",
   "name": "tools-and-techniques-in-data-science"
  },
  "language_info": {
   "codemirror_mode": {
    "name": "ipython",
    "version": 3
   },
   "file_extension": ".py",
   "mimetype": "text/x-python",
   "name": "python",
   "nbconvert_exporter": "python",
   "pygments_lexer": "ipython3",
   "version": "3.9.7"
  }
 },
 "nbformat": 4,
 "nbformat_minor": 5
}
