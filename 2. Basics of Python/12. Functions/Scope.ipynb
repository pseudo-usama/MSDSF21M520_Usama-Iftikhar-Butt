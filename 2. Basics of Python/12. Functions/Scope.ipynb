{
 "cells": [
  {
   "cell_type": "code",
   "execution_count": 7,
   "id": "d9d79226-09ea-467d-aaa9-3473d8ecf23c",
   "metadata": {},
   "outputs": [],
   "source": [
    "def fn():\n",
    "    a = 1\n",
    "    def inner():\n",
    "        nonlocal a\n",
    "        print(a)\n",
    "\n",
    "        a = 2\n",
    "        \n",
    "    inner()"
   ]
  },
  {
   "cell_type": "code",
   "execution_count": 8,
   "id": "c1215c13-3efb-4745-8c95-ddd81408d33b",
   "metadata": {},
   "outputs": [
    {
     "name": "stdout",
     "output_type": "stream",
     "text": [
      "1\n"
     ]
    }
   ],
   "source": [
    "fn()"
   ]
  },
  {
   "cell_type": "code",
   "execution_count": null,
   "id": "0bd05623-1548-4d37-ac0f-77d13aa866ad",
   "metadata": {},
   "outputs": [],
   "source": []
  },
  {
   "cell_type": "code",
   "execution_count": null,
   "id": "8c5a199e-9176-44be-8282-b5b0300579b7",
   "metadata": {},
   "outputs": [],
   "source": []
  },
  {
   "cell_type": "code",
   "execution_count": null,
   "id": "d0a463de-ab42-4c2c-ac3e-8d2efa4ad31f",
   "metadata": {},
   "outputs": [],
   "source": []
  },
  {
   "cell_type": "code",
   "execution_count": 9,
   "id": "e33d66a4-e1c2-49ba-8476-ec3f185bafb0",
   "metadata": {},
   "outputs": [
    {
     "ename": "SyntaxError",
     "evalue": "no binding for nonlocal 'a' found (DELLTE~1/ipykernel_440/3936079278.py, line 5)",
     "output_type": "error",
     "traceback": [
      "\u001b[1;36m  File \u001b[1;32m\"F:\\else\\Windows\\DELLTE~1/ipykernel_440/3936079278.py\"\u001b[1;36m, line \u001b[1;32m5\u001b[0m\n\u001b[1;33m    nonlocal a\u001b[0m\n\u001b[1;37m    ^\u001b[0m\n\u001b[1;31mSyntaxError\u001b[0m\u001b[1;31m:\u001b[0m no binding for nonlocal 'a' found\n"
     ]
    }
   ],
   "source": [
    "a = 1\n",
    "\n",
    "def fn():\n",
    "    def inner():\n",
    "        nonlocal a\n",
    "        print(a)\n",
    "\n",
    "        a = 2\n",
    "        \n",
    "    inner()"
   ]
  },
  {
   "cell_type": "code",
   "execution_count": null,
   "id": "949c675a-8846-4ca5-88dd-174d0a201d7c",
   "metadata": {},
   "outputs": [],
   "source": []
  },
  {
   "cell_type": "code",
   "execution_count": null,
   "id": "ea51b018-dfb6-4eda-96a5-522f4fd5160c",
   "metadata": {},
   "outputs": [],
   "source": []
  },
  {
   "cell_type": "code",
   "execution_count": null,
   "id": "a4eb84ef-3613-4f2f-8b0c-9c1e77994dd1",
   "metadata": {},
   "outputs": [],
   "source": []
  },
  {
   "cell_type": "code",
   "execution_count": 12,
   "id": "8e85bd54-aa77-45e2-b9a6-953c1f23c82e",
   "metadata": {},
   "outputs": [
    {
     "data": {
      "text/plain": [
       "1"
      ]
     },
     "execution_count": 12,
     "metadata": {},
     "output_type": "execute_result"
    }
   ],
   "source": [
    "for i in range(2):\n",
    "    alksdjf = 1\n",
    "    \n",
    "alksdjf"
   ]
  },
  {
   "cell_type": "code",
   "execution_count": 14,
   "id": "549ba51f-67fd-4ed4-922e-f1fab7caed4f",
   "metadata": {},
   "outputs": [
    {
     "data": {
      "text/plain": [
       "1"
      ]
     },
     "execution_count": 14,
     "metadata": {},
     "output_type": "execute_result"
    }
   ],
   "source": [
    "if True:\n",
    "    aiou = 1\n",
    "aiou"
   ]
  },
  {
   "cell_type": "code",
   "execution_count": null,
   "id": "43d8924f-0925-4eb7-9f72-c76d0b3517f2",
   "metadata": {},
   "outputs": [],
   "source": []
  },
  {
   "cell_type": "code",
   "execution_count": null,
   "id": "c9326832-89dd-4b53-9891-177f307d8233",
   "metadata": {},
   "outputs": [],
   "source": []
  },
  {
   "cell_type": "code",
   "execution_count": null,
   "id": "030999f1-6555-4ba4-b772-239a28776c87",
   "metadata": {},
   "outputs": [],
   "source": []
  },
  {
   "cell_type": "code",
   "execution_count": null,
   "id": "a6e8fa36-7c08-49a2-9c72-edc7d6890c07",
   "metadata": {},
   "outputs": [],
   "source": []
  },
  {
   "cell_type": "code",
   "execution_count": null,
   "id": "e3b23789-6121-4b2d-8c02-3f99ad5f4b38",
   "metadata": {},
   "outputs": [],
   "source": []
  },
  {
   "cell_type": "code",
   "execution_count": 21,
   "id": "efb427cf-fd36-4861-861e-baf73f58b859",
   "metadata": {},
   "outputs": [
    {
     "name": "stdout",
     "output_type": "stream",
     "text": [
      "1\n"
     ]
    }
   ],
   "source": [
    "def outer():\n",
    "    qwertyui = 1\n",
    "    \n",
    "    def inner():\n",
    "        print(qwertyui)\n",
    "\n",
    "    return inner\n",
    "\n",
    "outer()()"
   ]
  }
 ],
 "metadata": {
  "kernelspec": {
   "display_name": "tools-and-techniques-in-data-science",
   "language": "python",
   "name": "tools-and-techniques-in-data-science"
  },
  "language_info": {
   "codemirror_mode": {
    "name": "ipython",
    "version": 3
   },
   "file_extension": ".py",
   "mimetype": "text/x-python",
   "name": "python",
   "nbconvert_exporter": "python",
   "pygments_lexer": "ipython3",
   "version": "3.9.7"
  }
 },
 "nbformat": 4,
 "nbformat_minor": 5
}
