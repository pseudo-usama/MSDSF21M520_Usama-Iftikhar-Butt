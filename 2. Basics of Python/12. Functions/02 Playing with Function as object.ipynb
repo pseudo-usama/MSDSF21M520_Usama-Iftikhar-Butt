{
 "cells": [
  {
   "cell_type": "code",
   "execution_count": 15,
   "id": "4f4b877f-984b-4571-8d75-a2bcf8a97d53",
   "metadata": {},
   "outputs": [],
   "source": [
    "def fn():\n",
    "    print(\"I'm fn()\")"
   ]
  },
  {
   "cell_type": "code",
   "execution_count": 16,
   "id": "18b3cbd0-95dc-4148-bfb8-ffd046d69c49",
   "metadata": {},
   "outputs": [],
   "source": [
    "fn.asdf = 'adslkf'"
   ]
  },
  {
   "cell_type": "code",
   "execution_count": 17,
   "id": "46546a47-200d-4a49-acb5-1c6df0e46385",
   "metadata": {},
   "outputs": [
    {
     "data": {
      "text/plain": [
       "'adslkf'"
      ]
     },
     "execution_count": 17,
     "metadata": {},
     "output_type": "execute_result"
    }
   ],
   "source": [
    "fn.asdf"
   ]
  },
  {
   "cell_type": "code",
   "execution_count": 18,
   "id": "1d7c32ee-f29b-4a79-9446-204e364d8797",
   "metadata": {},
   "outputs": [],
   "source": [
    "fn.callme = lambda x: x*2"
   ]
  },
  {
   "cell_type": "code",
   "execution_count": 19,
   "id": "456ea597-850a-4945-bb9e-1aaee9d89cba",
   "metadata": {},
   "outputs": [
    {
     "data": {
      "text/plain": [
       "4"
      ]
     },
     "execution_count": 19,
     "metadata": {},
     "output_type": "execute_result"
    }
   ],
   "source": [
    "fn.callme(2)"
   ]
  },
  {
   "cell_type": "code",
   "execution_count": 20,
   "id": "30bc8bb9-dd51-4177-9d4e-10dcbb9be129",
   "metadata": {},
   "outputs": [
    {
     "name": "stdout",
     "output_type": "stream",
     "text": [
      "I'm fn()\n"
     ]
    }
   ],
   "source": [
    "fn()"
   ]
  },
  {
   "cell_type": "code",
   "execution_count": 24,
   "id": "98053f60-fcf0-4ab4-83d3-02e9c7ffd10a",
   "metadata": {},
   "outputs": [
    {
     "data": {
      "text/plain": [
       "function"
      ]
     },
     "execution_count": 24,
     "metadata": {},
     "output_type": "execute_result"
    }
   ],
   "source": [
    "type(fn)"
   ]
  },
  {
   "cell_type": "code",
   "execution_count": 32,
   "id": "b594dd9e-92f9-4f32-86ba-e9b50c5f09be",
   "metadata": {},
   "outputs": [
    {
     "ename": "TypeError",
     "evalue": "unhashable type: 'a'",
     "output_type": "error",
     "traceback": [
      "\u001b[1;31m---------------------------------------------------------------------------\u001b[0m",
      "\u001b[1;31mTypeError\u001b[0m                                 Traceback (most recent call last)",
      "\u001b[1;32mF:\\else\\Windows\\DELLTE~1/ipykernel_6476/3185595385.py\u001b[0m in \u001b[0;36m<module>\u001b[1;34m\u001b[0m\n\u001b[0;32m      3\u001b[0m \u001b[0mobj\u001b[0m \u001b[1;33m=\u001b[0m \u001b[0ma\u001b[0m\u001b[1;33m(\u001b[0m\u001b[1;33m)\u001b[0m\u001b[1;33m\u001b[0m\u001b[1;33m\u001b[0m\u001b[0m\n\u001b[0;32m      4\u001b[0m \u001b[1;33m\u001b[0m\u001b[0m\n\u001b[1;32m----> 5\u001b[1;33m \u001b[0mhash\u001b[0m\u001b[1;33m(\u001b[0m\u001b[0mobj\u001b[0m\u001b[1;33m)\u001b[0m\u001b[1;33m\u001b[0m\u001b[1;33m\u001b[0m\u001b[0m\n\u001b[0m",
      "\u001b[1;31mTypeError\u001b[0m: unhashable type: 'a'"
     ]
    }
   ],
   "source": [
    "class a:\n",
    "    __hash__ = None\n",
    "obj = a()\n",
    "\n",
    "hash(obj)"
   ]
  },
  {
   "cell_type": "code",
   "execution_count": null,
   "id": "e136b201-e2d6-4729-bda8-6bb9fd52f991",
   "metadata": {},
   "outputs": [],
   "source": []
  },
  {
   "cell_type": "code",
   "execution_count": 35,
   "id": "091b7f82-a8b8-4a5b-a412-248d7c96ced4",
   "metadata": {},
   "outputs": [
    {
     "ename": "SyntaxError",
     "evalue": "'return' outside function (DELLTE~1/ipykernel_6476/3438313781.py, line 1)",
     "output_type": "error",
     "traceback": [
      "\u001b[1;36m  File \u001b[1;32m\"F:\\else\\Windows\\DELLTE~1/ipykernel_6476/3438313781.py\"\u001b[1;36m, line \u001b[1;32m1\u001b[0m\n\u001b[1;33m    return\u001b[0m\n\u001b[1;37m    ^\u001b[0m\n\u001b[1;31mSyntaxError\u001b[0m\u001b[1;31m:\u001b[0m 'return' outside function\n"
     ]
    }
   ],
   "source": []
  }
 ],
 "metadata": {
  "kernelspec": {
   "display_name": "tools-and-techniques-in-data-science",
   "language": "python",
   "name": "tools-and-techniques-in-data-science"
  },
  "language_info": {
   "codemirror_mode": {
    "name": "ipython",
    "version": 3
   },
   "file_extension": ".py",
   "mimetype": "text/x-python",
   "name": "python",
   "nbconvert_exporter": "python",
   "pygments_lexer": "ipython3",
   "version": "3.9.7"
  }
 },
 "nbformat": 4,
 "nbformat_minor": 5
}
