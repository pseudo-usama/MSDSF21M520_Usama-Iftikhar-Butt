{
 "cells": [
  {
   "cell_type": "code",
   "execution_count": 1,
   "id": "c0d56b40-cec9-4388-91d4-140d782d9a6d",
   "metadata": {},
   "outputs": [
    {
     "name": "stdout",
     "output_type": "stream",
     "text": [
      "laskjf\n"
     ]
    }
   ],
   "source": [
    "if True:\n",
    "    print('laskjf')"
   ]
  },
  {
   "cell_type": "code",
   "execution_count": 2,
   "id": "f4fc63ff-fd8f-4cff-b119-391a9deb99ad",
   "metadata": {},
   "outputs": [
    {
     "data": {
      "text/plain": [
       "'lsdakfj'"
      ]
     },
     "execution_count": 2,
     "metadata": {},
     "output_type": "execute_result"
    }
   ],
   "source": [
    "'lsdakfj' if True else '39847'"
   ]
  },
  {
   "cell_type": "code",
   "execution_count": null,
   "id": "c99c9480-9d13-4b86-9849-3770ec603ddd",
   "metadata": {},
   "outputs": [],
   "source": []
  },
  {
   "cell_type": "code",
   "execution_count": null,
   "id": "78bbe3a2-b874-4488-9d0b-f8475dbb2247",
   "metadata": {},
   "outputs": [],
   "source": []
  },
  {
   "cell_type": "code",
   "execution_count": null,
   "id": "ba6b7cd3-43a9-4af3-a359-ae63d23b11f1",
   "metadata": {},
   "outputs": [],
   "source": []
  },
  {
   "cell_type": "code",
   "execution_count": 3,
   "id": "70557303-d3b7-4df0-88b3-d9a3f7c8da05",
   "metadata": {},
   "outputs": [
    {
     "ename": "SyntaxError",
     "evalue": "invalid syntax (DELLTE~1/ipykernel_16404/363743514.py, line 5)",
     "output_type": "error",
     "traceback": [
      "\u001b[1;36m  File \u001b[1;32m\"F:\\else\\Windows\\DELLTE~1/ipykernel_16404/363743514.py\"\u001b[1;36m, line \u001b[1;32m5\u001b[0m\n\u001b[1;33m    finally:\u001b[0m\n\u001b[1;37m    ^\u001b[0m\n\u001b[1;31mSyntaxError\u001b[0m\u001b[1;31m:\u001b[0m invalid syntax\n"
     ]
    }
   ],
   "source": [
    "if True:\n",
    "    print('asldkjf')\n",
    "else:\n",
    "    print('39847')\n",
    "finally:\n",
    "    print('$%^&*()')"
   ]
  }
 ],
 "metadata": {
  "kernelspec": {
   "display_name": "tools-and-techniques-in-data-science",
   "language": "python",
   "name": "tools-and-techniques-in-data-science"
  },
  "language_info": {
   "codemirror_mode": {
    "name": "ipython",
    "version": 3
   },
   "file_extension": ".py",
   "mimetype": "text/x-python",
   "name": "python",
   "nbconvert_exporter": "python",
   "pygments_lexer": "ipython3",
   "version": "3.9.7"
  }
 },
 "nbformat": 4,
 "nbformat_minor": 5
}
