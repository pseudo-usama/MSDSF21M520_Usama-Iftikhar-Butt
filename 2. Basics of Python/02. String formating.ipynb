{
 "cells": [
  {
   "cell_type": "markdown",
   "id": "a94675d1-5a8d-45f6-bd2c-035be7c45ad8",
   "metadata": {},
   "source": [
    "# Old style"
   ]
  },
  {
   "cell_type": "code",
   "execution_count": 1,
   "id": "4dda2658-5a37-4c40-9b59-5ab207154451",
   "metadata": {},
   "outputs": [
    {
     "data": {
      "text/plain": [
       "'Hello usama'"
      ]
     },
     "execution_count": 1,
     "metadata": {},
     "output_type": "execute_result"
    }
   ],
   "source": [
    "'Hello %s'%'usama'"
   ]
  },
  {
   "cell_type": "code",
   "execution_count": 6,
   "id": "1f8ee8f7-fc05-4d05-bb55-4a885b08b2fb",
   "metadata": {},
   "outputs": [
    {
     "data": {
      "text/plain": [
       "'hello a3f23'"
      ]
     },
     "execution_count": 6,
     "metadata": {},
     "output_type": "execute_result"
    }
   ],
   "source": [
    "'hello %x' % 671523"
   ]
  },
  {
   "cell_type": "code",
   "execution_count": 30,
   "id": "dcceea2a-6ed4-478e-ade1-89c81a89d2b3",
   "metadata": {},
   "outputs": [
    {
     "data": {
      "text/plain": [
       "'hello usama is a3f23'"
      ]
     },
     "execution_count": 30,
     "metadata": {},
     "output_type": "execute_result"
    }
   ],
   "source": [
    "'hello %s is %x' % ('usama', 671523)"
   ]
  },
  {
   "cell_type": "code",
   "execution_count": 12,
   "id": "aa85f115-57d6-40c1-9d5d-0159d579aa0f",
   "metadata": {},
   "outputs": [
    {
     "data": {
      "text/plain": [
       "'hello usama is a3f23'"
      ]
     },
     "execution_count": 12,
     "metadata": {},
     "output_type": "execute_result"
    }
   ],
   "source": [
    "'hello %(name)s is %(number)x' % {'name': 'usama', 'number': 671523}"
   ]
  },
  {
   "cell_type": "markdown",
   "id": "4ff327c1-147c-4ed0-a558-4c0457e1fe67",
   "metadata": {},
   "source": [
    "# New style"
   ]
  },
  {
   "cell_type": "code",
   "execution_count": 13,
   "id": "7bbd1ad7-8466-4cd4-a2bd-d486f6e6e8ac",
   "metadata": {},
   "outputs": [
    {
     "data": {
      "text/plain": [
       "'hello usama'"
      ]
     },
     "execution_count": 13,
     "metadata": {},
     "output_type": "execute_result"
    }
   ],
   "source": [
    "'hello {}'.format('usama')"
   ]
  },
  {
   "cell_type": "code",
   "execution_count": 19,
   "id": "4aa02e5e-7da6-4bbf-a1ce-8e5dcfd85944",
   "metadata": {},
   "outputs": [
    {
     "data": {
      "text/plain": [
       "'hello usama is a3f23'"
      ]
     },
     "execution_count": 19,
     "metadata": {},
     "output_type": "execute_result"
    }
   ],
   "source": [
    "'hello {} is {:x}'.format('usama', 671523)"
   ]
  },
  {
   "cell_type": "code",
   "execution_count": 18,
   "id": "0fbf57f7-9257-4955-ac6a-48dff0836c05",
   "metadata": {},
   "outputs": [
    {
     "data": {
      "text/plain": [
       "'hello usama is a3f23'"
      ]
     },
     "execution_count": 18,
     "metadata": {},
     "output_type": "execute_result"
    }
   ],
   "source": [
    "'hello {name} is {number:x}'.format(name='usama', number=671523)"
   ]
  },
  {
   "cell_type": "markdown",
   "id": "14c36057-9f1b-4591-b164-7f8eb288a80c",
   "metadata": {},
   "source": [
    "# String Interpolation"
   ]
  },
  {
   "cell_type": "code",
   "execution_count": 22,
   "id": "ddba9666-e468-4dec-b5dd-daf10c2e0f22",
   "metadata": {},
   "outputs": [
    {
     "data": {
      "text/plain": [
       "'hello usame'"
      ]
     },
     "execution_count": 22,
     "metadata": {},
     "output_type": "execute_result"
    }
   ],
   "source": [
    "f\"hello {'usame'}\""
   ]
  },
  {
   "cell_type": "code",
   "execution_count": 27,
   "id": "4f5bf3f2-813c-488b-8990-567e647fef31",
   "metadata": {},
   "outputs": [
    {
     "data": {
      "text/plain": [
       "'hello usama is 0XA3F23'"
      ]
     },
     "execution_count": 27,
     "metadata": {},
     "output_type": "execute_result"
    }
   ],
   "source": [
    "f\"hello {'usama'} is {671523:#X}\""
   ]
  },
  {
   "cell_type": "code",
   "execution_count": null,
   "id": "0c43a7a6-03f9-44af-b903-4b7bff82c8bb",
   "metadata": {},
   "outputs": [],
   "source": []
  },
  {
   "cell_type": "code",
   "execution_count": null,
   "id": "634ce51b-0423-4e08-9b66-a36064b410a2",
   "metadata": {},
   "outputs": [],
   "source": []
  },
  {
   "cell_type": "code",
   "execution_count": null,
   "id": "c00649fa-8e26-4c96-b18c-07398336957a",
   "metadata": {},
   "outputs": [],
   "source": []
  },
  {
   "cell_type": "code",
   "execution_count": 26,
   "id": "d6a847a1-da99-4a5e-88a8-e5301fa13991",
   "metadata": {},
   "outputs": [
    {
     "data": {
      "text/plain": [
       "'Hey, usama'"
      ]
     },
     "execution_count": 26,
     "metadata": {},
     "output_type": "execute_result"
    }
   ],
   "source": [
    "from string import Template\n",
    "t = Template('Hey, $name')\n",
    "t.substitute(name='usama')"
   ]
  },
  {
   "cell_type": "code",
   "execution_count": null,
   "id": "51c8d12b-31d1-4c58-aa5b-c1776b68d46f",
   "metadata": {},
   "outputs": [],
   "source": []
  },
  {
   "cell_type": "code",
   "execution_count": null,
   "id": "7231f2ec-46c2-48fb-922f-1cac309be5b9",
   "metadata": {},
   "outputs": [],
   "source": []
  },
  {
   "cell_type": "code",
   "execution_count": null,
   "id": "d35d67a2-63e0-4ec1-b4f3-132b30fa0b2f",
   "metadata": {},
   "outputs": [],
   "source": []
  },
  {
   "cell_type": "code",
   "execution_count": 28,
   "id": "78da555d-1bfb-40dc-903d-17eaa323778e",
   "metadata": {},
   "outputs": [
    {
     "data": {
      "text/plain": [
       "b'alsdkfjalkf'"
      ]
     },
     "execution_count": 28,
     "metadata": {},
     "output_type": "execute_result"
    }
   ],
   "source": [
    "b'alsdkfjalkf'"
   ]
  }
 ],
 "metadata": {
  "kernelspec": {
   "display_name": "tools-and-techniques-in-data-science",
   "language": "python",
   "name": "tools-and-techniques-in-data-science"
  },
  "language_info": {
   "codemirror_mode": {
    "name": "ipython",
    "version": 3
   },
   "file_extension": ".py",
   "mimetype": "text/x-python",
   "name": "python",
   "nbconvert_exporter": "python",
   "pygments_lexer": "ipython3",
   "version": "3.9.7"
  }
 },
 "nbformat": 4,
 "nbformat_minor": 5
}
