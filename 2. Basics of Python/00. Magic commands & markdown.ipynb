{
 "cells": [
  {
   "cell_type": "markdown",
   "id": "2d575a5b-2c6a-4998-9324-7f046827c4df",
   "metadata": {},
   "source": [
    "**bold**"
   ]
  },
  {
   "cell_type": "markdown",
   "id": "47c11749-fe03-4a82-b2ab-b148d45069db",
   "metadata": {},
   "source": [
    "__italic__"
   ]
  },
  {
   "cell_type": "markdown",
   "id": "15736d4b-cc29-49b9-b4f5-b2d10e5eca09",
   "metadata": {},
   "source": [
    "*asdf*"
   ]
  },
  {
   "cell_type": "markdown",
   "id": "820791e7-c628-4ecb-8dfd-e6f75f1201c7",
   "metadata": {},
   "source": [
    "_asdf_"
   ]
  },
  {
   "cell_type": "markdown",
   "id": "3c1fbd8f-80fa-4495-be26-24956f762bbe",
   "metadata": {},
   "source": [
    "~~asdf~~"
   ]
  },
  {
   "cell_type": "markdown",
   "id": "25e2b700-f24d-4dec-971a-e58cdf420546",
   "metadata": {},
   "source": [
    "[asdfasdf](https://www.google.com)"
   ]
  },
  {
   "cell_type": "code",
   "execution_count": null,
   "id": "d1577b13-c0dd-4be0-a0fb-aee9d3522407",
   "metadata": {},
   "outputs": [],
   "source": []
  },
  {
   "cell_type": "code",
   "execution_count": null,
   "id": "e179e933-9915-4f7b-83f9-cb69d00a2117",
   "metadata": {},
   "outputs": [],
   "source": []
  },
  {
   "cell_type": "code",
   "execution_count": null,
   "id": "1b535c37-fe8d-4d1c-843f-081a421dea45",
   "metadata": {},
   "outputs": [],
   "source": []
  },
  {
   "cell_type": "code",
   "execution_count": null,
   "id": "2b807a14-2684-4da4-a99a-898daf0b5443",
   "metadata": {},
   "outputs": [],
   "source": []
  },
  {
   "cell_type": "code",
   "execution_count": null,
   "id": "04f84b4a-76e8-4988-bde4-d542e8f4b2c5",
   "metadata": {},
   "outputs": [],
   "source": []
  },
  {
   "cell_type": "markdown",
   "id": "cd601247-5d28-418a-aefa-d73ef2d350df",
   "metadata": {},
   "source": [
    "```python\n",
    "def asdf():\n",
    "    pass\n",
    "```"
   ]
  },
  {
   "cell_type": "markdown",
   "id": "32c9ced9-7c9a-4e82-8061-958812c37051",
   "metadata": {},
   "source": [
    "```js\n",
    "function fn() {\n",
    "    console.log('lsdakfjlaskdfj')\n",
    "}\n",
    "```"
   ]
  },
  {
   "cell_type": "code",
   "execution_count": null,
   "id": "cb12a6da-9b94-453f-8faf-cede40aeb9d3",
   "metadata": {},
   "outputs": [],
   "source": []
  },
  {
   "cell_type": "code",
   "execution_count": null,
   "id": "dd7c6d9b-316f-44a4-ba94-0f9d08fe27d7",
   "metadata": {},
   "outputs": [],
   "source": []
  },
  {
   "cell_type": "code",
   "execution_count": null,
   "id": "dc1d8b36-d2ea-4a56-9f25-ae0abdad524c",
   "metadata": {},
   "outputs": [],
   "source": []
  },
  {
   "cell_type": "code",
   "execution_count": null,
   "id": "fe8987b8-5b0b-405c-b0a0-3fe1cbad4d49",
   "metadata": {},
   "outputs": [],
   "source": []
  },
  {
   "cell_type": "code",
   "execution_count": 1,
   "id": "f1ea5e5e-a758-4e91-88f9-5f8840dcbbb7",
   "metadata": {},
   "outputs": [
    {
     "name": "stdout",
     "output_type": "stream",
     "text": [
      "00. Magic commands & markdown.ipynb\n",
      "01. operators.ipynb\n",
      "02. String formating.ipynb\n"
     ]
    }
   ],
   "source": [
    "!ls"
   ]
  },
  {
   "cell_type": "code",
   "execution_count": 2,
   "id": "16b49518-e015-4081-a6ac-bef8e57a6896",
   "metadata": {},
   "outputs": [
    {
     "name": "stdout",
     "output_type": "stream",
     "text": [
      "hello world\n"
     ]
    }
   ],
   "source": [
    "%%bash\n",
    "\n",
    "echo \"hello world\""
   ]
  }
 ],
 "metadata": {
  "kernelspec": {
   "display_name": "tools-and-techniques-in-data-science",
   "language": "python",
   "name": "tools-and-techniques-in-data-science"
  },
  "language_info": {
   "codemirror_mode": {
    "name": "ipython",
    "version": 3
   },
   "file_extension": ".py",
   "mimetype": "text/x-python",
   "name": "python",
   "nbconvert_exporter": "python",
   "pygments_lexer": "ipython3",
   "version": "3.9.7"
  }
 },
 "nbformat": 4,
 "nbformat_minor": 5
}
