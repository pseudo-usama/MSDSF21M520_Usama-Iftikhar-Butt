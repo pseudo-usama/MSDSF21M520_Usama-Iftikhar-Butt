{
 "cells": [
  {
   "cell_type": "code",
   "execution_count": 11,
   "id": "b4d6bcc1-5de0-4a00-8355-5c5a1b932350",
   "metadata": {},
   "outputs": [
    {
     "name": "stdout",
     "output_type": "stream",
     "text": [
      "I'm fn1()\n",
      "I'm fn2()\n",
      "I'm fn2()I'm fn1()\n",
      "\n",
      "I'm fn1()I'm fn2()\n",
      "\n"
     ]
    }
   ],
   "source": [
    "import threading\n",
    "import time\n",
    "\n",
    "def fn1():\n",
    "    for _ in range(3):\n",
    "        print(\"I'm fn1()\")\n",
    "        time.sleep(0.5)\n",
    "def fn2():\n",
    "    for _ in range(3):\n",
    "        print(\"I'm fn2()\")\n",
    "        time.sleep(0.5)\n",
    "    \n",
    "t1 = threading.Thread(target=fn1)\n",
    "t2 = threading.Thread(target=fn2)\n",
    "\n",
    "t1.start()\n",
    "t2.start()\n",
    "\n",
    "t1.join()\n",
    "t2.join()"
   ]
  }
 ],
 "metadata": {
  "kernelspec": {
   "display_name": "tools-and-techniques-in-data-science",
   "language": "python",
   "name": "tools-and-techniques-in-data-science"
  },
  "language_info": {
   "codemirror_mode": {
    "name": "ipython",
    "version": 3
   },
   "file_extension": ".py",
   "mimetype": "text/x-python",
   "name": "python",
   "nbconvert_exporter": "python",
   "pygments_lexer": "ipython3",
   "version": "3.9.7"
  }
 },
 "nbformat": 4,
 "nbformat_minor": 5
}
