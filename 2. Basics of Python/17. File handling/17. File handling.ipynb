{
 "cells": [
  {
   "cell_type": "code",
   "execution_count": 37,
   "id": "e4dd4635-039f-4ca6-a77e-c33eb678d333",
   "metadata": {},
   "outputs": [
    {
     "ename": "UnsupportedOperation",
     "evalue": "not writable",
     "output_type": "error",
     "traceback": [
      "\u001b[1;31m---------------------------------------------------------------------------\u001b[0m",
      "\u001b[1;31mUnsupportedOperation\u001b[0m                      Traceback (most recent call last)",
      "\u001b[1;32mF:\\else\\Windows\\DELLTE~1/ipykernel_2024/2456225354.py\u001b[0m in \u001b[0;36m<module>\u001b[1;34m\u001b[0m\n\u001b[0;32m      1\u001b[0m \u001b[1;32mwith\u001b[0m \u001b[0mopen\u001b[0m\u001b[1;33m(\u001b[0m\u001b[1;34m'17. File handling/file.txt'\u001b[0m\u001b[1;33m,\u001b[0m \u001b[1;34m'rt'\u001b[0m\u001b[1;33m)\u001b[0m \u001b[1;32mas\u001b[0m \u001b[0mfile\u001b[0m\u001b[1;33m:\u001b[0m\u001b[1;33m\u001b[0m\u001b[1;33m\u001b[0m\u001b[0m\n\u001b[1;32m----> 2\u001b[1;33m     \u001b[0mfile\u001b[0m\u001b[1;33m.\u001b[0m\u001b[0mwrite\u001b[0m\u001b[1;33m(\u001b[0m\u001b[1;34m'12'\u001b[0m\u001b[1;33m)\u001b[0m\u001b[1;33m\u001b[0m\u001b[1;33m\u001b[0m\u001b[0m\n\u001b[0m\u001b[0;32m      3\u001b[0m     \u001b[1;32mpass\u001b[0m\u001b[1;33m\u001b[0m\u001b[1;33m\u001b[0m\u001b[0m\n",
      "\u001b[1;31mUnsupportedOperation\u001b[0m: not writable"
     ]
    }
   ],
   "source": [
    "with open('17. File handling/file.txt', 'rt') as file:\n",
    "    file.write('12')\n",
    "    pass"
   ]
  },
  {
   "cell_type": "code",
   "execution_count": 41,
   "id": "aadb710a-de40-4981-822b-413a76dd5b09",
   "metadata": {},
   "outputs": [
    {
     "name": "stdout",
     "output_type": "stream",
     "text": [
      "alksdajf\n",
      "45678\n",
      "$%^&*()(*&^%$#$%^&*())\n",
      "\n"
     ]
    }
   ],
   "source": [
    "with open('17. File handling/file.txt', 'rt') as file:\n",
    "    print(file.read())\n",
    "    print(file.read())"
   ]
  },
  {
   "cell_type": "code",
   "execution_count": 42,
   "id": "9e62eccc-231a-405f-9f91-cfd97b8a3691",
   "metadata": {},
   "outputs": [
    {
     "name": "stdout",
     "output_type": "stream",
     "text": [
      "alks\n",
      "dajf\n",
      "45678\n",
      "$%^&*()(*&^%$#$%^&*())\n"
     ]
    }
   ],
   "source": [
    "with open('17. File handling/file.txt', 'rt') as file:\n",
    "    print(file.read(4))\n",
    "    print(file.read())"
   ]
  },
  {
   "cell_type": "code",
   "execution_count": 48,
   "id": "792b30f8-c248-4636-9225-6f8cfdc8e172",
   "metadata": {},
   "outputs": [
    {
     "name": "stdout",
     "output_type": "stream",
     "text": [
      "'alksdajf\\n'\n",
      "'45678\\n'\n"
     ]
    }
   ],
   "source": [
    "with open('17. File handling/file.txt', 'rt') as file:\n",
    "    print(repr(file.readline()))\n",
    "    print(repr(file.readline()))"
   ]
  },
  {
   "cell_type": "code",
   "execution_count": 49,
   "id": "5d34f48a-b139-43eb-a719-24ba72b3aeba",
   "metadata": {},
   "outputs": [
    {
     "name": "stdout",
     "output_type": "stream",
     "text": [
      "'alk'\n",
      "'sdajf\\n'\n"
     ]
    }
   ],
   "source": [
    "with open('17. File handling/file.txt', 'rt') as file:\n",
    "    print(repr(file.readline(3)))\n",
    "    print(repr(file.readline()))"
   ]
  },
  {
   "cell_type": "code",
   "execution_count": 50,
   "id": "e0a67671-d009-4743-862a-9a8696d69f62",
   "metadata": {},
   "outputs": [
    {
     "name": "stdout",
     "output_type": "stream",
     "text": [
      "'alksdajf\\n'\n",
      "'45678\\n'\n"
     ]
    }
   ],
   "source": [
    "with open('17. File handling/file.txt', 'rt') as file:\n",
    "    print(repr(file.readline(100)))\n",
    "    print(repr(file.readline()))"
   ]
  },
  {
   "cell_type": "code",
   "execution_count": 61,
   "id": "ddd2c04b-aeda-4b0e-8e2f-87f326c131f9",
   "metadata": {},
   "outputs": [
    {
     "name": "stdout",
     "output_type": "stream",
     "text": [
      "['alksdajf\\n']\n"
     ]
    }
   ],
   "source": [
    "with open('17. File handling/file.txt', 'rt') as file:\n",
    "    print(repr(file.readlines(1)))\n",
    "    # print(repr(file.readline()))"
   ]
  },
  {
   "cell_type": "code",
   "execution_count": null,
   "id": "a39c7ff3-8685-4b25-8f36-6af55b3f7d33",
   "metadata": {},
   "outputs": [],
   "source": []
  },
  {
   "cell_type": "code",
   "execution_count": null,
   "id": "1f68aac7-9415-4665-b65e-7b69c556e9c2",
   "metadata": {},
   "outputs": [],
   "source": []
  },
  {
   "cell_type": "code",
   "execution_count": null,
   "id": "4fa1b21b-bc40-4b26-b434-2cf0d55c9b0b",
   "metadata": {},
   "outputs": [],
   "source": []
  },
  {
   "cell_type": "code",
   "execution_count": 79,
   "id": "193a3da2-deec-4b46-a427-0dd3d3951662",
   "metadata": {},
   "outputs": [
    {
     "name": "stdout",
     "output_type": "stream",
     "text": [
      "51\n"
     ]
    }
   ],
   "source": [
    "with open('17. File handling/file2.txt', 'wt') as file:\n",
    "    file.write('ladjflakfjalkfj')\n",
    "    file.writelines(['ladksflkajf', '4567890', '$%^&*()'])\n",
    "    \n",
    "    file.write('fghj\\n45678')\n",
    "    print(file.tell())"
   ]
  },
  {
   "cell_type": "code",
   "execution_count": null,
   "id": "3ab3e326-b3b1-4bb1-9c67-b8f4860845f3",
   "metadata": {},
   "outputs": [],
   "source": []
  },
  {
   "cell_type": "code",
   "execution_count": null,
   "id": "613e8888-e0d1-4a2c-887f-2a1aef582b1f",
   "metadata": {},
   "outputs": [],
   "source": []
  },
  {
   "cell_type": "code",
   "execution_count": null,
   "id": "e445620e-2dde-457b-add0-73eee6abbe71",
   "metadata": {},
   "outputs": [],
   "source": []
  },
  {
   "cell_type": "code",
   "execution_count": 72,
   "id": "2c6e1c23-ad73-412f-95c1-8abed7d41ad7",
   "metadata": {},
   "outputs": [
    {
     "name": "stdout",
     "output_type": "stream",
     "text": [
      "Help on built-in function seek:\n",
      "\n",
      "seek(cookie, whence=0, /) method of _io.TextIOWrapper instance\n",
      "    Change stream position.\n",
      "    \n",
      "    Change the stream position to the given byte offset. The offset is\n",
      "    interpreted relative to the position indicated by whence.  Values\n",
      "    for whence are:\n",
      "    \n",
      "    * 0 -- start of stream (the default); offset should be zero or positive\n",
      "    * 1 -- current stream position; offset may be negative\n",
      "    * 2 -- end of stream; offset is usually negative\n",
      "    \n",
      "    Return the new absolute position.\n",
      "\n"
     ]
    }
   ],
   "source": [
    "help(open('17. File handling/file.txt', 'rt').seek)"
   ]
  },
  {
   "cell_type": "code",
   "execution_count": null,
   "id": "092457e0-5973-4e28-8e65-03588b6a755e",
   "metadata": {},
   "outputs": [],
   "source": []
  },
  {
   "cell_type": "code",
   "execution_count": null,
   "id": "8eaad379-0dee-40dd-8c11-1269a4f4d59d",
   "metadata": {},
   "outputs": [],
   "source": []
  },
  {
   "cell_type": "code",
   "execution_count": null,
   "id": "c0cdad93-693d-4f4a-bfd1-727099049459",
   "metadata": {},
   "outputs": [],
   "source": []
  },
  {
   "cell_type": "code",
   "execution_count": 81,
   "id": "e71b3313-7824-4161-9368-c300712f42ba",
   "metadata": {},
   "outputs": [
    {
     "name": "stdout",
     "output_type": "stream",
     "text": [
      "alksdajf\n",
      "\n",
      "45678\n",
      "\n",
      "$%^&*()(*&^%$#$%^&*())\n"
     ]
    }
   ],
   "source": [
    "for line in open(\"17. File handling/file.txt\", 'r'):\n",
    "    print(line)"
   ]
  },
  {
   "cell_type": "code",
   "execution_count": 82,
   "id": "dc9e8f0c-cf1e-4d18-862b-32ecbfc84f0b",
   "metadata": {},
   "outputs": [
    {
     "data": {
      "text/plain": [
       "<_io.TextIOWrapper name='17. File handling/file.txt' mode='r' encoding='cp1252'>"
      ]
     },
     "execution_count": 82,
     "metadata": {},
     "output_type": "execute_result"
    }
   ],
   "source": [
    "open('17. File handling/file.txt', 'r')"
   ]
  },
  {
   "cell_type": "code",
   "execution_count": null,
   "id": "ab6bbb0d-5ee0-4eeb-9a02-606fabb943a4",
   "metadata": {},
   "outputs": [],
   "source": []
  },
  {
   "cell_type": "code",
   "execution_count": null,
   "id": "22660582-1670-43f8-91d8-962ea7adda50",
   "metadata": {},
   "outputs": [],
   "source": []
  },
  {
   "cell_type": "code",
   "execution_count": null,
   "id": "6484f586-9d46-4215-ba15-d63c82f293c2",
   "metadata": {},
   "outputs": [],
   "source": []
  },
  {
   "cell_type": "code",
   "execution_count": null,
   "id": "abbdd59b-86af-4128-ac7d-6d9a8e1b5e81",
   "metadata": {},
   "outputs": [],
   "source": []
  },
  {
   "cell_type": "code",
   "execution_count": null,
   "id": "d55c859e-4282-4e5b-acb7-44854d01e304",
   "metadata": {},
   "outputs": [],
   "source": []
  },
  {
   "cell_type": "code",
   "execution_count": null,
   "id": "dc5bdf9a-5075-41b2-9bb3-9ab88a64a5ec",
   "metadata": {},
   "outputs": [],
   "source": []
  },
  {
   "cell_type": "code",
   "execution_count": null,
   "id": "0cf38d65-088c-4b48-a841-31f7a316942e",
   "metadata": {},
   "outputs": [],
   "source": []
  },
  {
   "cell_type": "code",
   "execution_count": null,
   "id": "6a3d0d82-bf81-429d-96e7-367683fac6f7",
   "metadata": {},
   "outputs": [],
   "source": []
  },
  {
   "cell_type": "markdown",
   "id": "5c029d3a-bf74-436b-98a0-b997658ecef4",
   "metadata": {},
   "source": [
    "# seek"
   ]
  },
  {
   "cell_type": "code",
   "execution_count": 115,
   "id": "621d812f-8399-496e-a885-060e0b2561b0",
   "metadata": {},
   "outputs": [
    {
     "name": "stdout",
     "output_type": "stream",
     "text": [
      "b'alksd'\n",
      "b'ksdajf\\r\\n'\n"
     ]
    }
   ],
   "source": [
    "with open('17. File handling/file.txt', 'rb') as f:\n",
    "    # f.seek(-5, 2)\n",
    "    print(f.readline(5))\n",
    "    f.seek(-3, 1)\n",
    "    print(f.readline())"
   ]
  },
  {
   "cell_type": "code",
   "execution_count": 118,
   "id": "63c54063-4288-4c87-8512-5410bafbb57f",
   "metadata": {},
   "outputs": [
    {
     "name": "stdout",
     "output_type": "stream",
     "text": [
      "b''\n"
     ]
    }
   ],
   "source": [
    "with open('17. File handling/file.txt', 'wb+') as f:\n",
    "    # f.seek(-5, 2)\n",
    "    # f.seek(0, 2)\n",
    "    # f.seek(2, 1)\n",
    "    f.seek(1, 1)\n",
    "    print(f.read())"
   ]
  }
 ],
 "metadata": {
  "kernelspec": {
   "display_name": "tools-and-techniques-in-data-science",
   "language": "python",
   "name": "tools-and-techniques-in-data-science"
  },
  "language_info": {
   "codemirror_mode": {
    "name": "ipython",
    "version": 3
   },
   "file_extension": ".py",
   "mimetype": "text/x-python",
   "name": "python",
   "nbconvert_exporter": "python",
   "pygments_lexer": "ipython3",
   "version": "3.9.7"
  }
 },
 "nbformat": 4,
 "nbformat_minor": 5
}
