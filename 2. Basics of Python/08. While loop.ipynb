{
 "cells": [
  {
   "cell_type": "code",
   "execution_count": 4,
   "id": "0ba41886-2bee-42d7-9859-0baa4b2394e5",
   "metadata": {},
   "outputs": [
    {
     "name": "stdout",
     "output_type": "stream",
     "text": [
      "0\n",
      "1\n",
      "2\n",
      "3\n",
      "4\n",
      "ended\n"
     ]
    }
   ],
   "source": [
    "a = 0\n",
    "\n",
    "while a < 5:\n",
    "    print(a)\n",
    "    a += 1\n",
    "else:\n",
    "    print('ended')"
   ]
  },
  {
   "cell_type": "code",
   "execution_count": null,
   "id": "d73376f1-dd39-458b-a6c5-83deb82e5581",
   "metadata": {},
   "outputs": [],
   "source": []
  },
  {
   "cell_type": "code",
   "execution_count": null,
   "id": "dad1088c-e28b-445a-8be5-9ff020906634",
   "metadata": {},
   "outputs": [],
   "source": []
  },
  {
   "cell_type": "code",
   "execution_count": null,
   "id": "8f03e1e9-e769-4519-9516-286dc8488a51",
   "metadata": {},
   "outputs": [],
   "source": []
  },
  {
   "cell_type": "code",
   "execution_count": 1,
   "id": "d23605d7-fcc3-4d42-a1f6-afd9167aae99",
   "metadata": {},
   "outputs": [
    {
     "name": "stdout",
     "output_type": "stream",
     "text": [
      "[1, 2, 3, 4, 5]\n",
      "[1, 2, 3, 4]\n",
      "[1, 2, 3]\n",
      "[1, 2]\n",
      "[1]\n"
     ]
    }
   ],
   "source": [
    "ls = [1,2,3,4,5]\n",
    "\n",
    "while ls:\n",
    "    print(ls)\n",
    "    ls.pop()"
   ]
  },
  {
   "cell_type": "code",
   "execution_count": null,
   "id": "7cb7b480-653d-44cb-9326-fa67d360dc89",
   "metadata": {},
   "outputs": [],
   "source": []
  },
  {
   "cell_type": "code",
   "execution_count": null,
   "id": "af98039e-1294-4da6-8da3-b4c0244cc927",
   "metadata": {},
   "outputs": [],
   "source": []
  },
  {
   "cell_type": "code",
   "execution_count": null,
   "id": "14f60fc4-01d8-425b-9032-0c0dd29d2709",
   "metadata": {},
   "outputs": [],
   "source": []
  },
  {
   "cell_type": "code",
   "execution_count": 5,
   "id": "9710fa1a-3958-41e0-9c81-f98f48a832b6",
   "metadata": {},
   "outputs": [
    {
     "name": "stdout",
     "output_type": "stream",
     "text": [
      "9\n",
      "7\n",
      "5\n",
      "3\n",
      "1\n",
      "ended\n"
     ]
    }
   ],
   "source": [
    "a = 10\n",
    "\n",
    "while a>0:\n",
    "    a -= 1\n",
    "    \n",
    "    if a % 2 == 0:\n",
    "        continue\n",
    "    print(a)\n",
    "else:\n",
    "    print('ended')"
   ]
  },
  {
   "cell_type": "code",
   "execution_count": null,
   "id": "3796c32f-7925-4648-bd46-acd4e65c2c69",
   "metadata": {},
   "outputs": [],
   "source": []
  },
  {
   "cell_type": "code",
   "execution_count": null,
   "id": "0bc7007f-f8f4-42ba-90be-5772291c1b0f",
   "metadata": {},
   "outputs": [],
   "source": []
  },
  {
   "cell_type": "code",
   "execution_count": null,
   "id": "7f4900e0-9d29-424a-b3ab-58770380e732",
   "metadata": {},
   "outputs": [],
   "source": []
  },
  {
   "cell_type": "code",
   "execution_count": 7,
   "id": "01d6151d-cc79-4d63-9618-701231145bda",
   "metadata": {},
   "outputs": [
    {
     "name": "stdout",
     "output_type": "stream",
     "text": [
      "9\n",
      "8\n",
      "7\n",
      "6\n",
      "5\n",
      "4\n"
     ]
    }
   ],
   "source": [
    "a = 10\n",
    "\n",
    "while a>0:\n",
    "    a -= 1\n",
    "    \n",
    "    if a == 3:\n",
    "        break\n",
    "    print(a)\n",
    "else:\n",
    "    print('ended')"
   ]
  }
 ],
 "metadata": {
  "kernelspec": {
   "display_name": "Python 3 (ipykernel)",
   "language": "python",
   "name": "python3"
  },
  "language_info": {
   "codemirror_mode": {
    "name": "ipython",
    "version": 3
   },
   "file_extension": ".py",
   "mimetype": "text/x-python",
   "name": "python",
   "nbconvert_exporter": "python",
   "pygments_lexer": "ipython3",
   "version": "3.9.7"
  }
 },
 "nbformat": 4,
 "nbformat_minor": 5
}
