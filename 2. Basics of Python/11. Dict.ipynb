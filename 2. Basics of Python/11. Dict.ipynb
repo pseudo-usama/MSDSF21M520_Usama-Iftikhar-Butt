{
 "cells": [
  {
   "cell_type": "code",
   "execution_count": 11,
   "id": "52c1ef76-0274-42fd-8d13-b0f0f93ab7ee",
   "metadata": {},
   "outputs": [],
   "source": [
    "dict1 = {\n",
    "    'a': 1,\n",
    "    'b': 2\n",
    "}"
   ]
  },
  {
   "cell_type": "code",
   "execution_count": 12,
   "id": "b06c0d3a-b91d-44e5-af70-5105c826e987",
   "metadata": {},
   "outputs": [
    {
     "data": {
      "text/plain": [
       "{1: 1, 2: 2}"
      ]
     },
     "execution_count": 12,
     "metadata": {},
     "output_type": "execute_result"
    }
   ],
   "source": [
    "dict([(1, 1), (2, 2)])"
   ]
  },
  {
   "cell_type": "code",
   "execution_count": 13,
   "id": "393acd68-32ec-40fb-92c5-42052ce92d50",
   "metadata": {},
   "outputs": [
    {
     "data": {
      "text/plain": [
       "{1: 1, 2: 2}"
      ]
     },
     "execution_count": 13,
     "metadata": {},
     "output_type": "execute_result"
    }
   ],
   "source": [
    "dict([[1, 1], [2, 2]])"
   ]
  },
  {
   "cell_type": "code",
   "execution_count": 14,
   "id": "c36968d2-df13-46fe-ba4f-33a76f7c4576",
   "metadata": {},
   "outputs": [
    {
     "data": {
      "text/plain": [
       "{1: 1}"
      ]
     },
     "execution_count": 14,
     "metadata": {},
     "output_type": "execute_result"
    }
   ],
   "source": [
    "dict([(1, 1)])"
   ]
  },
  {
   "cell_type": "code",
   "execution_count": 15,
   "id": "3448916b-92f7-44a3-ba3b-53c65f715f9e",
   "metadata": {},
   "outputs": [
    {
     "data": {
      "text/plain": [
       "{1: 1}"
      ]
     },
     "execution_count": 15,
     "metadata": {},
     "output_type": "execute_result"
    }
   ],
   "source": [
    "dict(((1,1),))"
   ]
  },
  {
   "cell_type": "code",
   "execution_count": 16,
   "id": "9a1e824b-c1aa-4e09-beb0-4bd1d41583de",
   "metadata": {},
   "outputs": [
    {
     "data": {
      "text/plain": [
       "{1: 1}"
      ]
     },
     "execution_count": 16,
     "metadata": {},
     "output_type": "execute_result"
    }
   ],
   "source": [
    "dict({(1,1)})"
   ]
  },
  {
   "cell_type": "code",
   "execution_count": null,
   "id": "77632ebe-1a92-4d43-b95a-2a1b67460389",
   "metadata": {},
   "outputs": [],
   "source": []
  },
  {
   "cell_type": "code",
   "execution_count": null,
   "id": "eab6be45-3206-4317-b1db-afd6a6f93c84",
   "metadata": {},
   "outputs": [],
   "source": []
  },
  {
   "cell_type": "code",
   "execution_count": null,
   "id": "0f93d9bf-6569-4df3-964b-5bff9cd2f4b2",
   "metadata": {},
   "outputs": [],
   "source": []
  },
  {
   "cell_type": "code",
   "execution_count": null,
   "id": "0da21b7b-520a-4e1c-93cf-e9e5119c00c9",
   "metadata": {},
   "outputs": [],
   "source": []
  },
  {
   "cell_type": "code",
   "execution_count": null,
   "id": "8409d793-4659-4f0e-bc21-89fdceb1d6f7",
   "metadata": {},
   "outputs": [],
   "source": []
  },
  {
   "cell_type": "code",
   "execution_count": null,
   "id": "b12f2ce2-00e1-4cca-a760-10a020df3e83",
   "metadata": {},
   "outputs": [],
   "source": []
  },
  {
   "cell_type": "code",
   "execution_count": 21,
   "id": "94b7cd2e-6beb-45bb-b2f3-06643c0c2d00",
   "metadata": {},
   "outputs": [
    {
     "data": {
      "text/plain": [
       "(dict_items([('a', 1), ('b', 2)]), dict_items)"
      ]
     },
     "execution_count": 21,
     "metadata": {},
     "output_type": "execute_result"
    }
   ],
   "source": [
    "dict1 = {\n",
    "    'a': 1,\n",
    "    'b': 2\n",
    "}\n",
    "dict1.items(), type(dict1.items())"
   ]
  },
  {
   "cell_type": "code",
   "execution_count": 19,
   "id": "3a2fbd3b-ecc1-4dca-9e41-a13a03794f17",
   "metadata": {},
   "outputs": [
    {
     "data": {
      "text/plain": [
       "dict_keys(['a', 'b'])"
      ]
     },
     "execution_count": 19,
     "metadata": {},
     "output_type": "execute_result"
    }
   ],
   "source": [
    "dict1 = {\n",
    "    'a': 1,\n",
    "    'b': 2\n",
    "}\n",
    "dict1.keys()"
   ]
  },
  {
   "cell_type": "code",
   "execution_count": 20,
   "id": "f59b822a-073c-4cd5-a316-f720b3c8e8e9",
   "metadata": {},
   "outputs": [
    {
     "data": {
      "text/plain": [
       "dict_values([1, 2])"
      ]
     },
     "execution_count": 20,
     "metadata": {},
     "output_type": "execute_result"
    }
   ],
   "source": [
    "dict1 = {\n",
    "    'a': 1,\n",
    "    'b': 2\n",
    "}\n",
    "dict1.values()"
   ]
  },
  {
   "cell_type": "code",
   "execution_count": null,
   "id": "bc20f762-f588-4038-b3c5-68ece354ce4e",
   "metadata": {},
   "outputs": [],
   "source": []
  },
  {
   "cell_type": "code",
   "execution_count": null,
   "id": "534d4111-1921-4aad-b693-f94ebbbe56f4",
   "metadata": {},
   "outputs": [],
   "source": []
  },
  {
   "cell_type": "code",
   "execution_count": null,
   "id": "0a4e1e68-22e5-49db-aabe-5ee32d5f2d6e",
   "metadata": {},
   "outputs": [],
   "source": []
  },
  {
   "cell_type": "code",
   "execution_count": 23,
   "id": "8130cae0-4c61-468f-a6a2-552a0d6e6805",
   "metadata": {},
   "outputs": [
    {
     "data": {
      "text/plain": [
       "{'a': 1, 'b': 2, 'asdf': 2}"
      ]
     },
     "execution_count": 23,
     "metadata": {},
     "output_type": "execute_result"
    }
   ],
   "source": [
    "dict1 = {\n",
    "    'a': 1,\n",
    "    'b': 2\n",
    "}\n",
    "dict1['asdf'] = 2\n",
    "dict1"
   ]
  },
  {
   "cell_type": "code",
   "execution_count": 26,
   "id": "3a6e5e90-d4aa-42ca-ad95-7747261b1842",
   "metadata": {},
   "outputs": [
    {
     "data": {
      "text/plain": [
       "{'a': 1, 'b': 2, 'asdf': 234}"
      ]
     },
     "execution_count": 26,
     "metadata": {},
     "output_type": "execute_result"
    }
   ],
   "source": [
    "dict1 = {\n",
    "    'a': 1,\n",
    "    'b': 2\n",
    "}\n",
    "dict1.update({'asdf': 234})\n",
    "dict1"
   ]
  },
  {
   "cell_type": "code",
   "execution_count": null,
   "id": "fa458ad2-2701-4458-867c-ce3dcfb6441d",
   "metadata": {},
   "outputs": [],
   "source": []
  },
  {
   "cell_type": "code",
   "execution_count": null,
   "id": "4a93e590-3c8d-4259-9a72-bb8a5cc9ae69",
   "metadata": {},
   "outputs": [],
   "source": []
  },
  {
   "cell_type": "code",
   "execution_count": null,
   "id": "981b261e-67c3-4c1f-aeca-2511f2e35630",
   "metadata": {},
   "outputs": [],
   "source": []
  },
  {
   "cell_type": "code",
   "execution_count": 31,
   "id": "422ea63e-dd99-4fab-bfb2-7b017bd724e6",
   "metadata": {},
   "outputs": [
    {
     "data": {
      "text/plain": [
       "\u001b[1;31mSignature:\u001b[0m \u001b[0mdict\u001b[0m\u001b[1;33m.\u001b[0m\u001b[0mget\u001b[0m\u001b[1;33m(\u001b[0m\u001b[0mself\u001b[0m\u001b[1;33m,\u001b[0m \u001b[0mkey\u001b[0m\u001b[1;33m,\u001b[0m \u001b[0mdefault\u001b[0m\u001b[1;33m=\u001b[0m\u001b[1;32mNone\u001b[0m\u001b[1;33m,\u001b[0m \u001b[1;33m/\u001b[0m\u001b[1;33m)\u001b[0m\u001b[1;33m\u001b[0m\u001b[1;33m\u001b[0m\u001b[0m\n",
       "\u001b[1;31mDocstring:\u001b[0m Return the value for key if key is in the dictionary, else default.\n",
       "\u001b[1;31mType:\u001b[0m      method_descriptor\n"
      ]
     },
     "metadata": {},
     "output_type": "display_data"
    }
   ],
   "source": [
    "dict.get?"
   ]
  },
  {
   "cell_type": "code",
   "execution_count": 35,
   "id": "a8478bfa-0c78-4baa-b740-de048808bef3",
   "metadata": {},
   "outputs": [
    {
     "name": "stdout",
     "output_type": "stream",
     "text": [
      "1\n",
      "None\n",
      "hahaha\n"
     ]
    }
   ],
   "source": [
    "dict1 = {\n",
    "    'a': 1,\n",
    "    'b': 2\n",
    "}\n",
    "print(dict1.get('a'))\n",
    "print(dict1.get('aadf'))\n",
    "print(dict1.get('aadf', 'hahaha'))"
   ]
  },
  {
   "cell_type": "code",
   "execution_count": null,
   "id": "73dbf499-ce64-4e3a-af98-915d09f3b3ba",
   "metadata": {},
   "outputs": [],
   "source": []
  },
  {
   "cell_type": "code",
   "execution_count": null,
   "id": "60c824ef-a128-4fd4-85ad-763203b73b91",
   "metadata": {},
   "outputs": [],
   "source": []
  },
  {
   "cell_type": "code",
   "execution_count": null,
   "id": "67f1ecdc-4c5d-4449-a926-ae69e6929bcf",
   "metadata": {},
   "outputs": [],
   "source": []
  },
  {
   "cell_type": "code",
   "execution_count": 29,
   "id": "29d6e230-2c10-495d-aca9-f49b889bb9e8",
   "metadata": {},
   "outputs": [
    {
     "data": {
      "text/plain": [
       "\u001b[1;31mDocstring:\u001b[0m\n",
       "D.pop(k[,d]) -> v, remove specified key and return the corresponding value.\n",
       "\n",
       "If key is not found, default is returned if given, otherwise KeyError is raised\n",
       "\u001b[1;31mType:\u001b[0m      method_descriptor\n"
      ]
     },
     "metadata": {},
     "output_type": "display_data"
    }
   ],
   "source": [
    "dict.pop?"
   ]
  },
  {
   "cell_type": "code",
   "execution_count": 37,
   "id": "489860d2-62ca-435d-9788-a021a336a0ba",
   "metadata": {},
   "outputs": [
    {
     "data": {
      "text/plain": [
       "1"
      ]
     },
     "execution_count": 37,
     "metadata": {},
     "output_type": "execute_result"
    }
   ],
   "source": [
    "dict1 = {\n",
    "    'a': 1,\n",
    "    'b': 2\n",
    "}\n",
    "dict1.pop('a')"
   ]
  },
  {
   "cell_type": "code",
   "execution_count": null,
   "id": "987a1c0d-86fd-4fde-b340-0864a8a669ee",
   "metadata": {},
   "outputs": [],
   "source": []
  },
  {
   "cell_type": "code",
   "execution_count": null,
   "id": "0e8c36f4-0613-4701-aab1-1a7d069bbe6e",
   "metadata": {},
   "outputs": [],
   "source": []
  },
  {
   "cell_type": "code",
   "execution_count": null,
   "id": "b3b74e01-40df-4414-8552-ff6f98b97a8e",
   "metadata": {},
   "outputs": [],
   "source": []
  },
  {
   "cell_type": "code",
   "execution_count": 38,
   "id": "060b43df-f545-4d4a-9ae9-7331656576b9",
   "metadata": {},
   "outputs": [
    {
     "data": {
      "text/plain": [
       "\u001b[1;31mSignature:\u001b[0m \u001b[0mdict\u001b[0m\u001b[1;33m.\u001b[0m\u001b[0mpopitem\u001b[0m\u001b[1;33m(\u001b[0m\u001b[0mself\u001b[0m\u001b[1;33m,\u001b[0m \u001b[1;33m/\u001b[0m\u001b[1;33m)\u001b[0m\u001b[1;33m\u001b[0m\u001b[1;33m\u001b[0m\u001b[0m\n",
       "\u001b[1;31mDocstring:\u001b[0m\n",
       "Remove and return a (key, value) pair as a 2-tuple.\n",
       "\n",
       "Pairs are returned in LIFO (last-in, first-out) order.\n",
       "Raises KeyError if the dict is empty.\n",
       "\u001b[1;31mType:\u001b[0m      method_descriptor\n"
      ]
     },
     "metadata": {},
     "output_type": "display_data"
    }
   ],
   "source": [
    "dict.popitem?"
   ]
  },
  {
   "cell_type": "code",
   "execution_count": 28,
   "id": "a8e8de4a-dd92-4a5e-bf19-ae1cb6fe0d1c",
   "metadata": {},
   "outputs": [
    {
     "data": {
      "text/plain": [
       "('b', 2)"
      ]
     },
     "execution_count": 28,
     "metadata": {},
     "output_type": "execute_result"
    }
   ],
   "source": [
    "dict1 = {\n",
    "    'a': 1,\n",
    "    'b': 2\n",
    "}\n",
    "dict1.popitem()"
   ]
  },
  {
   "cell_type": "code",
   "execution_count": null,
   "id": "a9e7ae16-becd-4cdf-ad77-df6b4f3e7631",
   "metadata": {},
   "outputs": [],
   "source": []
  },
  {
   "cell_type": "code",
   "execution_count": null,
   "id": "54174fa7-4580-4fa3-bad8-7f1d45c3c6ec",
   "metadata": {},
   "outputs": [],
   "source": []
  },
  {
   "cell_type": "code",
   "execution_count": null,
   "id": "709f8ab6-4872-42a7-88f5-fe7cd9a8ffe2",
   "metadata": {},
   "outputs": [],
   "source": []
  },
  {
   "cell_type": "code",
   "execution_count": 39,
   "id": "fad4fb53-0544-4c06-833d-f956e3ea765c",
   "metadata": {},
   "outputs": [
    {
     "data": {
      "text/plain": [
       "\u001b[1;31mDocstring:\u001b[0m D.clear() -> None.  Remove all items from D.\n",
       "\u001b[1;31mType:\u001b[0m      method_descriptor\n"
      ]
     },
     "metadata": {},
     "output_type": "display_data"
    }
   ],
   "source": [
    "dict.clear?"
   ]
  },
  {
   "cell_type": "code",
   "execution_count": 40,
   "id": "c9af60a6-879c-4c8f-b23a-8c56bd7fa0e5",
   "metadata": {},
   "outputs": [
    {
     "data": {
      "text/plain": [
       "{}"
      ]
     },
     "execution_count": 40,
     "metadata": {},
     "output_type": "execute_result"
    }
   ],
   "source": [
    "dict1 = {\n",
    "    'a': 1,\n",
    "    'b': 2\n",
    "}\n",
    "dict1.clear()\n",
    "dict1"
   ]
  },
  {
   "cell_type": "code",
   "execution_count": null,
   "id": "406da590-b8eb-4d8e-8e0a-9ddeb60e5f2c",
   "metadata": {},
   "outputs": [],
   "source": []
  },
  {
   "cell_type": "code",
   "execution_count": null,
   "id": "83d64745-f235-433f-b3aa-1046010323d6",
   "metadata": {},
   "outputs": [],
   "source": []
  },
  {
   "cell_type": "code",
   "execution_count": null,
   "id": "2ac2c646-a9cd-4282-a4fb-f4ab2200f5e5",
   "metadata": {},
   "outputs": [],
   "source": []
  },
  {
   "cell_type": "code",
   "execution_count": 41,
   "id": "792dbdd3-2657-4c47-8c6a-af9fb38c65c5",
   "metadata": {},
   "outputs": [
    {
     "data": {
      "text/plain": [
       "['a', 'b']"
      ]
     },
     "execution_count": 41,
     "metadata": {},
     "output_type": "execute_result"
    }
   ],
   "source": [
    "sorted({'a': 1, 'b': 2})"
   ]
  },
  {
   "cell_type": "code",
   "execution_count": 43,
   "id": "3d2fc1c4-239c-459e-b877-18daa93512f1",
   "metadata": {},
   "outputs": [
    {
     "data": {
      "text/plain": [
       "[('a', 1), ('b', 2)]"
      ]
     },
     "execution_count": 43,
     "metadata": {},
     "output_type": "execute_result"
    }
   ],
   "source": [
    "sorted({'a':1, 'b': 2}.items())"
   ]
  },
  {
   "cell_type": "code",
   "execution_count": 44,
   "id": "cb3ec79f-a651-4551-a6f5-d2803c6d9d57",
   "metadata": {},
   "outputs": [
    {
     "data": {
      "text/plain": [
       "['a', 'b']"
      ]
     },
     "execution_count": 44,
     "metadata": {},
     "output_type": "execute_result"
    }
   ],
   "source": [
    "sorted({'a':1, 'b': 2}.keys())"
   ]
  },
  {
   "cell_type": "code",
   "execution_count": 45,
   "id": "c08dc77d-6847-4e4e-9ee4-426188ed5ec5",
   "metadata": {},
   "outputs": [
    {
     "data": {
      "text/plain": [
       "[1, 2]"
      ]
     },
     "execution_count": 45,
     "metadata": {},
     "output_type": "execute_result"
    }
   ],
   "source": [
    "sorted({'a':1, 'b': 2}.values())"
   ]
  }
 ],
 "metadata": {
  "kernelspec": {
   "display_name": "tools-and-techniques-in-data-science",
   "language": "python",
   "name": "tools-and-techniques-in-data-science"
  },
  "language_info": {
   "codemirror_mode": {
    "name": "ipython",
    "version": 3
   },
   "file_extension": ".py",
   "mimetype": "text/x-python",
   "name": "python",
   "nbconvert_exporter": "python",
   "pygments_lexer": "ipython3",
   "version": "3.9.7"
  }
 },
 "nbformat": 4,
 "nbformat_minor": 5
}
