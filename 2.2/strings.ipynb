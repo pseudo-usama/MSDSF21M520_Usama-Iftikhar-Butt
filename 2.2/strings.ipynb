{
 "cells": [
  {
   "cell_type": "code",
   "execution_count": 1,
   "id": "afc39a4e-220d-4073-9f7b-df68e6e3f51b",
   "metadata": {},
   "outputs": [],
   "source": [
    "mystr='usama'"
   ]
  },
  {
   "cell_type": "code",
   "execution_count": 3,
   "id": "c03f4965-93a3-4283-983c-1910f12f4d39",
   "metadata": {},
   "outputs": [
    {
     "data": {
      "text/plain": [
       "'usama'"
      ]
     },
     "execution_count": 3,
     "metadata": {},
     "output_type": "execute_result"
    }
   ],
   "source": [
    "mystr[:]"
   ]
  },
  {
   "cell_type": "code",
   "execution_count": 7,
   "id": "5c48fac7-1c81-44d2-a2b4-5ed1b9339c4b",
   "metadata": {},
   "outputs": [
    {
     "data": {
      "text/plain": [
       "'amasu'"
      ]
     },
     "execution_count": 7,
     "metadata": {},
     "output_type": "execute_result"
    }
   ],
   "source": [
    "mystr[::-1]"
   ]
  },
  {
   "cell_type": "code",
   "execution_count": 6,
   "id": "b4bf0b2b-1953-4e20-983e-ff7c9cf09f0b",
   "metadata": {},
   "outputs": [
    {
     "data": {
      "text/plain": [
       "'su'"
      ]
     },
     "execution_count": 6,
     "metadata": {},
     "output_type": "execute_result"
    }
   ],
   "source": [
    "mystr[1::-1]"
   ]
  },
  {
   "cell_type": "code",
   "execution_count": 10,
   "id": "b65441dc-49e8-4323-818d-ba36f00e4ac6",
   "metadata": {},
   "outputs": [
    {
     "data": {
      "text/plain": [
       "'s'"
      ]
     },
     "execution_count": 10,
     "metadata": {},
     "output_type": "execute_result"
    }
   ],
   "source": [
    "mystr[1:0:-1]"
   ]
  },
  {
   "cell_type": "code",
   "execution_count": 11,
   "id": "3a06b5c2-2505-4e19-a31f-271a6edd321b",
   "metadata": {},
   "outputs": [
    {
     "data": {
      "text/plain": [
       "'USAMA'"
      ]
     },
     "execution_count": 11,
     "metadata": {},
     "output_type": "execute_result"
    }
   ],
   "source": [
    "mystr.upper()"
   ]
  },
  {
   "cell_type": "code",
   "execution_count": 13,
   "id": "3734f6bc-b38d-408b-9bb3-a238965abc39",
   "metadata": {},
   "outputs": [
    {
     "data": {
      "text/plain": [
       "('Usama', 'usama')"
      ]
     },
     "execution_count": 13,
     "metadata": {},
     "output_type": "execute_result"
    }
   ],
   "source": [
    "mystr.capitalize(), mystr.lower()"
   ]
  },
  {
   "cell_type": "code",
   "execution_count": 16,
   "id": "baaf34a0-55b9-4e49-9fb4-2ce185899055",
   "metadata": {},
   "outputs": [
    {
     "data": {
      "text/plain": [
       "'usamausamausamausamausamausamausamausamausamausama'"
      ]
     },
     "execution_count": 16,
     "metadata": {},
     "output_type": "execute_result"
    }
   ],
   "source": [
    "mystr*10"
   ]
  },
  {
   "cell_type": "code",
   "execution_count": 18,
   "id": "e27344db-8c6c-43da-b051-3bc357112fc5",
   "metadata": {},
   "outputs": [
    {
     "data": {
      "text/plain": [
       "True"
      ]
     },
     "execution_count": 18,
     "metadata": {},
     "output_type": "execute_result"
    }
   ],
   "source": [
    "mystr in 'usama'"
   ]
  },
  {
   "cell_type": "code",
   "execution_count": null,
   "id": "f320a529-7ad4-4ca2-af7d-8a198fc20be2",
   "metadata": {},
   "outputs": [],
   "source": []
  },
  {
   "cell_type": "code",
   "execution_count": null,
   "id": "b086e9ce-4ef7-473d-b8c4-434168adc13f",
   "metadata": {},
   "outputs": [],
   "source": []
  },
  {
   "cell_type": "code",
   "execution_count": null,
   "id": "933063e2-fa33-45af-be62-65a4857cf8ec",
   "metadata": {},
   "outputs": [],
   "source": []
  },
  {
   "cell_type": "code",
   "execution_count": 23,
   "id": "a06c77d5-6a8e-4079-bb37-9b70f77592f6",
   "metadata": {},
   "outputs": [
    {
     "data": {
      "text/plain": [
       "('u', 's', 'a', 'm', 'a')"
      ]
     },
     "execution_count": 23,
     "metadata": {},
     "output_type": "execute_result"
    }
   ],
   "source": [
    "mystr='usama'\n",
    "a, b, c, d, e = mystr\n",
    "a,b,c,d,e"
   ]
  },
  {
   "cell_type": "code",
   "execution_count": 24,
   "id": "41f75a76-a500-4559-a626-8cf112197c9f",
   "metadata": {},
   "outputs": [
    {
     "data": {
      "text/plain": [
       "('u', 's')"
      ]
     },
     "execution_count": 24,
     "metadata": {},
     "output_type": "execute_result"
    }
   ],
   "source": [
    "mystr='usama'\n",
    "a, b, *_ = mystr\n",
    "a,b"
   ]
  },
  {
   "cell_type": "code",
   "execution_count": null,
   "id": "9e5b759f-acfb-44fe-b66d-b16708fa05fa",
   "metadata": {},
   "outputs": [],
   "source": []
  },
  {
   "cell_type": "code",
   "execution_count": null,
   "id": "b3b47cbd-f392-4357-8d8f-a6690da2ea94",
   "metadata": {},
   "outputs": [],
   "source": []
  },
  {
   "cell_type": "code",
   "execution_count": null,
   "id": "9a43b6de-6b93-4ef2-9a87-2aab93b31725",
   "metadata": {},
   "outputs": [],
   "source": []
  },
  {
   "cell_type": "code",
   "execution_count": 27,
   "id": "521fc284-6130-484e-b799-8e4b5ed8e103",
   "metadata": {},
   "outputs": [
    {
     "data": {
      "text/plain": [
       "['u', 's', 'a', 'm', 'a']"
      ]
     },
     "execution_count": 27,
     "metadata": {},
     "output_type": "execute_result"
    }
   ],
   "source": [
    "mystr='usama'\n",
    "list(mystr)"
   ]
  },
  {
   "cell_type": "code",
   "execution_count": null,
   "id": "94686c15-1b26-40a2-8e90-74242ae28d7b",
   "metadata": {},
   "outputs": [],
   "source": []
  },
  {
   "cell_type": "code",
   "execution_count": null,
   "id": "33f5ae5b-99fa-4bb5-9847-3b93259edbf4",
   "metadata": {},
   "outputs": [],
   "source": []
  },
  {
   "cell_type": "code",
   "execution_count": null,
   "id": "0855cdaf-dc31-4f2c-b4ea-2ac409c3dad3",
   "metadata": {},
   "outputs": [],
   "source": []
  },
  {
   "cell_type": "code",
   "execution_count": 28,
   "id": "de3e5bab-1dd8-4eaa-9a1f-9e8439f2c3ac",
   "metadata": {},
   "outputs": [
    {
     "data": {
      "text/plain": [
       "'abc'"
      ]
     },
     "execution_count": 28,
     "metadata": {},
     "output_type": "execute_result"
    }
   ],
   "source": [
    "ls = ['a','b','c']\n",
    "''.join(ls)"
   ]
  },
  {
   "cell_type": "code",
   "execution_count": null,
   "id": "0ff3213a-d5b3-4af7-bc0b-b1907d20e476",
   "metadata": {},
   "outputs": [],
   "source": []
  },
  {
   "cell_type": "code",
   "execution_count": null,
   "id": "967a71a7-cfa3-481c-afc7-09fc2bcb7812",
   "metadata": {},
   "outputs": [],
   "source": []
  },
  {
   "cell_type": "code",
   "execution_count": null,
   "id": "70634c50-6d12-4b20-a0ba-6936d03665dd",
   "metadata": {},
   "outputs": [],
   "source": []
  },
  {
   "cell_type": "code",
   "execution_count": 29,
   "id": "dab344e2-4413-474f-b02e-577845185fd0",
   "metadata": {},
   "outputs": [
    {
     "data": {
      "text/plain": [
       "'f'"
      ]
     },
     "execution_count": 29,
     "metadata": {},
     "output_type": "execute_result"
    }
   ],
   "source": [
    "max('aSdf')"
   ]
  }
 ],
 "metadata": {
  "kernelspec": {
   "display_name": "Python 3 (ipykernel)",
   "language": "python",
   "name": "python3"
  },
  "language_info": {
   "codemirror_mode": {
    "name": "ipython",
    "version": 3
   },
   "file_extension": ".py",
   "mimetype": "text/x-python",
   "name": "python",
   "nbconvert_exporter": "python",
   "pygments_lexer": "ipython3",
   "version": "3.9.7"
  }
 },
 "nbformat": 4,
 "nbformat_minor": 5
}
