{
 "cells": [
  {
   "cell_type": "code",
   "execution_count": 1,
   "id": "afc39a4e-220d-4073-9f7b-df68e6e3f51b",
   "metadata": {},
   "outputs": [],
   "source": [
    "mystr='usama'"
   ]
  },
  {
   "cell_type": "code",
   "execution_count": 3,
   "id": "c03f4965-93a3-4283-983c-1910f12f4d39",
   "metadata": {},
   "outputs": [
    {
     "data": {
      "text/plain": [
       "'usama'"
      ]
     },
     "execution_count": 3,
     "metadata": {},
     "output_type": "execute_result"
    }
   ],
   "source": [
    "mystr[:]"
   ]
  },
  {
   "cell_type": "code",
   "execution_count": 7,
   "id": "5c48fac7-1c81-44d2-a2b4-5ed1b9339c4b",
   "metadata": {},
   "outputs": [
    {
     "data": {
      "text/plain": [
       "'amasu'"
      ]
     },
     "execution_count": 7,
     "metadata": {},
     "output_type": "execute_result"
    }
   ],
   "source": [
    "mystr[::-1]"
   ]
  },
  {
   "cell_type": "code",
   "execution_count": 6,
   "id": "b4bf0b2b-1953-4e20-983e-ff7c9cf09f0b",
   "metadata": {},
   "outputs": [
    {
     "data": {
      "text/plain": [
       "'su'"
      ]
     },
     "execution_count": 6,
     "metadata": {},
     "output_type": "execute_result"
    }
   ],
   "source": [
    "mystr[1::-1]"
   ]
  },
  {
   "cell_type": "code",
   "execution_count": 10,
   "id": "b65441dc-49e8-4323-818d-ba36f00e4ac6",
   "metadata": {},
   "outputs": [
    {
     "data": {
      "text/plain": [
       "'s'"
      ]
     },
     "execution_count": 10,
     "metadata": {},
     "output_type": "execute_result"
    }
   ],
   "source": [
    "mystr[1:0:-1]"
   ]
  },
  {
   "cell_type": "code",
   "execution_count": 11,
   "id": "3a06b5c2-2505-4e19-a31f-271a6edd321b",
   "metadata": {},
   "outputs": [
    {
     "data": {
      "text/plain": [
       "'USAMA'"
      ]
     },
     "execution_count": 11,
     "metadata": {},
     "output_type": "execute_result"
    }
   ],
   "source": [
    "mystr.upper()"
   ]
  },
  {
   "cell_type": "code",
   "execution_count": 13,
   "id": "3734f6bc-b38d-408b-9bb3-a238965abc39",
   "metadata": {},
   "outputs": [
    {
     "data": {
      "text/plain": [
       "('Usama', 'usama')"
      ]
     },
     "execution_count": 13,
     "metadata": {},
     "output_type": "execute_result"
    }
   ],
   "source": [
    "mystr.capitalize(), mystr.lower()"
   ]
  },
  {
   "cell_type": "code",
   "execution_count": 16,
   "id": "baaf34a0-55b9-4e49-9fb4-2ce185899055",
   "metadata": {},
   "outputs": [
    {
     "data": {
      "text/plain": [
       "'usamausamausamausamausamausamausamausamausamausama'"
      ]
     },
     "execution_count": 16,
     "metadata": {},
     "output_type": "execute_result"
    }
   ],
   "source": [
    "mystr*10"
   ]
  },
  {
   "cell_type": "code",
   "execution_count": 18,
   "id": "e27344db-8c6c-43da-b051-3bc357112fc5",
   "metadata": {},
   "outputs": [
    {
     "data": {
      "text/plain": [
       "True"
      ]
     },
     "execution_count": 18,
     "metadata": {},
     "output_type": "execute_result"
    }
   ],
   "source": [
    "mystr in 'usama'"
   ]
  }
 ],
 "metadata": {
  "kernelspec": {
   "display_name": "Python 3 (ipykernel)",
   "language": "python",
   "name": "python3"
  },
  "language_info": {
   "codemirror_mode": {
    "name": "ipython",
    "version": 3
   },
   "file_extension": ".py",
   "mimetype": "text/x-python",
   "name": "python",
   "nbconvert_exporter": "python",
   "pygments_lexer": "ipython3",
   "version": "3.9.7"
  }
 },
 "nbformat": 4,
 "nbformat_minor": 5
}
