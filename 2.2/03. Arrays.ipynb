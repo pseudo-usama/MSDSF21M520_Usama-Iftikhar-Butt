{
 "cells": [
  {
   "cell_type": "code",
   "execution_count": 2,
   "id": "7441a611-e803-49f4-b8d4-e378cd418b91",
   "metadata": {},
   "outputs": [],
   "source": [
    "import array"
   ]
  },
  {
   "cell_type": "code",
   "execution_count": 8,
   "id": "d2403fdf-bd98-49a8-bda2-fd3881e759f8",
   "metadata": {},
   "outputs": [],
   "source": [
    "arr = array.array('b', [1,2,3,4])"
   ]
  },
  {
   "cell_type": "code",
   "execution_count": 9,
   "id": "265fabea-335f-4abe-823b-1982cf5983bd",
   "metadata": {},
   "outputs": [
    {
     "data": {
      "text/plain": [
       "2"
      ]
     },
     "execution_count": 9,
     "metadata": {},
     "output_type": "execute_result"
    }
   ],
   "source": [
    "arr[1]"
   ]
  },
  {
   "cell_type": "code",
   "execution_count": 11,
   "id": "252a354f-e56a-471a-96c3-ffb3d0f0c3f5",
   "metadata": {},
   "outputs": [
    {
     "data": {
      "text/plain": [
       "array.array"
      ]
     },
     "execution_count": 11,
     "metadata": {},
     "output_type": "execute_result"
    }
   ],
   "source": [
    "type(arr)"
   ]
  },
  {
   "cell_type": "code",
   "execution_count": 12,
   "id": "c625ea26-6b00-4cdb-9c53-e40d00054ea9",
   "metadata": {},
   "outputs": [
    {
     "data": {
      "text/plain": [
       "int"
      ]
     },
     "execution_count": 12,
     "metadata": {},
     "output_type": "execute_result"
    }
   ],
   "source": [
    "type(arr[0])"
   ]
  },
  {
   "cell_type": "code",
   "execution_count": 22,
   "id": "711ef21b-47ba-44ee-9d43-5fd731ddb999",
   "metadata": {},
   "outputs": [
    {
     "data": {
      "text/plain": [
       "array('b', [1, 2, 3, 4, 1, 1, 1, 1, 1, 3, 1, 1, 3])"
      ]
     },
     "execution_count": 22,
     "metadata": {},
     "output_type": "execute_result"
    }
   ],
   "source": [
    "arr.extend([1, 3])\n",
    "arr"
   ]
  },
  {
   "cell_type": "code",
   "execution_count": null,
   "id": "eae78e3e-4b3c-498a-b4c6-8bb4cc5ba236",
   "metadata": {},
   "outputs": [],
   "source": []
  },
  {
   "cell_type": "code",
   "execution_count": 24,
   "id": "8ba25344-0b56-411c-830d-581749c8100c",
   "metadata": {},
   "outputs": [
    {
     "data": {
      "text/plain": [
       "(array('b', [1, 2, 99, 5]), array('b', [1, 2, 99, 5]))"
      ]
     },
     "execution_count": 24,
     "metadata": {},
     "output_type": "execute_result"
    }
   ],
   "source": [
    "arr = array.array('b', [1, 2, 3, 5])\n",
    "arr2 = arr\n",
    "arr2[2] = 99\n",
    "arr, arr2"
   ]
  },
  {
   "cell_type": "code",
   "execution_count": null,
   "id": "396e80d8-fb56-4e26-beb0-feee6df93c22",
   "metadata": {},
   "outputs": [],
   "source": []
  }
 ],
 "metadata": {
  "kernelspec": {
   "display_name": "Python 3 (ipykernel)",
   "language": "python",
   "name": "python3"
  },
  "language_info": {
   "codemirror_mode": {
    "name": "ipython",
    "version": 3
   },
   "file_extension": ".py",
   "mimetype": "text/x-python",
   "name": "python",
   "nbconvert_exporter": "python",
   "pygments_lexer": "ipython3",
   "version": "3.9.7"
  }
 },
 "nbformat": 4,
 "nbformat_minor": 5
}
