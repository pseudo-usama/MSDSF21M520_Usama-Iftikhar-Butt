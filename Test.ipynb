{
 "cells": [
  {
   "cell_type": "code",
   "execution_count": 4,
   "id": "9ca19493-15d5-480f-9035-b08d921db35b",
   "metadata": {},
   "outputs": [],
   "source": [
    "def fn(a, b, /, c):\n",
    "    pass"
   ]
  },
  {
   "cell_type": "code",
   "execution_count": 91,
   "id": "ef351931-9973-496a-ba1f-a2803fb57665",
   "metadata": {},
   "outputs": [],
   "source": [
    "class c:\n",
    "    def fn():\n",
    "        pass"
   ]
  },
  {
   "cell_type": "code",
   "execution_count": 102,
   "id": "02f94be6-1254-4a63-bfc9-d4f89484af75",
   "metadata": {},
   "outputs": [
    {
     "data": {
      "text/plain": [
       "<function __main__.c.fn()>"
      ]
     },
     "execution_count": 102,
     "metadata": {},
     "output_type": "execute_result"
    }
   ],
   "source": [
    "obj = c()\n",
    "obj.fn.__func__"
   ]
  },
  {
   "cell_type": "code",
   "execution_count": 103,
   "id": "820961c1-337b-44c8-a451-3f98f444c385",
   "metadata": {},
   "outputs": [
    {
     "data": {
      "text/plain": [
       "<bound method c.fn of <__main__.c object at 0x000001BA19E6B130>>"
      ]
     },
     "execution_count": 103,
     "metadata": {},
     "output_type": "execute_result"
    }
   ],
   "source": [
    "obj.fn"
   ]
  },
  {
   "cell_type": "code",
   "execution_count": 106,
   "id": "5cea328b-606e-4057-9092-6a6a5286b075",
   "metadata": {},
   "outputs": [
    {
     "data": {
      "text/plain": [
       "False"
      ]
     },
     "execution_count": 106,
     "metadata": {},
     "output_type": "execute_result"
    }
   ],
   "source": [
    "obj.fn is obj.fn.__func__"
   ]
  },
  {
   "cell_type": "code",
   "execution_count": null,
   "id": "abb0565c-d793-48c6-9596-e13bad295d8f",
   "metadata": {},
   "outputs": [],
   "source": []
  },
  {
   "cell_type": "code",
   "execution_count": 47,
   "id": "2df21e65-5e5f-44c5-ad27-589e3b913121",
   "metadata": {},
   "outputs": [
    {
     "data": {
      "text/plain": [
       "[]"
      ]
     },
     "execution_count": 47,
     "metadata": {},
     "output_type": "execute_result"
    }
   ],
   "source": [
    "0 or []"
   ]
  },
  {
   "cell_type": "code",
   "execution_count": 45,
   "id": "ddb9387d-323e-4997-be8e-74ce962c55ab",
   "metadata": {},
   "outputs": [
    {
     "data": {
      "text/plain": [
       "0"
      ]
     },
     "execution_count": 45,
     "metadata": {},
     "output_type": "execute_result"
    }
   ],
   "source": [
    "0 and 0"
   ]
  },
  {
   "cell_type": "code",
   "execution_count": 7,
   "id": "40042823-4c63-478c-8aaa-8d4e5bfb0ecb",
   "metadata": {},
   "outputs": [
    {
     "ename": "SyntaxError",
     "evalue": "positional argument follows keyword argument (DELLTE~1/ipykernel_13164/3486495555.py, line 1)",
     "output_type": "error",
     "traceback": [
      "\u001b[1;36m  File \u001b[1;32m\"F:\\else\\Windows\\DELLTE~1/ipykernel_13164/3486495555.py\"\u001b[1;36m, line \u001b[1;32m1\u001b[0m\n\u001b[1;33m    fn(c=1, 1, 2)\u001b[0m\n\u001b[1;37m                ^\u001b[0m\n\u001b[1;31mSyntaxError\u001b[0m\u001b[1;31m:\u001b[0m positional argument follows keyword argument\n"
     ]
    }
   ],
   "source": [
    "fn(c=1, 1, 2)"
   ]
  },
  {
   "cell_type": "code",
   "execution_count": 86,
   "id": "ffc31d27-3c00-4180-9b73-5f47d18136fc",
   "metadata": {},
   "outputs": [],
   "source": [
    "def fn():\n",
    "    pass"
   ]
  },
  {
   "cell_type": "code",
   "execution_count": 89,
   "id": "1df4609b-cc83-4ff4-bc00-c36a502d79e8",
   "metadata": {},
   "outputs": [
    {
     "data": {
      "text/plain": [
       "function"
      ]
     },
     "execution_count": 89,
     "metadata": {},
     "output_type": "execute_result"
    }
   ],
   "source": [
    "type(fn)"
   ]
  },
  {
   "cell_type": "code",
   "execution_count": null,
   "id": "7b4b5ea0-d46f-4678-b330-6526f5897dd1",
   "metadata": {},
   "outputs": [],
   "source": []
  },
  {
   "cell_type": "code",
   "execution_count": null,
   "id": "35e65ec6-0ba3-4f32-a9f7-49848b5477ed",
   "metadata": {},
   "outputs": [],
   "source": []
  },
  {
   "cell_type": "code",
   "execution_count": 78,
   "id": "60908883-560d-4c37-bbfc-cc98995271d8",
   "metadata": {},
   "outputs": [],
   "source": [
    "def fn(b):pass"
   ]
  },
  {
   "cell_type": "code",
   "execution_count": 79,
   "id": "92a1a148-ff11-432e-938c-1becbbbe3869",
   "metadata": {},
   "outputs": [
    {
     "data": {
      "text/plain": [
       "118675625436"
      ]
     },
     "execution_count": 79,
     "metadata": {},
     "output_type": "execute_result"
    }
   ],
   "source": [
    "hash(fn)"
   ]
  },
  {
   "cell_type": "code",
   "execution_count": 83,
   "id": "1c3eaa49-fb99-4a47-8367-07bf97e10d5a",
   "metadata": {},
   "outputs": [
    {
     "data": {
      "text/plain": [
       "-943405411007546959"
      ]
     },
     "execution_count": 83,
     "metadata": {},
     "output_type": "execute_result"
    }
   ],
   "source": [
    "hash('a')"
   ]
  },
  {
   "cell_type": "code",
   "execution_count": 85,
   "id": "a99af2ef-db84-49e9-9f0f-b2a14ac67ab6",
   "metadata": {},
   "outputs": [
    {
     "data": {
      "text/plain": [
       "True"
      ]
     },
     "execution_count": 85,
     "metadata": {},
     "output_type": "execute_result"
    }
   ],
   "source": [
    "hash(-943405411007546959) == hash('a')"
   ]
  },
  {
   "cell_type": "code",
   "execution_count": null,
   "id": "7618ffa1-deb6-4493-a846-c928fc66fee3",
   "metadata": {},
   "outputs": [],
   "source": []
  },
  {
   "cell_type": "code",
   "execution_count": null,
   "id": "106679a2-b310-42af-b8cc-ce53fd7568b7",
   "metadata": {},
   "outputs": [],
   "source": []
  },
  {
   "cell_type": "code",
   "execution_count": null,
   "id": "baa76be1-0b27-4522-824d-797ce7f82712",
   "metadata": {},
   "outputs": [],
   "source": []
  },
  {
   "cell_type": "code",
   "execution_count": 129,
   "id": "e187e1b3-6f61-480e-9e23-ea4ad92a6712",
   "metadata": {},
   "outputs": [
    {
     "name": "stdout",
     "output_type": "stream",
     "text": [
      "[]\n"
     ]
    }
   ],
   "source": [
    "asdf=1\n",
    "def fn():\n",
    "    global asdf\n",
    "    print(dir())\n",
    "fn()"
   ]
  },
  {
   "cell_type": "code",
   "execution_count": null,
   "id": "ed2d8835-3b9f-469b-8741-b97391b8a5d4",
   "metadata": {},
   "outputs": [],
   "source": []
  },
  {
   "cell_type": "code",
   "execution_count": null,
   "id": "d5fa984e-9aa5-4b75-bc43-bddf824501ba",
   "metadata": {},
   "outputs": [],
   "source": []
  },
  {
   "cell_type": "code",
   "execution_count": null,
   "id": "b0015c25-2ec6-4013-ac69-8f9feef04f18",
   "metadata": {},
   "outputs": [],
   "source": []
  },
  {
   "cell_type": "code",
   "execution_count": null,
   "id": "146d8a43-e3df-4f42-8ae6-bbd6d4510744",
   "metadata": {},
   "outputs": [],
   "source": []
  },
  {
   "cell_type": "code",
   "execution_count": null,
   "id": "a69e8a39-73b7-4816-857e-d92b3c1abb72",
   "metadata": {},
   "outputs": [],
   "source": []
  },
  {
   "cell_type": "code",
   "execution_count": 130,
   "id": "f6456ceb-e0e7-4223-bd6b-cdca10d99d86",
   "metadata": {},
   "outputs": [
    {
     "data": {
      "text/plain": [
       "<list_iterator at 0x1ba19d5c9d0>"
      ]
     },
     "execution_count": 130,
     "metadata": {},
     "output_type": "execute_result"
    }
   ],
   "source": [
    "iter([1, 2, 3, 5])"
   ]
  },
  {
   "cell_type": "code",
   "execution_count": null,
   "id": "c2a37f91-0820-4734-9c8b-5ded206b57d6",
   "metadata": {},
   "outputs": [],
   "source": []
  },
  {
   "cell_type": "code",
   "execution_count": null,
   "id": "eb0dfb32-8b0a-4f00-86bc-0951ef2300e7",
   "metadata": {},
   "outputs": [],
   "source": []
  },
  {
   "cell_type": "code",
   "execution_count": null,
   "id": "35c0d6b6-8303-4ffa-b173-2388983e074e",
   "metadata": {},
   "outputs": [],
   "source": []
  },
  {
   "cell_type": "code",
   "execution_count": null,
   "id": "ceb3febf-49c4-4a9a-9274-5cbb837e064b",
   "metadata": {},
   "outputs": [],
   "source": []
  },
  {
   "cell_type": "code",
   "execution_count": 1,
   "id": "bfef5f61-7652-4233-9fde-1663be76381d",
   "metadata": {},
   "outputs": [],
   "source": [
    "import numpy as np"
   ]
  },
  {
   "cell_type": "code",
   "execution_count": 5,
   "id": "a279c11c-7581-4b44-9de3-8e282f6d124d",
   "metadata": {},
   "outputs": [
    {
     "ename": "TypeError",
     "evalue": "list indices must be integers or slices, not tuple",
     "output_type": "error",
     "traceback": [
      "\u001b[1;31m---------------------------------------------------------------------------\u001b[0m",
      "\u001b[1;31mTypeError\u001b[0m                                 Traceback (most recent call last)",
      "\u001b[1;32mF:\\else\\Windows\\DELLTE~1/ipykernel_5256/2717259937.py\u001b[0m in \u001b[0;36m<module>\u001b[1;34m\u001b[0m\n\u001b[0;32m      1\u001b[0m \u001b[0mls\u001b[0m \u001b[1;33m=\u001b[0m \u001b[1;33m[\u001b[0m\u001b[1;36m1\u001b[0m\u001b[1;33m,\u001b[0m \u001b[1;36m2\u001b[0m\u001b[1;33m,\u001b[0m \u001b[1;33m[\u001b[0m\u001b[1;34m'a'\u001b[0m\u001b[1;33m,\u001b[0m \u001b[1;34m'b'\u001b[0m\u001b[1;33m]\u001b[0m\u001b[1;33m,\u001b[0m \u001b[1;36m3\u001b[0m\u001b[1;33m,\u001b[0m \u001b[1;36m4\u001b[0m\u001b[1;33m]\u001b[0m\u001b[1;33m\u001b[0m\u001b[1;33m\u001b[0m\u001b[0m\n\u001b[1;32m----> 2\u001b[1;33m \u001b[0mls\u001b[0m\u001b[1;33m[\u001b[0m\u001b[1;36m2\u001b[0m\u001b[1;33m,\u001b[0m \u001b[1;36m0\u001b[0m\u001b[1;33m]\u001b[0m\u001b[1;33m\u001b[0m\u001b[1;33m\u001b[0m\u001b[0m\n\u001b[0m",
      "\u001b[1;31mTypeError\u001b[0m: list indices must be integers or slices, not tuple"
     ]
    }
   ],
   "source": [
    "ls = [1, 2, ['a', 'b'], 3, 4]\n",
    "ls[2, 0]"
   ]
  },
  {
   "cell_type": "code",
   "execution_count": null,
   "id": "45410564-519a-4c4c-be2b-f9a5e55d9e37",
   "metadata": {},
   "outputs": [],
   "source": []
  },
  {
   "cell_type": "code",
   "execution_count": null,
   "id": "aedd1388-1a66-41ba-81c1-7f298d990dc6",
   "metadata": {},
   "outputs": [],
   "source": []
  },
  {
   "cell_type": "code",
   "execution_count": null,
   "id": "84bd5e55-0fb1-4bea-b0d4-69f08b2841c3",
   "metadata": {},
   "outputs": [],
   "source": []
  },
  {
   "cell_type": "code",
   "execution_count": null,
   "id": "9938fd4b-3f4e-457a-bb76-8073be1ccb33",
   "metadata": {},
   "outputs": [],
   "source": []
  },
  {
   "cell_type": "code",
   "execution_count": 27,
   "id": "737220ef-2828-4088-9778-ae19ac94e2a7",
   "metadata": {},
   "outputs": [
    {
     "data": {
      "text/plain": [
       "'654321'"
      ]
     },
     "execution_count": 27,
     "metadata": {},
     "output_type": "execute_result"
    }
   ],
   "source": [
    "string = '0123456'\n",
    "string[-1:0:-1]"
   ]
  },
  {
   "cell_type": "code",
   "execution_count": null,
   "id": "61b3a02e-e567-414f-a7bb-8ff30514c9df",
   "metadata": {},
   "outputs": [],
   "source": []
  },
  {
   "cell_type": "code",
   "execution_count": null,
   "id": "67175474-098e-4ba3-9cf5-758a2b527801",
   "metadata": {},
   "outputs": [],
   "source": []
  },
  {
   "cell_type": "code",
   "execution_count": null,
   "id": "22e772d9-2bd8-4dd0-bf25-dc8e94684b00",
   "metadata": {},
   "outputs": [],
   "source": []
  },
  {
   "cell_type": "code",
   "execution_count": null,
   "id": "5d122f2c-9c2c-4285-9a96-d21e831c12af",
   "metadata": {},
   "outputs": [],
   "source": []
  },
  {
   "cell_type": "code",
   "execution_count": null,
   "id": "b156fdd0-5594-4fc3-bbda-00e5589cc840",
   "metadata": {},
   "outputs": [],
   "source": []
  },
  {
   "cell_type": "code",
   "execution_count": 1,
   "id": "02379b34-5d20-4a6c-af5c-2627a864dd49",
   "metadata": {},
   "outputs": [],
   "source": [
    "import numpy as np"
   ]
  },
  {
   "cell_type": "code",
   "execution_count": 3,
   "id": "e275b99f-7cad-46a5-bcf6-2a1bae5e6e08",
   "metadata": {},
   "outputs": [],
   "source": [
    "arr = np.array([1,2,3,4,5,6])"
   ]
  },
  {
   "cell_type": "code",
   "execution_count": 4,
   "id": "07d5be47-a7ce-4bf5-b57a-c56e608fe9c0",
   "metadata": {},
   "outputs": [],
   "source": [
    "arr.shape = (2,3)"
   ]
  },
  {
   "cell_type": "code",
   "execution_count": 5,
   "id": "4c574c55-824e-433a-a99c-84c61c78239f",
   "metadata": {},
   "outputs": [
    {
     "data": {
      "text/plain": [
       "array([[1, 2, 3],\n",
       "       [4, 5, 6]])"
      ]
     },
     "execution_count": 5,
     "metadata": {},
     "output_type": "execute_result"
    }
   ],
   "source": [
    "arr"
   ]
  },
  {
   "cell_type": "code",
   "execution_count": null,
   "id": "bea54448-b7de-4603-a030-34ae8ff6a0aa",
   "metadata": {},
   "outputs": [],
   "source": []
  },
  {
   "cell_type": "code",
   "execution_count": null,
   "id": "e7df6f14-603a-4b12-b6e0-5466b91f6c34",
   "metadata": {},
   "outputs": [],
   "source": []
  },
  {
   "cell_type": "code",
   "execution_count": 6,
   "id": "1af10c31-4d65-41fd-a908-3bda9d807362",
   "metadata": {},
   "outputs": [],
   "source": [
    "arr = np.array([1,2,3,4,5,6])"
   ]
  },
  {
   "cell_type": "code",
   "execution_count": 8,
   "id": "afcf8a00-f1f7-4c39-9871-564b6d4cb5d0",
   "metadata": {},
   "outputs": [],
   "source": [
    "arr2 = np.reshape(arr, (2,3))"
   ]
  },
  {
   "cell_type": "code",
   "execution_count": 9,
   "id": "2a4bf343-c9e0-4300-81ab-d0ba2c0e5038",
   "metadata": {},
   "outputs": [
    {
     "data": {
      "text/plain": [
       "array([1, 2, 3, 4, 5, 6])"
      ]
     },
     "execution_count": 9,
     "metadata": {},
     "output_type": "execute_result"
    }
   ],
   "source": [
    "arr"
   ]
  },
  {
   "cell_type": "code",
   "execution_count": 10,
   "id": "4f21a82b-e773-402f-9e67-ccaa1f6f0b2e",
   "metadata": {},
   "outputs": [
    {
     "data": {
      "text/plain": [
       "array([[1, 2, 3],\n",
       "       [4, 5, 6]])"
      ]
     },
     "execution_count": 10,
     "metadata": {},
     "output_type": "execute_result"
    }
   ],
   "source": [
    "arr2"
   ]
  },
  {
   "cell_type": "code",
   "execution_count": 11,
   "id": "d8077ed5-260b-4798-893b-15d15328beea",
   "metadata": {},
   "outputs": [],
   "source": [
    "arr[0] = 99"
   ]
  },
  {
   "cell_type": "code",
   "execution_count": 12,
   "id": "f6474fed-4f61-4e38-b7c4-f16cde9494c8",
   "metadata": {},
   "outputs": [
    {
     "data": {
      "text/plain": [
       "array([99,  2,  3,  4,  5,  6])"
      ]
     },
     "execution_count": 12,
     "metadata": {},
     "output_type": "execute_result"
    }
   ],
   "source": [
    "arr"
   ]
  },
  {
   "cell_type": "code",
   "execution_count": 13,
   "id": "7ba19d6a-71b6-4fdd-bed1-542924818fcd",
   "metadata": {},
   "outputs": [
    {
     "data": {
      "text/plain": [
       "array([[99,  2,  3],\n",
       "       [ 4,  5,  6]])"
      ]
     },
     "execution_count": 13,
     "metadata": {},
     "output_type": "execute_result"
    }
   ],
   "source": [
    "arr2"
   ]
  },
  {
   "cell_type": "code",
   "execution_count": null,
   "id": "935c08b6-df52-4590-a966-1a3ddcbd04d6",
   "metadata": {},
   "outputs": [],
   "source": []
  },
  {
   "cell_type": "code",
   "execution_count": null,
   "id": "bd9c3e1b-bdfd-4385-b766-36ff85ed379c",
   "metadata": {},
   "outputs": [],
   "source": []
  },
  {
   "cell_type": "code",
   "execution_count": null,
   "id": "dec432cd-841e-418f-b268-dc26f62f89bf",
   "metadata": {},
   "outputs": [],
   "source": []
  },
  {
   "cell_type": "code",
   "execution_count": 14,
   "id": "a6fd1690-fdd8-4de6-b6a4-fe879876ed18",
   "metadata": {},
   "outputs": [],
   "source": [
    "arr  = np.array([1,2,3,4,5,6])"
   ]
  },
  {
   "cell_type": "code",
   "execution_count": 16,
   "id": "264fb865-a11c-4dc4-b140-1a79a8a8f748",
   "metadata": {},
   "outputs": [],
   "source": [
    "arr2 = np.resize(arr, (2,3))"
   ]
  },
  {
   "cell_type": "code",
   "execution_count": 17,
   "id": "5cb0ea5b-5686-45ed-be56-1cd1c84eb316",
   "metadata": {},
   "outputs": [],
   "source": [
    "arr[0]=99"
   ]
  },
  {
   "cell_type": "code",
   "execution_count": 18,
   "id": "733e95bf-efda-4bd5-b7b8-ddd87a297371",
   "metadata": {},
   "outputs": [
    {
     "data": {
      "text/plain": [
       "array([99,  2,  3,  4,  5,  6])"
      ]
     },
     "execution_count": 18,
     "metadata": {},
     "output_type": "execute_result"
    }
   ],
   "source": [
    "arr"
   ]
  },
  {
   "cell_type": "code",
   "execution_count": 19,
   "id": "b56ec162-a711-4499-a7b6-9ac1f231a68d",
   "metadata": {},
   "outputs": [
    {
     "data": {
      "text/plain": [
       "array([[1, 2, 3],\n",
       "       [4, 5, 6]])"
      ]
     },
     "execution_count": 19,
     "metadata": {},
     "output_type": "execute_result"
    }
   ],
   "source": [
    "arr2"
   ]
  },
  {
   "cell_type": "code",
   "execution_count": null,
   "id": "56629de5-aa0d-4bbf-9aa3-b814a4195fd0",
   "metadata": {},
   "outputs": [],
   "source": []
  },
  {
   "cell_type": "code",
   "execution_count": null,
   "id": "7dda8c7c-db3b-4719-bd65-1c835f05602f",
   "metadata": {},
   "outputs": [],
   "source": []
  },
  {
   "cell_type": "code",
   "execution_count": 24,
   "id": "4be6963c-0b64-4d12-846a-0046adc588ef",
   "metadata": {},
   "outputs": [],
   "source": [
    "arr = np.array([1,2,3,4,5,6])"
   ]
  },
  {
   "cell_type": "code",
   "execution_count": 25,
   "id": "0407c49d-a415-48a0-af0a-6aa5dd6d0725",
   "metadata": {},
   "outputs": [],
   "source": [
    "arr.resize((2,2))"
   ]
  },
  {
   "cell_type": "code",
   "execution_count": 26,
   "id": "1257f82b-aa17-4fdd-b55c-25e5cb51034d",
   "metadata": {},
   "outputs": [
    {
     "data": {
      "text/plain": [
       "array([[1, 2],\n",
       "       [3, 4]])"
      ]
     },
     "execution_count": 26,
     "metadata": {},
     "output_type": "execute_result"
    }
   ],
   "source": [
    "arr"
   ]
  },
  {
   "cell_type": "code",
   "execution_count": null,
   "id": "045ddfdf-0558-4cab-a959-0e9599440c17",
   "metadata": {},
   "outputs": [],
   "source": []
  },
  {
   "cell_type": "code",
   "execution_count": null,
   "id": "c0e5be4a-93e5-4027-9732-7958d0bd4bd8",
   "metadata": {},
   "outputs": [],
   "source": []
  },
  {
   "cell_type": "code",
   "execution_count": null,
   "id": "5f8557ce-c1b4-4def-ac4b-a7b6a6bd9df3",
   "metadata": {},
   "outputs": [],
   "source": []
  },
  {
   "cell_type": "code",
   "execution_count": 27,
   "id": "61257a70-93c2-4ecb-b097-74d424cbfe27",
   "metadata": {},
   "outputs": [],
   "source": [
    "arr = np.array([\n",
    "    [1,2,3],\n",
    "    [4,5,6],\n",
    "    [7,8,9]\n",
    "])"
   ]
  },
  {
   "cell_type": "code",
   "execution_count": 30,
   "id": "6c5964a0-b82d-42b4-8dd0-3c7af086ea1a",
   "metadata": {},
   "outputs": [
    {
     "data": {
      "text/plain": [
       "array([[1, 4, 7],\n",
       "       [2, 5, 8],\n",
       "       [3, 6, 9]])"
      ]
     },
     "execution_count": 30,
     "metadata": {},
     "output_type": "execute_result"
    }
   ],
   "source": [
    "np.transpose(arr)"
   ]
  },
  {
   "cell_type": "code",
   "execution_count": null,
   "id": "2e4ac29b-5b96-4915-b2ca-a78ede02589a",
   "metadata": {},
   "outputs": [],
   "source": [
    "np.transpose([\n",
    "    [\n",
    "        [1,2],\n",
    "        [4,5]\n",
    "    ],\n",
    "    [\n",
    "        [6,7],\n",
    "        [8,9]\n",
    "    ]\n",
    "])"
   ]
  },
  {
   "cell_type": "code",
   "execution_count": null,
   "id": "a8a4a3ae-d4f3-4ee4-9b3a-d9dd6f8348ab",
   "metadata": {},
   "outputs": [],
   "source": []
  },
  {
   "cell_type": "code",
   "execution_count": null,
   "id": "56351432-7f37-401c-860d-f143e445e84e",
   "metadata": {},
   "outputs": [],
   "source": []
  },
  {
   "cell_type": "code",
   "execution_count": 42,
   "id": "41837ef4-6484-4e7d-8e41-98965a53ee79",
   "metadata": {},
   "outputs": [
    {
     "data": {
      "text/plain": [
       "\u001b[1;31mSignature:\u001b[0m \u001b[0mnp\u001b[0m\u001b[1;33m.\u001b[0m\u001b[0mtranspose\u001b[0m\u001b[1;33m(\u001b[0m\u001b[0ma\u001b[0m\u001b[1;33m,\u001b[0m \u001b[0maxes\u001b[0m\u001b[1;33m=\u001b[0m\u001b[1;32mNone\u001b[0m\u001b[1;33m)\u001b[0m\u001b[1;33m\u001b[0m\u001b[1;33m\u001b[0m\u001b[0m\n",
       "\u001b[1;31mDocstring:\u001b[0m\n",
       "Reverse or permute the axes of an array; returns the modified array.\n",
       "\n",
       "For an array a with two axes, transpose(a) gives the matrix transpose.\n",
       "\n",
       "Parameters\n",
       "----------\n",
       "a : array_like\n",
       "    Input array.\n",
       "axes : tuple or list of ints, optional\n",
       "    If specified, it must be a tuple or list which contains a permutation of\n",
       "    [0,1,..,N-1] where N is the number of axes of a.  The i'th axis of the\n",
       "    returned array will correspond to the axis numbered ``axes[i]`` of the\n",
       "    input.  If not specified, defaults to ``range(a.ndim)[::-1]``, which\n",
       "    reverses the order of the axes.\n",
       "\n",
       "Returns\n",
       "-------\n",
       "p : ndarray\n",
       "    `a` with its axes permuted.  A view is returned whenever\n",
       "    possible.\n",
       "\n",
       "See Also\n",
       "--------\n",
       "moveaxis\n",
       "argsort\n",
       "\n",
       "Notes\n",
       "-----\n",
       "Use `transpose(a, argsort(axes))` to invert the transposition of tensors\n",
       "when using the `axes` keyword argument.\n",
       "\n",
       "Transposing a 1-D array returns an unchanged view of the original array.\n",
       "\n",
       "Examples\n",
       "--------\n",
       ">>> x = np.arange(4).reshape((2,2))\n",
       ">>> x\n",
       "array([[0, 1],\n",
       "       [2, 3]])\n",
       "\n",
       ">>> np.transpose(x)\n",
       "array([[0, 2],\n",
       "       [1, 3]])\n",
       "\n",
       ">>> x = np.ones((1, 2, 3))\n",
       ">>> np.transpose(x, (1, 0, 2)).shape\n",
       "(2, 1, 3)\n",
       "\n",
       ">>> x = np.ones((2, 3, 4, 5))\n",
       ">>> np.transpose(x).shape\n",
       "(5, 4, 3, 2)\n",
       "\u001b[1;31mFile:\u001b[0m      c:\\programdata\\anaconda3\\envs\\tools-and-techniques-in-data-science\\lib\\site-packages\\numpy\\core\\fromnumeric.py\n",
       "\u001b[1;31mType:\u001b[0m      function\n"
      ]
     },
     "metadata": {},
     "output_type": "display_data"
    }
   ],
   "source": [
    "np.transpose?"
   ]
  },
  {
   "cell_type": "code",
   "execution_count": null,
   "id": "c3bb8807-1e60-42d2-86a8-8c83ed017bd7",
   "metadata": {},
   "outputs": [],
   "source": [
    "np.ndarray.transpose?"
   ]
  },
  {
   "cell_type": "code",
   "execution_count": 66,
   "id": "e6cd99fd-3d76-494f-8c89-a4266758f3ca",
   "metadata": {},
   "outputs": [],
   "source": [
    "arr = np.array([[1,2,3]])"
   ]
  },
  {
   "cell_type": "code",
   "execution_count": 67,
   "id": "d3fad017-60e7-4530-97ce-e24c822763a1",
   "metadata": {},
   "outputs": [],
   "source": [
    "arr2 = np.transpose(arr)"
   ]
  },
  {
   "cell_type": "code",
   "execution_count": 68,
   "id": "96898055-bb46-4985-adf8-ec4e5a962354",
   "metadata": {},
   "outputs": [],
   "source": [
    "arr[0]=99"
   ]
  },
  {
   "cell_type": "code",
   "execution_count": 69,
   "id": "b3cf3cca-10c5-4bc8-946b-481ca8483096",
   "metadata": {},
   "outputs": [
    {
     "data": {
      "text/plain": [
       "array([[99, 99, 99]])"
      ]
     },
     "execution_count": 69,
     "metadata": {},
     "output_type": "execute_result"
    }
   ],
   "source": [
    "arr"
   ]
  },
  {
   "cell_type": "code",
   "execution_count": 70,
   "id": "f35b6a59-b6cb-4d81-9e37-b8ab7d05da61",
   "metadata": {},
   "outputs": [
    {
     "data": {
      "text/plain": [
       "array([[99],\n",
       "       [99],\n",
       "       [99]])"
      ]
     },
     "execution_count": 70,
     "metadata": {},
     "output_type": "execute_result"
    }
   ],
   "source": [
    "arr2"
   ]
  },
  {
   "cell_type": "code",
   "execution_count": 43,
   "id": "43b1c3ff-407a-44a3-ae2d-8d171fecb63b",
   "metadata": {},
   "outputs": [
    {
     "data": {
      "text/plain": [
       "array([99,  2,  3])"
      ]
     },
     "execution_count": 43,
     "metadata": {},
     "output_type": "execute_result"
    }
   ],
   "source": [
    "arr2.T"
   ]
  },
  {
   "cell_type": "code",
   "execution_count": null,
   "id": "8950b8bd-e407-4814-91ef-cfca2088e5cc",
   "metadata": {},
   "outputs": [],
   "source": []
  },
  {
   "cell_type": "code",
   "execution_count": null,
   "id": "a21551ed-ddee-45fc-8004-e1e4aebd643a",
   "metadata": {},
   "outputs": [],
   "source": []
  },
  {
   "cell_type": "code",
   "execution_count": null,
   "id": "ff8d40c8-8901-42fc-ab59-f1ad7673213c",
   "metadata": {},
   "outputs": [],
   "source": []
  },
  {
   "cell_type": "code",
   "execution_count": 46,
   "id": "1f6aff35-1d50-4912-adf3-73a1edace51d",
   "metadata": {},
   "outputs": [
    {
     "data": {
      "text/plain": [
       "array([[1, 2]])"
      ]
     },
     "execution_count": 46,
     "metadata": {},
     "output_type": "execute_result"
    }
   ],
   "source": [
    "np.swapaxes([[1],[2]], 0, 1)"
   ]
  },
  {
   "cell_type": "code",
   "execution_count": 51,
   "id": "e1cf9599-6923-48ff-9b2f-78410d95ff02",
   "metadata": {},
   "outputs": [
    {
     "data": {
      "text/plain": [
       "array([[[5, 3],\n",
       "        [4, 2]],\n",
       "\n",
       "       [[6, 8],\n",
       "        [7, 9]]])"
      ]
     },
     "execution_count": 51,
     "metadata": {},
     "output_type": "execute_result"
    }
   ],
   "source": [
    "np.swapaxes([\n",
    "    [\n",
    "        [5,4],\n",
    "        [3,2]\n",
    "    ],\n",
    "    [\n",
    "        [6,7],\n",
    "        [8,9]\n",
    "    ]\n",
    "], 2,1)"
   ]
  },
  {
   "cell_type": "code",
   "execution_count": 53,
   "id": "7fcd8df3-c4fa-47a1-b0c1-ce789b3bcabd",
   "metadata": {},
   "outputs": [],
   "source": [
    "arr = np.array([\n",
    "    [\n",
    "        [5,4],\n",
    "        [3,2]\n",
    "    ],\n",
    "    [\n",
    "        [6,7],\n",
    "        [8,9]\n",
    "    ]\n",
    "])"
   ]
  },
  {
   "cell_type": "code",
   "execution_count": 54,
   "id": "c1ff01aa-5dfc-4c23-9067-f0e78d73367f",
   "metadata": {},
   "outputs": [],
   "source": [
    "arr2 = np.swapaxes(arr, 0, 1)"
   ]
  },
  {
   "cell_type": "code",
   "execution_count": 55,
   "id": "f6d8c20d-7a1a-4928-8307-27e02079aa7c",
   "metadata": {},
   "outputs": [],
   "source": [
    "arr[0,0,0] = 99"
   ]
  },
  {
   "cell_type": "code",
   "execution_count": 56,
   "id": "00e3dc91-9dd3-4fe3-a5d6-26f5e5a29f32",
   "metadata": {},
   "outputs": [
    {
     "data": {
      "text/plain": [
       "array([[[99,  4],\n",
       "        [ 3,  2]],\n",
       "\n",
       "       [[ 6,  7],\n",
       "        [ 8,  9]]])"
      ]
     },
     "execution_count": 56,
     "metadata": {},
     "output_type": "execute_result"
    }
   ],
   "source": [
    "arr"
   ]
  },
  {
   "cell_type": "code",
   "execution_count": 57,
   "id": "0c72b2f2-c84a-491b-a513-e0329b137d98",
   "metadata": {},
   "outputs": [
    {
     "data": {
      "text/plain": [
       "array([[[99,  4],\n",
       "        [ 6,  7]],\n",
       "\n",
       "       [[ 3,  2],\n",
       "        [ 8,  9]]])"
      ]
     },
     "execution_count": 57,
     "metadata": {},
     "output_type": "execute_result"
    }
   ],
   "source": [
    "arr2"
   ]
  },
  {
   "cell_type": "code",
   "execution_count": null,
   "id": "f0664f31-9710-404f-99e7-8a1ad3e4ca27",
   "metadata": {},
   "outputs": [],
   "source": [
    "np.append?"
   ]
  },
  {
   "cell_type": "code",
   "execution_count": null,
   "id": "badef8e6-9036-471e-a999-eed62e0813c0",
   "metadata": {},
   "outputs": [],
   "source": [
    "np.insert?"
   ]
  },
  {
   "cell_type": "code",
   "execution_count": null,
   "id": "21a064a6-760c-41ed-bb5f-ef5e94bf815d",
   "metadata": {},
   "outputs": [],
   "source": [
    "np.delete?"
   ]
  },
  {
   "cell_type": "code",
   "execution_count": null,
   "id": "aa19c535-7a99-44c8-8fcf-2b826769f0a2",
   "metadata": {},
   "outputs": [],
   "source": []
  },
  {
   "cell_type": "code",
   "execution_count": null,
   "id": "22c48ee7-6e5b-4d89-8899-27f6eddd9b8f",
   "metadata": {},
   "outputs": [],
   "source": []
  },
  {
   "cell_type": "code",
   "execution_count": null,
   "id": "47ae962e-f50b-4e87-963a-9af33ec4c235",
   "metadata": {},
   "outputs": [],
   "source": [
    "np.sort?"
   ]
  },
  {
   "cell_type": "code",
   "execution_count": 75,
   "id": "70a0acae-9595-4456-831b-ca4e9a863b2b",
   "metadata": {},
   "outputs": [],
   "source": [
    "arr = np.array([0,2,3,1])"
   ]
  },
  {
   "cell_type": "code",
   "execution_count": 76,
   "id": "cbe5b300-65e2-4b07-81b3-75bae066bb48",
   "metadata": {},
   "outputs": [],
   "source": [
    "arr2 = np.sort(arr)"
   ]
  },
  {
   "cell_type": "code",
   "execution_count": 77,
   "id": "faab7baa-ff07-4a97-9a2f-c805b8c71858",
   "metadata": {},
   "outputs": [],
   "source": [
    "arr[0] = 99"
   ]
  },
  {
   "cell_type": "code",
   "execution_count": 78,
   "id": "1b9e3135-db30-46f7-bc46-0e5dcbeee73b",
   "metadata": {},
   "outputs": [
    {
     "data": {
      "text/plain": [
       "array([99,  2,  3,  1])"
      ]
     },
     "execution_count": 78,
     "metadata": {},
     "output_type": "execute_result"
    }
   ],
   "source": [
    "arr"
   ]
  },
  {
   "cell_type": "code",
   "execution_count": 79,
   "id": "1ba2f137-414b-4444-9e0f-b9fea38bc20b",
   "metadata": {},
   "outputs": [
    {
     "data": {
      "text/plain": [
       "array([0, 1, 2, 3])"
      ]
     },
     "execution_count": 79,
     "metadata": {},
     "output_type": "execute_result"
    }
   ],
   "source": [
    "arr2"
   ]
  },
  {
   "cell_type": "code",
   "execution_count": null,
   "id": "b388f73b-573e-4a71-942a-d674cf06918c",
   "metadata": {},
   "outputs": [],
   "source": []
  },
  {
   "cell_type": "code",
   "execution_count": null,
   "id": "b5d2b9fc-61ef-4493-bbbb-9402b9f83861",
   "metadata": {},
   "outputs": [],
   "source": []
  },
  {
   "cell_type": "code",
   "execution_count": null,
   "id": "123a03b3-33c2-4f09-b897-f11cfe0d9c38",
   "metadata": {},
   "outputs": [],
   "source": []
  },
  {
   "cell_type": "code",
   "execution_count": null,
   "id": "f9eff162-9c65-46f3-bb9d-d5bd2e91978a",
   "metadata": {},
   "outputs": [],
   "source": []
  },
  {
   "cell_type": "code",
   "execution_count": null,
   "id": "761eee8f-cb2e-49d0-927d-c1a23e11510e",
   "metadata": {},
   "outputs": [],
   "source": []
  },
  {
   "cell_type": "code",
   "execution_count": null,
   "id": "7750c1a0-5018-4d27-b71c-3911ce18dba5",
   "metadata": {},
   "outputs": [],
   "source": [
    "np.concatenate?"
   ]
  },
  {
   "cell_type": "code",
   "execution_count": 94,
   "id": "cc2c7807-14b0-4aaa-93a2-5db06ec8ecaf",
   "metadata": {},
   "outputs": [
    {
     "data": {
      "text/plain": [
       "array([0.81356375, 0.56762745, 0.        , 1.        , 2.        ])"
      ]
     },
     "execution_count": 94,
     "metadata": {},
     "output_type": "execute_result"
    }
   ],
   "source": [
    "np.concatenate((\n",
    "    np.random.random((2)),\n",
    "    np.arange(3)\n",
    "), axis=0)"
   ]
  },
  {
   "cell_type": "code",
   "execution_count": 103,
   "id": "b93f739c-c7fa-43f4-baf0-d8911db90b38",
   "metadata": {},
   "outputs": [
    {
     "data": {
      "text/plain": [
       "array([[0.55323835, 0.1487693 , 0.        , 1.        , 2.        ],\n",
       "       [0.51844455, 0.74419338, 3.        , 4.        , 5.        ]])"
      ]
     },
     "execution_count": 103,
     "metadata": {},
     "output_type": "execute_result"
    }
   ],
   "source": [
    "np.concatenate((\n",
    "    np.random.random((2,2)),\n",
    "    np.arange(6).reshape((2,3))\n",
    "), axis=1)"
   ]
  },
  {
   "cell_type": "code",
   "execution_count": 110,
   "id": "72bf8a19-2755-464c-9cbc-78972231e9cd",
   "metadata": {},
   "outputs": [
    {
     "data": {
      "text/plain": [
       "array([[[99, 99,  0,  1,  2],\n",
       "        [99, 99,  3,  4,  5]],\n",
       "\n",
       "       [[99, 99,  6,  7,  8],\n",
       "        [99, 99,  9, 10, 11]]])"
      ]
     },
     "execution_count": 110,
     "metadata": {},
     "output_type": "execute_result"
    }
   ],
   "source": [
    "np.concatenate((\n",
    "    np.full((2,2,2),99),\n",
    "    np.arange(12).reshape((2,2,3))\n",
    "), axis=2)"
   ]
  },
  {
   "cell_type": "code",
   "execution_count": null,
   "id": "d7188402-b74d-4fc2-bbef-07c5a956bc22",
   "metadata": {},
   "outputs": [],
   "source": []
  },
  {
   "cell_type": "code",
   "execution_count": null,
   "id": "ed999747-3380-4820-bc13-ded8b70079bc",
   "metadata": {},
   "outputs": [],
   "source": []
  },
  {
   "cell_type": "code",
   "execution_count": null,
   "id": "fa58f7c1-6bab-4e7f-a20c-6c6768f04430",
   "metadata": {},
   "outputs": [],
   "source": []
  },
  {
   "cell_type": "code",
   "execution_count": null,
   "id": "fb10c159-9da6-4c3d-89b3-a8d2fbd8744e",
   "metadata": {},
   "outputs": [],
   "source": []
  },
  {
   "cell_type": "code",
   "execution_count": null,
   "id": "b6362da0-49f6-444a-a7fc-2f030bef94a1",
   "metadata": {},
   "outputs": [],
   "source": []
  },
  {
   "cell_type": "code",
   "execution_count": 1,
   "id": "06d9e0c7-fccc-4ad1-a10b-7e68fa86813c",
   "metadata": {},
   "outputs": [],
   "source": [
    "import pandas as pd"
   ]
  },
  {
   "cell_type": "code",
   "execution_count": 6,
   "id": "3f2380c2-e70f-444e-99cb-e34703dd113b",
   "metadata": {},
   "outputs": [
    {
     "data": {
      "text/plain": [
       "10    1\n",
       "8     2\n",
       "6     3\n",
       "4     4\n",
       "2     5\n",
       "dtype: int64"
      ]
     },
     "execution_count": 6,
     "metadata": {},
     "output_type": "execute_result"
    }
   ],
   "source": [
    "s = pd.Series([1,2,3,4,5], index=range(10,0,-2))\n",
    "s"
   ]
  },
  {
   "cell_type": "code",
   "execution_count": 7,
   "id": "e2ebba0a-2524-4513-8e30-574c730c1e03",
   "metadata": {},
   "outputs": [
    {
     "data": {
      "text/plain": [
       "RangeIndex(start=10, stop=0, step=-2)"
      ]
     },
     "execution_count": 7,
     "metadata": {},
     "output_type": "execute_result"
    }
   ],
   "source": [
    "s.index"
   ]
  },
  {
   "cell_type": "code",
   "execution_count": null,
   "id": "9aad5d4e-80e6-4618-9245-145f8bc2d924",
   "metadata": {},
   "outputs": [],
   "source": []
  },
  {
   "cell_type": "code",
   "execution_count": null,
   "id": "52416c2f-c94f-48a6-96f0-ce7a795cb470",
   "metadata": {},
   "outputs": [],
   "source": []
  },
  {
   "cell_type": "code",
   "execution_count": null,
   "id": "8900ef17-a551-4a86-a7ac-9dc7aa76d9f3",
   "metadata": {},
   "outputs": [],
   "source": []
  },
  {
   "cell_type": "code",
   "execution_count": 26,
   "id": "add40bda-987a-4891-a33b-57ffe6c97bbd",
   "metadata": {},
   "outputs": [
    {
     "data": {
      "text/plain": [
       "0.1    10\n",
       "0.2    11\n",
       "0.3    21\n",
       "0.4    31\n",
       "0.5    41\n",
       "dtype: int64"
      ]
     },
     "execution_count": 26,
     "metadata": {},
     "output_type": "execute_result"
    }
   ],
   "source": [
    "# s = pd.Series([10,11,21,31,41], index=[(1,),(2,),(3,),(4,),(5,)])\n",
    "s = pd.Series([10,11,21,31,41], index=[0.1, 0.2, 0.3, 0.4, 0.5])\n",
    "s"
   ]
  },
  {
   "cell_type": "code",
   "execution_count": null,
   "id": "1ee32c89-2f9e-4a30-916e-f993fc594d39",
   "metadata": {},
   "outputs": [],
   "source": []
  },
  {
   "cell_type": "code",
   "execution_count": null,
   "id": "6ebbf61c-005f-44ae-a603-9f006907f03d",
   "metadata": {},
   "outputs": [],
   "source": []
  },
  {
   "cell_type": "code",
   "execution_count": null,
   "id": "7a736345-95ad-4a0b-99b5-aae50e07be18",
   "metadata": {},
   "outputs": [],
   "source": []
  },
  {
   "cell_type": "code",
   "execution_count": null,
   "id": "70eb9ddb-4aae-4473-8878-ceb6b1c7683a",
   "metadata": {},
   "outputs": [],
   "source": []
  },
  {
   "cell_type": "code",
   "execution_count": null,
   "id": "8c18e94a-993c-444f-a542-47ddf44fdc99",
   "metadata": {},
   "outputs": [],
   "source": []
  },
  {
   "cell_type": "code",
   "execution_count": 29,
   "id": "df2f0a92-7ee0-47b3-8272-617d1295eb1d",
   "metadata": {},
   "outputs": [],
   "source": [
    "s1 = pd.Series([1,2,3,4])\n",
    "s2 = pd.Series([1,2,3,4])"
   ]
  },
  {
   "cell_type": "code",
   "execution_count": 30,
   "id": "a7fa4097-6147-441d-a767-b9c4a372d16d",
   "metadata": {},
   "outputs": [
    {
     "data": {
      "text/plain": [
       "0    2\n",
       "1    4\n",
       "2    6\n",
       "3    8\n",
       "dtype: int64"
      ]
     },
     "execution_count": 30,
     "metadata": {},
     "output_type": "execute_result"
    }
   ],
   "source": [
    "s1+s2"
   ]
  },
  {
   "cell_type": "code",
   "execution_count": null,
   "id": "5fd0205c-e267-4eaa-92f5-5855e7cd9e92",
   "metadata": {},
   "outputs": [],
   "source": []
  },
  {
   "cell_type": "code",
   "execution_count": null,
   "id": "54846553-4ea0-4e5e-8401-9040c28777e8",
   "metadata": {},
   "outputs": [],
   "source": []
  },
  {
   "cell_type": "code",
   "execution_count": 35,
   "id": "8797ae63-3ba8-4f3d-95f4-7e04fb8f0561",
   "metadata": {},
   "outputs": [
    {
     "data": {
      "text/plain": [
       "1    5\n",
       "2    5\n",
       "3    5\n",
       "4    5\n",
       "dtype: int64"
      ]
     },
     "execution_count": 35,
     "metadata": {},
     "output_type": "execute_result"
    }
   ],
   "source": [
    "s1 = pd.Series([1,2,3,4], index=[1,2,3,4])\n",
    "s2 = pd.Series([1,2,3,4], index=[4,3,2,1])\n",
    "s1+s2"
   ]
  },
  {
   "cell_type": "code",
   "execution_count": null,
   "id": "97490e6e-49fc-44ba-933c-74e25d788d5c",
   "metadata": {},
   "outputs": [],
   "source": []
  },
  {
   "cell_type": "code",
   "execution_count": 36,
   "id": "ab855680-f2b7-4e47-a9f1-20440f029a5a",
   "metadata": {},
   "outputs": [
    {
     "data": {
      "text/plain": [
       "0    2.0\n",
       "1    4.0\n",
       "1    6.0\n",
       "4    NaN\n",
       "7    NaN\n",
       "9    NaN\n",
       "dtype: float64"
      ]
     },
     "execution_count": 36,
     "metadata": {},
     "output_type": "execute_result"
    }
   ],
   "source": [
    "s1 = pd.Series([1,2,3,4], index=[0,1,4,9])\n",
    "s2 = pd.Series([1,2,3,4], index=[0,1,7,1])\n",
    "s1 + s2"
   ]
  },
  {
   "cell_type": "code",
   "execution_count": null,
   "id": "5e63ee80-484b-4acb-ae1e-2b5420f06bd8",
   "metadata": {},
   "outputs": [],
   "source": []
  },
  {
   "cell_type": "code",
   "execution_count": null,
   "id": "3daa54f7-b8fa-45de-9f20-bfaa5c16ec2f",
   "metadata": {},
   "outputs": [],
   "source": []
  },
  {
   "cell_type": "code",
   "execution_count": 37,
   "id": "45c470e2-b598-4fdd-b313-57c646bae472",
   "metadata": {},
   "outputs": [],
   "source": [
    "s1 = pd.Series([1,2,3,4], index=[1,2,3,4])\n",
    "s2 = pd.Series([1,2,3,4], index=[4,3,2,1])"
   ]
  },
  {
   "cell_type": "code",
   "execution_count": 38,
   "id": "5e4f61cb-41cd-4106-a396-00d6437aac80",
   "metadata": {},
   "outputs": [
    {
     "data": {
      "text/plain": [
       "1    5\n",
       "2    5\n",
       "3    5\n",
       "4    5\n",
       "dtype: int64"
      ]
     },
     "execution_count": 38,
     "metadata": {},
     "output_type": "execute_result"
    }
   ],
   "source": [
    "s1.add(s2)"
   ]
  },
  {
   "cell_type": "code",
   "execution_count": 39,
   "id": "0e1a8919-aab1-4a1a-b598-9465814e52cf",
   "metadata": {},
   "outputs": [
    {
     "data": {
      "text/plain": [
       "1    1\n",
       "2    2\n",
       "3    3\n",
       "4    4\n",
       "dtype: int64"
      ]
     },
     "execution_count": 39,
     "metadata": {},
     "output_type": "execute_result"
    }
   ],
   "source": [
    "s1"
   ]
  },
  {
   "cell_type": "code",
   "execution_count": 40,
   "id": "a7b5817a-a92d-45d8-a090-b8bfcdfa5993",
   "metadata": {},
   "outputs": [
    {
     "data": {
      "text/plain": [
       "4    1\n",
       "3    2\n",
       "2    3\n",
       "1    4\n",
       "dtype: int64"
      ]
     },
     "execution_count": 40,
     "metadata": {},
     "output_type": "execute_result"
    }
   ],
   "source": [
    "s2"
   ]
  },
  {
   "cell_type": "code",
   "execution_count": null,
   "id": "7c5712e3-397b-4ab5-b238-445f6d36afc0",
   "metadata": {},
   "outputs": [],
   "source": []
  },
  {
   "cell_type": "code",
   "execution_count": null,
   "id": "7a8d6255-e590-477a-a3bf-feff06ccf788",
   "metadata": {},
   "outputs": [],
   "source": []
  },
  {
   "cell_type": "code",
   "execution_count": 45,
   "id": "43a44c6d-5c0e-48a7-afe0-04e17a23a7b1",
   "metadata": {},
   "outputs": [
    {
     "data": {
      "text/plain": [
       "0    2.0\n",
       "1    4.0\n",
       "1    6.0\n",
       "4    3.0\n",
       "7    3.0\n",
       "9    4.0\n",
       "dtype: float64"
      ]
     },
     "execution_count": 45,
     "metadata": {},
     "output_type": "execute_result"
    }
   ],
   "source": [
    "s1 = pd.Series([1,2,3,4], index=[0,1,4,9])\n",
    "s2 = pd.Series([1,2,3,4], index=[0,1,7,1])\n",
    "s1.add(s2, fill_value=0)"
   ]
  },
  {
   "cell_type": "code",
   "execution_count": null,
   "id": "93a27bd1-b0c5-454a-82b4-e9c86ed803ce",
   "metadata": {},
   "outputs": [],
   "source": [
    "pd.Series.add?"
   ]
  },
  {
   "cell_type": "code",
   "execution_count": null,
   "id": "b560998b-378b-4445-a392-a7cdd96c8896",
   "metadata": {},
   "outputs": [],
   "source": []
  },
  {
   "cell_type": "code",
   "execution_count": null,
   "id": "4775f2ff-49ab-43a9-9749-747311183913",
   "metadata": {},
   "outputs": [],
   "source": []
  },
  {
   "cell_type": "code",
   "execution_count": null,
   "id": "a6274605-5b46-49ac-a839-a20ddf6229b8",
   "metadata": {},
   "outputs": [],
   "source": []
  },
  {
   "cell_type": "code",
   "execution_count": null,
   "id": "38d02fe8-be3f-4bad-88fb-9364b4584454",
   "metadata": {},
   "outputs": [],
   "source": []
  },
  {
   "cell_type": "code",
   "execution_count": 49,
   "id": "e32d5dfa-d140-4de3-a235-178616c9dd2c",
   "metadata": {},
   "outputs": [],
   "source": [
    "s = pd.Series([1,2,3,4,5,6])"
   ]
  },
  {
   "cell_type": "code",
   "execution_count": 51,
   "id": "bdc7bd72-b344-4610-98ca-d648c3b48444",
   "metadata": {},
   "outputs": [
    {
     "data": {
      "text/plain": [
       "0    1\n",
       "1    2\n",
       "dtype: int64"
      ]
     },
     "execution_count": 51,
     "metadata": {},
     "output_type": "execute_result"
    }
   ],
   "source": [
    "s[[True, True, False, False, False, False]]"
   ]
  },
  {
   "cell_type": "code",
   "execution_count": 52,
   "id": "1dfeb9c4-11f6-4ee6-8d9e-603286103299",
   "metadata": {},
   "outputs": [
    {
     "data": {
      "text/plain": [
       "3    4\n",
       "4    5\n",
       "5    6\n",
       "dtype: int64"
      ]
     },
     "execution_count": 52,
     "metadata": {},
     "output_type": "execute_result"
    }
   ],
   "source": [
    "s[s>3]"
   ]
  },
  {
   "cell_type": "code",
   "execution_count": null,
   "id": "7357f781-c6fe-4fe9-935d-3c2001dea237",
   "metadata": {},
   "outputs": [],
   "source": []
  },
  {
   "cell_type": "code",
   "execution_count": null,
   "id": "f97f5900-8640-4170-8905-af28afd19f59",
   "metadata": {},
   "outputs": [],
   "source": []
  },
  {
   "cell_type": "code",
   "execution_count": null,
   "id": "5846a669-fe93-4e92-a68c-bc0b22dbdfa3",
   "metadata": {},
   "outputs": [],
   "source": []
  },
  {
   "cell_type": "code",
   "execution_count": null,
   "id": "c03859da-18df-415b-b273-27e227b9b764",
   "metadata": {},
   "outputs": [],
   "source": []
  },
  {
   "cell_type": "code",
   "execution_count": 1,
   "id": "79841d8f-4819-4a01-ba6d-087b334d7098",
   "metadata": {},
   "outputs": [
    {
     "data": {
      "text/plain": [
       "1"
      ]
     },
     "execution_count": 1,
     "metadata": {},
     "output_type": "execute_result"
    }
   ],
   "source": [
    "1&3"
   ]
  },
  {
   "cell_type": "code",
   "execution_count": null,
   "id": "023e87e3-6313-455b-b74d-cd70fdb93010",
   "metadata": {},
   "outputs": [],
   "source": []
  },
  {
   "cell_type": "code",
   "execution_count": null,
   "id": "060e3a90-4a36-43f4-beac-3bb63cc6eda5",
   "metadata": {},
   "outputs": [],
   "source": []
  },
  {
   "cell_type": "code",
   "execution_count": null,
   "id": "e4189078-aa12-4f58-be3d-24585d208027",
   "metadata": {},
   "outputs": [],
   "source": []
  },
  {
   "cell_type": "code",
   "execution_count": 2,
   "id": "78eaf6bd-4620-450d-af19-6df1753c3ded",
   "metadata": {},
   "outputs": [
    {
     "ename": "TypeError",
     "evalue": "'<' not supported between instances of 'str' and 'int'",
     "output_type": "error",
     "traceback": [
      "\u001b[1;31m---------------------------------------------------------------------------\u001b[0m",
      "\u001b[1;31mTypeError\u001b[0m                                 Traceback (most recent call last)",
      "\u001b[1;32mF:\\else\\Windows\\DELLTE~1/ipykernel_16500/2407923218.py\u001b[0m in \u001b[0;36m<module>\u001b[1;34m\u001b[0m\n\u001b[1;32m----> 1\u001b[1;33m \u001b[0mmin\u001b[0m\u001b[1;33m(\u001b[0m\u001b[1;33m[\u001b[0m\u001b[1;36m1\u001b[0m\u001b[1;33m,\u001b[0m\u001b[1;36m2\u001b[0m\u001b[1;33m,\u001b[0m\u001b[1;36m4\u001b[0m\u001b[1;33m,\u001b[0m\u001b[1;34m'abc'\u001b[0m\u001b[1;33m]\u001b[0m\u001b[1;33m)\u001b[0m\u001b[1;33m\u001b[0m\u001b[1;33m\u001b[0m\u001b[0m\n\u001b[0m",
      "\u001b[1;31mTypeError\u001b[0m: '<' not supported between instances of 'str' and 'int'"
     ]
    }
   ],
   "source": [
    "min([1,2,4,'abc'])"
   ]
  },
  {
   "cell_type": "code",
   "execution_count": null,
   "id": "b76360da-f06b-42e8-a234-0961670b063a",
   "metadata": {},
   "outputs": [],
   "source": []
  },
  {
   "cell_type": "code",
   "execution_count": null,
   "id": "b28c667c-4da8-4ca4-9a63-ca74b5399968",
   "metadata": {},
   "outputs": [],
   "source": []
  },
  {
   "cell_type": "code",
   "execution_count": null,
   "id": "947c0e00-2a07-4370-9c1b-1d62a2a181c5",
   "metadata": {},
   "outputs": [],
   "source": []
  },
  {
   "cell_type": "code",
   "execution_count": null,
   "id": "9012b7be-fe4d-4ace-9e94-33f57e6e17cf",
   "metadata": {},
   "outputs": [],
   "source": [
    "import pandas as pd"
   ]
  },
  {
   "cell_type": "code",
   "execution_count": null,
   "id": "5ce3e25b-9e7a-4099-92b1-4a0d7f5edec1",
   "metadata": {},
   "outputs": [],
   "source": [
    "pd.Data"
   ]
  },
  {
   "cell_type": "code",
   "execution_count": null,
   "id": "6e36661c-a04f-44f2-ab4d-2bb80bd90e00",
   "metadata": {},
   "outputs": [],
   "source": []
  },
  {
   "cell_type": "code",
   "execution_count": null,
   "id": "97602b7a-e2c2-4dd4-b63d-a35e50f037d5",
   "metadata": {},
   "outputs": [],
   "source": []
  },
  {
   "cell_type": "code",
   "execution_count": null,
   "id": "37305735-1e7c-4e7f-8caf-b9bc46c1a823",
   "metadata": {},
   "outputs": [],
   "source": []
  },
  {
   "cell_type": "code",
   "execution_count": null,
   "id": "14288daf-ca98-4495-b019-d2efa7028d42",
   "metadata": {},
   "outputs": [],
   "source": []
  },
  {
   "cell_type": "code",
   "execution_count": null,
   "id": "5c586ac1-5bf0-4cdf-ab55-bc7132daf42d",
   "metadata": {},
   "outputs": [],
   "source": []
  },
  {
   "cell_type": "code",
   "execution_count": null,
   "id": "9deb4e00-4d84-43b6-b803-15f8b9349438",
   "metadata": {},
   "outputs": [],
   "source": []
  },
  {
   "cell_type": "code",
   "execution_count": null,
   "id": "5d19ac75-f8ca-42ac-8abd-34a2ae830093",
   "metadata": {},
   "outputs": [],
   "source": []
  }
 ],
 "metadata": {
  "kernelspec": {
   "display_name": "tools-and-techniques-in-data-science",
   "language": "python",
   "name": "tools-and-techniques-in-data-science"
  },
  "language_info": {
   "codemirror_mode": {
    "name": "ipython",
    "version": 3
   },
   "file_extension": ".py",
   "mimetype": "text/x-python",
   "name": "python",
   "nbconvert_exporter": "python",
   "pygments_lexer": "ipython3",
   "version": "3.9.7"
  }
 },
 "nbformat": 4,
 "nbformat_minor": 5
}
