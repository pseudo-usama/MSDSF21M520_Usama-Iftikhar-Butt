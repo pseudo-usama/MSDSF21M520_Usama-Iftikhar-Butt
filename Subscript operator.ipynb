{
 "cells": [
  {
   "cell_type": "code",
   "execution_count": 35,
   "id": "5adeb4c4-16db-4ef0-b0fd-a85ba4e20421",
   "metadata": {},
   "outputs": [],
   "source": [
    "class myclass:\n",
    "    def __getitem__(self, key):\n",
    "        print(key)\n",
    "        return 1\n",
    "\n",
    "    def __setitem__(self, key, value):\n",
    "        print(key, value)\n",
    "\n",
    "    def __delitem__(self, key):\n",
    "        print('__delitem__ called')"
   ]
  },
  {
   "cell_type": "code",
   "execution_count": 36,
   "id": "55604a39-91d9-4f85-bc1f-d30d89cf104c",
   "metadata": {},
   "outputs": [
    {
     "name": "stdout",
     "output_type": "stream",
     "text": [
      "slice(2, 1, None)\n"
     ]
    },
    {
     "data": {
      "text/plain": [
       "1"
      ]
     },
     "execution_count": 36,
     "metadata": {},
     "output_type": "execute_result"
    }
   ],
   "source": [
    "obj = myclass()\n",
    "obj[2:1]"
   ]
  },
  {
   "cell_type": "code",
   "execution_count": 37,
   "id": "0b78d43f-b47a-48b2-991f-f5d366f2ec84",
   "metadata": {},
   "outputs": [
    {
     "name": "stdout",
     "output_type": "stream",
     "text": [
      "slice(1, 2, -1) 2\n"
     ]
    }
   ],
   "source": [
    "obj[1:2:-1] = 2"
   ]
  },
  {
   "cell_type": "code",
   "execution_count": 38,
   "id": "67f9d7f3-6e41-4462-84a8-73ddd1353868",
   "metadata": {},
   "outputs": [
    {
     "name": "stdout",
     "output_type": "stream",
     "text": [
      "__delitem__ called\n"
     ]
    }
   ],
   "source": [
    "del obj[1:2]"
   ]
  }
 ],
 "metadata": {
  "kernelspec": {
   "display_name": "Python 3 (ipykernel)",
   "language": "python",
   "name": "python3"
  },
  "language_info": {
   "codemirror_mode": {
    "name": "ipython",
    "version": 3
   },
   "file_extension": ".py",
   "mimetype": "text/x-python",
   "name": "python",
   "nbconvert_exporter": "python",
   "pygments_lexer": "ipython3",
   "version": "3.9.7"
  }
 },
 "nbformat": 4,
 "nbformat_minor": 5
}
