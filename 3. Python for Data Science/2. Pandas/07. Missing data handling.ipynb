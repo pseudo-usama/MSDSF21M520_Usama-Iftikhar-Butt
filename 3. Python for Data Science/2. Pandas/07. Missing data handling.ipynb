{
 "cells": [
  {
   "cell_type": "code",
   "execution_count": 1,
   "id": "713de654-89be-474c-bd4c-028eb5085ac6",
   "metadata": {},
   "outputs": [],
   "source": [
    "import pandas as pd"
   ]
  },
  {
   "cell_type": "code",
   "execution_count": null,
   "id": "0a81248c-0e45-4e78-9767-8c195e70694b",
   "metadata": {},
   "outputs": [],
   "source": []
  },
  {
   "cell_type": "code",
   "execution_count": null,
   "id": "6439cb67-0a12-4e19-be8d-14dde1f14e51",
   "metadata": {},
   "outputs": [],
   "source": []
  },
  {
   "cell_type": "code",
   "execution_count": null,
   "id": "79b48801-6b61-478e-b8e8-4bcd48e76657",
   "metadata": {},
   "outputs": [],
   "source": []
  },
  {
   "cell_type": "code",
   "execution_count": null,
   "id": "f4cdc204-fde8-43d5-a078-11c407393f16",
   "metadata": {},
   "outputs": [],
   "source": [
    "pd.DataFrame.isna?"
   ]
  },
  {
   "cell_type": "code",
   "execution_count": 4,
   "id": "83c8816e-00e9-443a-a95b-403791b02f42",
   "metadata": {},
   "outputs": [],
   "source": [
    "df = pd.read_csv('datasets/group-marks.csv')"
   ]
  },
  {
   "cell_type": "code",
   "execution_count": 7,
   "id": "33df90aa-6718-4c90-97a9-d2fd4dda50fc",
   "metadata": {},
   "outputs": [
    {
     "data": {
      "text/plain": [
       "rollno         50\n",
       "name           50\n",
       "gender         50\n",
       "group          50\n",
       "session        50\n",
       "age            50\n",
       "scholarship    50\n",
       "math           50\n",
       "english        50\n",
       "urdu           50\n",
       "dtype: int64"
      ]
     },
     "execution_count": 7,
     "metadata": {},
     "output_type": "execute_result"
    }
   ],
   "source": [
    "df.isna().count()"
   ]
  },
  {
   "cell_type": "code",
   "execution_count": null,
   "id": "7d844094-a76f-4593-8934-ac537bdb357f",
   "metadata": {},
   "outputs": [],
   "source": [
    "df.isna()"
   ]
  },
  {
   "cell_type": "code",
   "execution_count": null,
   "id": "cfc184e8-439c-4802-ac46-e23cf33855eb",
   "metadata": {},
   "outputs": [],
   "source": [
    "pd.DataFrame.count?"
   ]
  },
  {
   "cell_type": "code",
   "execution_count": null,
   "id": "005df738-5e66-4dc0-8b33-580eace0d7e8",
   "metadata": {},
   "outputs": [],
   "source": []
  },
  {
   "cell_type": "code",
   "execution_count": null,
   "id": "b0a13373-aaa1-4a0d-8008-05d5a7fa9b71",
   "metadata": {},
   "outputs": [],
   "source": [
    "df"
   ]
  },
  {
   "cell_type": "code",
   "execution_count": null,
   "id": "d0245156-182c-4c43-a828-ad07fdd74387",
   "metadata": {},
   "outputs": [],
   "source": []
  },
  {
   "cell_type": "code",
   "execution_count": null,
   "id": "86ef022e-5643-4972-a3b5-cebc19ae02b1",
   "metadata": {},
   "outputs": [],
   "source": []
  },
  {
   "cell_type": "code",
   "execution_count": null,
   "id": "e04b8703-5c27-4043-8365-20a9aeee625f",
   "metadata": {},
   "outputs": [],
   "source": []
  },
  {
   "cell_type": "code",
   "execution_count": null,
   "id": "78f0d069-08f5-4bd2-a012-46f4471762c8",
   "metadata": {},
   "outputs": [],
   "source": []
  },
  {
   "cell_type": "code",
   "execution_count": 18,
   "id": "ac7b6ad3-fc0a-47f1-a33f-fb8e7d36dd8f",
   "metadata": {},
   "outputs": [
    {
     "data": {
      "text/plain": [
       "0    5\n",
       "dtype: int64"
      ]
     },
     "execution_count": 18,
     "metadata": {},
     "output_type": "execute_result"
    }
   ],
   "source": [
    "pd.Series([1,2,3,4,5,5]).mode()"
   ]
  },
  {
   "cell_type": "code",
   "execution_count": 16,
   "id": "b35f74fa-aed0-42ba-b144-cf1b543d379f",
   "metadata": {},
   "outputs": [
    {
     "data": {
      "text/plain": [
       "0    4\n",
       "1    5\n",
       "dtype: int64"
      ]
     },
     "execution_count": 16,
     "metadata": {},
     "output_type": "execute_result"
    }
   ],
   "source": [
    "pd.Series([1,2,3,4, 4,5,5]).mode()"
   ]
  }
 ],
 "metadata": {
  "kernelspec": {
   "display_name": "tools-and-techniques-in-data-science",
   "language": "python",
   "name": "tools-and-techniques-in-data-science"
  },
  "language_info": {
   "codemirror_mode": {
    "name": "ipython",
    "version": 3
   },
   "file_extension": ".py",
   "mimetype": "text/x-python",
   "name": "python",
   "nbconvert_exporter": "python",
   "pygments_lexer": "ipython3",
   "version": "3.9.7"
  }
 },
 "nbformat": 4,
 "nbformat_minor": 5
}
