{
 "cells": [
  {
   "cell_type": "code",
   "execution_count": 1,
   "id": "16d97532-0497-4ae1-8aea-88a62c0671f0",
   "metadata": {},
   "outputs": [],
   "source": [
    "import pandas as pd"
   ]
  },
  {
   "cell_type": "code",
   "execution_count": null,
   "id": "84df0c2e-080b-4b0f-aa80-1dc265c44517",
   "metadata": {},
   "outputs": [],
   "source": []
  },
  {
   "cell_type": "code",
   "execution_count": null,
   "id": "be714b54-171e-4875-b4fe-02520205b83b",
   "metadata": {},
   "outputs": [],
   "source": []
  },
  {
   "cell_type": "code",
   "execution_count": null,
   "id": "69a38c9f-771a-4590-b400-658d629bba10",
   "metadata": {},
   "outputs": [],
   "source": []
  },
  {
   "cell_type": "code",
   "execution_count": null,
   "id": "f942d060-0b61-445f-bf1e-76533da0ae28",
   "metadata": {},
   "outputs": [],
   "source": [
    "pd.DataFrame.agg?"
   ]
  },
  {
   "cell_type": "code",
   "execution_count": null,
   "id": "97a35c0d-3edf-4b47-8fa9-fdc260c4da6f",
   "metadata": {},
   "outputs": [],
   "source": []
  },
  {
   "cell_type": "code",
   "execution_count": null,
   "id": "390435db-8015-44dd-9091-ed93a7364554",
   "metadata": {},
   "outputs": [],
   "source": []
  },
  {
   "cell_type": "code",
   "execution_count": null,
   "id": "76423772-061e-4be1-9e0a-cf55ea09f10d",
   "metadata": {},
   "outputs": [],
   "source": []
  },
  {
   "cell_type": "code",
   "execution_count": null,
   "id": "4eda2857-239f-40d3-8f5b-b822952e51e7",
   "metadata": {},
   "outputs": [],
   "source": []
  },
  {
   "cell_type": "code",
   "execution_count": null,
   "id": "62fcbac6-7e6f-45dc-9ccd-2f184efe9e89",
   "metadata": {},
   "outputs": [],
   "source": []
  },
  {
   "cell_type": "code",
   "execution_count": null,
   "id": "c776afde-e27c-4c20-8dc8-819b5426b3ef",
   "metadata": {},
   "outputs": [],
   "source": []
  },
  {
   "cell_type": "code",
   "execution_count": 4,
   "id": "7a15c4be-76ed-4e42-8290-df00e32a73d7",
   "metadata": {},
   "outputs": [],
   "source": [
    "df = pd.read_csv('datasets/so_survey_subset.csv')"
   ]
  },
  {
   "cell_type": "code",
   "execution_count": 5,
   "id": "33def093-d0cd-4ce1-9077-17ef9498b40d",
   "metadata": {},
   "outputs": [
    {
     "data": {
      "text/html": [
       "<div>\n",
       "<style scoped>\n",
       "    .dataframe tbody tr th:only-of-type {\n",
       "        vertical-align: middle;\n",
       "    }\n",
       "\n",
       "    .dataframe tbody tr th {\n",
       "        vertical-align: top;\n",
       "    }\n",
       "\n",
       "    .dataframe thead th {\n",
       "        text-align: right;\n",
       "    }\n",
       "</style>\n",
       "<table border=\"1\" class=\"dataframe\">\n",
       "  <thead>\n",
       "    <tr style=\"text-align: right;\">\n",
       "      <th></th>\n",
       "      <th>Respondent</th>\n",
       "      <th>MainBranch</th>\n",
       "      <th>Hobbyist</th>\n",
       "      <th>Country</th>\n",
       "      <th>YearsCode</th>\n",
       "      <th>ConvertedComp</th>\n",
       "      <th>LanguageWorkedWith</th>\n",
       "      <th>SocialMedia</th>\n",
       "      <th>Age</th>\n",
       "      <th>Gender</th>\n",
       "    </tr>\n",
       "  </thead>\n",
       "  <tbody>\n",
       "    <tr>\n",
       "      <th>0</th>\n",
       "      <td>1</td>\n",
       "      <td>I am a student who is learning to code</td>\n",
       "      <td>Yes</td>\n",
       "      <td>United Kingdom</td>\n",
       "      <td>4</td>\n",
       "      <td>NaN</td>\n",
       "      <td>HTML/CSS;Java;JavaScript;Python</td>\n",
       "      <td>Twitter</td>\n",
       "      <td>14.0</td>\n",
       "      <td>Man</td>\n",
       "    </tr>\n",
       "    <tr>\n",
       "      <th>1</th>\n",
       "      <td>2</td>\n",
       "      <td>I am a student who is learning to code</td>\n",
       "      <td>No</td>\n",
       "      <td>Bosnia and Herzegovina</td>\n",
       "      <td>NaN</td>\n",
       "      <td>NaN</td>\n",
       "      <td>C++;HTML/CSS;Python</td>\n",
       "      <td>Instagram</td>\n",
       "      <td>19.0</td>\n",
       "      <td>Man</td>\n",
       "    </tr>\n",
       "    <tr>\n",
       "      <th>2</th>\n",
       "      <td>3</td>\n",
       "      <td>I am not primarily a developer, but I write co...</td>\n",
       "      <td>Yes</td>\n",
       "      <td>Thailand</td>\n",
       "      <td>3</td>\n",
       "      <td>8820.0</td>\n",
       "      <td>HTML/CSS</td>\n",
       "      <td>Reddit</td>\n",
       "      <td>28.0</td>\n",
       "      <td>Man</td>\n",
       "    </tr>\n",
       "    <tr>\n",
       "      <th>3</th>\n",
       "      <td>4</td>\n",
       "      <td>I am a developer by profession</td>\n",
       "      <td>No</td>\n",
       "      <td>United States</td>\n",
       "      <td>3</td>\n",
       "      <td>61000.0</td>\n",
       "      <td>C;C++;C#;Python;SQL</td>\n",
       "      <td>Reddit</td>\n",
       "      <td>22.0</td>\n",
       "      <td>Man</td>\n",
       "    </tr>\n",
       "    <tr>\n",
       "      <th>4</th>\n",
       "      <td>5</td>\n",
       "      <td>I am a developer by profession</td>\n",
       "      <td>Yes</td>\n",
       "      <td>Ukraine</td>\n",
       "      <td>16</td>\n",
       "      <td>NaN</td>\n",
       "      <td>C++;HTML/CSS;Java;JavaScript;Python;SQL;VBA</td>\n",
       "      <td>Facebook</td>\n",
       "      <td>30.0</td>\n",
       "      <td>Man</td>\n",
       "    </tr>\n",
       "  </tbody>\n",
       "</table>\n",
       "</div>"
      ],
      "text/plain": [
       "   Respondent                                         MainBranch Hobbyist  \\\n",
       "0           1             I am a student who is learning to code      Yes   \n",
       "1           2             I am a student who is learning to code       No   \n",
       "2           3  I am not primarily a developer, but I write co...      Yes   \n",
       "3           4                     I am a developer by profession       No   \n",
       "4           5                     I am a developer by profession      Yes   \n",
       "\n",
       "                  Country YearsCode  ConvertedComp  \\\n",
       "0          United Kingdom         4            NaN   \n",
       "1  Bosnia and Herzegovina       NaN            NaN   \n",
       "2                Thailand         3         8820.0   \n",
       "3           United States         3        61000.0   \n",
       "4                 Ukraine        16            NaN   \n",
       "\n",
       "                            LanguageWorkedWith SocialMedia   Age Gender  \n",
       "0              HTML/CSS;Java;JavaScript;Python     Twitter  14.0    Man  \n",
       "1                          C++;HTML/CSS;Python   Instagram  19.0    Man  \n",
       "2                                     HTML/CSS      Reddit  28.0    Man  \n",
       "3                          C;C++;C#;Python;SQL      Reddit  22.0    Man  \n",
       "4  C++;HTML/CSS;Java;JavaScript;Python;SQL;VBA    Facebook  30.0    Man  "
      ]
     },
     "execution_count": 5,
     "metadata": {},
     "output_type": "execute_result"
    }
   ],
   "source": [
    "df.head()"
   ]
  },
  {
   "cell_type": "code",
   "execution_count": null,
   "id": "cc2779e5-288b-449c-b59f-5d58aafc2344",
   "metadata": {},
   "outputs": [],
   "source": []
  },
  {
   "cell_type": "code",
   "execution_count": 90,
   "id": "ce6049d5-4ec3-461a-91d5-2e0a475a16a7",
   "metadata": {},
   "outputs": [
    {
     "data": {
      "text/plain": [
       "Country      SocialMedia             \n",
       "Afghanistan  Facebook                    15\n",
       "             YouTube                      9\n",
       "             I don't use social media     6\n",
       "             WhatsApp                     4\n",
       "             Instagram                    1\n",
       "                                         ..\n",
       "Zimbabwe     Facebook                     3\n",
       "             YouTube                      3\n",
       "             Instagram                    2\n",
       "             LinkedIn                     2\n",
       "             Reddit                       1\n",
       "Name: SocialMedia, Length: 1220, dtype: int64"
      ]
     },
     "execution_count": 90,
     "metadata": {},
     "output_type": "execute_result"
    }
   ],
   "source": [
    "df.groupby('Country')['SocialMedia'].value_counts()"
   ]
  },
  {
   "cell_type": "code",
   "execution_count": 149,
   "id": "2446e09e-5d54-4f0a-86d2-8b4db46a2af1",
   "metadata": {},
   "outputs": [
    {
     "data": {
      "text/plain": [
       "Country\n",
       "Afghanistan                    Facebook\n",
       "Albania                        WhatsApp\n",
       "Algeria                         YouTube\n",
       "Andorra        I don't use social media\n",
       "Angola                          Twitter\n",
       "Name: Top Social Platforms used by Country, dtype: object"
      ]
     },
     "execution_count": 149,
     "metadata": {},
     "output_type": "execute_result"
    }
   ],
   "source": [
    "topSocialMedia = df.groupby('Country').apply(lambda grp: grp['SocialMedia'].value_counts().index[0]).head()\n",
    "topSocialMedia.name = 'Top Social Platforms used by Country'\n",
    "topSocialMedia"
   ]
  },
  {
   "cell_type": "code",
   "execution_count": null,
   "id": "40b028a4-85fe-480b-856c-396e3d196dda",
   "metadata": {},
   "outputs": [],
   "source": []
  },
  {
   "cell_type": "code",
   "execution_count": null,
   "id": "b7003422-120c-48e0-9448-7565701ca6a0",
   "metadata": {},
   "outputs": [],
   "source": []
  },
  {
   "cell_type": "code",
   "execution_count": null,
   "id": "135a36ba-ec4b-407d-b3fc-025776172678",
   "metadata": {},
   "outputs": [],
   "source": []
  },
  {
   "cell_type": "code",
   "execution_count": 148,
   "id": "1dec5cb7-242c-4159-b407-acd9bb55256f",
   "metadata": {},
   "outputs": [
    {
     "data": {
      "text/plain": [
       "Country\n",
       "Afghanistan                             18.181818\n",
       "Albania                                 26.744186\n",
       "Algeria                                 29.850746\n",
       "Andorra                                  0.000000\n",
       "Angola                                  40.000000\n",
       "                                          ...    \n",
       "Venezuela, Bolivarian Republic of...    31.818182\n",
       "Viet Nam                                33.766234\n",
       "Yemen                                   15.789474\n",
       "Zambia                                  33.333333\n",
       "Zimbabwe                                35.897436\n",
       "Name: Knows Python, Length: 179, dtype: float64"
      ]
     },
     "execution_count": 148,
     "metadata": {},
     "output_type": "execute_result"
    }
   ],
   "source": [
    "knowsPython = df.groupby('Country')['LanguageWorkedWith'].apply(lambda s: s.str.contains('Python').sum() / s.size * 100)\n",
    "knowsPython.name = 'Knows Python'\n",
    "knowsPython"
   ]
  }
 ],
 "metadata": {
  "kernelspec": {
   "display_name": "tools-and-techniques-in-data-science",
   "language": "python",
   "name": "tools-and-techniques-in-data-science"
  },
  "language_info": {
   "codemirror_mode": {
    "name": "ipython",
    "version": 3
   },
   "file_extension": ".py",
   "mimetype": "text/x-python",
   "name": "python",
   "nbconvert_exporter": "python",
   "pygments_lexer": "ipython3",
   "version": "3.9.7"
  }
 },
 "nbformat": 4,
 "nbformat_minor": 5
}
