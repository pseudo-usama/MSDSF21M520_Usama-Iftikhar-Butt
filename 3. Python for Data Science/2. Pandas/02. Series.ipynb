{
 "cells": [
  {
   "cell_type": "code",
   "execution_count": 54,
   "id": "25fbd822-d108-4435-baca-365276380779",
   "metadata": {},
   "outputs": [],
   "source": [
    "import pandas as pd\n",
    "import numpy as np"
   ]
  },
  {
   "cell_type": "code",
   "execution_count": 34,
   "id": "64905947-cc47-4c2c-a5a6-3c07ec59b9b1",
   "metadata": {},
   "outputs": [],
   "source": [
    "df = pd.Series(['Arif', 1, 1.0, True], dtype=str)"
   ]
  },
  {
   "cell_type": "code",
   "execution_count": 35,
   "id": "c4404d16-209c-49c7-8d8b-d786fea4a286",
   "metadata": {},
   "outputs": [
    {
     "data": {
      "text/plain": [
       "0    Arif\n",
       "1       1\n",
       "2     1.0\n",
       "3    True\n",
       "dtype: object"
      ]
     },
     "execution_count": 35,
     "metadata": {},
     "output_type": "execute_result"
    }
   ],
   "source": [
    "df"
   ]
  },
  {
   "cell_type": "code",
   "execution_count": 36,
   "id": "eff69fc6-0319-4656-8964-a1e04b5bc311",
   "metadata": {},
   "outputs": [
    {
     "data": {
      "text/plain": [
       "(str, str, str, str)"
      ]
     },
     "execution_count": 36,
     "metadata": {},
     "output_type": "execute_result"
    }
   ],
   "source": [
    "type(df[0]), type(df[1]), type(df[2]), type(df[3])"
   ]
  },
  {
   "cell_type": "code",
   "execution_count": 37,
   "id": "2b682070-4dad-4837-81da-1afa1abda5a6",
   "metadata": {},
   "outputs": [
    {
     "data": {
      "text/plain": [
       "dtype('O')"
      ]
     },
     "execution_count": 37,
     "metadata": {},
     "output_type": "execute_result"
    }
   ],
   "source": [
    "df.dtype"
   ]
  },
  {
   "cell_type": "code",
   "execution_count": null,
   "id": "d28fb554-3261-4a8e-a84e-7303e7bc319d",
   "metadata": {},
   "outputs": [],
   "source": []
  },
  {
   "cell_type": "code",
   "execution_count": null,
   "id": "6e1440d9-23d8-4375-b57e-8a00487ac8f4",
   "metadata": {},
   "outputs": [],
   "source": []
  },
  {
   "cell_type": "code",
   "execution_count": null,
   "id": "13316f5e-027b-4e83-a9c9-ac4b5e561cb9",
   "metadata": {},
   "outputs": [],
   "source": []
  },
  {
   "cell_type": "code",
   "execution_count": null,
   "id": "a1ee05e4-94c0-4ad3-9c7e-b7731f961ad7",
   "metadata": {},
   "outputs": [],
   "source": [
    "pd.Series?"
   ]
  },
  {
   "cell_type": "code",
   "execution_count": null,
   "id": "81c0f5b9-0d07-4051-8b49-c29b2cc14420",
   "metadata": {},
   "outputs": [],
   "source": []
  },
  {
   "cell_type": "code",
   "execution_count": null,
   "id": "15fca357-edfe-4ff1-ada6-144effe5c2f0",
   "metadata": {},
   "outputs": [],
   "source": []
  },
  {
   "cell_type": "code",
   "execution_count": null,
   "id": "9e065baf-2d8c-4b2a-bb96-669e23400a5c",
   "metadata": {},
   "outputs": [],
   "source": []
  },
  {
   "cell_type": "code",
   "execution_count": 9,
   "id": "89c7295e-b860-4922-a893-0010df5a7756",
   "metadata": {},
   "outputs": [
    {
     "data": {
      "text/plain": [
       "0    1\n",
       "1    2\n",
       "2    3\n",
       "3    4\n",
       "4    5\n",
       "dtype: int64"
      ]
     },
     "execution_count": 9,
     "metadata": {},
     "output_type": "execute_result"
    }
   ],
   "source": [
    "df = pd.Series([1,2,3,4,5])\n",
    "df"
   ]
  },
  {
   "cell_type": "code",
   "execution_count": 10,
   "id": "b342dfe0-e062-4b5e-9f27-911690d83123",
   "metadata": {},
   "outputs": [],
   "source": [
    "df2 = pd.Series(df)"
   ]
  },
  {
   "cell_type": "code",
   "execution_count": 11,
   "id": "45055d09-f834-4611-8af6-671b6e705d52",
   "metadata": {},
   "outputs": [],
   "source": [
    "df2[3] = 99"
   ]
  },
  {
   "cell_type": "code",
   "execution_count": 12,
   "id": "ad38e7d3-880b-46f9-bb7f-6333c846bf7b",
   "metadata": {},
   "outputs": [
    {
     "data": {
      "text/plain": [
       "0     1\n",
       "1     2\n",
       "2     3\n",
       "3    99\n",
       "4     5\n",
       "dtype: int64"
      ]
     },
     "execution_count": 12,
     "metadata": {},
     "output_type": "execute_result"
    }
   ],
   "source": [
    "df2"
   ]
  },
  {
   "cell_type": "code",
   "execution_count": 13,
   "id": "bba32c54-bd7f-46ad-8ac5-ed23ab71881a",
   "metadata": {},
   "outputs": [
    {
     "data": {
      "text/plain": [
       "0     1\n",
       "1     2\n",
       "2     3\n",
       "3    99\n",
       "4     5\n",
       "dtype: int64"
      ]
     },
     "execution_count": 13,
     "metadata": {},
     "output_type": "execute_result"
    }
   ],
   "source": [
    "df"
   ]
  },
  {
   "cell_type": "code",
   "execution_count": null,
   "id": "3e3c93ef-aeb4-4a98-afd3-0d1ffb10f6b5",
   "metadata": {},
   "outputs": [],
   "source": []
  },
  {
   "cell_type": "code",
   "execution_count": null,
   "id": "861842bd-aefe-45ae-9232-224dda227383",
   "metadata": {},
   "outputs": [],
   "source": []
  },
  {
   "cell_type": "code",
   "execution_count": 14,
   "id": "380897cb-0b97-42d2-a523-53d70199249b",
   "metadata": {},
   "outputs": [
    {
     "data": {
      "text/plain": [
       "abc    1\n",
       "dca    2\n",
       "dtype: int64"
      ]
     },
     "execution_count": 14,
     "metadata": {},
     "output_type": "execute_result"
    }
   ],
   "source": [
    "pd.Series({'abc': 1, 'dca': 2})"
   ]
  },
  {
   "cell_type": "code",
   "execution_count": 16,
   "id": "3e4c9c1f-614b-4426-a4e3-063ed2fad5c7",
   "metadata": {},
   "outputs": [
    {
     "data": {
      "text/plain": [
       "0    1\n",
       "1    2\n",
       "2    3\n",
       "3    4\n",
       "dtype: int64"
      ]
     },
     "execution_count": 16,
     "metadata": {},
     "output_type": "execute_result"
    }
   ],
   "source": [
    "pd.Series((1,2,3,4))"
   ]
  },
  {
   "cell_type": "code",
   "execution_count": 18,
   "id": "1f4ed17e-7dd1-4b99-abf4-11aede6b69ed",
   "metadata": {},
   "outputs": [
    {
     "data": {
      "text/plain": [
       "0    1\n",
       "1    2\n",
       "2    3\n",
       "Name: asdf, dtype: int64"
      ]
     },
     "execution_count": 18,
     "metadata": {},
     "output_type": "execute_result"
    }
   ],
   "source": [
    "pd.Series([1,2,3], name='asdf')"
   ]
  },
  {
   "cell_type": "code",
   "execution_count": null,
   "id": "d29e5cce-69e2-49d9-8bcc-488bcf95078e",
   "metadata": {},
   "outputs": [],
   "source": []
  },
  {
   "cell_type": "code",
   "execution_count": null,
   "id": "1ca410e6-a2dc-465b-82a5-d95b9def516a",
   "metadata": {},
   "outputs": [],
   "source": []
  },
  {
   "cell_type": "code",
   "execution_count": 39,
   "id": "803d1b48-335c-4b95-b24d-ef221a783697",
   "metadata": {},
   "outputs": [],
   "source": [
    "df = pd.Series([1,2,3,4], index=[(1,), (1,), (1,), [1,]])"
   ]
  },
  {
   "cell_type": "code",
   "execution_count": null,
   "id": "a0c3187a-c4f9-449b-ac59-b1a97be96568",
   "metadata": {},
   "outputs": [],
   "source": []
  },
  {
   "cell_type": "code",
   "execution_count": null,
   "id": "ca829767-29a7-4af7-ae3c-21b81e39e70c",
   "metadata": {},
   "outputs": [],
   "source": []
  },
  {
   "cell_type": "code",
   "execution_count": null,
   "id": "27e35d15-4e97-42b4-8ff5-3180da8ce8ce",
   "metadata": {},
   "outputs": [],
   "source": []
  },
  {
   "cell_type": "code",
   "execution_count": 40,
   "id": "4189b50a-7160-4240-866e-9e7d93d71168",
   "metadata": {},
   "outputs": [
    {
     "data": {
      "text/plain": [
       "Index([(1,), (1,), (1,), [1]], dtype='object')"
      ]
     },
     "execution_count": 40,
     "metadata": {},
     "output_type": "execute_result"
    }
   ],
   "source": [
    "df.index"
   ]
  },
  {
   "cell_type": "code",
   "execution_count": 41,
   "id": "951d6362-1d2b-43a4-b66d-7eaf43c76bf1",
   "metadata": {},
   "outputs": [
    {
     "data": {
      "text/plain": [
       "array([1, 2, 3, 4], dtype=int64)"
      ]
     },
     "execution_count": 41,
     "metadata": {},
     "output_type": "execute_result"
    }
   ],
   "source": [
    "df.values"
   ]
  },
  {
   "cell_type": "code",
   "execution_count": 42,
   "id": "2cf3db83-5e18-4741-85fe-4659fdfe8810",
   "metadata": {},
   "outputs": [
    {
     "data": {
      "text/plain": [
       "dtype('int64')"
      ]
     },
     "execution_count": 42,
     "metadata": {},
     "output_type": "execute_result"
    }
   ],
   "source": [
    "df.dtype"
   ]
  },
  {
   "cell_type": "code",
   "execution_count": 43,
   "id": "7269f211-e18c-4b07-8418-0bcdc69a4c32",
   "metadata": {},
   "outputs": [
    {
     "data": {
      "text/plain": [
       "(4,)"
      ]
     },
     "execution_count": 43,
     "metadata": {},
     "output_type": "execute_result"
    }
   ],
   "source": [
    "df.shape"
   ]
  },
  {
   "cell_type": "code",
   "execution_count": 44,
   "id": "d5f2b391-2d3e-4fce-a282-0a5b8d344862",
   "metadata": {},
   "outputs": [
    {
     "data": {
      "text/plain": [
       "4"
      ]
     },
     "execution_count": 44,
     "metadata": {},
     "output_type": "execute_result"
    }
   ],
   "source": [
    "df.size"
   ]
  },
  {
   "cell_type": "code",
   "execution_count": 45,
   "id": "79060abb-efaa-4009-88be-593b8d44a742",
   "metadata": {},
   "outputs": [
    {
     "data": {
      "text/plain": [
       "1"
      ]
     },
     "execution_count": 45,
     "metadata": {},
     "output_type": "execute_result"
    }
   ],
   "source": [
    "df.ndim"
   ]
  },
  {
   "cell_type": "code",
   "execution_count": 47,
   "id": "ec97f30a-a8ff-49f7-99bc-317d052285ea",
   "metadata": {},
   "outputs": [
    {
     "data": {
      "text/plain": [
       "False"
      ]
     },
     "execution_count": 47,
     "metadata": {},
     "output_type": "execute_result"
    }
   ],
   "source": [
    "df.hasnans"
   ]
  },
  {
   "cell_type": "code",
   "execution_count": null,
   "id": "ae89e61d-7d21-45dc-84ab-9e40813e7ff1",
   "metadata": {},
   "outputs": [],
   "source": []
  },
  {
   "cell_type": "code",
   "execution_count": null,
   "id": "0b08c2f7-89a2-4f9d-8514-1bc9e2ac2e30",
   "metadata": {},
   "outputs": [],
   "source": []
  },
  {
   "cell_type": "code",
   "execution_count": null,
   "id": "e4683c09-931c-4357-b239-17b80cc74e7f",
   "metadata": {},
   "outputs": [],
   "source": []
  },
  {
   "cell_type": "code",
   "execution_count": null,
   "id": "8961c851-217f-42c3-a9f9-ff0acbc4901d",
   "metadata": {},
   "outputs": [],
   "source": []
  },
  {
   "cell_type": "code",
   "execution_count": null,
   "id": "ac9e0992-c9fa-4885-9116-c578c5b8e9b6",
   "metadata": {},
   "outputs": [],
   "source": []
  },
  {
   "cell_type": "code",
   "execution_count": null,
   "id": "36445e75-93d3-4665-8dc1-12bf484ac9dd",
   "metadata": {},
   "outputs": [],
   "source": []
  },
  {
   "cell_type": "code",
   "execution_count": 52,
   "id": "410af42e-b813-4dab-b567-e97dc57ab168",
   "metadata": {},
   "outputs": [
    {
     "data": {
      "text/plain": [
       "0    1\n",
       "1    2\n",
       "2    3\n",
       "3    4\n",
       "4    5\n",
       "dtype: int64"
      ]
     },
     "execution_count": 52,
     "metadata": {},
     "output_type": "execute_result"
    }
   ],
   "source": [
    "s = pd.Series([1,2,3,4,5])\n",
    "s"
   ]
  },
  {
   "cell_type": "code",
   "execution_count": 53,
   "id": "950cd0de-3995-4bce-9a27-0910ff3e06b7",
   "metadata": {
    "tags": []
   },
   "outputs": [
    {
     "data": {
      "text/plain": [
       "2"
      ]
     },
     "execution_count": 53,
     "metadata": {},
     "output_type": "execute_result"
    }
   ],
   "source": [
    "s[1]"
   ]
  },
  {
   "cell_type": "code",
   "execution_count": 55,
   "id": "9d77039e-73d2-46da-a311-52c09b7f814e",
   "metadata": {},
   "outputs": [
    {
     "data": {
      "text/plain": [
       "78    1\n",
       "83    2\n",
       "68    3\n",
       "30    4\n",
       "47    5\n",
       "dtype: int64"
      ]
     },
     "execution_count": 55,
     "metadata": {},
     "output_type": "execute_result"
    }
   ],
   "source": [
    "s = pd.Series([1,2,3,4,5], index=np.random.randint(0, 100, 5))\n",
    "s"
   ]
  },
  {
   "cell_type": "code",
   "execution_count": 58,
   "id": "3afbd879-9765-4322-aa77-9ae80876965a",
   "metadata": {
    "tags": []
   },
   "outputs": [
    {
     "data": {
      "text/plain": [
       "1"
      ]
     },
     "execution_count": 58,
     "metadata": {},
     "output_type": "execute_result"
    }
   ],
   "source": [
    "s[78]"
   ]
  },
  {
   "cell_type": "code",
   "execution_count": 78,
   "id": "87647e79-188a-4129-ac08-7d1d26e3162c",
   "metadata": {
    "tags": []
   },
   "outputs": [
    {
     "data": {
      "text/plain": [
       "0.129161    1\n",
       "0.161489    2\n",
       "0.786101    3\n",
       "0.468501    4\n",
       "0.865625    5\n",
       "dtype: int64"
      ]
     },
     "execution_count": 78,
     "metadata": {},
     "output_type": "execute_result"
    }
   ],
   "source": [
    "# s = pd.Series([1,2,3,4,5], index=['num1', 'num2', 'num3', 'num4', 'num5'])\n",
    "# s = pd.Series([1,2,3,4,5], index=[(1, ), (2, ), (3, ), (4, ), (5, )])\n",
    "s = pd.Series([1,2,3,4,5], index=np.random.random(5))\n",
    "s"
   ]
  },
  {
   "cell_type": "code",
   "execution_count": null,
   "id": "319fc7e9-bdd8-49ca-aca0-399394b1deba",
   "metadata": {},
   "outputs": [],
   "source": [
    "s[0.129161]"
   ]
  },
  {
   "cell_type": "code",
   "execution_count": 76,
   "id": "4fefcdd6-f600-4927-bd38-01d104b7f090",
   "metadata": {},
   "outputs": [
    {
     "data": {
      "text/plain": [
       "4"
      ]
     },
     "execution_count": 76,
     "metadata": {},
     "output_type": "execute_result"
    }
   ],
   "source": [
    "s.__getitem__((4,))"
   ]
  },
  {
   "cell_type": "code",
   "execution_count": 77,
   "id": "dfa28b82-f1f5-49cd-928d-23ecad918822",
   "metadata": {},
   "outputs": [
    {
     "data": {
      "text/plain": [
       "5"
      ]
     },
     "execution_count": 77,
     "metadata": {},
     "output_type": "execute_result"
    }
   ],
   "source": [
    "s.__getitem__(4)"
   ]
  },
  {
   "cell_type": "code",
   "execution_count": null,
   "id": "10f97136-9885-479b-95e1-6588b9c41561",
   "metadata": {},
   "outputs": [],
   "source": []
  },
  {
   "cell_type": "code",
   "execution_count": null,
   "id": "fe3ce4bc-d343-4f02-88a9-f0625864fcd1",
   "metadata": {},
   "outputs": [],
   "source": []
  },
  {
   "cell_type": "code",
   "execution_count": null,
   "id": "86dd1ef4-ce50-4f98-b069-269235a5c0a2",
   "metadata": {},
   "outputs": [],
   "source": []
  },
  {
   "cell_type": "code",
   "execution_count": 83,
   "id": "693bea7d-670c-42fc-8fee-c2b4bd02e011",
   "metadata": {},
   "outputs": [
    {
     "data": {
      "text/plain": [
       "49    1\n",
       "26    2\n",
       "59    3\n",
       "38    4\n",
       "76    5\n",
       "dtype: int64"
      ]
     },
     "execution_count": 83,
     "metadata": {},
     "output_type": "execute_result"
    }
   ],
   "source": [
    "s = pd.Series([1,2,3,4,5], index=np.random.randint(0, 100, 5))\n",
    "s"
   ]
  },
  {
   "cell_type": "code",
   "execution_count": 84,
   "id": "0b9df971-7fa4-4cbd-895a-08db7c167192",
   "metadata": {},
   "outputs": [
    {
     "data": {
      "text/plain": [
       "49    1\n",
       "26    2\n",
       "dtype: int64"
      ]
     },
     "execution_count": 84,
     "metadata": {},
     "output_type": "execute_result"
    }
   ],
   "source": [
    "s[[49, 26]]"
   ]
  },
  {
   "cell_type": "code",
   "execution_count": 85,
   "id": "00326380-afd7-47ee-9510-7d74fbbdc26f",
   "metadata": {},
   "outputs": [
    {
     "data": {
      "text/plain": [
       "num1    1\n",
       "num2    2\n",
       "num3    3\n",
       "num4    4\n",
       "num5    5\n",
       "dtype: int64"
      ]
     },
     "execution_count": 85,
     "metadata": {},
     "output_type": "execute_result"
    }
   ],
   "source": [
    "s = pd.Series([1,2,3,4,5], index=['num1', 'num2', 'num3', 'num4', 'num5'])\n",
    "s"
   ]
  },
  {
   "cell_type": "code",
   "execution_count": 87,
   "id": "b76fa511-ff70-44e3-9462-916df42e90c2",
   "metadata": {},
   "outputs": [
    {
     "data": {
      "text/plain": [
       "num1    1\n",
       "num2    2\n",
       "dtype: int64"
      ]
     },
     "execution_count": 87,
     "metadata": {},
     "output_type": "execute_result"
    }
   ],
   "source": [
    "s[['num1', 'num2']]"
   ]
  },
  {
   "cell_type": "code",
   "execution_count": 88,
   "id": "1c8a421e-750c-4d15-9bd2-e8fb997a0022",
   "metadata": {},
   "outputs": [
    {
     "data": {
      "text/plain": [
       "num2    2\n",
       "num3    3\n",
       "dtype: int64"
      ]
     },
     "execution_count": 88,
     "metadata": {},
     "output_type": "execute_result"
    }
   ],
   "source": [
    "s[[1, 2]]"
   ]
  },
  {
   "cell_type": "code",
   "execution_count": null,
   "id": "4d619568-f0c3-4651-a1ea-300ff5507ea8",
   "metadata": {},
   "outputs": [],
   "source": []
  },
  {
   "cell_type": "code",
   "execution_count": null,
   "id": "6c010178-a668-4b6a-800c-c1fd5c719ba9",
   "metadata": {},
   "outputs": [],
   "source": []
  },
  {
   "cell_type": "code",
   "execution_count": null,
   "id": "3782448c-11eb-4e58-8c3b-6d8be6705ffa",
   "metadata": {},
   "outputs": [],
   "source": []
  },
  {
   "cell_type": "code",
   "execution_count": 89,
   "id": "4a29b779-a2dd-4d1e-9b3d-9f855c2bef8f",
   "metadata": {},
   "outputs": [
    {
     "data": {
      "text/plain": [
       "num1    1\n",
       "num2    2\n",
       "num3    3\n",
       "num4    4\n",
       "num5    5\n",
       "dtype: int64"
      ]
     },
     "execution_count": 89,
     "metadata": {},
     "output_type": "execute_result"
    }
   ],
   "source": [
    "s = pd.Series([1,2,3,4,5], index=['num1', 'num2', 'num3', 'num4', 'num5'])\n",
    "s"
   ]
  },
  {
   "cell_type": "code",
   "execution_count": 94,
   "id": "e899688c-7b98-474c-af3e-75b360ff7e87",
   "metadata": {},
   "outputs": [
    {
     "data": {
      "text/plain": [
       "num1    1\n",
       "dtype: int64"
      ]
     },
     "execution_count": 94,
     "metadata": {},
     "output_type": "execute_result"
    }
   ],
   "source": [
    "s2 = s.loc[['num1']]\n",
    "s2"
   ]
  },
  {
   "cell_type": "code",
   "execution_count": 95,
   "id": "51a2ee57-cb17-432c-9366-c24bf976941e",
   "metadata": {},
   "outputs": [],
   "source": [
    "s2.iloc[0] = 99"
   ]
  },
  {
   "cell_type": "code",
   "execution_count": 96,
   "id": "6a1a1786-38c5-4684-92f7-75b7dad80806",
   "metadata": {},
   "outputs": [
    {
     "data": {
      "text/plain": [
       "num1    99\n",
       "dtype: int64"
      ]
     },
     "execution_count": 96,
     "metadata": {},
     "output_type": "execute_result"
    }
   ],
   "source": [
    "s2"
   ]
  },
  {
   "cell_type": "code",
   "execution_count": 97,
   "id": "2c71a043-82fc-4b62-a885-83fd6ecd92d4",
   "metadata": {},
   "outputs": [
    {
     "data": {
      "text/plain": [
       "num1    1\n",
       "num2    2\n",
       "num3    3\n",
       "num4    4\n",
       "num5    5\n",
       "dtype: int64"
      ]
     },
     "execution_count": 97,
     "metadata": {},
     "output_type": "execute_result"
    }
   ],
   "source": [
    "s"
   ]
  },
  {
   "cell_type": "code",
   "execution_count": 93,
   "id": "78f90cf4-2ec5-42b1-9b1b-746c49e84036",
   "metadata": {},
   "outputs": [
    {
     "data": {
      "text/plain": [
       "num1    1\n",
       "dtype: int64"
      ]
     },
     "execution_count": 93,
     "metadata": {},
     "output_type": "execute_result"
    }
   ],
   "source": [
    "s.iloc[[0]]"
   ]
  },
  {
   "cell_type": "code",
   "execution_count": null,
   "id": "106e5a45-1ec0-4d95-bb2f-9252bfbd5264",
   "metadata": {},
   "outputs": [],
   "source": []
  },
  {
   "cell_type": "code",
   "execution_count": null,
   "id": "6e16fca5-c4a6-4bf2-b08b-3d517f946274",
   "metadata": {},
   "outputs": [],
   "source": []
  },
  {
   "cell_type": "code",
   "execution_count": null,
   "id": "c4cac512-9610-4546-b1f0-8bc0ff857a4f",
   "metadata": {},
   "outputs": [],
   "source": []
  },
  {
   "cell_type": "code",
   "execution_count": 102,
   "id": "3a908960-1e90-46ab-b7dd-abbab40c7df0",
   "metadata": {
    "tags": []
   },
   "outputs": [
    {
     "data": {
      "text/plain": [
       "0    1\n",
       "1    2\n",
       "2    3\n",
       "3    4\n",
       "4    5\n",
       "5    5\n",
       "dtype: int64"
      ]
     },
     "execution_count": 102,
     "metadata": {},
     "output_type": "execute_result"
    }
   ],
   "source": [
    "s = pd.Series([1,2,3,4,5,5])\n",
    "s"
   ]
  },
  {
   "cell_type": "code",
   "execution_count": 103,
   "id": "1018c0db-b8db-498f-9dd0-0ebafab79136",
   "metadata": {},
   "outputs": [
    {
     "data": {
      "text/plain": [
       "0    1\n",
       "1    2\n",
       "2    3\n",
       "3    4\n",
       "dtype: int64"
      ]
     },
     "execution_count": 103,
     "metadata": {},
     "output_type": "execute_result"
    }
   ],
   "source": [
    "s[0:4]"
   ]
  },
  {
   "cell_type": "code",
   "execution_count": null,
   "id": "e3975047-81f4-424b-8692-e2b37e95dadc",
   "metadata": {},
   "outputs": [],
   "source": []
  },
  {
   "cell_type": "code",
   "execution_count": 120,
   "id": "48ceebd5-7be4-446e-9105-4cfed2b3a54b",
   "metadata": {},
   "outputs": [
    {
     "data": {
      "text/plain": [
       "0     1\n",
       "5     2\n",
       "10    3\n",
       "15    4\n",
       "20    5\n",
       "25    5\n",
       "dtype: int64"
      ]
     },
     "execution_count": 120,
     "metadata": {},
     "output_type": "execute_result"
    }
   ],
   "source": [
    "s = pd.Series([1,2,3,4,5,5], index=[0, 5, 10, 15, 20, 25])\n",
    "s"
   ]
  },
  {
   "cell_type": "code",
   "execution_count": 121,
   "id": "a8838094-a648-4859-849f-37e0e3917805",
   "metadata": {},
   "outputs": [
    {
     "data": {
      "text/plain": [
       "0     1\n",
       "5     2\n",
       "10    3\n",
       "dtype: int64"
      ]
     },
     "execution_count": 121,
     "metadata": {},
     "output_type": "execute_result"
    }
   ],
   "source": [
    "s[0:3]"
   ]
  },
  {
   "cell_type": "code",
   "execution_count": 109,
   "id": "126e6de4-0685-4d25-af6b-7cf5bca016af",
   "metadata": {},
   "outputs": [
    {
     "data": {
      "text/plain": [
       "num1    1\n",
       "num2    2\n",
       "num3    3\n",
       "num4    4\n",
       "num5    5\n",
       "dtype: int64"
      ]
     },
     "execution_count": 109,
     "metadata": {},
     "output_type": "execute_result"
    }
   ],
   "source": [
    "s = pd.Series([1,2,3,4,5], ['num1', 'num2', 'num3', 'num4', 'num5'])\n",
    "s"
   ]
  },
  {
   "cell_type": "code",
   "execution_count": 114,
   "id": "8aa5e870-904a-49cb-9c5c-2b0fa162b9a0",
   "metadata": {},
   "outputs": [
    {
     "data": {
      "text/plain": [
       "num3    3\n",
       "num2    2\n",
       "num1    1\n",
       "dtype: int64"
      ]
     },
     "execution_count": 114,
     "metadata": {},
     "output_type": "execute_result"
    }
   ],
   "source": [
    "s['num3':'num1':-1]"
   ]
  },
  {
   "cell_type": "code",
   "execution_count": 111,
   "id": "4d4fe9bc-4d01-47e8-b7b9-71e1db0ced2a",
   "metadata": {},
   "outputs": [
    {
     "data": {
      "text/plain": [
       "num2    2\n",
       "num3    3\n",
       "dtype: int64"
      ]
     },
     "execution_count": 111,
     "metadata": {},
     "output_type": "execute_result"
    }
   ],
   "source": [
    "s[1:3]"
   ]
  },
  {
   "cell_type": "code",
   "execution_count": null,
   "id": "c3913078-0bf4-49d2-8819-8a6f421749ef",
   "metadata": {},
   "outputs": [],
   "source": []
  },
  {
   "cell_type": "code",
   "execution_count": null,
   "id": "6af7b7d4-4254-4056-af30-c0913ce846a3",
   "metadata": {},
   "outputs": [],
   "source": []
  },
  {
   "cell_type": "code",
   "execution_count": 116,
   "id": "6cb778d6-bf99-4639-8b6f-9081b7472ba3",
   "metadata": {},
   "outputs": [
    {
     "data": {
      "text/plain": [
       "num1    1\n",
       "num3    3\n",
       "num5    5\n",
       "dtype: int64"
      ]
     },
     "execution_count": 116,
     "metadata": {},
     "output_type": "execute_result"
    }
   ],
   "source": [
    "s2 = s['num1':'num5':2]\n",
    "s2"
   ]
  },
  {
   "cell_type": "code",
   "execution_count": 117,
   "id": "1ed5f98d-d4d5-4bea-9537-a22cbe796455",
   "metadata": {},
   "outputs": [],
   "source": [
    "s2[0] = 99"
   ]
  },
  {
   "cell_type": "code",
   "execution_count": 118,
   "id": "7674f107-783e-4b0e-bb6b-3b668699817c",
   "metadata": {},
   "outputs": [
    {
     "data": {
      "text/plain": [
       "num1    99\n",
       "num3     3\n",
       "num5     5\n",
       "dtype: int64"
      ]
     },
     "execution_count": 118,
     "metadata": {},
     "output_type": "execute_result"
    }
   ],
   "source": [
    "s2"
   ]
  },
  {
   "cell_type": "code",
   "execution_count": 119,
   "id": "db292557-1409-48d0-a481-4de4d7c51486",
   "metadata": {},
   "outputs": [
    {
     "data": {
      "text/plain": [
       "num1    99\n",
       "num2     2\n",
       "num3     3\n",
       "num4     4\n",
       "num5     5\n",
       "dtype: int64"
      ]
     },
     "execution_count": 119,
     "metadata": {},
     "output_type": "execute_result"
    }
   ],
   "source": [
    "s"
   ]
  },
  {
   "cell_type": "code",
   "execution_count": null,
   "id": "8e9b694f-c1d1-4a8d-b68e-46fecb0f593c",
   "metadata": {},
   "outputs": [],
   "source": []
  },
  {
   "cell_type": "code",
   "execution_count": null,
   "id": "6368dda9-0a74-41d6-9172-f68bfdc023ad",
   "metadata": {},
   "outputs": [],
   "source": []
  },
  {
   "cell_type": "code",
   "execution_count": null,
   "id": "faa6d97e-f9d1-4aff-8cb6-fdd4c35c4b17",
   "metadata": {},
   "outputs": [],
   "source": []
  },
  {
   "cell_type": "code",
   "execution_count": 133,
   "id": "8f0409bc-2951-492d-aeee-c846775aac18",
   "metadata": {},
   "outputs": [
    {
     "data": {
      "text/plain": [
       "5     1\n",
       "10    2\n",
       "15    3\n",
       "20    4\n",
       "25    5\n",
       "dtype: int64"
      ]
     },
     "execution_count": 133,
     "metadata": {},
     "output_type": "execute_result"
    }
   ],
   "source": [
    "s = pd.Series([1,2,3,4,5], index=[5,10,15,20,25])\n",
    "s"
   ]
  },
  {
   "cell_type": "code",
   "execution_count": 134,
   "id": "5876cf05-a049-4c58-910d-7b0912f2d987",
   "metadata": {},
   "outputs": [
    {
     "data": {
      "text/plain": [
       "10    2\n",
       "15    3\n",
       "20    4\n",
       "25    5\n",
       "dtype: int64"
      ]
     },
     "execution_count": 134,
     "metadata": {},
     "output_type": "execute_result"
    }
   ],
   "source": [
    "s.loc[10:25]"
   ]
  },
  {
   "cell_type": "code",
   "execution_count": 136,
   "id": "8df2856d-bc66-4cbe-a4a6-13acc8d4ae8a",
   "metadata": {},
   "outputs": [
    {
     "data": {
      "text/plain": [
       "10    2\n",
       "15    3\n",
       "dtype: int64"
      ]
     },
     "execution_count": 136,
     "metadata": {},
     "output_type": "execute_result"
    }
   ],
   "source": [
    "s.iloc[1:3]"
   ]
  },
  {
   "cell_type": "code",
   "execution_count": null,
   "id": "1d156243-f524-4d4d-9c97-1312d96bc945",
   "metadata": {},
   "outputs": [],
   "source": []
  },
  {
   "cell_type": "code",
   "execution_count": null,
   "id": "2a0c3bcf-e0c2-427c-8b10-470022a6743c",
   "metadata": {},
   "outputs": [],
   "source": []
  },
  {
   "cell_type": "code",
   "execution_count": 131,
   "id": "90705a1c-ec4c-49e6-8c00-38cb63699c4e",
   "metadata": {},
   "outputs": [
    {
     "data": {
      "text/plain": [
       "num1    1\n",
       "num2    2\n",
       "num3    3\n",
       "num4    4\n",
       "num5    5\n",
       "dtype: int64"
      ]
     },
     "execution_count": 131,
     "metadata": {},
     "output_type": "execute_result"
    }
   ],
   "source": [
    "s = pd.Series([1,2,3,4,5], index=['num1', 'num2', 'num3', 'num4', 'num5'])\n",
    "s"
   ]
  },
  {
   "cell_type": "code",
   "execution_count": 132,
   "id": "32222db8-8802-46b5-b6bd-8483fdb8307e",
   "metadata": {},
   "outputs": [
    {
     "data": {
      "text/plain": [
       "num1    1\n",
       "num2    2\n",
       "num3    3\n",
       "dtype: int64"
      ]
     },
     "execution_count": 132,
     "metadata": {},
     "output_type": "execute_result"
    }
   ],
   "source": [
    "s.loc['num1':'num3']"
   ]
  },
  {
   "cell_type": "code",
   "execution_count": 137,
   "id": "534ef05c-3e32-4172-ae2a-a2e85a672d85",
   "metadata": {},
   "outputs": [
    {
     "data": {
      "text/plain": [
       "10    2\n",
       "15    3\n",
       "dtype: int64"
      ]
     },
     "execution_count": 137,
     "metadata": {},
     "output_type": "execute_result"
    }
   ],
   "source": [
    "s.iloc[1:3]"
   ]
  }
 ],
 "metadata": {
  "kernelspec": {
   "display_name": "tools-and-techniques-in-data-science",
   "language": "python",
   "name": "tools-and-techniques-in-data-science"
  },
  "language_info": {
   "codemirror_mode": {
    "name": "ipython",
    "version": 3
   },
   "file_extension": ".py",
   "mimetype": "text/x-python",
   "name": "python",
   "nbconvert_exporter": "python",
   "pygments_lexer": "ipython3",
   "version": "3.9.7"
  }
 },
 "nbformat": 4,
 "nbformat_minor": 5
}
