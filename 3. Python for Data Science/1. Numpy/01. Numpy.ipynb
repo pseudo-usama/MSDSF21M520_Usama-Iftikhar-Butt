{
 "cells": [
  {
   "cell_type": "code",
   "execution_count": 1,
   "id": "65e1a3b4-7dbc-4f30-b6c8-26f2b544e0ea",
   "metadata": {},
   "outputs": [],
   "source": [
    "import numpy as np"
   ]
  },
  {
   "cell_type": "code",
   "execution_count": 2,
   "id": "79b86ad6-eeb8-4159-bf22-dc99409e220a",
   "metadata": {},
   "outputs": [
    {
     "data": {
      "text/plain": [
       "array([0., 0., 0.])"
      ]
     },
     "execution_count": 2,
     "metadata": {},
     "output_type": "execute_result"
    }
   ],
   "source": [
    "np.zeros(3)"
   ]
  },
  {
   "cell_type": "code",
   "execution_count": 4,
   "id": "d6b1aae9-dc99-4f65-a75d-a729e945d388",
   "metadata": {},
   "outputs": [
    {
     "data": {
      "text/plain": [
       "array([1., 1., 1.])"
      ]
     },
     "execution_count": 4,
     "metadata": {},
     "output_type": "execute_result"
    }
   ],
   "source": [
    "np.ones(3)"
   ]
  },
  {
   "cell_type": "code",
   "execution_count": 13,
   "id": "cb8e10d3-eb24-47e9-afd2-4e83fc24902e",
   "metadata": {},
   "outputs": [
    {
     "data": {
      "text/plain": [
       "(4,)"
      ]
     },
     "execution_count": 13,
     "metadata": {},
     "output_type": "execute_result"
    }
   ],
   "source": [
    "np.array([1, 2, 3], order='F').strides"
   ]
  },
  {
   "cell_type": "code",
   "execution_count": 14,
   "id": "14c7f63c-d27c-469a-b5a8-3d6ea0282106",
   "metadata": {},
   "outputs": [
    {
     "data": {
      "text/plain": [
       "(4,)"
      ]
     },
     "execution_count": 14,
     "metadata": {},
     "output_type": "execute_result"
    }
   ],
   "source": [
    "np.array([1, 2, 3], order='C').strides"
   ]
  },
  {
   "cell_type": "code",
   "execution_count": 22,
   "id": "e36f50e6-e560-421c-8e62-4be4a303c43b",
   "metadata": {},
   "outputs": [
    {
     "data": {
      "text/plain": [
       "(2, 1)"
      ]
     },
     "execution_count": 22,
     "metadata": {},
     "output_type": "execute_result"
    }
   ],
   "source": [
    "np.array([[1, 2]], order='C', dtype=np.uint8).strides"
   ]
  },
  {
   "cell_type": "code",
   "execution_count": 23,
   "id": "6e9e9331-655d-42ab-8605-291452e8e716",
   "metadata": {},
   "outputs": [
    {
     "data": {
      "text/plain": [
       "(1, 1)"
      ]
     },
     "execution_count": 23,
     "metadata": {},
     "output_type": "execute_result"
    }
   ],
   "source": [
    "np.array([[1, 2]], order='F', dtype=np.uint8).strides"
   ]
  },
  {
   "cell_type": "code",
   "execution_count": 18,
   "id": "70bac785-93b3-452d-bbde-1ff0a0c40ece",
   "metadata": {},
   "outputs": [
    {
     "data": {
      "text/plain": [
       "dtype('int32')"
      ]
     },
     "execution_count": 18,
     "metadata": {},
     "output_type": "execute_result"
    }
   ],
   "source": [
    "np.array([[1, 2]], order='C').dtype"
   ]
  },
  {
   "cell_type": "code",
   "execution_count": 19,
   "id": "b6ca6edd-a291-4fa4-9307-f77728979a0d",
   "metadata": {},
   "outputs": [
    {
     "data": {
      "text/plain": [
       "dtype('int32')"
      ]
     },
     "execution_count": 19,
     "metadata": {},
     "output_type": "execute_result"
    }
   ],
   "source": [
    "np.array([[1, 2]], order='F').dtype"
   ]
  },
  {
   "cell_type": "code",
   "execution_count": null,
   "id": "f4555e07-b5f1-4869-80f0-883c33384cee",
   "metadata": {},
   "outputs": [],
   "source": []
  },
  {
   "cell_type": "code",
   "execution_count": null,
   "id": "5c80d8c6-415b-4e68-91a8-9bdf0a2c5c2a",
   "metadata": {},
   "outputs": [],
   "source": []
  },
  {
   "cell_type": "code",
   "execution_count": null,
   "id": "dff2f322-8a17-43b4-afdd-f9d1fa62c644",
   "metadata": {},
   "outputs": [],
   "source": []
  },
  {
   "cell_type": "code",
   "execution_count": 33,
   "id": "3040e49c-03ff-4ea4-9c76-840e0cc17ece",
   "metadata": {},
   "outputs": [],
   "source": [
    "arr = np.array([[1, 2, 3, 4, 5]])"
   ]
  },
  {
   "cell_type": "code",
   "execution_count": 59,
   "id": "941858a3-5bd3-43aa-b97d-8506f140b576",
   "metadata": {
    "tags": []
   },
   "outputs": [
    {
     "name": "stdout",
     "output_type": "stream",
     "text": [
      "arr:  1\n",
      "rank:  0\n",
      "shape:  ()\n",
      "strides:  ()\n",
      "itemsize:  4\n",
      "nbytes:  4\n"
     ]
    }
   ],
   "source": [
    "print('arr: ', arr)\n",
    "print('rank: ', arr.ndim)\n",
    "print('shape: ', arr.shape)\n",
    "print('strides: ', arr.strides)\n",
    "print('itemsize: ', arr.itemsize)\n",
    "print('nbytes: ', arr.nbytes)"
   ]
  },
  {
   "cell_type": "code",
   "execution_count": null,
   "id": "204163cd-23aa-4b9a-a1a3-2ccffdbd2093",
   "metadata": {},
   "outputs": [],
   "source": []
  },
  {
   "cell_type": "code",
   "execution_count": 37,
   "id": "760e5714-f794-41e2-852c-c05862b18b5a",
   "metadata": {},
   "outputs": [
    {
     "data": {
      "text/plain": [
       "<memory at 0x00000243B8D66790>"
      ]
     },
     "execution_count": 37,
     "metadata": {},
     "output_type": "execute_result"
    }
   ],
   "source": [
    "arr.data"
   ]
  },
  {
   "cell_type": "code",
   "execution_count": 43,
   "id": "1522485e-10ba-47fd-9440-ba792aaf6e1c",
   "metadata": {},
   "outputs": [
    {
     "data": {
      "text/plain": [
       "  C_CONTIGUOUS : True\n",
       "  F_CONTIGUOUS : True\n",
       "  OWNDATA : True\n",
       "  WRITEABLE : True\n",
       "  ALIGNED : True\n",
       "  WRITEBACKIFCOPY : False\n",
       "  UPDATEIFCOPY : False"
      ]
     },
     "execution_count": 43,
     "metadata": {},
     "output_type": "execute_result"
    }
   ],
   "source": [
    "arr.flags"
   ]
  },
  {
   "cell_type": "code",
   "execution_count": null,
   "id": "95e2db10-a73b-4b55-9897-19786d2eb9e6",
   "metadata": {},
   "outputs": [],
   "source": []
  },
  {
   "cell_type": "code",
   "execution_count": 45,
   "id": "9211cd49-9bd5-4bdf-bbb2-cead5d72ed7f",
   "metadata": {},
   "outputs": [
    {
     "data": {
      "text/plain": [
       "  C_CONTIGUOUS : True\n",
       "  F_CONTIGUOUS : True\n",
       "  OWNDATA : True\n",
       "  WRITEABLE : True\n",
       "  ALIGNED : True\n",
       "  WRITEBACKIFCOPY : False\n",
       "  UPDATEIFCOPY : False"
      ]
     },
     "execution_count": 45,
     "metadata": {},
     "output_type": "execute_result"
    }
   ],
   "source": [
    "np.array([1, 2], order='c').flags"
   ]
  },
  {
   "cell_type": "code",
   "execution_count": 48,
   "id": "8255c1a5-dff7-4623-b7ac-cd28ba14ca53",
   "metadata": {},
   "outputs": [
    {
     "data": {
      "text/plain": [
       "  C_CONTIGUOUS : True\n",
       "  F_CONTIGUOUS : True\n",
       "  OWNDATA : True\n",
       "  WRITEABLE : True\n",
       "  ALIGNED : True\n",
       "  WRITEBACKIFCOPY : False\n",
       "  UPDATEIFCOPY : False"
      ]
     },
     "execution_count": 48,
     "metadata": {},
     "output_type": "execute_result"
    }
   ],
   "source": [
    "np.array([1, 2], order='f').flags"
   ]
  },
  {
   "cell_type": "code",
   "execution_count": 51,
   "id": "34c995dc-6e72-4b99-aa40-a748cdc3ebd4",
   "metadata": {},
   "outputs": [
    {
     "data": {
      "text/plain": [
       "{'int': [numpy.int8, numpy.int16, numpy.int32, numpy.int64],\n",
       " 'uint': [numpy.uint8, numpy.uint16, numpy.uint32, numpy.uint64],\n",
       " 'float': [numpy.float16, numpy.float32, numpy.float64],\n",
       " 'complex': [numpy.complex64, numpy.complex128],\n",
       " 'others': [bool, object, bytes, str, numpy.void]}"
      ]
     },
     "execution_count": 51,
     "metadata": {},
     "output_type": "execute_result"
    }
   ],
   "source": [
    "np.sctypes"
   ]
  },
  {
   "cell_type": "code",
   "execution_count": 56,
   "id": "8ed00ca4-1b22-4772-8f58-f91c312ebb60",
   "metadata": {},
   "outputs": [
    {
     "data": {
      "text/plain": [
       "\u001b[1;31mInit signature:\u001b[0m \u001b[0mnp\u001b[0m\u001b[1;33m.\u001b[0m\u001b[0mint8\u001b[0m\u001b[1;33m(\u001b[0m\u001b[0mself\u001b[0m\u001b[1;33m,\u001b[0m \u001b[1;33m/\u001b[0m\u001b[1;33m,\u001b[0m \u001b[1;33m*\u001b[0m\u001b[0margs\u001b[0m\u001b[1;33m,\u001b[0m \u001b[1;33m**\u001b[0m\u001b[0mkwargs\u001b[0m\u001b[1;33m)\u001b[0m\u001b[1;33m\u001b[0m\u001b[1;33m\u001b[0m\u001b[0m\n",
       "\u001b[1;31mDocstring:\u001b[0m     \n",
       "Signed integer type, compatible with C ``char``.\n",
       "\n",
       ":Character code: ``'b'``\n",
       ":Canonical name: `numpy.byte`\n",
       ":Alias on this platform: `numpy.int8`: 8-bit signed integer (``-128`` to ``127``).\n",
       "\u001b[1;31mFile:\u001b[0m           c:\\programdata\\anaconda3\\envs\\tools-and-techniques-in-data-science\\lib\\site-packages\\numpy\\__init__.py\n",
       "\u001b[1;31mType:\u001b[0m           type\n",
       "\u001b[1;31mSubclasses:\u001b[0m     \n"
      ]
     },
     "metadata": {},
     "output_type": "display_data"
    }
   ],
   "source": [
    "np.int8?"
   ]
  },
  {
   "cell_type": "code",
   "execution_count": null,
   "id": "ff540525-bef5-42dc-b212-342d86dcd0bf",
   "metadata": {},
   "outputs": [],
   "source": []
  },
  {
   "cell_type": "code",
   "execution_count": null,
   "id": "e461ada0-7419-4d06-b878-fe5312236910",
   "metadata": {},
   "outputs": [],
   "source": []
  },
  {
   "cell_type": "code",
   "execution_count": null,
   "id": "5fb4dd1c-8adb-404b-ac17-1de4f30dcfd4",
   "metadata": {},
   "outputs": [],
   "source": []
  },
  {
   "cell_type": "markdown",
   "id": "98141c51-4775-42f9-9353-6c51bfcf1132",
   "metadata": {},
   "source": [
    "# 0 D"
   ]
  },
  {
   "cell_type": "code",
   "execution_count": 68,
   "id": "d37f2970-18cd-42e5-8711-e68973f0cf0c",
   "metadata": {},
   "outputs": [],
   "source": [
    "arr = np.array(1)"
   ]
  },
  {
   "cell_type": "code",
   "execution_count": 69,
   "id": "8b94e3c8-c26a-4a00-8cf7-7a4d907a0558",
   "metadata": {},
   "outputs": [
    {
     "name": "stdout",
     "output_type": "stream",
     "text": [
      "arr:  1\n",
      "ndim:  0\n",
      "shape:  ()\n",
      "size:  1\n",
      "itemsize:  4\n",
      "dtype:  int32\n",
      "nbytes:  4\n",
      "strides:  ()\n"
     ]
    }
   ],
   "source": [
    "print('arr: ', arr)\n",
    "print('ndim: ', arr.ndim)\n",
    "print('shape: ', arr.shape)\n",
    "print('size: ', arr.size)\n",
    "print('itemsize: ', arr.itemsize)\n",
    "print('dtype: ', arr.dtype)\n",
    "print('nbytes: ', arr.nbytes)\n",
    "print('strides: ', arr.strides)"
   ]
  },
  {
   "cell_type": "code",
   "execution_count": null,
   "id": "c1f974cb-a691-4564-bf90-8f347b6aaa04",
   "metadata": {},
   "outputs": [],
   "source": []
  },
  {
   "cell_type": "markdown",
   "id": "4b0d5052-32f6-46bd-a6c2-c964292f5484",
   "metadata": {},
   "source": [
    "# 1 D"
   ]
  },
  {
   "cell_type": "code",
   "execution_count": 71,
   "id": "51f1680d-f942-44c7-b843-0e3163dff056",
   "metadata": {},
   "outputs": [],
   "source": [
    "arr = np.array([1, 2, 3, 4])"
   ]
  },
  {
   "cell_type": "code",
   "execution_count": 72,
   "id": "46247bc9-39e3-455f-a9f4-1210818e715b",
   "metadata": {},
   "outputs": [
    {
     "name": "stdout",
     "output_type": "stream",
     "text": [
      "arr:  [1 2 3 4]\n",
      "ndim:  1\n",
      "shape:  (4,)\n",
      "size:  4\n",
      "itemsize:  4\n",
      "dtype:  int32\n",
      "nbytes:  16\n",
      "strides:  (4,)\n"
     ]
    }
   ],
   "source": [
    "print('arr: ', arr)\n",
    "print('ndim: ', arr.ndim)\n",
    "print('shape: ', arr.shape)\n",
    "print('size: ', arr.size)\n",
    "print('itemsize: ', arr.itemsize)\n",
    "print('dtype: ', arr.dtype)\n",
    "print('nbytes: ', arr.nbytes)\n",
    "print('strides: ', arr.strides)"
   ]
  },
  {
   "cell_type": "code",
   "execution_count": null,
   "id": "fb686aaa-a84f-4c10-8574-59000dc9bfa4",
   "metadata": {},
   "outputs": [],
   "source": []
  },
  {
   "cell_type": "markdown",
   "id": "b35059d2-bac4-4543-8f9d-f360a7ce46a1",
   "metadata": {},
   "source": [
    "# 2 D"
   ]
  },
  {
   "cell_type": "code",
   "execution_count": 73,
   "id": "aa9477c4-7fc1-4508-9e26-00a3a5cd4a57",
   "metadata": {},
   "outputs": [],
   "source": [
    "arr = np.array([\n",
    "    [1, 2, 3],\n",
    "    [4, 5, 6]\n",
    "])"
   ]
  },
  {
   "cell_type": "code",
   "execution_count": 74,
   "id": "ead81810-a4c9-490e-a506-936165d081ad",
   "metadata": {},
   "outputs": [
    {
     "name": "stdout",
     "output_type": "stream",
     "text": [
      "arr:  [[1 2 3]\n",
      " [4 5 6]]\n",
      "ndim:  2\n",
      "shape:  (2, 3)\n",
      "size:  6\n",
      "itemsize:  4\n",
      "dtype:  int32\n",
      "nbytes:  24\n",
      "strides:  (12, 4)\n"
     ]
    }
   ],
   "source": [
    "print('arr: ', arr)\n",
    "print('ndim: ', arr.ndim)\n",
    "print('shape: ', arr.shape)\n",
    "print('size: ', arr.size)\n",
    "print('itemsize: ', arr.itemsize)\n",
    "print('dtype: ', arr.dtype)\n",
    "print('nbytes: ', arr.nbytes)\n",
    "print('strides: ', arr.strides)"
   ]
  },
  {
   "cell_type": "code",
   "execution_count": 75,
   "id": "913359cd-fc96-4bdd-a34d-f7dab95adf97",
   "metadata": {},
   "outputs": [],
   "source": [
    "arr = np.array([[1], [2], [3]])"
   ]
  },
  {
   "cell_type": "code",
   "execution_count": 76,
   "id": "675a4980-cbc1-490d-970d-2153debec3a4",
   "metadata": {},
   "outputs": [
    {
     "name": "stdout",
     "output_type": "stream",
     "text": [
      "arr:  [[1]\n",
      " [2]\n",
      " [3]]\n",
      "ndim:  2\n",
      "shape:  (3, 1)\n",
      "size:  3\n",
      "itemsize:  4\n",
      "dtype:  int32\n",
      "nbytes:  12\n",
      "strides:  (4, 4)\n"
     ]
    }
   ],
   "source": [
    "print('arr: ', arr)\n",
    "print('ndim: ', arr.ndim)\n",
    "print('shape: ', arr.shape)\n",
    "print('size: ', arr.size)\n",
    "print('itemsize: ', arr.itemsize)\n",
    "print('dtype: ', arr.dtype)\n",
    "print('nbytes: ', arr.nbytes)\n",
    "print('strides: ', arr.strides)"
   ]
  },
  {
   "cell_type": "code",
   "execution_count": 77,
   "id": "d828a24f-cf36-4c78-a330-69158f45c02c",
   "metadata": {},
   "outputs": [],
   "source": [
    "arr = np.array([[1, 2, 3]])"
   ]
  },
  {
   "cell_type": "code",
   "execution_count": 78,
   "id": "570258fd-6a0e-443a-a57a-c6660291d839",
   "metadata": {},
   "outputs": [
    {
     "name": "stdout",
     "output_type": "stream",
     "text": [
      "arr:  [[1 2 3]]\n",
      "ndim:  2\n",
      "shape:  (1, 3)\n",
      "size:  3\n",
      "itemsize:  4\n",
      "dtype:  int32\n",
      "nbytes:  12\n",
      "strides:  (12, 4)\n"
     ]
    }
   ],
   "source": [
    "print('arr: ', arr)\n",
    "print('ndim: ', arr.ndim)\n",
    "print('shape: ', arr.shape)\n",
    "print('size: ', arr.size)\n",
    "print('itemsize: ', arr.itemsize)\n",
    "print('dtype: ', arr.dtype)\n",
    "print('nbytes: ', arr.nbytes)\n",
    "print('strides: ', arr.strides)"
   ]
  },
  {
   "cell_type": "code",
   "execution_count": null,
   "id": "42bb1eb1-5cba-43ff-bee5-b2c7411e3f81",
   "metadata": {},
   "outputs": [],
   "source": []
  },
  {
   "cell_type": "markdown",
   "id": "3942cab1-ddc8-4bed-aa6a-7e3ed9b146b5",
   "metadata": {},
   "source": [
    "# 3 D"
   ]
  },
  {
   "cell_type": "code",
   "execution_count": 82,
   "id": "a90bc357-2b17-4aba-a22f-7b62dbf82e3a",
   "metadata": {},
   "outputs": [],
   "source": [
    "arr = np.array([\n",
    "    [[1, 2, 3], [4, 5, 6]]\n",
    "])"
   ]
  },
  {
   "cell_type": "code",
   "execution_count": 84,
   "id": "04e1196c-31b5-4663-be37-516811dfdbba",
   "metadata": {},
   "outputs": [
    {
     "name": "stdout",
     "output_type": "stream",
     "text": [
      "arr:  [[[1 2 3]\n",
      "  [4 5 6]]]\n",
      "ndim:  3\n",
      "shape:  (1, 2, 3)\n",
      "size:  6\n",
      "itemsize:  4\n",
      "dtype:  int32\n",
      "nbytes:  24\n",
      "strides:  (24, 12, 4)\n"
     ]
    }
   ],
   "source": [
    "print('arr: ', arr)\n",
    "print('ndim: ', arr.ndim)\n",
    "print('shape: ', arr.shape)\n",
    "print('size: ', arr.size)\n",
    "print('itemsize: ', arr.itemsize)\n",
    "print('dtype: ', arr.dtype)\n",
    "print('nbytes: ', arr.nbytes)\n",
    "print('strides: ', arr.strides)"
   ]
  },
  {
   "cell_type": "code",
   "execution_count": null,
   "id": "55538c20-9bf7-496c-af0e-5c94da9aaacb",
   "metadata": {},
   "outputs": [],
   "source": []
  },
  {
   "cell_type": "code",
   "execution_count": null,
   "id": "d185dc84-71ee-4486-aced-a6152fc4dd6e",
   "metadata": {},
   "outputs": [],
   "source": []
  },
  {
   "cell_type": "code",
   "execution_count": null,
   "id": "884931e3-2f72-487d-b2ba-337b8255b9d3",
   "metadata": {},
   "outputs": [],
   "source": []
  },
  {
   "cell_type": "code",
   "execution_count": null,
   "id": "09567f01-9e26-4789-af59-4bea7ff67459",
   "metadata": {},
   "outputs": [],
   "source": []
  },
  {
   "cell_type": "code",
   "execution_count": null,
   "id": "bb3a32b2-922e-40cf-a9cd-6e79d5a5cd61",
   "metadata": {},
   "outputs": [],
   "source": []
  },
  {
   "cell_type": "code",
   "execution_count": null,
   "id": "696a50ee-4491-45aa-9081-732929fb4e5d",
   "metadata": {},
   "outputs": [],
   "source": [
    "help(np.zeros)"
   ]
  },
  {
   "cell_type": "code",
   "execution_count": null,
   "id": "2a4a8dd6-4595-444c-a7a8-8e9c983c5501",
   "metadata": {},
   "outputs": [],
   "source": [
    "np.empty?"
   ]
  },
  {
   "cell_type": "code",
   "execution_count": 113,
   "id": "56a655e7-25d9-4492-aed9-c313905222d1",
   "metadata": {},
   "outputs": [
    {
     "data": {
      "text/plain": [
       "<function numpy.empty_like>"
      ]
     },
     "execution_count": 113,
     "metadata": {},
     "output_type": "execute_result"
    }
   ],
   "source": [
    "np.empty_like"
   ]
  },
  {
   "cell_type": "code",
   "execution_count": 114,
   "id": "e05b061e-752c-43c3-9378-7e60abf087cc",
   "metadata": {},
   "outputs": [
    {
     "data": {
      "text/plain": [
       "<function numpy.zeros_like(a, dtype=None, order='K', subok=True, shape=None)>"
      ]
     },
     "execution_count": 114,
     "metadata": {},
     "output_type": "execute_result"
    }
   ],
   "source": [
    "np.zeros_like"
   ]
  },
  {
   "cell_type": "code",
   "execution_count": 115,
   "id": "8bb50e4f-a43c-4636-9080-e3a956094c58",
   "metadata": {},
   "outputs": [
    {
     "data": {
      "text/plain": [
       "<function numpy.ones_like(a, dtype=None, order='K', subok=True, shape=None)>"
      ]
     },
     "execution_count": 115,
     "metadata": {},
     "output_type": "execute_result"
    }
   ],
   "source": [
    "np.ones_like"
   ]
  },
  {
   "cell_type": "code",
   "execution_count": null,
   "id": "3da4cb58-9e30-4e93-965a-416855721d1f",
   "metadata": {},
   "outputs": [],
   "source": []
  },
  {
   "cell_type": "code",
   "execution_count": null,
   "id": "cca2f8ba-acef-45ff-9627-453a1baacf07",
   "metadata": {},
   "outputs": [],
   "source": []
  },
  {
   "cell_type": "code",
   "execution_count": null,
   "id": "5ee3dd1a-473b-4809-bcb5-5228702b8b88",
   "metadata": {},
   "outputs": [],
   "source": []
  },
  {
   "cell_type": "code",
   "execution_count": null,
   "id": "0265b8ba-7552-41c7-8972-a74f6a310889",
   "metadata": {},
   "outputs": [],
   "source": []
  },
  {
   "cell_type": "code",
   "execution_count": 122,
   "id": "0360facc-6a1b-4548-b3ba-a122e603393a",
   "metadata": {},
   "outputs": [
    {
     "name": "stderr",
     "output_type": "stream",
     "text": [
      "F:\\else\\Windows\\DELLTE~1/ipykernel_15996/2359113920.py:1: DeprecationWarning: string or file could not be read to its end due to unmatched data; this will raise a ValueError in the future.\n",
      "  np.fromstring('[1,2,3]', sep=',')\n"
     ]
    },
    {
     "data": {
      "text/plain": [
       "array([], dtype=float64)"
      ]
     },
     "execution_count": 122,
     "metadata": {},
     "output_type": "execute_result"
    }
   ],
   "source": [
    "np.fromstring('[1,2,3]', sep=',')"
   ]
  },
  {
   "cell_type": "code",
   "execution_count": null,
   "id": "1275376d-69c2-4b46-9553-656968d2f44e",
   "metadata": {},
   "outputs": [],
   "source": []
  },
  {
   "cell_type": "code",
   "execution_count": null,
   "id": "595d1e42-261e-4072-90f9-09acc5b0ed7d",
   "metadata": {},
   "outputs": [],
   "source": []
  },
  {
   "cell_type": "code",
   "execution_count": 123,
   "id": "ac710111-0ff2-4970-a12a-cc614ae50aa0",
   "metadata": {},
   "outputs": [
    {
     "data": {
      "text/plain": [
       "array([0, 1, 2, 3, 4])"
      ]
     },
     "execution_count": 123,
     "metadata": {},
     "output_type": "execute_result"
    }
   ],
   "source": [
    "np.arange(5)"
   ]
  },
  {
   "cell_type": "code",
   "execution_count": 125,
   "id": "aea207d2-0b3d-4eb3-82d1-09e6604ea745",
   "metadata": {},
   "outputs": [
    {
     "data": {
      "text/plain": [
       "array([1, 2])"
      ]
     },
     "execution_count": 125,
     "metadata": {},
     "output_type": "execute_result"
    }
   ],
   "source": [
    "np.arange(1, 3)"
   ]
  },
  {
   "cell_type": "code",
   "execution_count": 126,
   "id": "38b953b1-f0e3-4162-8ead-875b6cdd0e96",
   "metadata": {},
   "outputs": [
    {
     "data": {
      "text/plain": [
       "array([1. , 1.1, 1.2, 1.3, 1.4, 1.5, 1.6, 1.7, 1.8, 1.9, 2. , 2.1, 2.2,\n",
       "       2.3, 2.4, 2.5, 2.6, 2.7, 2.8, 2.9, 3. , 3.1, 3.2, 3.3, 3.4, 3.5,\n",
       "       3.6, 3.7, 3.8, 3.9, 4. , 4.1, 4.2, 4.3, 4.4, 4.5, 4.6, 4.7, 4.8,\n",
       "       4.9])"
      ]
     },
     "execution_count": 126,
     "metadata": {},
     "output_type": "execute_result"
    }
   ],
   "source": [
    "np.arange(1, 5, 0.1)"
   ]
  },
  {
   "cell_type": "code",
   "execution_count": 127,
   "id": "2c2a3318-5244-48be-86f7-506f72314997",
   "metadata": {},
   "outputs": [
    {
     "data": {
      "text/plain": [
       "array([10,  9,  8,  7,  6,  5,  4])"
      ]
     },
     "execution_count": 127,
     "metadata": {},
     "output_type": "execute_result"
    }
   ],
   "source": [
    "np.arange(10, 3, -1)"
   ]
  },
  {
   "cell_type": "code",
   "execution_count": null,
   "id": "e1a51e4b-1a7f-45ab-bce2-41b471ec6f93",
   "metadata": {},
   "outputs": [],
   "source": []
  },
  {
   "cell_type": "code",
   "execution_count": null,
   "id": "db979e38-721d-401c-bc6f-f28e843dfe69",
   "metadata": {},
   "outputs": [],
   "source": []
  },
  {
   "cell_type": "code",
   "execution_count": null,
   "id": "b6ba1f6b-cb74-407f-9c48-0c3ab24d9e3e",
   "metadata": {},
   "outputs": [],
   "source": []
  },
  {
   "cell_type": "code",
   "execution_count": null,
   "id": "eae03e78-e6fc-42b6-8d62-d74ecbbf52bb",
   "metadata": {},
   "outputs": [],
   "source": [
    "np.linspace?"
   ]
  },
  {
   "cell_type": "code",
   "execution_count": null,
   "id": "864f1710-51dd-4147-8bd1-dba68390c02b",
   "metadata": {},
   "outputs": [],
   "source": [
    "np.arange?"
   ]
  },
  {
   "cell_type": "code",
   "execution_count": null,
   "id": "3c73f0f3-dc8d-44b5-ace9-e6ed8bdb9a71",
   "metadata": {},
   "outputs": [],
   "source": []
  },
  {
   "cell_type": "code",
   "execution_count": null,
   "id": "7801619c-736a-47eb-ba21-0a03ecb5be5a",
   "metadata": {},
   "outputs": [],
   "source": []
  },
  {
   "cell_type": "code",
   "execution_count": null,
   "id": "8f1e682b-0abb-46a1-af39-83a31dc63bd5",
   "metadata": {},
   "outputs": [],
   "source": []
  },
  {
   "cell_type": "code",
   "execution_count": 134,
   "id": "694d1019-3913-4f81-a096-b17f21c6b3e9",
   "metadata": {},
   "outputs": [
    {
     "data": {
      "text/plain": [
       "array([1., 2.])"
      ]
     },
     "execution_count": 134,
     "metadata": {},
     "output_type": "execute_result"
    }
   ],
   "source": [
    "np.linspace(1, 2, 2)"
   ]
  },
  {
   "cell_type": "code",
   "execution_count": null,
   "id": "b4f50e5a-14d3-484c-9178-4739641add04",
   "metadata": {},
   "outputs": [],
   "source": []
  },
  {
   "cell_type": "code",
   "execution_count": null,
   "id": "a28bdee9-afad-483b-b9f6-114aedaa0d55",
   "metadata": {},
   "outputs": [],
   "source": []
  },
  {
   "cell_type": "code",
   "execution_count": null,
   "id": "25066695-0453-4928-b7b5-e46b871db104",
   "metadata": {},
   "outputs": [],
   "source": []
  },
  {
   "cell_type": "code",
   "execution_count": 135,
   "id": "a5d6380a-26ee-4236-b51a-0392394a8107",
   "metadata": {},
   "outputs": [
    {
     "data": {
      "text/plain": [
       "<module 'numpy.random' from 'C:\\\\ProgramData\\\\Anaconda3\\\\envs\\\\tools-and-techniques-in-data-science\\\\lib\\\\site-packages\\\\numpy\\\\random\\\\__init__.py'>"
      ]
     },
     "execution_count": 135,
     "metadata": {},
     "output_type": "execute_result"
    }
   ],
   "source": [
    "np.random"
   ]
  },
  {
   "cell_type": "code",
   "execution_count": 137,
   "id": "34351cb9-a39a-4ba7-a50c-1c9cea9049ba",
   "metadata": {},
   "outputs": [
    {
     "data": {
      "text/plain": [
       "\u001b[1;31mDocstring:\u001b[0m\n",
       "random(size=None)\n",
       "\n",
       "Return random floats in the half-open interval [0.0, 1.0). Alias for\n",
       "`random_sample` to ease forward-porting to the new random API.\n",
       "\u001b[1;31mType:\u001b[0m      builtin_function_or_method\n"
      ]
     },
     "metadata": {},
     "output_type": "display_data"
    }
   ],
   "source": [
    "np.random.random?"
   ]
  },
  {
   "cell_type": "code",
   "execution_count": null,
   "id": "d99b020e-a149-4158-a2dd-c3b2219d30ba",
   "metadata": {},
   "outputs": [],
   "source": []
  },
  {
   "cell_type": "code",
   "execution_count": null,
   "id": "68e44cf0-359f-43af-a81d-a53047af7a3a",
   "metadata": {},
   "outputs": [],
   "source": []
  },
  {
   "cell_type": "code",
   "execution_count": null,
   "id": "16dce300-df02-4448-9b41-f1be34b070d1",
   "metadata": {},
   "outputs": [],
   "source": [
    "np.random.random((1, 2))"
   ]
  },
  {
   "cell_type": "code",
   "execution_count": null,
   "id": "d68ea886-1ff1-428a-8362-ca9cd18ad225",
   "metadata": {},
   "outputs": [],
   "source": [
    "np.random.rand?"
   ]
  },
  {
   "cell_type": "code",
   "execution_count": null,
   "id": "f01cca5a-9d05-46ee-b8ad-f4f4e8cd4c07",
   "metadata": {},
   "outputs": [],
   "source": []
  },
  {
   "cell_type": "code",
   "execution_count": null,
   "id": "69f5a2da-ac1f-4d7e-b1c8-2a59e2b9c976",
   "metadata": {},
   "outputs": [],
   "source": []
  },
  {
   "cell_type": "code",
   "execution_count": null,
   "id": "545f44bf-a85f-43f4-aedf-f317d1c771cd",
   "metadata": {},
   "outputs": [],
   "source": []
  },
  {
   "cell_type": "code",
   "execution_count": null,
   "id": "175cdd16-ab69-4e31-ac12-5973629edbcb",
   "metadata": {},
   "outputs": [],
   "source": [
    "dir(np.random)"
   ]
  },
  {
   "cell_type": "code",
   "execution_count": null,
   "id": "5866070a-b24b-4641-a9b9-d488b9d33cab",
   "metadata": {},
   "outputs": [],
   "source": []
  },
  {
   "cell_type": "code",
   "execution_count": null,
   "id": "49660e16-0f78-4f6d-b6db-629caa849bdf",
   "metadata": {},
   "outputs": [],
   "source": []
  },
  {
   "cell_type": "code",
   "execution_count": null,
   "id": "5194b1c6-7021-4fc6-a310-810b4cd179a3",
   "metadata": {},
   "outputs": [],
   "source": []
  },
  {
   "cell_type": "code",
   "execution_count": null,
   "id": "5e2a8732-d31b-46a8-a199-d5e83d8ab3ba",
   "metadata": {},
   "outputs": [],
   "source": []
  },
  {
   "cell_type": "code",
   "execution_count": 171,
   "id": "0338b6cb-7be5-4d6a-be5b-63cd9deac666",
   "metadata": {},
   "outputs": [
    {
     "data": {
      "text/plain": [
       "array([[2, 9],\n",
       "       [3, 4]])"
      ]
     },
     "execution_count": 171,
     "metadata": {},
     "output_type": "execute_result"
    }
   ],
   "source": [
    "np.random.randint(1, 10, (2, 2))"
   ]
  },
  {
   "cell_type": "code",
   "execution_count": null,
   "id": "8f8c478f-9ee5-4a19-bd7d-be9c3fa7f5ff",
   "metadata": {},
   "outputs": [],
   "source": []
  },
  {
   "cell_type": "code",
   "execution_count": null,
   "id": "4b9885fd-a105-4287-b051-fb0a0f8f2333",
   "metadata": {},
   "outputs": [],
   "source": []
  },
  {
   "cell_type": "code",
   "execution_count": null,
   "id": "be34cf1e-5c43-49ee-a0ec-7b5d9979cea7",
   "metadata": {},
   "outputs": [],
   "source": []
  },
  {
   "cell_type": "code",
   "execution_count": null,
   "id": "0c59ebcb-e7ac-45ab-9b1a-d1a29b7ac687",
   "metadata": {},
   "outputs": [],
   "source": []
  },
  {
   "cell_type": "code",
   "execution_count": null,
   "id": "1d89af4f-3167-44ff-bebe-27e211af1554",
   "metadata": {},
   "outputs": [],
   "source": []
  },
  {
   "cell_type": "code",
   "execution_count": null,
   "id": "099ff1c1-084f-46ca-99da-c18ee1e5b564",
   "metadata": {},
   "outputs": [
    {
     "data": {
      "text/plain": [
       "  C_CONTIGUOUS : True\n",
       "  F_CONTIGUOUS : True\n",
       "  OWNDATA : True\n",
       "  WRITEABLE : True\n",
       "  ALIGNED : True\n",
       "  WRITEBACKIFCOPY : False\n",
       "  UPDATEIFCOPY : False"
      ]
     },
     "execution_count": 11,
     "metadata": {},
     "output_type": "execute_result"
    }
   ],
   "source": [
    "np.array([]).flags"
   ]
  },
  {
   "cell_type": "code",
   "execution_count": null,
   "id": "e6264cec-1d33-4ef5-94f1-f54740e97adf",
   "metadata": {},
   "outputs": [],
   "source": []
  },
  {
   "cell_type": "code",
   "execution_count": null,
   "id": "a32a898e-a5f4-4a89-ae0e-df358c249ffb",
   "metadata": {},
   "outputs": [],
   "source": []
  },
  {
   "cell_type": "code",
   "execution_count": null,
   "id": "745318f5-fd91-42c1-bf57-cb7a4e872a2a",
   "metadata": {},
   "outputs": [],
   "source": []
  },
  {
   "cell_type": "code",
   "execution_count": 21,
   "id": "b6c4c483-289d-4009-930b-36f7abaaa486",
   "metadata": {},
   "outputs": [
    {
     "name": "stdout",
     "output_type": "stream",
     "text": [
      "arr:  [1]\n",
      "ndim:  1\n",
      "shape:  (1,)\n",
      "size:  1\n",
      "itemsize:  4\n",
      "dtype:  int32\n",
      "nbytes:  4\n",
      "strides:  (4,)\n"
     ]
    }
   ],
   "source": [
    "arr = np.array([1])\n",
    "\n",
    "print('arr: ', arr)\n",
    "print('ndim: ', arr.ndim)\n",
    "print('shape: ', arr.shape)\n",
    "print('size: ', arr.size)\n",
    "print('itemsize: ', arr.itemsize)\n",
    "print('dtype: ', arr.dtype)\n",
    "print('nbytes: ', arr.nbytes)\n",
    "print('strides: ', arr.strides)"
   ]
  }
 ],
 "metadata": {
  "kernelspec": {
   "display_name": "tools-and-techniques-in-data-science",
   "language": "python",
   "name": "tools-and-techniques-in-data-science"
  },
  "language_info": {
   "codemirror_mode": {
    "name": "ipython",
    "version": 3
   },
   "file_extension": ".py",
   "mimetype": "text/x-python",
   "name": "python",
   "nbconvert_exporter": "python",
   "pygments_lexer": "ipython3",
   "version": "3.9.7"
  }
 },
 "nbformat": 4,
 "nbformat_minor": 5
}
