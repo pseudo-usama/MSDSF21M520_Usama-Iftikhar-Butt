{
 "cells": [
  {
   "cell_type": "code",
   "execution_count": 1,
   "id": "19324171-b445-42c4-944c-9c3dd64e0619",
   "metadata": {},
   "outputs": [],
   "source": [
    "import numpy as np"
   ]
  },
  {
   "cell_type": "code",
   "execution_count": 2,
   "id": "374ccc72-53b4-40c6-910b-88b810bb4e9a",
   "metadata": {},
   "outputs": [],
   "source": [
    "arr = np.array([1, 2, 3, 4, 5, 6])"
   ]
  },
  {
   "cell_type": "code",
   "execution_count": 10,
   "id": "5832d1a5-70b9-4ca6-aae9-4d969e29610d",
   "metadata": {},
   "outputs": [
    {
     "data": {
      "text/plain": [
       "array([3, 4])"
      ]
     },
     "execution_count": 10,
     "metadata": {},
     "output_type": "execute_result"
    }
   ],
   "source": [
    "arr2 = arr[2:4]\n",
    "arr2"
   ]
  },
  {
   "cell_type": "code",
   "execution_count": 11,
   "id": "170f9f10-2e1f-4c81-97e7-a89e32be8380",
   "metadata": {},
   "outputs": [],
   "source": [
    "arr2[0] = 99"
   ]
  },
  {
   "cell_type": "code",
   "execution_count": 12,
   "id": "b7826443-4641-4a8a-86ba-1fa2c9a39743",
   "metadata": {},
   "outputs": [
    {
     "data": {
      "text/plain": [
       "(array([ 1,  2, 99,  4,  5,  6]), array([99,  4]))"
      ]
     },
     "execution_count": 12,
     "metadata": {},
     "output_type": "execute_result"
    }
   ],
   "source": [
    "arr, arr2"
   ]
  },
  {
   "cell_type": "code",
   "execution_count": 5,
   "id": "9809d485-2fea-4310-9bc9-51e9362d861d",
   "metadata": {},
   "outputs": [
    {
     "data": {
      "text/plain": [
       "(1489677645648, 1489656078224)"
      ]
     },
     "execution_count": 5,
     "metadata": {},
     "output_type": "execute_result"
    }
   ],
   "source": [
    "id(arr), id(arr2)"
   ]
  },
  {
   "cell_type": "code",
   "execution_count": null,
   "id": "a13f3a4e-117a-4677-8d32-7a06661ea57c",
   "metadata": {},
   "outputs": [],
   "source": []
  },
  {
   "cell_type": "code",
   "execution_count": null,
   "id": "74e301d6-5b38-477c-a2a9-f740a9cac793",
   "metadata": {},
   "outputs": [],
   "source": []
  },
  {
   "cell_type": "code",
   "execution_count": null,
   "id": "40d87d08-3967-4282-a958-f4fdb08ae962",
   "metadata": {},
   "outputs": [],
   "source": []
  },
  {
   "cell_type": "code",
   "execution_count": null,
   "id": "d0e5a379-159b-4f37-baeb-82d744e927ee",
   "metadata": {},
   "outputs": [],
   "source": []
  },
  {
   "cell_type": "code",
   "execution_count": 15,
   "id": "a01149c0-7e0a-4bf4-ab96-179211d924b3",
   "metadata": {},
   "outputs": [
    {
     "data": {
      "text/plain": [
       "array([2, 3])"
      ]
     },
     "execution_count": 15,
     "metadata": {},
     "output_type": "execute_result"
    }
   ],
   "source": [
    "arr = np.array([0, 1, 2, 3, 4, 5, 6, 7])\n",
    "arr2 = arr[2:4]\n",
    "arr2"
   ]
  },
  {
   "cell_type": "code",
   "execution_count": 21,
   "id": "cae00979-ae73-4b10-b676-cde1be820e07",
   "metadata": {},
   "outputs": [
    {
     "data": {
      "text/plain": [
       "((4,), (8,))"
      ]
     },
     "execution_count": 21,
     "metadata": {},
     "output_type": "execute_result"
    }
   ],
   "source": [
    "arr.strides, arr2.strides"
   ]
  },
  {
   "cell_type": "code",
   "execution_count": null,
   "id": "55172070-bc1b-4796-830f-b12b4654dd7f",
   "metadata": {},
   "outputs": [],
   "source": []
  },
  {
   "cell_type": "code",
   "execution_count": 22,
   "id": "4083f682-1846-48dd-94aa-e2aa24b2ff8b",
   "metadata": {},
   "outputs": [
    {
     "data": {
      "text/plain": [
       "array([2, 4, 6])"
      ]
     },
     "execution_count": 22,
     "metadata": {},
     "output_type": "execute_result"
    }
   ],
   "source": [
    "arr = np.array([0, 1, 2, 3, 4, 5, 6, 7])\n",
    "arr2 = arr[2:7:2]\n",
    "arr2"
   ]
  },
  {
   "cell_type": "code",
   "execution_count": 23,
   "id": "b65318e9-67aa-4646-803a-b7087c8e687a",
   "metadata": {},
   "outputs": [
    {
     "data": {
      "text/plain": [
       "((4,), (8,))"
      ]
     },
     "execution_count": 23,
     "metadata": {},
     "output_type": "execute_result"
    }
   ],
   "source": [
    "arr.strides, arr2.strides"
   ]
  },
  {
   "cell_type": "code",
   "execution_count": 27,
   "id": "1b0e0e9d-f069-49aa-a82d-c7fa2f0309c8",
   "metadata": {},
   "outputs": [
    {
     "data": {
      "text/plain": [
       "(dtype('int32'), dtype('int32'))"
      ]
     },
     "execution_count": 27,
     "metadata": {},
     "output_type": "execute_result"
    }
   ],
   "source": [
    "arr.dtype, arr2.dtype"
   ]
  },
  {
   "cell_type": "code",
   "execution_count": null,
   "id": "2778eff0-e3b6-4456-9f0f-f25adaa7df50",
   "metadata": {},
   "outputs": [],
   "source": []
  },
  {
   "cell_type": "code",
   "execution_count": 31,
   "id": "635ecb09-0e47-48da-99bb-f066bf28a13d",
   "metadata": {},
   "outputs": [
    {
     "data": {
      "text/plain": [
       "array([7, 6, 5, 4, 3])"
      ]
     },
     "execution_count": 31,
     "metadata": {},
     "output_type": "execute_result"
    }
   ],
   "source": [
    "arr = np.array([0, 1, 2, 3, 4, 5, 6, 7])\n",
    "arr2 = arr[7:2:-1]\n",
    "arr2"
   ]
  },
  {
   "cell_type": "code",
   "execution_count": 32,
   "id": "ee3641cc-61aa-49af-8c0b-37894c673a62",
   "metadata": {},
   "outputs": [
    {
     "data": {
      "text/plain": [
       "((4,), (-4,))"
      ]
     },
     "execution_count": 32,
     "metadata": {},
     "output_type": "execute_result"
    }
   ],
   "source": [
    "arr.strides, arr2.strides"
   ]
  },
  {
   "cell_type": "code",
   "execution_count": null,
   "id": "3d62d9c1-53b1-4102-b36c-4ef257cb8823",
   "metadata": {},
   "outputs": [],
   "source": []
  },
  {
   "cell_type": "code",
   "execution_count": 33,
   "id": "8ac7e211-6748-48c4-a667-b0ed417c0e5f",
   "metadata": {},
   "outputs": [
    {
     "data": {
      "text/plain": [
       "array([], dtype=int32)"
      ]
     },
     "execution_count": 33,
     "metadata": {},
     "output_type": "execute_result"
    }
   ],
   "source": [
    "arr = np.array([0, 1, 2, 3, 4, 5, 6, 7])\n",
    "arr2 = arr[200:700]\n",
    "arr2"
   ]
  },
  {
   "cell_type": "code",
   "execution_count": 34,
   "id": "cb1b5059-aa1c-4c20-9eb4-d860e3fd5de4",
   "metadata": {},
   "outputs": [
    {
     "data": {
      "text/plain": [
       "((4,), (4,))"
      ]
     },
     "execution_count": 34,
     "metadata": {},
     "output_type": "execute_result"
    }
   ],
   "source": [
    "arr.strides, arr2.strides"
   ]
  }
 ],
 "metadata": {
  "kernelspec": {
   "display_name": "tools-and-techniques-in-data-science",
   "language": "python",
   "name": "tools-and-techniques-in-data-science"
  },
  "language_info": {
   "codemirror_mode": {
    "name": "ipython",
    "version": 3
   },
   "file_extension": ".py",
   "mimetype": "text/x-python",
   "name": "python",
   "nbconvert_exporter": "python",
   "pygments_lexer": "ipython3",
   "version": "3.9.7"
  }
 },
 "nbformat": 4,
 "nbformat_minor": 5
}
