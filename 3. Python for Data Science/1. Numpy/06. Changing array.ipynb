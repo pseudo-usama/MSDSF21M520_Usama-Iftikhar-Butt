{
 "cells": [
  {
   "cell_type": "code",
   "execution_count": 1,
   "id": "a93f7d56-0bd9-49db-8c51-812c809935ec",
   "metadata": {},
   "outputs": [],
   "source": [
    "import numpy as np"
   ]
  },
  {
   "cell_type": "code",
   "execution_count": 31,
   "id": "557f5ac7-fcc8-4b22-93ab-cbfd2df4ad2a",
   "metadata": {},
   "outputs": [
    {
     "name": "stdout",
     "output_type": "stream",
     "text": [
      "[0 1 2 3 4 5 6 7 8 9]\n",
      "(10,)\n"
     ]
    }
   ],
   "source": [
    "arr = np.arange(10)\n",
    "print(arr)\n",
    "print(arr.shape)"
   ]
  },
  {
   "cell_type": "code",
   "execution_count": 32,
   "id": "ea4dbdea-a165-4f5e-bc6b-473c584264e0",
   "metadata": {},
   "outputs": [
    {
     "data": {
      "text/plain": [
       "array([[0, 1, 2, 3, 4],\n",
       "       [5, 6, 7, 8, 9]])"
      ]
     },
     "execution_count": 32,
     "metadata": {},
     "output_type": "execute_result"
    }
   ],
   "source": [
    "arr.shape = (2, 5)\n",
    "arr"
   ]
  },
  {
   "cell_type": "code",
   "execution_count": 33,
   "id": "a3a77763-0dcd-4be0-8014-2d589cfadebe",
   "metadata": {},
   "outputs": [
    {
     "data": {
      "text/plain": [
       "array([[0],\n",
       "       [1],\n",
       "       [2],\n",
       "       [3],\n",
       "       [4],\n",
       "       [5],\n",
       "       [6],\n",
       "       [7],\n",
       "       [8],\n",
       "       [9]])"
      ]
     },
     "execution_count": 33,
     "metadata": {},
     "output_type": "execute_result"
    }
   ],
   "source": [
    "arr.shape = (10, 1)\n",
    "arr"
   ]
  },
  {
   "cell_type": "code",
   "execution_count": 34,
   "id": "fd39edee-018f-4b09-8e45-f47e6fc1999d",
   "metadata": {},
   "outputs": [
    {
     "data": {
      "text/plain": [
       "(<memory at 0x000002D3DCE28A00>, <memory at 0x000002D3DCE28AD0>)"
      ]
     },
     "execution_count": 34,
     "metadata": {},
     "output_type": "execute_result"
    }
   ],
   "source": [
    "arr.data, arr2.data"
   ]
  },
  {
   "cell_type": "code",
   "execution_count": null,
   "id": "8932c6ca-f124-4d9e-bb5e-790d798a26a9",
   "metadata": {},
   "outputs": [],
   "source": []
  },
  {
   "cell_type": "code",
   "execution_count": null,
   "id": "10ed459b-6363-4aa1-8580-9a688ce4e72c",
   "metadata": {},
   "outputs": [],
   "source": []
  },
  {
   "cell_type": "code",
   "execution_count": null,
   "id": "d9cfdb37-efd2-432b-b08d-fa3b88ebe26c",
   "metadata": {},
   "outputs": [],
   "source": []
  },
  {
   "cell_type": "code",
   "execution_count": 35,
   "id": "69157963-9bf3-4990-b1b8-151f62b59b3f",
   "metadata": {},
   "outputs": [
    {
     "data": {
      "text/plain": [
       "(<memory at 0x000002D3DCE32640>, <memory at 0x000002D3DCE32700>)"
      ]
     },
     "execution_count": 35,
     "metadata": {},
     "output_type": "execute_result"
    }
   ],
   "source": [
    "arr = np.arange(10)\n",
    "arr2 = arr\n",
    "arr.data, arr2.data"
   ]
  },
  {
   "cell_type": "code",
   "execution_count": null,
   "id": "ef0b866a-9d4c-456f-99c4-e26b4a26e01c",
   "metadata": {},
   "outputs": [],
   "source": []
  },
  {
   "cell_type": "code",
   "execution_count": null,
   "id": "ab72bde8-0984-4e2f-ae7b-d2a0ad139e70",
   "metadata": {},
   "outputs": [],
   "source": []
  },
  {
   "cell_type": "code",
   "execution_count": null,
   "id": "a90adff4-5340-4b71-9f3d-0bc09bf1df0f",
   "metadata": {},
   "outputs": [],
   "source": []
  },
  {
   "cell_type": "code",
   "execution_count": 17,
   "id": "2fb0f0fe-f584-45c7-a207-3999e3426d31",
   "metadata": {},
   "outputs": [],
   "source": [
    "arr = np.arange(10)\n",
    "arr2 = arr"
   ]
  },
  {
   "cell_type": "code",
   "execution_count": 18,
   "id": "58c8d0e1-7116-47ef-9f4d-be4119be15a6",
   "metadata": {},
   "outputs": [],
   "source": [
    "arr2.shape = (2, 5)"
   ]
  },
  {
   "cell_type": "code",
   "execution_count": 16,
   "id": "0bd7c8ab-7e58-46e1-9c69-47f0e80e64bc",
   "metadata": {},
   "outputs": [
    {
     "data": {
      "text/plain": [
       "((2, 5), (2, 5))"
      ]
     },
     "execution_count": 16,
     "metadata": {},
     "output_type": "execute_result"
    }
   ],
   "source": [
    "arr.shape, arr2.shape"
   ]
  },
  {
   "cell_type": "code",
   "execution_count": null,
   "id": "4633ab6a-0939-49d2-8e42-2553ca3756c2",
   "metadata": {},
   "outputs": [],
   "source": []
  },
  {
   "cell_type": "code",
   "execution_count": null,
   "id": "a06abe50-a12d-43fe-af14-49ed7986538e",
   "metadata": {},
   "outputs": [],
   "source": []
  },
  {
   "cell_type": "code",
   "execution_count": null,
   "id": "0008331f-f35d-4c12-89b6-bb67d1e4f780",
   "metadata": {},
   "outputs": [],
   "source": []
  },
  {
   "cell_type": "code",
   "execution_count": 19,
   "id": "95291df0-c538-4cb7-87c7-cbf95a8db253",
   "metadata": {},
   "outputs": [],
   "source": [
    "arr = np.arange(10)\n",
    "arr2 = arr[:]"
   ]
  },
  {
   "cell_type": "code",
   "execution_count": 20,
   "id": "702bdf25-618c-4e6d-ba17-2554d5bcac62",
   "metadata": {},
   "outputs": [],
   "source": [
    "arr2.shape = (2, 5)"
   ]
  },
  {
   "cell_type": "code",
   "execution_count": 21,
   "id": "0fd7a05b-e091-4464-9770-4418e1258ac9",
   "metadata": {},
   "outputs": [
    {
     "data": {
      "text/plain": [
       "((10,), (2, 5))"
      ]
     },
     "execution_count": 21,
     "metadata": {},
     "output_type": "execute_result"
    }
   ],
   "source": [
    "arr.shape, arr2.shape"
   ]
  },
  {
   "cell_type": "code",
   "execution_count": null,
   "id": "ad59fc81-6421-463c-9360-3fbfb2cf73bc",
   "metadata": {},
   "outputs": [],
   "source": []
  },
  {
   "cell_type": "code",
   "execution_count": null,
   "id": "aa7df320-0d8a-41b7-83a4-051ce2f8bffe",
   "metadata": {},
   "outputs": [],
   "source": []
  },
  {
   "cell_type": "code",
   "execution_count": null,
   "id": "d46b643a-4e85-4b99-8798-fcbb80e5f4b2",
   "metadata": {},
   "outputs": [],
   "source": []
  },
  {
   "cell_type": "code",
   "execution_count": 22,
   "id": "2eeb792a-0851-4f6b-baf5-730a235cb00d",
   "metadata": {},
   "outputs": [],
   "source": [
    "arr = np.arange(10)\n",
    "arr2 = np.reshape(arr, (2, 5))"
   ]
  },
  {
   "cell_type": "code",
   "execution_count": 23,
   "id": "f744c81a-9642-4a0e-93f8-0e6caa903c3a",
   "metadata": {},
   "outputs": [
    {
     "data": {
      "text/plain": [
       "((10,), (2, 5))"
      ]
     },
     "execution_count": 23,
     "metadata": {},
     "output_type": "execute_result"
    }
   ],
   "source": [
    "arr.shape, arr2.shape"
   ]
  },
  {
   "cell_type": "code",
   "execution_count": 24,
   "id": "47a15d23-8381-49ff-b664-29324775ab58",
   "metadata": {},
   "outputs": [
    {
     "data": {
      "text/plain": [
       "(<memory at 0x000002D3DB933280>, <memory at 0x000002D3DCE28930>)"
      ]
     },
     "execution_count": 24,
     "metadata": {},
     "output_type": "execute_result"
    }
   ],
   "source": [
    "arr.data, arr2.data"
   ]
  },
  {
   "cell_type": "code",
   "execution_count": 25,
   "id": "022f938f-9f63-4843-a4d0-1a492f4e7c3a",
   "metadata": {},
   "outputs": [],
   "source": [
    "arr[4] = 99"
   ]
  },
  {
   "cell_type": "code",
   "execution_count": 26,
   "id": "09083aaf-151b-465f-8e90-95c4bb119a62",
   "metadata": {},
   "outputs": [
    {
     "data": {
      "text/plain": [
       "(array([ 0,  1,  2,  3, 99,  5,  6,  7,  8,  9]),\n",
       " array([[ 0,  1,  2,  3, 99],\n",
       "        [ 5,  6,  7,  8,  9]]))"
      ]
     },
     "execution_count": 26,
     "metadata": {},
     "output_type": "execute_result"
    }
   ],
   "source": [
    "arr, arr2"
   ]
  },
  {
   "cell_type": "code",
   "execution_count": 30,
   "id": "58ad4b50-b983-418b-abc9-3bc2af1a8997",
   "metadata": {},
   "outputs": [
    {
     "data": {
      "text/plain": [
       "\u001b[1;31mType:\u001b[0m        getset_descriptor\n",
       "\u001b[1;31mString form:\u001b[0m <attribute 'data' of 'numpy.ndarray' objects>\n",
       "\u001b[1;31mDocstring:\u001b[0m   Python buffer object pointing to the start of the array's data.\n"
      ]
     },
     "metadata": {},
     "output_type": "display_data"
    }
   ],
   "source": [
    "np.ndarray.data?"
   ]
  },
  {
   "cell_type": "code",
   "execution_count": null,
   "id": "cc90a79f-cde0-4960-b5e0-8e0831a90ea9",
   "metadata": {},
   "outputs": [],
   "source": []
  },
  {
   "cell_type": "code",
   "execution_count": null,
   "id": "0a0a45bd-45ef-4df4-ad01-cd34f14a108f",
   "metadata": {},
   "outputs": [],
   "source": []
  },
  {
   "cell_type": "code",
   "execution_count": null,
   "id": "8bd89493-fa2e-4c7a-8f66-dd35e89396ae",
   "metadata": {},
   "outputs": [],
   "source": []
  },
  {
   "cell_type": "code",
   "execution_count": null,
   "id": "8cbdb78a-63af-4f02-bb24-6772326e19e9",
   "metadata": {},
   "outputs": [],
   "source": []
  },
  {
   "cell_type": "code",
   "execution_count": null,
   "id": "db91292a-cd97-4afc-bc37-ec3893683fb1",
   "metadata": {},
   "outputs": [],
   "source": []
  },
  {
   "cell_type": "code",
   "execution_count": null,
   "id": "537d3b0b-096b-4e38-8750-7a950134b6ad",
   "metadata": {},
   "outputs": [],
   "source": []
  },
  {
   "cell_type": "code",
   "execution_count": null,
   "id": "fe945336-166a-423b-bf63-9589a39263b5",
   "metadata": {},
   "outputs": [],
   "source": []
  },
  {
   "cell_type": "code",
   "execution_count": 46,
   "id": "7c215260-20ce-486e-86a1-62dbab8cd4bb",
   "metadata": {},
   "outputs": [],
   "source": [
    "arr = np.arange(10)\n",
    "arr2 = np.resize(arr, (2, 5))"
   ]
  },
  {
   "cell_type": "code",
   "execution_count": 47,
   "id": "f900fd10-971c-47a7-a658-3b863db9e5aa",
   "metadata": {},
   "outputs": [
    {
     "data": {
      "text/plain": [
       "array([0, 1, 2, 3, 4, 5, 6, 7, 8, 9])"
      ]
     },
     "execution_count": 47,
     "metadata": {},
     "output_type": "execute_result"
    }
   ],
   "source": [
    "arr"
   ]
  },
  {
   "cell_type": "code",
   "execution_count": 48,
   "id": "15430164-3ea1-4ca5-8f7e-3f5e6c5bdb8e",
   "metadata": {},
   "outputs": [
    {
     "data": {
      "text/plain": [
       "array([[0, 1, 2, 3, 4],\n",
       "       [5, 6, 7, 8, 9]])"
      ]
     },
     "execution_count": 48,
     "metadata": {},
     "output_type": "execute_result"
    }
   ],
   "source": [
    "arr2"
   ]
  },
  {
   "cell_type": "code",
   "execution_count": null,
   "id": "310fae8a-8b81-4169-bfc3-4f89b1e77aa4",
   "metadata": {},
   "outputs": [],
   "source": []
  },
  {
   "cell_type": "code",
   "execution_count": 52,
   "id": "55dfc6ff-88b4-40a2-977e-5b98d3063961",
   "metadata": {},
   "outputs": [
    {
     "data": {
      "text/plain": [
       "array([0, 1, 2, 3])"
      ]
     },
     "execution_count": 52,
     "metadata": {},
     "output_type": "execute_result"
    }
   ],
   "source": [
    "arr = np.arange(10)\n",
    "np.resize(arr, 4)"
   ]
  },
  {
   "cell_type": "code",
   "execution_count": 54,
   "id": "9b1517c4-6d1b-4b10-8ad3-e652ba5ca21e",
   "metadata": {},
   "outputs": [
    {
     "data": {
      "text/plain": [
       "array([0, 1, 2, 3, 4, 5, 6, 7, 8, 9, 0, 1, 2, 3, 4, 5, 6, 7, 8, 9])"
      ]
     },
     "execution_count": 54,
     "metadata": {},
     "output_type": "execute_result"
    }
   ],
   "source": [
    "np.resize(arr, 20)"
   ]
  },
  {
   "cell_type": "code",
   "execution_count": 56,
   "id": "b852fe2a-fd9f-4cb5-8ebc-d540586c04f9",
   "metadata": {},
   "outputs": [
    {
     "data": {
      "text/plain": [
       "array([[0, 1, 2, 3],\n",
       "       [4, 5, 6, 7],\n",
       "       [8, 9, 0, 1],\n",
       "       [2, 3, 4, 5]])"
      ]
     },
     "execution_count": 56,
     "metadata": {},
     "output_type": "execute_result"
    }
   ],
   "source": [
    "np.resize(arr, (4,4))"
   ]
  },
  {
   "cell_type": "code",
   "execution_count": null,
   "id": "38f9a066-7339-4d50-89b4-f5e689e5f583",
   "metadata": {},
   "outputs": [],
   "source": []
  },
  {
   "cell_type": "code",
   "execution_count": null,
   "id": "8cd492e0-ab6a-49ff-bcb5-cf8d37dfa6a4",
   "metadata": {},
   "outputs": [],
   "source": []
  },
  {
   "cell_type": "code",
   "execution_count": null,
   "id": "f154744f-7d6e-4c9c-95b6-dec5bd0458da",
   "metadata": {},
   "outputs": [],
   "source": []
  },
  {
   "cell_type": "code",
   "execution_count": 60,
   "id": "b344cd82-f814-4679-b91e-2f725cefff7d",
   "metadata": {},
   "outputs": [
    {
     "data": {
      "text/plain": [
       "array([0, 1, 2, 3, 4, 5, 6, 7, 8, 9])"
      ]
     },
     "execution_count": 60,
     "metadata": {},
     "output_type": "execute_result"
    }
   ],
   "source": [
    "arr = np.arange(10)\n",
    "arr.transpose()"
   ]
  },
  {
   "cell_type": "code",
   "execution_count": 62,
   "id": "3e949391-89e8-49a9-ae42-13ac1380ac62",
   "metadata": {},
   "outputs": [
    {
     "data": {
      "text/plain": [
       "array([[1, 2, 3, 4],\n",
       "       [5, 6, 7, 8]])"
      ]
     },
     "execution_count": 62,
     "metadata": {},
     "output_type": "execute_result"
    }
   ],
   "source": [
    "arr = np.array([[1,2,3,4], [5,6,7,8]])\n",
    "arr"
   ]
  },
  {
   "cell_type": "code",
   "execution_count": 68,
   "id": "40e588fe-071a-4658-849b-2424e2e2d7a9",
   "metadata": {},
   "outputs": [
    {
     "data": {
      "text/plain": [
       "array([[ 1,  5],\n",
       "       [ 2, 99],\n",
       "       [ 3,  7],\n",
       "       [ 4,  8]])"
      ]
     },
     "execution_count": 68,
     "metadata": {},
     "output_type": "execute_result"
    }
   ],
   "source": [
    "arr2 = arr.transpose()\n",
    "arr2"
   ]
  },
  {
   "cell_type": "code",
   "execution_count": 69,
   "id": "20e0c3b4-67ab-4d26-85ec-680ce8776ef4",
   "metadata": {},
   "outputs": [
    {
     "data": {
      "text/plain": [
       "((2, 4), (4, 2))"
      ]
     },
     "execution_count": 69,
     "metadata": {},
     "output_type": "execute_result"
    }
   ],
   "source": [
    "arr.shape, arr2.shape"
   ]
  },
  {
   "cell_type": "code",
   "execution_count": 70,
   "id": "224cd037-cbe3-4c63-98b2-ed6899c19ca9",
   "metadata": {},
   "outputs": [
    {
     "data": {
      "text/plain": [
       "array([[ 1,  2,  3,  4],\n",
       "       [ 5, 99,  7,  8]])"
      ]
     },
     "execution_count": 70,
     "metadata": {},
     "output_type": "execute_result"
    }
   ],
   "source": [
    "arr[1,1]=99\n",
    "arr"
   ]
  },
  {
   "cell_type": "code",
   "execution_count": 71,
   "id": "631b3964-3d9b-406b-ae4a-58cc0483c56e",
   "metadata": {},
   "outputs": [
    {
     "data": {
      "text/plain": [
       "array([[ 1,  5],\n",
       "       [ 2, 99],\n",
       "       [ 3,  7],\n",
       "       [ 4,  8]])"
      ]
     },
     "execution_count": 71,
     "metadata": {},
     "output_type": "execute_result"
    }
   ],
   "source": [
    "arr2"
   ]
  },
  {
   "cell_type": "code",
   "execution_count": null,
   "id": "b65d6221-b46b-40c9-8ac6-f070119d0ac8",
   "metadata": {},
   "outputs": [],
   "source": []
  },
  {
   "cell_type": "code",
   "execution_count": null,
   "id": "77f61c30-4534-4baa-80c4-46e6edfc72ed",
   "metadata": {},
   "outputs": [],
   "source": []
  },
  {
   "cell_type": "code",
   "execution_count": null,
   "id": "e1c04f9f-99c7-4dc4-8dcd-20a2af7bd455",
   "metadata": {},
   "outputs": [],
   "source": []
  },
  {
   "cell_type": "code",
   "execution_count": null,
   "id": "6eec7a5f-440e-4894-bb60-540d209c2ef4",
   "metadata": {},
   "outputs": [],
   "source": [
    "np.swapaxes?"
   ]
  },
  {
   "cell_type": "code",
   "execution_count": null,
   "id": "8963a0df-36d2-4daa-9a47-f11778733516",
   "metadata": {},
   "outputs": [],
   "source": []
  },
  {
   "cell_type": "code",
   "execution_count": null,
   "id": "a217a745-951d-4e0d-a6d1-8c2f80ee00b0",
   "metadata": {},
   "outputs": [],
   "source": []
  },
  {
   "cell_type": "code",
   "execution_count": null,
   "id": "21dd6246-06de-4ba9-9bb5-fede6281d421",
   "metadata": {},
   "outputs": [],
   "source": []
  },
  {
   "cell_type": "code",
   "execution_count": 82,
   "id": "4ca77447-016d-4d1a-9984-b1c47b3908f4",
   "metadata": {},
   "outputs": [],
   "source": [
    "arr = np.array([[1], [2]])\n",
    "arr2 = arr.flatten()"
   ]
  },
  {
   "cell_type": "code",
   "execution_count": 83,
   "id": "71fe95ca-0208-44f8-962a-597401537084",
   "metadata": {},
   "outputs": [
    {
     "data": {
      "text/plain": [
       "((2, 1), (2,))"
      ]
     },
     "execution_count": 83,
     "metadata": {},
     "output_type": "execute_result"
    }
   ],
   "source": [
    "arr.shape, arr2.shape"
   ]
  },
  {
   "cell_type": "code",
   "execution_count": 84,
   "id": "501e1528-256b-4b9e-8171-5a98df70ca97",
   "metadata": {},
   "outputs": [
    {
     "data": {
      "text/plain": [
       "array([[99],\n",
       "       [ 2]])"
      ]
     },
     "execution_count": 84,
     "metadata": {},
     "output_type": "execute_result"
    }
   ],
   "source": [
    "arr[0,0] = 99\n",
    "arr"
   ]
  },
  {
   "cell_type": "code",
   "execution_count": 85,
   "id": "045bef80-6c90-4bdd-ba6b-caabdae14578",
   "metadata": {},
   "outputs": [
    {
     "data": {
      "text/plain": [
       "array([1, 2])"
      ]
     },
     "execution_count": 85,
     "metadata": {},
     "output_type": "execute_result"
    }
   ],
   "source": [
    "arr2"
   ]
  }
 ],
 "metadata": {
  "kernelspec": {
   "display_name": "tools-and-techniques-in-data-science",
   "language": "python",
   "name": "tools-and-techniques-in-data-science"
  },
  "language_info": {
   "codemirror_mode": {
    "name": "ipython",
    "version": 3
   },
   "file_extension": ".py",
   "mimetype": "text/x-python",
   "name": "python",
   "nbconvert_exporter": "python",
   "pygments_lexer": "ipython3",
   "version": "3.9.7"
  }
 },
 "nbformat": 4,
 "nbformat_minor": 5
}
