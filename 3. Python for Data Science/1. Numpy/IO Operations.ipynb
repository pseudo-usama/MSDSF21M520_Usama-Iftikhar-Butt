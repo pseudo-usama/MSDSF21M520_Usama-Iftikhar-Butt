{
 "cells": [
  {
   "cell_type": "code",
   "execution_count": 1,
   "id": "6b1c46da-f827-42af-8342-775197505a78",
   "metadata": {},
   "outputs": [],
   "source": [
    "import numpy as np"
   ]
  },
  {
   "cell_type": "code",
   "execution_count": null,
   "id": "6e9833f2-b9ae-41e0-a078-229ab4f40a2d",
   "metadata": {},
   "outputs": [],
   "source": [
    "np.loadtxt?"
   ]
  },
  {
   "cell_type": "code",
   "execution_count": null,
   "id": "5694115f-f8b0-4fe1-9593-76c394f080ae",
   "metadata": {},
   "outputs": [],
   "source": [
    "np.genfromtxt?"
   ]
  },
  {
   "cell_type": "code",
   "execution_count": null,
   "id": "31df5bfe-913a-4555-b776-36569a955920",
   "metadata": {},
   "outputs": [],
   "source": []
  },
  {
   "cell_type": "code",
   "execution_count": null,
   "id": "3dc8cab1-4cc2-4524-a59c-9896b4bac01c",
   "metadata": {},
   "outputs": [],
   "source": []
  },
  {
   "cell_type": "code",
   "execution_count": 4,
   "id": "c0945bbb-ef08-4b1f-8640-5c91c83f2992",
   "metadata": {},
   "outputs": [
    {
     "name": "stdout",
     "output_type": "stream",
     "text": [
      "3 9  12 22  45  91  33  61 12  19  62 29  64  31\n"
     ]
    }
   ],
   "source": [
    "!cat datasets/data0.txt"
   ]
  },
  {
   "cell_type": "code",
   "execution_count": 5,
   "id": "7028bd30-a871-4335-ba4e-bbd7ffa43bc2",
   "metadata": {},
   "outputs": [
    {
     "data": {
      "text/plain": [
       "array([ 3.,  9., 12., 22., 45., 91., 33., 61., 12., 19., 62., 29., 64.,\n",
       "       31.])"
      ]
     },
     "execution_count": 5,
     "metadata": {},
     "output_type": "execute_result"
    }
   ],
   "source": [
    "np.loadtxt('datasets/data0.txt')"
   ]
  },
  {
   "cell_type": "code",
   "execution_count": 10,
   "id": "2ba8353a-4f70-4ded-97c9-f0e017f65a26",
   "metadata": {},
   "outputs": [
    {
     "data": {
      "text/plain": [
       "array([ 3.,  9., 12., 22., 45., 91., 33., 61., 12., 19., 62., 29., 64.,\n",
       "       31.])"
      ]
     },
     "execution_count": 10,
     "metadata": {},
     "output_type": "execute_result"
    }
   ],
   "source": [
    "np.genfromtxt('datasets/data0.txt')"
   ]
  },
  {
   "cell_type": "code",
   "execution_count": 7,
   "id": "0b94d323-dc47-4427-9e6b-5129ae31416f",
   "metadata": {},
   "outputs": [
    {
     "name": "stdout",
     "output_type": "stream",
     "text": [
      "12  19  62\n",
      "9   33  61\n",
      "22  45  91 \n",
      "29  64  31\n"
     ]
    }
   ],
   "source": [
    "!cat datasets/data1.txt"
   ]
  },
  {
   "cell_type": "code",
   "execution_count": 11,
   "id": "5155e514-c216-4489-bb10-98853744fba7",
   "metadata": {},
   "outputs": [
    {
     "data": {
      "text/plain": [
       "array([[12., 19., 62.],\n",
       "       [ 9., 33., 61.],\n",
       "       [22., 45., 91.],\n",
       "       [29., 64., 31.]])"
      ]
     },
     "execution_count": 11,
     "metadata": {},
     "output_type": "execute_result"
    }
   ],
   "source": [
    "np.loadtxt('datasets/data1.txt')"
   ]
  },
  {
   "cell_type": "code",
   "execution_count": 12,
   "id": "3c94da57-143b-4c34-aaa5-7852f69e0651",
   "metadata": {},
   "outputs": [
    {
     "data": {
      "text/plain": [
       "array([[12., 19., 62.],\n",
       "       [ 9., 33., 61.],\n",
       "       [22., 45., 91.],\n",
       "       [29., 64., 31.]])"
      ]
     },
     "execution_count": 12,
     "metadata": {},
     "output_type": "execute_result"
    }
   ],
   "source": [
    "np.genfromtxt('datasets/data1.txt')"
   ]
  }
 ],
 "metadata": {
  "kernelspec": {
   "display_name": "tools-and-techniques-in-data-science",
   "language": "python",
   "name": "tools-and-techniques-in-data-science"
  },
  "language_info": {
   "codemirror_mode": {
    "name": "ipython",
    "version": 3
   },
   "file_extension": ".py",
   "mimetype": "text/x-python",
   "name": "python",
   "nbconvert_exporter": "python",
   "pygments_lexer": "ipython3",
   "version": "3.9.7"
  }
 },
 "nbformat": 4,
 "nbformat_minor": 5
}
