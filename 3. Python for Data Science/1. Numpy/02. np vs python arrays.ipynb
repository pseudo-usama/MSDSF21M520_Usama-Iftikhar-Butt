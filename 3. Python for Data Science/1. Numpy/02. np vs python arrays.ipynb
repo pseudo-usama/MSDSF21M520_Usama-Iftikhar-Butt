{
 "cells": [
  {
   "cell_type": "code",
   "execution_count": 13,
   "id": "f2ddede1-6ac5-4f4b-9823-bb6cc9ecac9b",
   "metadata": {},
   "outputs": [],
   "source": [
    "import sys\n",
    "import time"
   ]
  },
  {
   "cell_type": "code",
   "execution_count": 5,
   "id": "33f1a2ab-ef93-42e6-9e5c-e10653f7c187",
   "metadata": {},
   "outputs": [],
   "source": [
    "import numpy as np"
   ]
  },
  {
   "cell_type": "code",
   "execution_count": 6,
   "id": "ea1f2a0d-3d4f-467c-9ae5-35e33a524b64",
   "metadata": {},
   "outputs": [
    {
     "data": {
      "text/plain": [
       "4000"
      ]
     },
     "execution_count": 6,
     "metadata": {},
     "output_type": "execute_result"
    }
   ],
   "source": [
    "np.arange(1000).nbytes"
   ]
  },
  {
   "cell_type": "code",
   "execution_count": 10,
   "id": "faedfafe-1a81-4c29-9f99-0d8db3f866cb",
   "metadata": {},
   "outputs": [
    {
     "data": {
      "text/plain": [
       "8056"
      ]
     },
     "execution_count": 10,
     "metadata": {},
     "output_type": "execute_result"
    }
   ],
   "source": [
    "sys.getsizeof(list(range(1000)))"
   ]
  },
  {
   "cell_type": "code",
   "execution_count": null,
   "id": "71e583bd-c1d0-43dd-a36f-1fb97359e030",
   "metadata": {},
   "outputs": [],
   "source": []
  },
  {
   "cell_type": "code",
   "execution_count": null,
   "id": "86a156c0-8dfc-4790-b924-bf01f48d4d8a",
   "metadata": {},
   "outputs": [],
   "source": []
  },
  {
   "cell_type": "code",
   "execution_count": null,
   "id": "526fda60-a9f8-4140-a8b1-8e3f329a3d65",
   "metadata": {},
   "outputs": [],
   "source": []
  },
  {
   "cell_type": "code",
   "execution_count": null,
   "id": "1b340063-3942-4d58-9dd8-dfe67ef4e4a5",
   "metadata": {},
   "outputs": [],
   "source": []
  },
  {
   "cell_type": "code",
   "execution_count": 17,
   "id": "9d3e366c-a96d-427d-aa0e-55c0c5147498",
   "metadata": {},
   "outputs": [
    {
     "data": {
      "text/plain": [
       "0.0"
      ]
     },
     "execution_count": 17,
     "metadata": {},
     "output_type": "execute_result"
    }
   ],
   "source": [
    "start = time.time()\n",
    "\n",
    "np.array([1, 2, 3, 4]) * np.array([1, 2, 3, 4])\n",
    "\n",
    "time.time() - start"
   ]
  },
  {
   "cell_type": "code",
   "execution_count": 16,
   "id": "6e992b7b-7e7d-4be8-910e-9092b35104dd",
   "metadata": {},
   "outputs": [
    {
     "data": {
      "text/plain": [
       "0.0010039806365966797"
      ]
     },
     "execution_count": 16,
     "metadata": {},
     "output_type": "execute_result"
    }
   ],
   "source": [
    "start = time.time()\n",
    "\n",
    "ls1 = [1, 2, 3, 4, 5]\n",
    "ls2 = [1, 2, 3, 4, 5]\n",
    "result = [0, 0, 0, 0 ,0]\n",
    "\n",
    "for i in range(len(ls1)):\n",
    "    result = ls1[i]*ls2[i]\n",
    "\n",
    "time.time() - start"
   ]
  }
 ],
 "metadata": {
  "kernelspec": {
   "display_name": "tools-and-techniques-in-data-science",
   "language": "python",
   "name": "tools-and-techniques-in-data-science"
  },
  "language_info": {
   "codemirror_mode": {
    "name": "ipython",
    "version": 3
   },
   "file_extension": ".py",
   "mimetype": "text/x-python",
   "name": "python",
   "nbconvert_exporter": "python",
   "pygments_lexer": "ipython3",
   "version": "3.9.7"
  }
 },
 "nbformat": 4,
 "nbformat_minor": 5
}
