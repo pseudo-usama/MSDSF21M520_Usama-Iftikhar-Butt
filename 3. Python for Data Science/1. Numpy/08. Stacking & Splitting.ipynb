{
 "cells": [
  {
   "cell_type": "code",
   "execution_count": 2,
   "id": "7d641253-377c-4fa1-aacc-dd5016cea00e",
   "metadata": {},
   "outputs": [],
   "source": [
    "import numpy as np"
   ]
  },
  {
   "cell_type": "code",
   "execution_count": null,
   "id": "4373dd08-6c62-4831-a0f9-47135c87ae35",
   "metadata": {},
   "outputs": [],
   "source": []
  },
  {
   "cell_type": "code",
   "execution_count": null,
   "id": "f6fe5bfb-aa1c-4f93-a199-f8199e4ca897",
   "metadata": {},
   "outputs": [],
   "source": [
    "np.concatenate?"
   ]
  },
  {
   "cell_type": "code",
   "execution_count": 5,
   "id": "028021d1-f09a-4437-a930-4f3c09274fc9",
   "metadata": {},
   "outputs": [
    {
     "data": {
      "text/plain": [
       "array([1, 2, 3, 4, 5, 6, 7, 8])"
      ]
     },
     "execution_count": 5,
     "metadata": {},
     "output_type": "execute_result"
    }
   ],
   "source": [
    "arr1 = np.array([1,2,3,4])\n",
    "arr2 = np.array([5,6,7,8])\n",
    "\n",
    "np.concatenate((arr1, arr2))"
   ]
  },
  {
   "cell_type": "code",
   "execution_count": 6,
   "id": "ba0471b0-526e-407b-b334-e35b8f42d10c",
   "metadata": {},
   "outputs": [
    {
     "data": {
      "text/plain": [
       "array([1, 2, 3, 4, 5, 6, 7, 8])"
      ]
     },
     "execution_count": 6,
     "metadata": {},
     "output_type": "execute_result"
    }
   ],
   "source": [
    "np.concatenate((arr1, arr2), axis=0)"
   ]
  },
  {
   "cell_type": "code",
   "execution_count": 7,
   "id": "ae5109df-13a5-4364-a14b-e8d25ef3b546",
   "metadata": {},
   "outputs": [
    {
     "ename": "AxisError",
     "evalue": "axis 1 is out of bounds for array of dimension 1",
     "output_type": "error",
     "traceback": [
      "\u001b[1;31m---------------------------------------------------------------------------\u001b[0m",
      "\u001b[1;31mAxisError\u001b[0m                                 Traceback (most recent call last)",
      "\u001b[1;32mF:\\else\\Windows\\DELLTE~1/ipykernel_10804/3364971412.py\u001b[0m in \u001b[0;36m<module>\u001b[1;34m\u001b[0m\n\u001b[1;32m----> 1\u001b[1;33m \u001b[0mnp\u001b[0m\u001b[1;33m.\u001b[0m\u001b[0mconcatenate\u001b[0m\u001b[1;33m(\u001b[0m\u001b[1;33m(\u001b[0m\u001b[0marr1\u001b[0m\u001b[1;33m,\u001b[0m \u001b[0marr2\u001b[0m\u001b[1;33m)\u001b[0m\u001b[1;33m,\u001b[0m \u001b[0maxis\u001b[0m\u001b[1;33m=\u001b[0m\u001b[1;36m1\u001b[0m\u001b[1;33m)\u001b[0m\u001b[1;33m\u001b[0m\u001b[1;33m\u001b[0m\u001b[0m\n\u001b[0m",
      "\u001b[1;32m<__array_function__ internals>\u001b[0m in \u001b[0;36mconcatenate\u001b[1;34m(*args, **kwargs)\u001b[0m\n",
      "\u001b[1;31mAxisError\u001b[0m: axis 1 is out of bounds for array of dimension 1"
     ]
    }
   ],
   "source": [
    "np.concatenate((arr1, arr2), axis=1)"
   ]
  },
  {
   "cell_type": "code",
   "execution_count": null,
   "id": "dbec0ab7-4dec-4f55-b028-ac2f79bbd1d0",
   "metadata": {},
   "outputs": [],
   "source": []
  },
  {
   "cell_type": "code",
   "execution_count": null,
   "id": "62830fd7-f5b7-4850-a69b-5b21ffb579c4",
   "metadata": {},
   "outputs": [],
   "source": []
  },
  {
   "cell_type": "code",
   "execution_count": 9,
   "id": "2608f0b8-327a-4d96-8fb7-ff932e63eb45",
   "metadata": {},
   "outputs": [
    {
     "data": {
      "text/plain": [
       "array([[1, 2],\n",
       "       [3, 4],\n",
       "       [5, 6],\n",
       "       [7, 8]])"
      ]
     },
     "execution_count": 9,
     "metadata": {},
     "output_type": "execute_result"
    }
   ],
   "source": [
    "arr1 = np.array([[1,2],\n",
    "                [3,4]])\n",
    "arr2 = np.array([[5,6],\n",
    "                [7,8]])\n",
    "\n",
    "np.concatenate((arr1, arr2))"
   ]
  },
  {
   "cell_type": "code",
   "execution_count": 11,
   "id": "58afe61d-e708-4ada-98b4-ee2a63d65800",
   "metadata": {},
   "outputs": [
    {
     "data": {
      "text/plain": [
       "array([[1, 2, 5, 6],\n",
       "       [3, 4, 7, 8]])"
      ]
     },
     "execution_count": 11,
     "metadata": {},
     "output_type": "execute_result"
    }
   ],
   "source": [
    "np.concatenate((arr1, arr2), axis=1)"
   ]
  },
  {
   "cell_type": "code",
   "execution_count": 13,
   "id": "117cfd15-2e5d-412f-b6a4-acd04b72df50",
   "metadata": {},
   "outputs": [
    {
     "data": {
      "text/plain": [
       "array([[1, 2],\n",
       "       [3, 4],\n",
       "       [9, 9],\n",
       "       [5, 6],\n",
       "       [7, 8]])"
      ]
     },
     "execution_count": 13,
     "metadata": {},
     "output_type": "execute_result"
    }
   ],
   "source": [
    "arr1 = np.array([[1,2],\n",
    "                [3,4],\n",
    "                [9,9]])\n",
    "arr2 = np.array([[5,6],\n",
    "                [7,8]])\n",
    "\n",
    "np.concatenate((arr1, arr2))"
   ]
  },
  {
   "cell_type": "code",
   "execution_count": 14,
   "id": "3b374136-0f65-459b-9883-87a0db85eebc",
   "metadata": {},
   "outputs": [
    {
     "data": {
      "text/plain": [
       "array([[1, 2, 9, 5, 6],\n",
       "       [3, 4, 9, 7, 8]])"
      ]
     },
     "execution_count": 14,
     "metadata": {},
     "output_type": "execute_result"
    }
   ],
   "source": [
    "arr1 = np.array([[1,2,9],\n",
    "                [3,4,9]])\n",
    "arr2 = np.array([[5,6],\n",
    "                [7,8]])\n",
    "\n",
    "np.concatenate((arr1, arr2), axis=1)"
   ]
  },
  {
   "cell_type": "code",
   "execution_count": null,
   "id": "c051a397-f968-4b3d-a402-eb09fde86cf6",
   "metadata": {},
   "outputs": [],
   "source": []
  },
  {
   "cell_type": "code",
   "execution_count": null,
   "id": "35f8cb02-7c94-4eb9-bbb6-d800e6a360b9",
   "metadata": {},
   "outputs": [],
   "source": []
  },
  {
   "cell_type": "code",
   "execution_count": 19,
   "id": "8915494f-cee8-417b-ace8-e301a99577a6",
   "metadata": {},
   "outputs": [
    {
     "data": {
      "text/plain": [
       "array([[[1, 2],\n",
       "        [3, 4]],\n",
       "\n",
       "       [[5, 6],\n",
       "        [7, 8]],\n",
       "\n",
       "       [[9, 9],\n",
       "        [9, 9]]])"
      ]
     },
     "execution_count": 19,
     "metadata": {},
     "output_type": "execute_result"
    }
   ],
   "source": [
    "arr1 = np.array([\n",
    "                  [[1,2],\n",
    "                  [3,4]],\n",
    "\n",
    "                  [[5,6],\n",
    "                  [7,8]]\n",
    "                ])\n",
    "arr2 = np.array([\n",
    "                  [[9,9],\n",
    "                  [9,9]]\n",
    "                ])\n",
    "\n",
    "np.concatenate((arr1, arr2), axis=0)"
   ]
  },
  {
   "cell_type": "code",
   "execution_count": 18,
   "id": "ee6178e9-d059-467c-a3e7-f7f38104777f",
   "metadata": {
    "tags": []
   },
   "outputs": [
    {
     "data": {
      "text/plain": [
       "((2, 2, 2), (1, 2, 2))"
      ]
     },
     "execution_count": 18,
     "metadata": {},
     "output_type": "execute_result"
    }
   ],
   "source": [
    "arr1.shape, arr2.shape"
   ]
  },
  {
   "cell_type": "code",
   "execution_count": null,
   "id": "081dbab0-c485-4b00-93de-2aa47432209a",
   "metadata": {},
   "outputs": [],
   "source": []
  },
  {
   "cell_type": "code",
   "execution_count": null,
   "id": "746140c9-b7ce-426c-90d6-82776e7581a1",
   "metadata": {},
   "outputs": [],
   "source": []
  },
  {
   "cell_type": "code",
   "execution_count": null,
   "id": "edabfb76-fa13-4267-be41-f9d6c8c6f191",
   "metadata": {},
   "outputs": [],
   "source": []
  },
  {
   "cell_type": "code",
   "execution_count": null,
   "id": "98e194d5-27ef-44b5-bc81-5a6da8ca0d27",
   "metadata": {},
   "outputs": [],
   "source": []
  },
  {
   "cell_type": "code",
   "execution_count": null,
   "id": "d5e15deb-2621-43d4-9447-a9257bcc1f1a",
   "metadata": {},
   "outputs": [],
   "source": [
    "np.row_stack?"
   ]
  },
  {
   "cell_type": "code",
   "execution_count": null,
   "id": "c8ab022e-61b6-471b-a48f-6e52360bd8e6",
   "metadata": {},
   "outputs": [],
   "source": [
    "np.column_stack?"
   ]
  },
  {
   "cell_type": "code",
   "execution_count": 24,
   "id": "a19d8a18-7ceb-4f0e-b6ee-c24a367713e6",
   "metadata": {},
   "outputs": [
    {
     "data": {
      "text/plain": [
       "array([[1, 2, 3],\n",
       "       [4, 5, 6]])"
      ]
     },
     "execution_count": 24,
     "metadata": {},
     "output_type": "execute_result"
    }
   ],
   "source": [
    "arr1 = np.array([1,2,3])\n",
    "arr2 = np.array([4,5,6])\n",
    "\n",
    "np.row_stack((arr1, arr2))"
   ]
  },
  {
   "cell_type": "code",
   "execution_count": 25,
   "id": "e87b83be-9c34-45bb-9afa-a04b44e615b3",
   "metadata": {},
   "outputs": [
    {
     "data": {
      "text/plain": [
       "array([[1, 4],\n",
       "       [2, 5],\n",
       "       [3, 6]])"
      ]
     },
     "execution_count": 25,
     "metadata": {},
     "output_type": "execute_result"
    }
   ],
   "source": [
    "arr1 = np.array([1,2,3])\n",
    "arr2 = np.array([4,5,6])\n",
    "\n",
    "np.column_stack((arr1, arr2))"
   ]
  },
  {
   "cell_type": "code",
   "execution_count": null,
   "id": "fa8bee35-c79e-4d6a-a3ec-2f235e03863a",
   "metadata": {},
   "outputs": [],
   "source": []
  },
  {
   "cell_type": "code",
   "execution_count": null,
   "id": "d853716e-97c0-4cae-8a8a-75d8f885d411",
   "metadata": {},
   "outputs": [],
   "source": []
  },
  {
   "cell_type": "code",
   "execution_count": 120,
   "id": "a635e654-220d-4976-be66-4bb4c7c1323b",
   "metadata": {},
   "outputs": [
    {
     "name": "stdout",
     "output_type": "stream",
     "text": [
      "[[7 6]\n",
      " [6 9]] \n",
      "\n",
      " [[9 8]\n",
      " [3 6]]\n"
     ]
    }
   ],
   "source": [
    "arr1 = np.random.randint(0, 10, (2,2))\n",
    "arr2 = np.random.randint(0, 10, (2,2))\n",
    "\n",
    "print(arr1, '\\n\\n', arr2)"
   ]
  },
  {
   "cell_type": "code",
   "execution_count": 122,
   "id": "9067267d-00a5-4aba-8240-5884cbd50bda",
   "metadata": {
    "tags": []
   },
   "outputs": [
    {
     "data": {
      "text/plain": [
       "array([[7, 6],\n",
       "       [6, 9],\n",
       "       [9, 8],\n",
       "       [3, 6]])"
      ]
     },
     "execution_count": 122,
     "metadata": {},
     "output_type": "execute_result"
    }
   ],
   "source": [
    "np.row_stack((arr1, arr2))"
   ]
  },
  {
   "cell_type": "code",
   "execution_count": 123,
   "id": "09226434-6132-4d05-9790-bd96a59b977d",
   "metadata": {},
   "outputs": [
    {
     "data": {
      "text/plain": [
       "array([[7, 6, 9, 8],\n",
       "       [6, 9, 3, 6]])"
      ]
     },
     "execution_count": 123,
     "metadata": {},
     "output_type": "execute_result"
    }
   ],
   "source": [
    "np.column_stack((arr1, arr2))"
   ]
  },
  {
   "cell_type": "code",
   "execution_count": null,
   "id": "adea311e-035c-4727-965a-99ff1042c253",
   "metadata": {},
   "outputs": [],
   "source": []
  },
  {
   "cell_type": "code",
   "execution_count": null,
   "id": "fba6a6d4-365e-4814-be1e-c8817067688e",
   "metadata": {},
   "outputs": [],
   "source": []
  },
  {
   "cell_type": "code",
   "execution_count": null,
   "id": "a221d6a2-371e-4ca7-aeec-23513aaba07b",
   "metadata": {},
   "outputs": [],
   "source": []
  },
  {
   "cell_type": "code",
   "execution_count": null,
   "id": "4afa1d1b-5803-4035-9fcf-3ddaa1d72a8d",
   "metadata": {},
   "outputs": [],
   "source": []
  },
  {
   "cell_type": "code",
   "execution_count": null,
   "id": "7c314553-2ad9-4602-85a4-afd56fafd741",
   "metadata": {},
   "outputs": [],
   "source": [
    "np.hstack?"
   ]
  },
  {
   "cell_type": "code",
   "execution_count": null,
   "id": "70790de9-2e71-4fce-8ef2-edcfa583d25c",
   "metadata": {},
   "outputs": [],
   "source": [
    "np.vstack?"
   ]
  },
  {
   "cell_type": "code",
   "execution_count": 127,
   "id": "e9562ea0-22c0-454e-8451-b54070300904",
   "metadata": {},
   "outputs": [
    {
     "data": {
      "text/plain": [
       "array([1, 2, 3, 4, 5, 6, 6])"
      ]
     },
     "execution_count": 127,
     "metadata": {},
     "output_type": "execute_result"
    }
   ],
   "source": [
    "arr1 = np.array([1,2,3])\n",
    "arr2 = np.array([4,5,6,6])\n",
    "\n",
    "np.hstack((arr1, arr2))"
   ]
  },
  {
   "cell_type": "code",
   "execution_count": 31,
   "id": "1cef9e99-a960-4742-938e-4b3f3a24da8c",
   "metadata": {},
   "outputs": [
    {
     "data": {
      "text/plain": [
       "array([[1, 2, 3],\n",
       "       [4, 5, 6]])"
      ]
     },
     "execution_count": 31,
     "metadata": {},
     "output_type": "execute_result"
    }
   ],
   "source": [
    "np.vstack((arr1, arr2))"
   ]
  },
  {
   "cell_type": "code",
   "execution_count": null,
   "id": "b103a2c1-b559-4c66-b82a-e0c167bd6895",
   "metadata": {},
   "outputs": [],
   "source": []
  },
  {
   "cell_type": "code",
   "execution_count": 116,
   "id": "3137e7ca-35d5-4264-a87c-633081bca574",
   "metadata": {},
   "outputs": [
    {
     "name": "stdout",
     "output_type": "stream",
     "text": [
      "[[0 6]\n",
      " [8 0]] \n",
      "\n",
      " [[3 5 0]\n",
      " [1 9 1]]\n"
     ]
    }
   ],
   "source": [
    "arr1 = np.random.randint(0, 10, (2,2))\n",
    "arr2 = np.random.randint(0, 10, (2,3))\n",
    "\n",
    "print(arr1, '\\n\\n', arr2)"
   ]
  },
  {
   "cell_type": "code",
   "execution_count": 117,
   "id": "70d79938-f5ec-4eb6-b2bc-f3e0cb5e2568",
   "metadata": {},
   "outputs": [
    {
     "data": {
      "text/plain": [
       "array([[0, 6, 3, 5, 0],\n",
       "       [8, 0, 1, 9, 1]])"
      ]
     },
     "execution_count": 117,
     "metadata": {},
     "output_type": "execute_result"
    }
   ],
   "source": [
    "np.hstack((arr1, arr2))"
   ]
  },
  {
   "cell_type": "code",
   "execution_count": 128,
   "id": "65e8d6a8-3106-4b13-9d14-c77f3e444c15",
   "metadata": {},
   "outputs": [
    {
     "name": "stdout",
     "output_type": "stream",
     "text": [
      "[[1 8]\n",
      " [0 8]] \n",
      "\n",
      " [[2 0]\n",
      " [7 9]\n",
      " [9 0]]\n"
     ]
    }
   ],
   "source": [
    "arr1 = np.random.randint(0, 10, (2,2))\n",
    "arr2 = np.random.randint(0, 10, (3,2))\n",
    "\n",
    "print(arr1, '\\n\\n', arr2)"
   ]
  },
  {
   "cell_type": "code",
   "execution_count": 129,
   "id": "e20fbe7f-7e2a-40f0-b2ea-5d66080fe6f3",
   "metadata": {},
   "outputs": [
    {
     "data": {
      "text/plain": [
       "array([[1, 8],\n",
       "       [0, 8],\n",
       "       [2, 0],\n",
       "       [7, 9],\n",
       "       [9, 0]])"
      ]
     },
     "execution_count": 129,
     "metadata": {},
     "output_type": "execute_result"
    }
   ],
   "source": [
    "np.vstack((arr1, arr2))"
   ]
  },
  {
   "cell_type": "code",
   "execution_count": null,
   "id": "83293dc5-6ea8-4cba-9300-1c067806e015",
   "metadata": {},
   "outputs": [],
   "source": []
  },
  {
   "cell_type": "code",
   "execution_count": null,
   "id": "3b89d41d-0b74-40c4-8ada-8170350cac51",
   "metadata": {},
   "outputs": [],
   "source": []
  },
  {
   "cell_type": "code",
   "execution_count": null,
   "id": "91e80833-caa0-40b0-abd5-ee15f0283307",
   "metadata": {},
   "outputs": [],
   "source": []
  },
  {
   "cell_type": "code",
   "execution_count": null,
   "id": "0d53a6bd-3e1c-49f0-8883-c331284cf95c",
   "metadata": {},
   "outputs": [],
   "source": []
  },
  {
   "cell_type": "code",
   "execution_count": null,
   "id": "41027441-3038-4b7a-a084-b425fe2bee3c",
   "metadata": {},
   "outputs": [],
   "source": []
  },
  {
   "cell_type": "code",
   "execution_count": null,
   "id": "24c67269-8ad1-4683-8696-2cad533514a6",
   "metadata": {},
   "outputs": [],
   "source": [
    "np.stack?"
   ]
  },
  {
   "cell_type": "code",
   "execution_count": 177,
   "id": "9b5b9a07-9a0a-4d60-ba95-7c74fa908a22",
   "metadata": {},
   "outputs": [
    {
     "name": "stdout",
     "output_type": "stream",
     "text": [
      "[6 5 0 0] \n",
      "\n",
      " [7 3 7 1]\n"
     ]
    }
   ],
   "source": [
    "arr1 = np.random.randint(0, 10, 4)\n",
    "arr2 = np.random.randint(0, 10, 4)\n",
    "\n",
    "print(arr1, '\\n\\n', arr2)"
   ]
  },
  {
   "cell_type": "code",
   "execution_count": 178,
   "id": "2b77704e-d685-4930-85fa-cd21a45ce90f",
   "metadata": {},
   "outputs": [
    {
     "data": {
      "text/plain": [
       "array([[6, 5, 0, 0],\n",
       "       [7, 3, 7, 1]])"
      ]
     },
     "execution_count": 178,
     "metadata": {},
     "output_type": "execute_result"
    }
   ],
   "source": [
    "np.stack((arr1, arr2), axis=0)"
   ]
  },
  {
   "cell_type": "code",
   "execution_count": 179,
   "id": "7fd3c731-76dd-4329-b417-53a95bbb1c4c",
   "metadata": {},
   "outputs": [
    {
     "data": {
      "text/plain": [
       "array([[6, 7],\n",
       "       [5, 3],\n",
       "       [0, 7],\n",
       "       [0, 1]])"
      ]
     },
     "execution_count": 179,
     "metadata": {},
     "output_type": "execute_result"
    }
   ],
   "source": [
    "np.stack((arr1, arr2), axis=1)"
   ]
  },
  {
   "cell_type": "code",
   "execution_count": 180,
   "id": "9bee5f85-b69f-4ed1-a221-1646b96cfd07",
   "metadata": {},
   "outputs": [
    {
     "data": {
      "text/plain": [
       "array([[6, 7],\n",
       "       [5, 3],\n",
       "       [0, 7],\n",
       "       [0, 1]])"
      ]
     },
     "execution_count": 180,
     "metadata": {},
     "output_type": "execute_result"
    }
   ],
   "source": [
    "np.stack((arr1, arr2), axis=-1)"
   ]
  },
  {
   "cell_type": "code",
   "execution_count": null,
   "id": "ebbe54f5-3a99-4b65-9f0a-b08d56525a71",
   "metadata": {},
   "outputs": [],
   "source": []
  },
  {
   "cell_type": "code",
   "execution_count": null,
   "id": "efd25045-277f-4f6d-bb6b-5d37bf8b6da3",
   "metadata": {},
   "outputs": [],
   "source": []
  },
  {
   "cell_type": "code",
   "execution_count": null,
   "id": "44033285-e155-43d5-bb36-095d74e4d1b1",
   "metadata": {},
   "outputs": [],
   "source": []
  },
  {
   "cell_type": "code",
   "execution_count": 165,
   "id": "b5f2cfbf-be8f-44d2-848a-b3b3ab93144b",
   "metadata": {},
   "outputs": [
    {
     "name": "stdout",
     "output_type": "stream",
     "text": [
      "[[2 7]\n",
      " [0 0]] \n",
      "\n",
      " [[6 9]\n",
      " [8 2]]\n"
     ]
    }
   ],
   "source": [
    "arr1 = np.random.randint(0, 10, (2,2))\n",
    "arr2 = np.random.randint(0, 10, (2,2))\n",
    "\n",
    "print(arr1, '\\n\\n', arr2)"
   ]
  },
  {
   "cell_type": "code",
   "execution_count": 166,
   "id": "9ed29776-7f6d-47b2-a26b-90ab9803eafc",
   "metadata": {},
   "outputs": [
    {
     "data": {
      "text/plain": [
       "array([[[2, 7],\n",
       "        [0, 0]],\n",
       "\n",
       "       [[6, 9],\n",
       "        [8, 2]]])"
      ]
     },
     "execution_count": 166,
     "metadata": {},
     "output_type": "execute_result"
    }
   ],
   "source": [
    "np.stack((arr1, arr2))"
   ]
  },
  {
   "cell_type": "code",
   "execution_count": 174,
   "id": "77edf451-b3ee-4de5-b0da-5ae15eac1b4e",
   "metadata": {},
   "outputs": [
    {
     "data": {
      "text/plain": [
       "array([[[2, 7],\n",
       "        [6, 9]],\n",
       "\n",
       "       [[0, 0],\n",
       "        [8, 2]]])"
      ]
     },
     "execution_count": 174,
     "metadata": {},
     "output_type": "execute_result"
    }
   ],
   "source": [
    "np.stack((arr1, arr2), axis=1)"
   ]
  },
  {
   "cell_type": "code",
   "execution_count": 175,
   "id": "1311e502-d5fb-468a-82df-f98e330f5e2c",
   "metadata": {},
   "outputs": [
    {
     "data": {
      "text/plain": [
       "array([[[2, 6],\n",
       "        [7, 9]],\n",
       "\n",
       "       [[0, 8],\n",
       "        [0, 2]]])"
      ]
     },
     "execution_count": 175,
     "metadata": {},
     "output_type": "execute_result"
    }
   ],
   "source": [
    "np.stack((arr1, arr2), axis=2)"
   ]
  },
  {
   "cell_type": "code",
   "execution_count": 176,
   "id": "43ea713e-10e9-4ced-b204-16b4212f2992",
   "metadata": {},
   "outputs": [
    {
     "data": {
      "text/plain": [
       "array([[[2, 6],\n",
       "        [7, 9]],\n",
       "\n",
       "       [[0, 8],\n",
       "        [0, 2]]])"
      ]
     },
     "execution_count": 176,
     "metadata": {},
     "output_type": "execute_result"
    }
   ],
   "source": [
    "np.stack((arr1, arr2), axis=-1)"
   ]
  },
  {
   "cell_type": "code",
   "execution_count": null,
   "id": "8e806a97-c949-4a58-b6bc-b62becf61e6a",
   "metadata": {},
   "outputs": [],
   "source": []
  },
  {
   "cell_type": "code",
   "execution_count": null,
   "id": "c21e5041-06c5-49c2-81db-482b7d439e17",
   "metadata": {},
   "outputs": [],
   "source": []
  },
  {
   "cell_type": "code",
   "execution_count": null,
   "id": "5de90d1d-6c84-45f6-9669-66bf1134af9a",
   "metadata": {},
   "outputs": [],
   "source": [
    "np.dstack?"
   ]
  },
  {
   "cell_type": "code",
   "execution_count": 184,
   "id": "0b1e9766-d0ff-43ed-ac37-33d9508f0aa7",
   "metadata": {},
   "outputs": [
    {
     "name": "stdout",
     "output_type": "stream",
     "text": [
      "[2 4 3 0] \n",
      "\n",
      " [1 6 4 2]\n"
     ]
    }
   ],
   "source": [
    "arr1 = np.random.randint(0, 10, 4)\n",
    "arr2 = np.random.randint(0, 10, 4)\n",
    "\n",
    "print(arr1, '\\n\\n', arr2)"
   ]
  },
  {
   "cell_type": "code",
   "execution_count": 185,
   "id": "3095e739-0094-435d-8713-bc267a0b2864",
   "metadata": {},
   "outputs": [
    {
     "data": {
      "text/plain": [
       "array([[[2, 1],\n",
       "        [4, 6],\n",
       "        [3, 4],\n",
       "        [0, 2]]])"
      ]
     },
     "execution_count": 185,
     "metadata": {},
     "output_type": "execute_result"
    }
   ],
   "source": [
    "np.dstack((arr1, arr2))"
   ]
  },
  {
   "cell_type": "code",
   "execution_count": null,
   "id": "16581f25-76d0-4517-8261-c584de09bdd1",
   "metadata": {},
   "outputs": [],
   "source": []
  },
  {
   "cell_type": "code",
   "execution_count": 191,
   "id": "98d5e3a4-5771-493c-805d-8a20d481f667",
   "metadata": {
    "tags": []
   },
   "outputs": [
    {
     "name": "stdout",
     "output_type": "stream",
     "text": [
      "[[3 6]\n",
      " [9 3]] \n",
      "\n",
      " [[9 1]\n",
      " [4 4]]\n"
     ]
    }
   ],
   "source": [
    "arr1 = np.random.randint(0, 10, (2,2))\n",
    "arr2 = np.random.randint(0, 10, (2,2))\n",
    "\n",
    "print(arr1, '\\n\\n', arr2)"
   ]
  },
  {
   "cell_type": "code",
   "execution_count": null,
   "id": "cdb266b8-abbc-4dcd-8c97-5a6bb1cb8fa9",
   "metadata": {},
   "outputs": [],
   "source": []
  },
  {
   "cell_type": "code",
   "execution_count": 187,
   "id": "ab0e910d-a119-4608-83c4-98c78a92d5cc",
   "metadata": {},
   "outputs": [
    {
     "data": {
      "text/plain": [
       "array([[[1, 4],\n",
       "        [2, 1]],\n",
       "\n",
       "       [[0, 0],\n",
       "        [3, 6]]])"
      ]
     },
     "execution_count": 187,
     "metadata": {},
     "output_type": "execute_result"
    }
   ],
   "source": [
    "np.dstack((arr1, arr2))"
   ]
  },
  {
   "cell_type": "code",
   "execution_count": null,
   "id": "6e489b3a-7649-462a-8a9d-3fed1206768c",
   "metadata": {},
   "outputs": [],
   "source": []
  },
  {
   "cell_type": "code",
   "execution_count": 188,
   "id": "81c21d45-7d54-4e0a-856f-680bcffbf8bb",
   "metadata": {
    "tags": []
   },
   "outputs": [
    {
     "name": "stdout",
     "output_type": "stream",
     "text": [
      "[[[4 8]\n",
      "  [0 1]]\n",
      "\n",
      " [[6 2]\n",
      "  [5 1]]] \n",
      "\n",
      " [[[2 1]\n",
      "  [3 6]]\n",
      "\n",
      " [[0 2]\n",
      "  [9 9]]]\n"
     ]
    }
   ],
   "source": [
    "arr1 = np.random.randint(0, 10, (2,2,2))\n",
    "arr2 = np.random.randint(0, 10, (2,2,2))\n",
    "\n",
    "print(arr1, '\\n\\n', arr2)"
   ]
  },
  {
   "cell_type": "code",
   "execution_count": 189,
   "id": "9482caaa-31f8-4a66-ab38-9b25d3d4fe84",
   "metadata": {},
   "outputs": [
    {
     "data": {
      "text/plain": [
       "array([[[4, 8, 2, 1],\n",
       "        [0, 1, 3, 6]],\n",
       "\n",
       "       [[6, 2, 0, 2],\n",
       "        [5, 1, 9, 9]]])"
      ]
     },
     "execution_count": 189,
     "metadata": {},
     "output_type": "execute_result"
    }
   ],
   "source": [
    "np.dstack((arr1, arr2))"
   ]
  },
  {
   "cell_type": "code",
   "execution_count": null,
   "id": "25093d4d-a2c2-47c5-96aa-85df3ef721c8",
   "metadata": {},
   "outputs": [],
   "source": []
  },
  {
   "cell_type": "code",
   "execution_count": null,
   "id": "2d103eda-cd2e-458f-a084-109fdb122b20",
   "metadata": {},
   "outputs": [],
   "source": []
  },
  {
   "cell_type": "code",
   "execution_count": null,
   "id": "4fe12204-d240-4bb5-8fd5-4c265ca7f0f7",
   "metadata": {},
   "outputs": [],
   "source": []
  },
  {
   "cell_type": "code",
   "execution_count": null,
   "id": "a6ac8409-c7d6-410e-92f5-9f63b23418e5",
   "metadata": {},
   "outputs": [],
   "source": []
  },
  {
   "cell_type": "code",
   "execution_count": null,
   "id": "9c15a4f3-24fd-4d71-8be5-a936e3200804",
   "metadata": {},
   "outputs": [],
   "source": []
  },
  {
   "cell_type": "code",
   "execution_count": null,
   "id": "0d9e6cbf-ff34-4ef3-8946-095a09fb864d",
   "metadata": {},
   "outputs": [],
   "source": []
  },
  {
   "cell_type": "code",
   "execution_count": null,
   "id": "9b16ac13-8180-4d0e-8f95-374da0cd9de4",
   "metadata": {},
   "outputs": [],
   "source": []
  },
  {
   "cell_type": "code",
   "execution_count": null,
   "id": "73273221-44eb-4f4f-8073-1c6582faaf2e",
   "metadata": {},
   "outputs": [],
   "source": []
  },
  {
   "cell_type": "code",
   "execution_count": 194,
   "id": "27b20fd1-823f-4992-b3b5-50a4ad3b3c58",
   "metadata": {},
   "outputs": [
    {
     "data": {
      "text/plain": [
       "array([1, 9, 6, 4, 4, 0, 9, 9, 6, 0])"
      ]
     },
     "execution_count": 194,
     "metadata": {},
     "output_type": "execute_result"
    }
   ],
   "source": [
    "arr = np.random.randint(0, 10, 10)\n",
    "arr"
   ]
  },
  {
   "cell_type": "code",
   "execution_count": 195,
   "id": "f08d8a8e-8d17-4435-a4e2-a787e2fc9532",
   "metadata": {},
   "outputs": [
    {
     "data": {
      "text/plain": [
       "[array([1, 9, 6, 4, 4]), array([0, 9, 9, 6, 0])]"
      ]
     },
     "execution_count": 195,
     "metadata": {},
     "output_type": "execute_result"
    }
   ],
   "source": [
    "np.split(arr, 2)"
   ]
  },
  {
   "cell_type": "code",
   "execution_count": null,
   "id": "3ced10ed-755e-48a1-a1ee-ee5a6ff2dc51",
   "metadata": {},
   "outputs": [],
   "source": [
    "np.split(arr, 3)"
   ]
  },
  {
   "cell_type": "code",
   "execution_count": 197,
   "id": "a74f3c20-6bd2-441f-abb6-2ef8adce9bf6",
   "metadata": {},
   "outputs": [
    {
     "data": {
      "text/plain": [
       "[array([1, 9]), array([6, 4]), array([4, 0]), array([9, 9]), array([6, 0])]"
      ]
     },
     "execution_count": 197,
     "metadata": {},
     "output_type": "execute_result"
    }
   ],
   "source": [
    "np.split(arr, 5)"
   ]
  },
  {
   "cell_type": "code",
   "execution_count": 201,
   "id": "0e5a5bbb-5699-4bcb-87c4-e8429b991b0b",
   "metadata": {},
   "outputs": [
    {
     "data": {
      "text/plain": [
       "[array([1, 9, 6]), array([4, 4, 0]), array([9, 9]), array([6, 0])]"
      ]
     },
     "execution_count": 201,
     "metadata": {},
     "output_type": "execute_result"
    }
   ],
   "source": [
    "np.array_split(arr, 4)"
   ]
  },
  {
   "cell_type": "code",
   "execution_count": null,
   "id": "6066aac1-57f1-41bf-8bf0-4d028f86fd8e",
   "metadata": {},
   "outputs": [],
   "source": [
    "np.array_split?"
   ]
  },
  {
   "cell_type": "code",
   "execution_count": null,
   "id": "18131cc5-6dfd-4d7e-9665-f47335f041f8",
   "metadata": {},
   "outputs": [],
   "source": []
  },
  {
   "cell_type": "code",
   "execution_count": 204,
   "id": "b7da047d-667d-492f-bf89-42fd51787110",
   "metadata": {},
   "outputs": [
    {
     "data": {
      "text/plain": [
       "array([[4, 2, 0, 1, 2, 4],\n",
       "       [7, 5, 7, 4, 5, 2],\n",
       "       [6, 2, 6, 8, 9, 3],\n",
       "       [4, 8, 6, 5, 8, 2],\n",
       "       [4, 6, 2, 9, 4, 7],\n",
       "       [6, 6, 5, 7, 8, 9]])"
      ]
     },
     "execution_count": 204,
     "metadata": {},
     "output_type": "execute_result"
    }
   ],
   "source": [
    "arr = np.random.randint(0, 10, (6,6))\n",
    "arr"
   ]
  },
  {
   "cell_type": "code",
   "execution_count": 209,
   "id": "43d0e465-1715-4be8-b39e-68680591be40",
   "metadata": {},
   "outputs": [
    {
     "data": {
      "text/plain": [
       "[array([[4, 2, 0],\n",
       "        [7, 5, 7],\n",
       "        [6, 2, 6],\n",
       "        [4, 8, 6],\n",
       "        [4, 6, 2],\n",
       "        [6, 6, 5]]),\n",
       " array([[1, 2, 4],\n",
       "        [4, 5, 2],\n",
       "        [8, 9, 3],\n",
       "        [5, 8, 2],\n",
       "        [9, 4, 7],\n",
       "        [7, 8, 9]])]"
      ]
     },
     "execution_count": 209,
     "metadata": {},
     "output_type": "execute_result"
    }
   ],
   "source": [
    "np.split(arr, 2, axis=1)"
   ]
  },
  {
   "cell_type": "code",
   "execution_count": 211,
   "id": "a31d8633-b6f9-4857-8308-c42dbc1db5fb",
   "metadata": {},
   "outputs": [
    {
     "data": {
      "text/plain": [
       "[array([[4, 2],\n",
       "        [7, 5],\n",
       "        [6, 2],\n",
       "        [4, 8],\n",
       "        [4, 6],\n",
       "        [6, 6]]),\n",
       " array([[0, 1],\n",
       "        [7, 4],\n",
       "        [6, 8],\n",
       "        [6, 5],\n",
       "        [2, 9],\n",
       "        [5, 7]]),\n",
       " array([[2],\n",
       "        [5],\n",
       "        [9],\n",
       "        [8],\n",
       "        [4],\n",
       "        [8]]),\n",
       " array([[4],\n",
       "        [2],\n",
       "        [3],\n",
       "        [2],\n",
       "        [7],\n",
       "        [9]])]"
      ]
     },
     "execution_count": 211,
     "metadata": {},
     "output_type": "execute_result"
    }
   ],
   "source": [
    "np.array_split(arr, 4, axis=1)"
   ]
  },
  {
   "cell_type": "code",
   "execution_count": null,
   "id": "2e9656a1-897e-42f1-a99d-253165d4efc6",
   "metadata": {},
   "outputs": [],
   "source": [
    "np.hsplit?"
   ]
  },
  {
   "cell_type": "code",
   "execution_count": null,
   "id": "da8c4230-22a2-4836-94e4-475eb992f2ca",
   "metadata": {},
   "outputs": [],
   "source": [
    "np.vsplit?"
   ]
  },
  {
   "cell_type": "code",
   "execution_count": 214,
   "id": "6cc0e6bd-b061-46a9-9128-c5702f1b584d",
   "metadata": {},
   "outputs": [],
   "source": [
    "arr = np.random.randint(0,10,10)"
   ]
  },
  {
   "cell_type": "code",
   "execution_count": 217,
   "id": "ce9492c9-dc31-4868-91a7-6be62c584278",
   "metadata": {},
   "outputs": [
    {
     "data": {
      "text/plain": [
       "[array([5, 9, 1, 7, 3]), array([8, 4, 2, 0, 5])]"
      ]
     },
     "execution_count": 217,
     "metadata": {},
     "output_type": "execute_result"
    }
   ],
   "source": [
    "np.hsplit(arr, 2)"
   ]
  },
  {
   "cell_type": "code",
   "execution_count": 218,
   "id": "d3740c84-51e4-4629-9271-03c445030c4a",
   "metadata": {},
   "outputs": [
    {
     "ename": "ValueError",
     "evalue": "array split does not result in an equal division",
     "output_type": "error",
     "traceback": [
      "\u001b[1;31m---------------------------------------------------------------------------\u001b[0m",
      "\u001b[1;31mValueError\u001b[0m                                Traceback (most recent call last)",
      "\u001b[1;32mF:\\else\\Windows\\DELLTE~1/ipykernel_10804/2702053083.py\u001b[0m in \u001b[0;36m<module>\u001b[1;34m\u001b[0m\n\u001b[1;32m----> 1\u001b[1;33m \u001b[0mnp\u001b[0m\u001b[1;33m.\u001b[0m\u001b[0mhsplit\u001b[0m\u001b[1;33m(\u001b[0m\u001b[0marr\u001b[0m\u001b[1;33m,\u001b[0m \u001b[1;36m3\u001b[0m\u001b[1;33m)\u001b[0m\u001b[1;33m\u001b[0m\u001b[1;33m\u001b[0m\u001b[0m\n\u001b[0m",
      "\u001b[1;32m<__array_function__ internals>\u001b[0m in \u001b[0;36mhsplit\u001b[1;34m(*args, **kwargs)\u001b[0m\n",
      "\u001b[1;32mC:\\ProgramData\\Anaconda3\\envs\\tools-and-techniques-in-data-science\\lib\\site-packages\\numpy\\lib\\shape_base.py\u001b[0m in \u001b[0;36mhsplit\u001b[1;34m(ary, indices_or_sections)\u001b[0m\n\u001b[0;32m    940\u001b[0m         \u001b[1;32mreturn\u001b[0m \u001b[0msplit\u001b[0m\u001b[1;33m(\u001b[0m\u001b[0mary\u001b[0m\u001b[1;33m,\u001b[0m \u001b[0mindices_or_sections\u001b[0m\u001b[1;33m,\u001b[0m \u001b[1;36m1\u001b[0m\u001b[1;33m)\u001b[0m\u001b[1;33m\u001b[0m\u001b[1;33m\u001b[0m\u001b[0m\n\u001b[0;32m    941\u001b[0m     \u001b[1;32melse\u001b[0m\u001b[1;33m:\u001b[0m\u001b[1;33m\u001b[0m\u001b[1;33m\u001b[0m\u001b[0m\n\u001b[1;32m--> 942\u001b[1;33m         \u001b[1;32mreturn\u001b[0m \u001b[0msplit\u001b[0m\u001b[1;33m(\u001b[0m\u001b[0mary\u001b[0m\u001b[1;33m,\u001b[0m \u001b[0mindices_or_sections\u001b[0m\u001b[1;33m,\u001b[0m \u001b[1;36m0\u001b[0m\u001b[1;33m)\u001b[0m\u001b[1;33m\u001b[0m\u001b[1;33m\u001b[0m\u001b[0m\n\u001b[0m\u001b[0;32m    943\u001b[0m \u001b[1;33m\u001b[0m\u001b[0m\n\u001b[0;32m    944\u001b[0m \u001b[1;33m\u001b[0m\u001b[0m\n",
      "\u001b[1;32m<__array_function__ internals>\u001b[0m in \u001b[0;36msplit\u001b[1;34m(*args, **kwargs)\u001b[0m\n",
      "\u001b[1;32mC:\\ProgramData\\Anaconda3\\envs\\tools-and-techniques-in-data-science\\lib\\site-packages\\numpy\\lib\\shape_base.py\u001b[0m in \u001b[0;36msplit\u001b[1;34m(ary, indices_or_sections, axis)\u001b[0m\n\u001b[0;32m    870\u001b[0m         \u001b[0mN\u001b[0m \u001b[1;33m=\u001b[0m \u001b[0mary\u001b[0m\u001b[1;33m.\u001b[0m\u001b[0mshape\u001b[0m\u001b[1;33m[\u001b[0m\u001b[0maxis\u001b[0m\u001b[1;33m]\u001b[0m\u001b[1;33m\u001b[0m\u001b[1;33m\u001b[0m\u001b[0m\n\u001b[0;32m    871\u001b[0m         \u001b[1;32mif\u001b[0m \u001b[0mN\u001b[0m \u001b[1;33m%\u001b[0m \u001b[0msections\u001b[0m\u001b[1;33m:\u001b[0m\u001b[1;33m\u001b[0m\u001b[1;33m\u001b[0m\u001b[0m\n\u001b[1;32m--> 872\u001b[1;33m             raise ValueError(\n\u001b[0m\u001b[0;32m    873\u001b[0m                 'array split does not result in an equal division') from None\n\u001b[0;32m    874\u001b[0m     \u001b[1;32mreturn\u001b[0m \u001b[0marray_split\u001b[0m\u001b[1;33m(\u001b[0m\u001b[0mary\u001b[0m\u001b[1;33m,\u001b[0m \u001b[0mindices_or_sections\u001b[0m\u001b[1;33m,\u001b[0m \u001b[0maxis\u001b[0m\u001b[1;33m)\u001b[0m\u001b[1;33m\u001b[0m\u001b[1;33m\u001b[0m\u001b[0m\n",
      "\u001b[1;31mValueError\u001b[0m: array split does not result in an equal division"
     ]
    }
   ],
   "source": [
    "np.hsplit(arr, 3)"
   ]
  },
  {
   "cell_type": "code",
   "execution_count": 223,
   "id": "c07c42bc-d9f8-4341-805b-5f8fb58c88cc",
   "metadata": {},
   "outputs": [
    {
     "data": {
      "text/plain": [
       "array([[6, 6, 4, 0, 1, 3],\n",
       "       [1, 4, 0, 8, 6, 5],\n",
       "       [1, 4, 2, 7, 0, 4],\n",
       "       [5, 4, 3, 0, 0, 6],\n",
       "       [9, 5, 0, 8, 2, 2],\n",
       "       [1, 2, 9, 0, 3, 8]])"
      ]
     },
     "execution_count": 223,
     "metadata": {},
     "output_type": "execute_result"
    }
   ],
   "source": [
    "arr = np.random.randint(0,10,(6,6))\n",
    "arr"
   ]
  },
  {
   "cell_type": "code",
   "execution_count": 224,
   "id": "85a60228-71bb-4f1b-afe3-c7e4760db656",
   "metadata": {},
   "outputs": [
    {
     "data": {
      "text/plain": [
       "[array([[6, 6, 4],\n",
       "        [1, 4, 0],\n",
       "        [1, 4, 2],\n",
       "        [5, 4, 3],\n",
       "        [9, 5, 0],\n",
       "        [1, 2, 9]]),\n",
       " array([[0, 1, 3],\n",
       "        [8, 6, 5],\n",
       "        [7, 0, 4],\n",
       "        [0, 0, 6],\n",
       "        [8, 2, 2],\n",
       "        [0, 3, 8]])]"
      ]
     },
     "execution_count": 224,
     "metadata": {},
     "output_type": "execute_result"
    }
   ],
   "source": [
    "np.hsplit(arr, 2)"
   ]
  },
  {
   "cell_type": "code",
   "execution_count": null,
   "id": "7e99c15b-0d8b-43f9-bf42-1e3e9f7c5703",
   "metadata": {},
   "outputs": [],
   "source": []
  },
  {
   "cell_type": "code",
   "execution_count": 225,
   "id": "bd873eea-0e0f-4de7-ae4e-32e5a1d59574",
   "metadata": {},
   "outputs": [
    {
     "data": {
      "text/plain": [
       "array([[0, 9, 1, 4, 3, 1],\n",
       "       [0, 5, 9, 5, 9, 0],\n",
       "       [2, 7, 3, 0, 3, 9],\n",
       "       [4, 7, 7, 0, 9, 7],\n",
       "       [1, 3, 9, 4, 0, 0],\n",
       "       [6, 2, 6, 6, 6, 9]])"
      ]
     },
     "execution_count": 225,
     "metadata": {},
     "output_type": "execute_result"
    }
   ],
   "source": [
    "arr = np.random.randint(0,10,(6,6))\n",
    "arr"
   ]
  },
  {
   "cell_type": "code",
   "execution_count": 226,
   "id": "354ad51b-18ad-4434-83d9-80a5fe21ce77",
   "metadata": {},
   "outputs": [
    {
     "data": {
      "text/plain": [
       "[array([[0, 9, 1, 4, 3, 1],\n",
       "        [0, 5, 9, 5, 9, 0],\n",
       "        [2, 7, 3, 0, 3, 9]]),\n",
       " array([[4, 7, 7, 0, 9, 7],\n",
       "        [1, 3, 9, 4, 0, 0],\n",
       "        [6, 2, 6, 6, 6, 9]])]"
      ]
     },
     "execution_count": 226,
     "metadata": {},
     "output_type": "execute_result"
    }
   ],
   "source": [
    "np.vsplit(arr, 2)"
   ]
  },
  {
   "cell_type": "code",
   "execution_count": null,
   "id": "f0e27a19-6179-4a6f-8731-778f55b4319b",
   "metadata": {},
   "outputs": [],
   "source": []
  },
  {
   "cell_type": "code",
   "execution_count": null,
   "id": "7b98f5d8-0c7d-49e6-9831-e53c63f5d592",
   "metadata": {},
   "outputs": [],
   "source": []
  },
  {
   "cell_type": "code",
   "execution_count": null,
   "id": "0be95cb3-56a9-4651-b595-d7a9b18450f1",
   "metadata": {},
   "outputs": [],
   "source": []
  },
  {
   "cell_type": "code",
   "execution_count": 228,
   "id": "92a9ca60-f23f-4c64-99f5-b2aa034553e6",
   "metadata": {},
   "outputs": [
    {
     "data": {
      "text/plain": [
       "[array([1]),\n",
       " array([], dtype=int32),\n",
       " array([], dtype=int32),\n",
       " array([], dtype=int32),\n",
       " array([], dtype=int32)]"
      ]
     },
     "execution_count": 228,
     "metadata": {},
     "output_type": "execute_result"
    }
   ],
   "source": [
    "arr = np.array([1])\n",
    "np.array_split(arr, 5)"
   ]
  }
 ],
 "metadata": {
  "kernelspec": {
   "display_name": "tools-and-techniques-in-data-science",
   "language": "python",
   "name": "tools-and-techniques-in-data-science"
  },
  "language_info": {
   "codemirror_mode": {
    "name": "ipython",
    "version": 3
   },
   "file_extension": ".py",
   "mimetype": "text/x-python",
   "name": "python",
   "nbconvert_exporter": "python",
   "pygments_lexer": "ipython3",
   "version": "3.9.7"
  }
 },
 "nbformat": 4,
 "nbformat_minor": 5
}
