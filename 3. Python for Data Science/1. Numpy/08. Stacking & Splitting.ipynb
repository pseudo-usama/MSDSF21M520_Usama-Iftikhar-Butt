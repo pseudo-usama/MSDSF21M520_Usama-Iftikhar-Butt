{
 "cells": [
  {
   "cell_type": "code",
   "execution_count": 2,
   "id": "7d641253-377c-4fa1-aacc-dd5016cea00e",
   "metadata": {},
   "outputs": [],
   "source": [
    "import numpy as np"
   ]
  },
  {
   "cell_type": "code",
   "execution_count": null,
   "id": "4373dd08-6c62-4831-a0f9-47135c87ae35",
   "metadata": {},
   "outputs": [],
   "source": []
  },
  {
   "cell_type": "code",
   "execution_count": null,
   "id": "f6fe5bfb-aa1c-4f93-a199-f8199e4ca897",
   "metadata": {},
   "outputs": [],
   "source": [
    "np.concatenate?"
   ]
  },
  {
   "cell_type": "code",
   "execution_count": 5,
   "id": "028021d1-f09a-4437-a930-4f3c09274fc9",
   "metadata": {},
   "outputs": [
    {
     "data": {
      "text/plain": [
       "array([1, 2, 3, 4, 5, 6, 7, 8])"
      ]
     },
     "execution_count": 5,
     "metadata": {},
     "output_type": "execute_result"
    }
   ],
   "source": [
    "arr1 = np.array([1,2,3,4])\n",
    "arr2 = np.array([5,6,7,8])\n",
    "\n",
    "np.concatenate((arr1, arr2))"
   ]
  },
  {
   "cell_type": "code",
   "execution_count": 6,
   "id": "ba0471b0-526e-407b-b334-e35b8f42d10c",
   "metadata": {},
   "outputs": [
    {
     "data": {
      "text/plain": [
       "array([1, 2, 3, 4, 5, 6, 7, 8])"
      ]
     },
     "execution_count": 6,
     "metadata": {},
     "output_type": "execute_result"
    }
   ],
   "source": [
    "np.concatenate((arr1, arr2), axis=0)"
   ]
  },
  {
   "cell_type": "code",
   "execution_count": 7,
   "id": "ae5109df-13a5-4364-a14b-e8d25ef3b546",
   "metadata": {},
   "outputs": [
    {
     "ename": "AxisError",
     "evalue": "axis 1 is out of bounds for array of dimension 1",
     "output_type": "error",
     "traceback": [
      "\u001b[1;31m---------------------------------------------------------------------------\u001b[0m",
      "\u001b[1;31mAxisError\u001b[0m                                 Traceback (most recent call last)",
      "\u001b[1;32mF:\\else\\Windows\\DELLTE~1/ipykernel_10804/3364971412.py\u001b[0m in \u001b[0;36m<module>\u001b[1;34m\u001b[0m\n\u001b[1;32m----> 1\u001b[1;33m \u001b[0mnp\u001b[0m\u001b[1;33m.\u001b[0m\u001b[0mconcatenate\u001b[0m\u001b[1;33m(\u001b[0m\u001b[1;33m(\u001b[0m\u001b[0marr1\u001b[0m\u001b[1;33m,\u001b[0m \u001b[0marr2\u001b[0m\u001b[1;33m)\u001b[0m\u001b[1;33m,\u001b[0m \u001b[0maxis\u001b[0m\u001b[1;33m=\u001b[0m\u001b[1;36m1\u001b[0m\u001b[1;33m)\u001b[0m\u001b[1;33m\u001b[0m\u001b[1;33m\u001b[0m\u001b[0m\n\u001b[0m",
      "\u001b[1;32m<__array_function__ internals>\u001b[0m in \u001b[0;36mconcatenate\u001b[1;34m(*args, **kwargs)\u001b[0m\n",
      "\u001b[1;31mAxisError\u001b[0m: axis 1 is out of bounds for array of dimension 1"
     ]
    }
   ],
   "source": [
    "np.concatenate((arr1, arr2), axis=1)"
   ]
  },
  {
   "cell_type": "code",
   "execution_count": null,
   "id": "dbec0ab7-4dec-4f55-b028-ac2f79bbd1d0",
   "metadata": {},
   "outputs": [],
   "source": []
  },
  {
   "cell_type": "code",
   "execution_count": null,
   "id": "62830fd7-f5b7-4850-a69b-5b21ffb579c4",
   "metadata": {},
   "outputs": [],
   "source": []
  },
  {
   "cell_type": "code",
   "execution_count": 9,
   "id": "2608f0b8-327a-4d96-8fb7-ff932e63eb45",
   "metadata": {},
   "outputs": [
    {
     "data": {
      "text/plain": [
       "array([[1, 2],\n",
       "       [3, 4],\n",
       "       [5, 6],\n",
       "       [7, 8]])"
      ]
     },
     "execution_count": 9,
     "metadata": {},
     "output_type": "execute_result"
    }
   ],
   "source": [
    "arr1 = np.array([[1,2],\n",
    "                [3,4]])\n",
    "arr2 = np.array([[5,6],\n",
    "                [7,8]])\n",
    "\n",
    "np.concatenate((arr1, arr2))"
   ]
  },
  {
   "cell_type": "code",
   "execution_count": 11,
   "id": "58afe61d-e708-4ada-98b4-ee2a63d65800",
   "metadata": {},
   "outputs": [
    {
     "data": {
      "text/plain": [
       "array([[1, 2, 5, 6],\n",
       "       [3, 4, 7, 8]])"
      ]
     },
     "execution_count": 11,
     "metadata": {},
     "output_type": "execute_result"
    }
   ],
   "source": [
    "np.concatenate((arr1, arr2), axis=1)"
   ]
  },
  {
   "cell_type": "code",
   "execution_count": 13,
   "id": "117cfd15-2e5d-412f-b6a4-acd04b72df50",
   "metadata": {},
   "outputs": [
    {
     "data": {
      "text/plain": [
       "array([[1, 2],\n",
       "       [3, 4],\n",
       "       [9, 9],\n",
       "       [5, 6],\n",
       "       [7, 8]])"
      ]
     },
     "execution_count": 13,
     "metadata": {},
     "output_type": "execute_result"
    }
   ],
   "source": [
    "arr1 = np.array([[1,2],\n",
    "                [3,4],\n",
    "                [9,9]])\n",
    "arr2 = np.array([[5,6],\n",
    "                [7,8]])\n",
    "\n",
    "np.concatenate((arr1, arr2))"
   ]
  },
  {
   "cell_type": "code",
   "execution_count": 14,
   "id": "3b374136-0f65-459b-9883-87a0db85eebc",
   "metadata": {},
   "outputs": [
    {
     "data": {
      "text/plain": [
       "array([[1, 2, 9, 5, 6],\n",
       "       [3, 4, 9, 7, 8]])"
      ]
     },
     "execution_count": 14,
     "metadata": {},
     "output_type": "execute_result"
    }
   ],
   "source": [
    "arr1 = np.array([[1,2,9],\n",
    "                [3,4,9]])\n",
    "arr2 = np.array([[5,6],\n",
    "                [7,8]])\n",
    "\n",
    "np.concatenate((arr1, arr2), axis=1)"
   ]
  },
  {
   "cell_type": "code",
   "execution_count": null,
   "id": "c051a397-f968-4b3d-a402-eb09fde86cf6",
   "metadata": {},
   "outputs": [],
   "source": []
  },
  {
   "cell_type": "code",
   "execution_count": null,
   "id": "35f8cb02-7c94-4eb9-bbb6-d800e6a360b9",
   "metadata": {},
   "outputs": [],
   "source": []
  },
  {
   "cell_type": "code",
   "execution_count": 19,
   "id": "8915494f-cee8-417b-ace8-e301a99577a6",
   "metadata": {},
   "outputs": [
    {
     "data": {
      "text/plain": [
       "array([[[1, 2],\n",
       "        [3, 4]],\n",
       "\n",
       "       [[5, 6],\n",
       "        [7, 8]],\n",
       "\n",
       "       [[9, 9],\n",
       "        [9, 9]]])"
      ]
     },
     "execution_count": 19,
     "metadata": {},
     "output_type": "execute_result"
    }
   ],
   "source": [
    "arr1 = np.array([\n",
    "                  [[1,2],\n",
    "                  [3,4]],\n",
    "\n",
    "                  [[5,6],\n",
    "                  [7,8]]\n",
    "                ])\n",
    "arr2 = np.array([\n",
    "                  [[9,9],\n",
    "                  [9,9]]\n",
    "                ])\n",
    "\n",
    "np.concatenate((arr1, arr2), axis=0)"
   ]
  },
  {
   "cell_type": "code",
   "execution_count": 18,
   "id": "ee6178e9-d059-467c-a3e7-f7f38104777f",
   "metadata": {
    "tags": []
   },
   "outputs": [
    {
     "data": {
      "text/plain": [
       "((2, 2, 2), (1, 2, 2))"
      ]
     },
     "execution_count": 18,
     "metadata": {},
     "output_type": "execute_result"
    }
   ],
   "source": [
    "arr1.shape, arr2.shape"
   ]
  },
  {
   "cell_type": "code",
   "execution_count": null,
   "id": "081dbab0-c485-4b00-93de-2aa47432209a",
   "metadata": {},
   "outputs": [],
   "source": []
  },
  {
   "cell_type": "code",
   "execution_count": null,
   "id": "746140c9-b7ce-426c-90d6-82776e7581a1",
   "metadata": {},
   "outputs": [],
   "source": []
  },
  {
   "cell_type": "code",
   "execution_count": null,
   "id": "edabfb76-fa13-4267-be41-f9d6c8c6f191",
   "metadata": {},
   "outputs": [],
   "source": []
  },
  {
   "cell_type": "code",
   "execution_count": null,
   "id": "98e194d5-27ef-44b5-bc81-5a6da8ca0d27",
   "metadata": {},
   "outputs": [],
   "source": []
  },
  {
   "cell_type": "code",
   "execution_count": null,
   "id": "d5e15deb-2621-43d4-9447-a9257bcc1f1a",
   "metadata": {},
   "outputs": [],
   "source": [
    "np.row_stack?"
   ]
  },
  {
   "cell_type": "code",
   "execution_count": null,
   "id": "c8ab022e-61b6-471b-a48f-6e52360bd8e6",
   "metadata": {},
   "outputs": [],
   "source": [
    "np.column_stack?"
   ]
  },
  {
   "cell_type": "code",
   "execution_count": 24,
   "id": "a19d8a18-7ceb-4f0e-b6ee-c24a367713e6",
   "metadata": {},
   "outputs": [
    {
     "data": {
      "text/plain": [
       "array([[1, 2, 3],\n",
       "       [4, 5, 6]])"
      ]
     },
     "execution_count": 24,
     "metadata": {},
     "output_type": "execute_result"
    }
   ],
   "source": [
    "arr1 = np.array([1,2,3])\n",
    "arr2 = np.array([4,5,6])\n",
    "\n",
    "np.row_stack((arr1, arr2))"
   ]
  },
  {
   "cell_type": "code",
   "execution_count": 25,
   "id": "e87b83be-9c34-45bb-9afa-a04b44e615b3",
   "metadata": {},
   "outputs": [
    {
     "data": {
      "text/plain": [
       "array([[1, 4],\n",
       "       [2, 5],\n",
       "       [3, 6]])"
      ]
     },
     "execution_count": 25,
     "metadata": {},
     "output_type": "execute_result"
    }
   ],
   "source": [
    "arr1 = np.array([1,2,3])\n",
    "arr2 = np.array([4,5,6])\n",
    "\n",
    "np.column_stack((arr1, arr2))"
   ]
  },
  {
   "cell_type": "code",
   "execution_count": null,
   "id": "fa8bee35-c79e-4d6a-a3ec-2f235e03863a",
   "metadata": {},
   "outputs": [],
   "source": []
  },
  {
   "cell_type": "code",
   "execution_count": null,
   "id": "d853716e-97c0-4cae-8a8a-75d8f885d411",
   "metadata": {},
   "outputs": [],
   "source": []
  },
  {
   "cell_type": "code",
   "execution_count": 120,
   "id": "a635e654-220d-4976-be66-4bb4c7c1323b",
   "metadata": {},
   "outputs": [
    {
     "name": "stdout",
     "output_type": "stream",
     "text": [
      "[[7 6]\n",
      " [6 9]] \n",
      "\n",
      " [[9 8]\n",
      " [3 6]]\n"
     ]
    }
   ],
   "source": [
    "arr1 = np.random.randint(0, 10, (2,2))\n",
    "arr2 = np.random.randint(0, 10, (2,2))\n",
    "\n",
    "print(arr1, '\\n\\n', arr2)"
   ]
  },
  {
   "cell_type": "code",
   "execution_count": 122,
   "id": "9067267d-00a5-4aba-8240-5884cbd50bda",
   "metadata": {
    "tags": []
   },
   "outputs": [
    {
     "data": {
      "text/plain": [
       "array([[7, 6],\n",
       "       [6, 9],\n",
       "       [9, 8],\n",
       "       [3, 6]])"
      ]
     },
     "execution_count": 122,
     "metadata": {},
     "output_type": "execute_result"
    }
   ],
   "source": [
    "np.row_stack((arr1, arr2))"
   ]
  },
  {
   "cell_type": "code",
   "execution_count": 123,
   "id": "09226434-6132-4d05-9790-bd96a59b977d",
   "metadata": {},
   "outputs": [
    {
     "data": {
      "text/plain": [
       "array([[7, 6, 9, 8],\n",
       "       [6, 9, 3, 6]])"
      ]
     },
     "execution_count": 123,
     "metadata": {},
     "output_type": "execute_result"
    }
   ],
   "source": [
    "np.column_stack((arr1, arr2))"
   ]
  },
  {
   "cell_type": "code",
   "execution_count": null,
   "id": "adea311e-035c-4727-965a-99ff1042c253",
   "metadata": {},
   "outputs": [],
   "source": []
  },
  {
   "cell_type": "code",
   "execution_count": null,
   "id": "fba6a6d4-365e-4814-be1e-c8817067688e",
   "metadata": {},
   "outputs": [],
   "source": []
  },
  {
   "cell_type": "code",
   "execution_count": null,
   "id": "a221d6a2-371e-4ca7-aeec-23513aaba07b",
   "metadata": {},
   "outputs": [],
   "source": []
  },
  {
   "cell_type": "code",
   "execution_count": null,
   "id": "4afa1d1b-5803-4035-9fcf-3ddaa1d72a8d",
   "metadata": {},
   "outputs": [],
   "source": []
  },
  {
   "cell_type": "code",
   "execution_count": null,
   "id": "7c314553-2ad9-4602-85a4-afd56fafd741",
   "metadata": {},
   "outputs": [],
   "source": [
    "np.hstack?"
   ]
  },
  {
   "cell_type": "code",
   "execution_count": null,
   "id": "70790de9-2e71-4fce-8ef2-edcfa583d25c",
   "metadata": {},
   "outputs": [],
   "source": [
    "np.vstack?"
   ]
  },
  {
   "cell_type": "code",
   "execution_count": 127,
   "id": "e9562ea0-22c0-454e-8451-b54070300904",
   "metadata": {},
   "outputs": [
    {
     "data": {
      "text/plain": [
       "array([1, 2, 3, 4, 5, 6, 6])"
      ]
     },
     "execution_count": 127,
     "metadata": {},
     "output_type": "execute_result"
    }
   ],
   "source": [
    "arr1 = np.array([1,2,3])\n",
    "arr2 = np.array([4,5,6,6])\n",
    "\n",
    "np.hstack((arr1, arr2))"
   ]
  },
  {
   "cell_type": "code",
   "execution_count": 31,
   "id": "1cef9e99-a960-4742-938e-4b3f3a24da8c",
   "metadata": {},
   "outputs": [
    {
     "data": {
      "text/plain": [
       "array([[1, 2, 3],\n",
       "       [4, 5, 6]])"
      ]
     },
     "execution_count": 31,
     "metadata": {},
     "output_type": "execute_result"
    }
   ],
   "source": [
    "np.vstack((arr1, arr2))"
   ]
  },
  {
   "cell_type": "code",
   "execution_count": null,
   "id": "b103a2c1-b559-4c66-b82a-e0c167bd6895",
   "metadata": {},
   "outputs": [],
   "source": []
  },
  {
   "cell_type": "code",
   "execution_count": 116,
   "id": "3137e7ca-35d5-4264-a87c-633081bca574",
   "metadata": {},
   "outputs": [
    {
     "name": "stdout",
     "output_type": "stream",
     "text": [
      "[[0 6]\n",
      " [8 0]] \n",
      "\n",
      " [[3 5 0]\n",
      " [1 9 1]]\n"
     ]
    }
   ],
   "source": [
    "arr1 = np.random.randint(0, 10, (2,2))\n",
    "arr2 = np.random.randint(0, 10, (2,3))\n",
    "\n",
    "print(arr1, '\\n\\n', arr2)"
   ]
  },
  {
   "cell_type": "code",
   "execution_count": 117,
   "id": "70d79938-f5ec-4eb6-b2bc-f3e0cb5e2568",
   "metadata": {},
   "outputs": [
    {
     "data": {
      "text/plain": [
       "array([[0, 6, 3, 5, 0],\n",
       "       [8, 0, 1, 9, 1]])"
      ]
     },
     "execution_count": 117,
     "metadata": {},
     "output_type": "execute_result"
    }
   ],
   "source": [
    "np.hstack((arr1, arr2))"
   ]
  },
  {
   "cell_type": "code",
   "execution_count": 128,
   "id": "65e8d6a8-3106-4b13-9d14-c77f3e444c15",
   "metadata": {},
   "outputs": [
    {
     "name": "stdout",
     "output_type": "stream",
     "text": [
      "[[1 8]\n",
      " [0 8]] \n",
      "\n",
      " [[2 0]\n",
      " [7 9]\n",
      " [9 0]]\n"
     ]
    }
   ],
   "source": [
    "arr1 = np.random.randint(0, 10, (2,2))\n",
    "arr2 = np.random.randint(0, 10, (3,2))\n",
    "\n",
    "print(arr1, '\\n\\n', arr2)"
   ]
  },
  {
   "cell_type": "code",
   "execution_count": 129,
   "id": "e20fbe7f-7e2a-40f0-b2ea-5d66080fe6f3",
   "metadata": {},
   "outputs": [
    {
     "data": {
      "text/plain": [
       "array([[1, 8],\n",
       "       [0, 8],\n",
       "       [2, 0],\n",
       "       [7, 9],\n",
       "       [9, 0]])"
      ]
     },
     "execution_count": 129,
     "metadata": {},
     "output_type": "execute_result"
    }
   ],
   "source": [
    "np.vstack((arr1, arr2))"
   ]
  },
  {
   "cell_type": "code",
   "execution_count": null,
   "id": "83293dc5-6ea8-4cba-9300-1c067806e015",
   "metadata": {},
   "outputs": [],
   "source": []
  },
  {
   "cell_type": "code",
   "execution_count": null,
   "id": "3b89d41d-0b74-40c4-8ada-8170350cac51",
   "metadata": {},
   "outputs": [],
   "source": []
  },
  {
   "cell_type": "code",
   "execution_count": null,
   "id": "91e80833-caa0-40b0-abd5-ee15f0283307",
   "metadata": {},
   "outputs": [],
   "source": []
  },
  {
   "cell_type": "code",
   "execution_count": null,
   "id": "0d53a6bd-3e1c-49f0-8883-c331284cf95c",
   "metadata": {},
   "outputs": [],
   "source": []
  },
  {
   "cell_type": "code",
   "execution_count": null,
   "id": "41027441-3038-4b7a-a084-b425fe2bee3c",
   "metadata": {},
   "outputs": [],
   "source": []
  },
  {
   "cell_type": "code",
   "execution_count": null,
   "id": "24c67269-8ad1-4683-8696-2cad533514a6",
   "metadata": {},
   "outputs": [],
   "source": [
    "np.stack?"
   ]
  },
  {
   "cell_type": "code",
   "execution_count": 177,
   "id": "9b5b9a07-9a0a-4d60-ba95-7c74fa908a22",
   "metadata": {},
   "outputs": [
    {
     "name": "stdout",
     "output_type": "stream",
     "text": [
      "[6 5 0 0] \n",
      "\n",
      " [7 3 7 1]\n"
     ]
    }
   ],
   "source": [
    "arr1 = np.random.randint(0, 10, 4)\n",
    "arr2 = np.random.randint(0, 10, 4)\n",
    "\n",
    "print(arr1, '\\n\\n', arr2)"
   ]
  },
  {
   "cell_type": "code",
   "execution_count": 178,
   "id": "2b77704e-d685-4930-85fa-cd21a45ce90f",
   "metadata": {},
   "outputs": [
    {
     "data": {
      "text/plain": [
       "array([[6, 5, 0, 0],\n",
       "       [7, 3, 7, 1]])"
      ]
     },
     "execution_count": 178,
     "metadata": {},
     "output_type": "execute_result"
    }
   ],
   "source": [
    "np.stack((arr1, arr2), axis=0)"
   ]
  },
  {
   "cell_type": "code",
   "execution_count": 179,
   "id": "7fd3c731-76dd-4329-b417-53a95bbb1c4c",
   "metadata": {},
   "outputs": [
    {
     "data": {
      "text/plain": [
       "array([[6, 7],\n",
       "       [5, 3],\n",
       "       [0, 7],\n",
       "       [0, 1]])"
      ]
     },
     "execution_count": 179,
     "metadata": {},
     "output_type": "execute_result"
    }
   ],
   "source": [
    "np.stack((arr1, arr2), axis=1)"
   ]
  },
  {
   "cell_type": "code",
   "execution_count": 180,
   "id": "9bee5f85-b69f-4ed1-a221-1646b96cfd07",
   "metadata": {},
   "outputs": [
    {
     "data": {
      "text/plain": [
       "array([[6, 7],\n",
       "       [5, 3],\n",
       "       [0, 7],\n",
       "       [0, 1]])"
      ]
     },
     "execution_count": 180,
     "metadata": {},
     "output_type": "execute_result"
    }
   ],
   "source": [
    "np.stack((arr1, arr2), axis=-1)"
   ]
  },
  {
   "cell_type": "code",
   "execution_count": null,
   "id": "ebbe54f5-3a99-4b65-9f0a-b08d56525a71",
   "metadata": {},
   "outputs": [],
   "source": []
  },
  {
   "cell_type": "code",
   "execution_count": null,
   "id": "efd25045-277f-4f6d-bb6b-5d37bf8b6da3",
   "metadata": {},
   "outputs": [],
   "source": []
  },
  {
   "cell_type": "code",
   "execution_count": null,
   "id": "44033285-e155-43d5-bb36-095d74e4d1b1",
   "metadata": {},
   "outputs": [],
   "source": []
  },
  {
   "cell_type": "code",
   "execution_count": 165,
   "id": "b5f2cfbf-be8f-44d2-848a-b3b3ab93144b",
   "metadata": {},
   "outputs": [
    {
     "name": "stdout",
     "output_type": "stream",
     "text": [
      "[[2 7]\n",
      " [0 0]] \n",
      "\n",
      " [[6 9]\n",
      " [8 2]]\n"
     ]
    }
   ],
   "source": [
    "arr1 = np.random.randint(0, 10, (2,2))\n",
    "arr2 = np.random.randint(0, 10, (2,2))\n",
    "\n",
    "print(arr1, '\\n\\n', arr2)"
   ]
  },
  {
   "cell_type": "code",
   "execution_count": 166,
   "id": "9ed29776-7f6d-47b2-a26b-90ab9803eafc",
   "metadata": {},
   "outputs": [
    {
     "data": {
      "text/plain": [
       "array([[[2, 7],\n",
       "        [0, 0]],\n",
       "\n",
       "       [[6, 9],\n",
       "        [8, 2]]])"
      ]
     },
     "execution_count": 166,
     "metadata": {},
     "output_type": "execute_result"
    }
   ],
   "source": [
    "np.stack((arr1, arr2))"
   ]
  },
  {
   "cell_type": "code",
   "execution_count": 174,
   "id": "77edf451-b3ee-4de5-b0da-5ae15eac1b4e",
   "metadata": {},
   "outputs": [
    {
     "data": {
      "text/plain": [
       "array([[[2, 7],\n",
       "        [6, 9]],\n",
       "\n",
       "       [[0, 0],\n",
       "        [8, 2]]])"
      ]
     },
     "execution_count": 174,
     "metadata": {},
     "output_type": "execute_result"
    }
   ],
   "source": [
    "np.stack((arr1, arr2), axis=1)"
   ]
  },
  {
   "cell_type": "code",
   "execution_count": 175,
   "id": "1311e502-d5fb-468a-82df-f98e330f5e2c",
   "metadata": {},
   "outputs": [
    {
     "data": {
      "text/plain": [
       "array([[[2, 6],\n",
       "        [7, 9]],\n",
       "\n",
       "       [[0, 8],\n",
       "        [0, 2]]])"
      ]
     },
     "execution_count": 175,
     "metadata": {},
     "output_type": "execute_result"
    }
   ],
   "source": [
    "np.stack((arr1, arr2), axis=2)"
   ]
  },
  {
   "cell_type": "code",
   "execution_count": 176,
   "id": "43ea713e-10e9-4ced-b204-16b4212f2992",
   "metadata": {},
   "outputs": [
    {
     "data": {
      "text/plain": [
       "array([[[2, 6],\n",
       "        [7, 9]],\n",
       "\n",
       "       [[0, 8],\n",
       "        [0, 2]]])"
      ]
     },
     "execution_count": 176,
     "metadata": {},
     "output_type": "execute_result"
    }
   ],
   "source": [
    "np.stack((arr1, arr2), axis=-1)"
   ]
  },
  {
   "cell_type": "code",
   "execution_count": null,
   "id": "8e806a97-c949-4a58-b6bc-b62becf61e6a",
   "metadata": {},
   "outputs": [],
   "source": []
  },
  {
   "cell_type": "code",
   "execution_count": null,
   "id": "c21e5041-06c5-49c2-81db-482b7d439e17",
   "metadata": {},
   "outputs": [],
   "source": []
  },
  {
   "cell_type": "code",
   "execution_count": null,
   "id": "5de90d1d-6c84-45f6-9669-66bf1134af9a",
   "metadata": {},
   "outputs": [],
   "source": [
    "np.dstack?"
   ]
  },
  {
   "cell_type": "code",
   "execution_count": 184,
   "id": "0b1e9766-d0ff-43ed-ac37-33d9508f0aa7",
   "metadata": {},
   "outputs": [
    {
     "name": "stdout",
     "output_type": "stream",
     "text": [
      "[2 4 3 0] \n",
      "\n",
      " [1 6 4 2]\n"
     ]
    }
   ],
   "source": [
    "arr1 = np.random.randint(0, 10, 4)\n",
    "arr2 = np.random.randint(0, 10, 4)\n",
    "\n",
    "print(arr1, '\\n\\n', arr2)"
   ]
  },
  {
   "cell_type": "code",
   "execution_count": 185,
   "id": "3095e739-0094-435d-8713-bc267a0b2864",
   "metadata": {},
   "outputs": [
    {
     "data": {
      "text/plain": [
       "array([[[2, 1],\n",
       "        [4, 6],\n",
       "        [3, 4],\n",
       "        [0, 2]]])"
      ]
     },
     "execution_count": 185,
     "metadata": {},
     "output_type": "execute_result"
    }
   ],
   "source": [
    "np.dstack((arr1, arr2))"
   ]
  },
  {
   "cell_type": "code",
   "execution_count": null,
   "id": "16581f25-76d0-4517-8261-c584de09bdd1",
   "metadata": {},
   "outputs": [],
   "source": []
  },
  {
   "cell_type": "code",
   "execution_count": 191,
   "id": "98d5e3a4-5771-493c-805d-8a20d481f667",
   "metadata": {
    "tags": []
   },
   "outputs": [
    {
     "name": "stdout",
     "output_type": "stream",
     "text": [
      "[[3 6]\n",
      " [9 3]] \n",
      "\n",
      " [[9 1]\n",
      " [4 4]]\n"
     ]
    }
   ],
   "source": [
    "arr1 = np.random.randint(0, 10, (2,2))\n",
    "arr2 = np.random.randint(0, 10, (2,2))\n",
    "\n",
    "print(arr1, '\\n\\n', arr2)"
   ]
  },
  {
   "cell_type": "code",
   "execution_count": null,
   "id": "cdb266b8-abbc-4dcd-8c97-5a6bb1cb8fa9",
   "metadata": {},
   "outputs": [],
   "source": []
  },
  {
   "cell_type": "code",
   "execution_count": 187,
   "id": "ab0e910d-a119-4608-83c4-98c78a92d5cc",
   "metadata": {},
   "outputs": [
    {
     "data": {
      "text/plain": [
       "array([[[1, 4],\n",
       "        [2, 1]],\n",
       "\n",
       "       [[0, 0],\n",
       "        [3, 6]]])"
      ]
     },
     "execution_count": 187,
     "metadata": {},
     "output_type": "execute_result"
    }
   ],
   "source": [
    "np.dstack((arr1, arr2))"
   ]
  },
  {
   "cell_type": "code",
   "execution_count": null,
   "id": "6e489b3a-7649-462a-8a9d-3fed1206768c",
   "metadata": {},
   "outputs": [],
   "source": []
  },
  {
   "cell_type": "code",
   "execution_count": 188,
   "id": "81c21d45-7d54-4e0a-856f-680bcffbf8bb",
   "metadata": {
    "tags": []
   },
   "outputs": [
    {
     "name": "stdout",
     "output_type": "stream",
     "text": [
      "[[[4 8]\n",
      "  [0 1]]\n",
      "\n",
      " [[6 2]\n",
      "  [5 1]]] \n",
      "\n",
      " [[[2 1]\n",
      "  [3 6]]\n",
      "\n",
      " [[0 2]\n",
      "  [9 9]]]\n"
     ]
    }
   ],
   "source": [
    "arr1 = np.random.randint(0, 10, (2,2,2))\n",
    "arr2 = np.random.randint(0, 10, (2,2,2))\n",
    "\n",
    "print(arr1, '\\n\\n', arr2)"
   ]
  },
  {
   "cell_type": "code",
   "execution_count": 189,
   "id": "9482caaa-31f8-4a66-ab38-9b25d3d4fe84",
   "metadata": {},
   "outputs": [
    {
     "data": {
      "text/plain": [
       "array([[[4, 8, 2, 1],\n",
       "        [0, 1, 3, 6]],\n",
       "\n",
       "       [[6, 2, 0, 2],\n",
       "        [5, 1, 9, 9]]])"
      ]
     },
     "execution_count": 189,
     "metadata": {},
     "output_type": "execute_result"
    }
   ],
   "source": [
    "np.dstack((arr1, arr2))"
   ]
  },
  {
   "cell_type": "code",
   "execution_count": null,
   "id": "25093d4d-a2c2-47c5-96aa-85df3ef721c8",
   "metadata": {},
   "outputs": [],
   "source": []
  },
  {
   "cell_type": "code",
   "execution_count": null,
   "id": "2d103eda-cd2e-458f-a084-109fdb122b20",
   "metadata": {},
   "outputs": [],
   "source": []
  },
  {
   "cell_type": "code",
   "execution_count": null,
   "id": "4fe12204-d240-4bb5-8fd5-4c265ca7f0f7",
   "metadata": {},
   "outputs": [],
   "source": []
  },
  {
   "cell_type": "code",
   "execution_count": null,
   "id": "a6ac8409-c7d6-410e-92f5-9f63b23418e5",
   "metadata": {},
   "outputs": [],
   "source": []
  },
  {
   "cell_type": "code",
   "execution_count": null,
   "id": "9c15a4f3-24fd-4d71-8be5-a936e3200804",
   "metadata": {},
   "outputs": [],
   "source": []
  },
  {
   "cell_type": "code",
   "execution_count": null,
   "id": "0d9e6cbf-ff34-4ef3-8946-095a09fb864d",
   "metadata": {},
   "outputs": [],
   "source": []
  },
  {
   "cell_type": "code",
   "execution_count": null,
   "id": "9b16ac13-8180-4d0e-8f95-374da0cd9de4",
   "metadata": {},
   "outputs": [],
   "source": []
  },
  {
   "cell_type": "code",
   "execution_count": null,
   "id": "73273221-44eb-4f4f-8073-1c6582faaf2e",
   "metadata": {},
   "outputs": [],
   "source": []
  },
  {
   "cell_type": "code",
   "execution_count": 194,
   "id": "27b20fd1-823f-4992-b3b5-50a4ad3b3c58",
   "metadata": {},
   "outputs": [
    {
     "data": {
      "text/plain": [
       "array([1, 9, 6, 4, 4, 0, 9, 9, 6, 0])"
      ]
     },
     "execution_count": 194,
     "metadata": {},
     "output_type": "execute_result"
    }
   ],
   "source": [
    "arr = np.random.randint(0, 10, 10)\n",
    "arr"
   ]
  },
  {
   "cell_type": "code",
   "execution_count": 195,
   "id": "f08d8a8e-8d17-4435-a4e2-a787e2fc9532",
   "metadata": {},
   "outputs": [
    {
     "data": {
      "text/plain": [
       "[array([1, 9, 6, 4, 4]), array([0, 9, 9, 6, 0])]"
      ]
     },
     "execution_count": 195,
     "metadata": {},
     "output_type": "execute_result"
    }
   ],
   "source": [
    "np.split(arr, 2)"
   ]
  },
  {
   "cell_type": "code",
   "execution_count": null,
   "id": "3ced10ed-755e-48a1-a1ee-ee5a6ff2dc51",
   "metadata": {},
   "outputs": [],
   "source": [
    "np.split(arr, 3)"
   ]
  },
  {
   "cell_type": "code",
   "execution_count": 197,
   "id": "a74f3c20-6bd2-441f-abb6-2ef8adce9bf6",
   "metadata": {},
   "outputs": [
    {
     "data": {
      "text/plain": [
       "[array([1, 9]), array([6, 4]), array([4, 0]), array([9, 9]), array([6, 0])]"
      ]
     },
     "execution_count": 197,
     "metadata": {},
     "output_type": "execute_result"
    }
   ],
   "source": [
    "np.split(arr, 5)"
   ]
  },
  {
   "cell_type": "code",
   "execution_count": 201,
   "id": "0e5a5bbb-5699-4bcb-87c4-e8429b991b0b",
   "metadata": {},
   "outputs": [
    {
     "data": {
      "text/plain": [
       "[array([1, 9, 6]), array([4, 4, 0]), array([9, 9]), array([6, 0])]"
      ]
     },
     "execution_count": 201,
     "metadata": {},
     "output_type": "execute_result"
    }
   ],
   "source": [
    "np.array_split(arr, 4)"
   ]
  },
  {
   "cell_type": "code",
   "execution_count": null,
   "id": "6066aac1-57f1-41bf-8bf0-4d028f86fd8e",
   "metadata": {},
   "outputs": [],
   "source": [
    "np.array_split?"
   ]
  },
  {
   "cell_type": "code",
   "execution_count": null,
   "id": "18131cc5-6dfd-4d7e-9665-f47335f041f8",
   "metadata": {},
   "outputs": [],
   "source": []
  },
  {
   "cell_type": "code",
   "execution_count": 204,
   "id": "b7da047d-667d-492f-bf89-42fd51787110",
   "metadata": {},
   "outputs": [
    {
     "data": {
      "text/plain": [
       "array([[4, 2, 0, 1, 2, 4],\n",
       "       [7, 5, 7, 4, 5, 2],\n",
       "       [6, 2, 6, 8, 9, 3],\n",
       "       [4, 8, 6, 5, 8, 2],\n",
       "       [4, 6, 2, 9, 4, 7],\n",
       "       [6, 6, 5, 7, 8, 9]])"
      ]
     },
     "execution_count": 204,
     "metadata": {},
     "output_type": "execute_result"
    }
   ],
   "source": [
    "arr = np.random.randint(0, 10, (6,6))\n",
    "arr"
   ]
  },
  {
   "cell_type": "code",
   "execution_count": 209,
   "id": "43d0e465-1715-4be8-b39e-68680591be40",
   "metadata": {},
   "outputs": [
    {
     "data": {
      "text/plain": [
       "[array([[4, 2, 0],\n",
       "        [7, 5, 7],\n",
       "        [6, 2, 6],\n",
       "        [4, 8, 6],\n",
       "        [4, 6, 2],\n",
       "        [6, 6, 5]]),\n",
       " array([[1, 2, 4],\n",
       "        [4, 5, 2],\n",
       "        [8, 9, 3],\n",
       "        [5, 8, 2],\n",
       "        [9, 4, 7],\n",
       "        [7, 8, 9]])]"
      ]
     },
     "execution_count": 209,
     "metadata": {},
     "output_type": "execute_result"
    }
   ],
   "source": [
    "np.split(arr, 2, axis=1)"
   ]
  },
  {
   "cell_type": "code",
   "execution_count": 211,
   "id": "a31d8633-b6f9-4857-8308-c42dbc1db5fb",
   "metadata": {},
   "outputs": [
    {
     "data": {
      "text/plain": [
       "[array([[4, 2],\n",
       "        [7, 5],\n",
       "        [6, 2],\n",
       "        [4, 8],\n",
       "        [4, 6],\n",
       "        [6, 6]]),\n",
       " array([[0, 1],\n",
       "        [7, 4],\n",
       "        [6, 8],\n",
       "        [6, 5],\n",
       "        [2, 9],\n",
       "        [5, 7]]),\n",
       " array([[2],\n",
       "        [5],\n",
       "        [9],\n",
       "        [8],\n",
       "        [4],\n",
       "        [8]]),\n",
       " array([[4],\n",
       "        [2],\n",
       "        [3],\n",
       "        [2],\n",
       "        [7],\n",
       "        [9]])]"
      ]
     },
     "execution_count": 211,
     "metadata": {},
     "output_type": "execute_result"
    }
   ],
   "source": [
    "np.array_split(arr, 4, axis=1)"
   ]
  },
  {
   "cell_type": "code",
   "execution_count": null,
   "id": "2e9656a1-897e-42f1-a99d-253165d4efc6",
   "metadata": {},
   "outputs": [],
   "source": [
    "np.hsplit?"
   ]
  },
  {
   "cell_type": "code",
   "execution_count": null,
   "id": "da8c4230-22a2-4836-94e4-475eb992f2ca",
   "metadata": {},
   "outputs": [],
   "source": [
    "np.vsplit?"
   ]
  },
  {
   "cell_type": "code",
   "execution_count": 214,
   "id": "6cc0e6bd-b061-46a9-9128-c5702f1b584d",
   "metadata": {},
   "outputs": [],
   "source": [
    "arr = np.random.randint(0,10,10)"
   ]
  },
  {
   "cell_type": "code",
   "execution_count": 217,
   "id": "ce9492c9-dc31-4868-91a7-6be62c584278",
   "metadata": {},
   "outputs": [
    {
     "data": {
      "text/plain": [
       "[array([5, 9, 1, 7, 3]), array([8, 4, 2, 0, 5])]"
      ]
     },
     "execution_count": 217,
     "metadata": {},
     "output_type": "execute_result"
    }
   ],
   "source": [
    "np.hsplit(arr, 2)"
   ]
  },
  {
   "cell_type": "code",
   "execution_count": 218,
   "id": "d3740c84-51e4-4629-9271-03c445030c4a",
   "metadata": {},
   "outputs": [
    {
     "ename": "ValueError",
     "evalue": "array split does not result in an equal division",
     "output_type": "error",
     "traceback": [
      "\u001b[1;31m---------------------------------------------------------------------------\u001b[0m",
      "\u001b[1;31mValueError\u001b[0m                                Traceback (most recent call last)",
      "\u001b[1;32mF:\\else\\Windows\\DELLTE~1/ipykernel_10804/2702053083.py\u001b[0m in \u001b[0;36m<module>\u001b[1;34m\u001b[0m\n\u001b[1;32m----> 1\u001b[1;33m \u001b[0mnp\u001b[0m\u001b[1;33m.\u001b[0m\u001b[0mhsplit\u001b[0m\u001b[1;33m(\u001b[0m\u001b[0marr\u001b[0m\u001b[1;33m,\u001b[0m \u001b[1;36m3\u001b[0m\u001b[1;33m)\u001b[0m\u001b[1;33m\u001b[0m\u001b[1;33m\u001b[0m\u001b[0m\n\u001b[0m",
      "\u001b[1;32m<__array_function__ internals>\u001b[0m in \u001b[0;36mhsplit\u001b[1;34m(*args, **kwargs)\u001b[0m\n",
      "\u001b[1;32mC:\\ProgramData\\Anaconda3\\envs\\tools-and-techniques-in-data-science\\lib\\site-packages\\numpy\\lib\\shape_base.py\u001b[0m in \u001b[0;36mhsplit\u001b[1;34m(ary, indices_or_sections)\u001b[0m\n\u001b[0;32m    940\u001b[0m         \u001b[1;32mreturn\u001b[0m \u001b[0msplit\u001b[0m\u001b[1;33m(\u001b[0m\u001b[0mary\u001b[0m\u001b[1;33m,\u001b[0m \u001b[0mindices_or_sections\u001b[0m\u001b[1;33m,\u001b[0m \u001b[1;36m1\u001b[0m\u001b[1;33m)\u001b[0m\u001b[1;33m\u001b[0m\u001b[1;33m\u001b[0m\u001b[0m\n\u001b[0;32m    941\u001b[0m     \u001b[1;32melse\u001b[0m\u001b[1;33m:\u001b[0m\u001b[1;33m\u001b[0m\u001b[1;33m\u001b[0m\u001b[0m\n\u001b[1;32m--> 942\u001b[1;33m         \u001b[1;32mreturn\u001b[0m \u001b[0msplit\u001b[0m\u001b[1;33m(\u001b[0m\u001b[0mary\u001b[0m\u001b[1;33m,\u001b[0m \u001b[0mindices_or_sections\u001b[0m\u001b[1;33m,\u001b[0m \u001b[1;36m0\u001b[0m\u001b[1;33m)\u001b[0m\u001b[1;33m\u001b[0m\u001b[1;33m\u001b[0m\u001b[0m\n\u001b[0m\u001b[0;32m    943\u001b[0m \u001b[1;33m\u001b[0m\u001b[0m\n\u001b[0;32m    944\u001b[0m \u001b[1;33m\u001b[0m\u001b[0m\n",
      "\u001b[1;32m<__array_function__ internals>\u001b[0m in \u001b[0;36msplit\u001b[1;34m(*args, **kwargs)\u001b[0m\n",
      "\u001b[1;32mC:\\ProgramData\\Anaconda3\\envs\\tools-and-techniques-in-data-science\\lib\\site-packages\\numpy\\lib\\shape_base.py\u001b[0m in \u001b[0;36msplit\u001b[1;34m(ary, indices_or_sections, axis)\u001b[0m\n\u001b[0;32m    870\u001b[0m         \u001b[0mN\u001b[0m \u001b[1;33m=\u001b[0m \u001b[0mary\u001b[0m\u001b[1;33m.\u001b[0m\u001b[0mshape\u001b[0m\u001b[1;33m[\u001b[0m\u001b[0maxis\u001b[0m\u001b[1;33m]\u001b[0m\u001b[1;33m\u001b[0m\u001b[1;33m\u001b[0m\u001b[0m\n\u001b[0;32m    871\u001b[0m         \u001b[1;32mif\u001b[0m \u001b[0mN\u001b[0m \u001b[1;33m%\u001b[0m \u001b[0msections\u001b[0m\u001b[1;33m:\u001b[0m\u001b[1;33m\u001b[0m\u001b[1;33m\u001b[0m\u001b[0m\n\u001b[1;32m--> 872\u001b[1;33m             raise ValueError(\n\u001b[0m\u001b[0;32m    873\u001b[0m                 'array split does not result in an equal division') from None\n\u001b[0;32m    874\u001b[0m     \u001b[1;32mreturn\u001b[0m \u001b[0marray_split\u001b[0m\u001b[1;33m(\u001b[0m\u001b[0mary\u001b[0m\u001b[1;33m,\u001b[0m \u001b[0mindices_or_sections\u001b[0m\u001b[1;33m,\u001b[0m \u001b[0maxis\u001b[0m\u001b[1;33m)\u001b[0m\u001b[1;33m\u001b[0m\u001b[1;33m\u001b[0m\u001b[0m\n",
      "\u001b[1;31mValueError\u001b[0m: array split does not result in an equal division"
     ]
    }
   ],
   "source": [
    "np.hsplit(arr, 3)"
   ]
  },
  {
   "cell_type": "code",
   "execution_count": 223,
   "id": "c07c42bc-d9f8-4341-805b-5f8fb58c88cc",
   "metadata": {},
   "outputs": [
    {
     "data": {
      "text/plain": [
       "array([[6, 6, 4, 0, 1, 3],\n",
       "       [1, 4, 0, 8, 6, 5],\n",
       "       [1, 4, 2, 7, 0, 4],\n",
       "       [5, 4, 3, 0, 0, 6],\n",
       "       [9, 5, 0, 8, 2, 2],\n",
       "       [1, 2, 9, 0, 3, 8]])"
      ]
     },
     "execution_count": 223,
     "metadata": {},
     "output_type": "execute_result"
    }
   ],
   "source": [
    "arr = np.random.randint(0,10,(6,6))\n",
    "arr"
   ]
  },
  {
   "cell_type": "code",
   "execution_count": 224,
   "id": "85a60228-71bb-4f1b-afe3-c7e4760db656",
   "metadata": {},
   "outputs": [
    {
     "data": {
      "text/plain": [
       "[array([[6, 6, 4],\n",
       "        [1, 4, 0],\n",
       "        [1, 4, 2],\n",
       "        [5, 4, 3],\n",
       "        [9, 5, 0],\n",
       "        [1, 2, 9]]),\n",
       " array([[0, 1, 3],\n",
       "        [8, 6, 5],\n",
       "        [7, 0, 4],\n",
       "        [0, 0, 6],\n",
       "        [8, 2, 2],\n",
       "        [0, 3, 8]])]"
      ]
     },
     "execution_count": 224,
     "metadata": {},
     "output_type": "execute_result"
    }
   ],
   "source": [
    "np.hsplit(arr, 2)"
   ]
  },
  {
   "cell_type": "code",
   "execution_count": null,
   "id": "7e99c15b-0d8b-43f9-bf42-1e3e9f7c5703",
   "metadata": {},
   "outputs": [],
   "source": []
  },
  {
   "cell_type": "code",
   "execution_count": 225,
   "id": "bd873eea-0e0f-4de7-ae4e-32e5a1d59574",
   "metadata": {},
   "outputs": [
    {
     "data": {
      "text/plain": [
       "array([[0, 9, 1, 4, 3, 1],\n",
       "       [0, 5, 9, 5, 9, 0],\n",
       "       [2, 7, 3, 0, 3, 9],\n",
       "       [4, 7, 7, 0, 9, 7],\n",
       "       [1, 3, 9, 4, 0, 0],\n",
       "       [6, 2, 6, 6, 6, 9]])"
      ]
     },
     "execution_count": 225,
     "metadata": {},
     "output_type": "execute_result"
    }
   ],
   "source": [
    "arr = np.random.randint(0,10,(6,6))\n",
    "arr"
   ]
  },
  {
   "cell_type": "code",
   "execution_count": 226,
   "id": "354ad51b-18ad-4434-83d9-80a5fe21ce77",
   "metadata": {},
   "outputs": [
    {
     "data": {
      "text/plain": [
       "[array([[0, 9, 1, 4, 3, 1],\n",
       "        [0, 5, 9, 5, 9, 0],\n",
       "        [2, 7, 3, 0, 3, 9]]),\n",
       " array([[4, 7, 7, 0, 9, 7],\n",
       "        [1, 3, 9, 4, 0, 0],\n",
       "        [6, 2, 6, 6, 6, 9]])]"
      ]
     },
     "execution_count": 226,
     "metadata": {},
     "output_type": "execute_result"
    }
   ],
   "source": [
    "np.vsplit(arr, 2)"
   ]
  },
  {
   "cell_type": "code",
   "execution_count": null,
   "id": "f0e27a19-6179-4a6f-8731-778f55b4319b",
   "metadata": {},
   "outputs": [],
   "source": []
  },
  {
   "cell_type": "code",
   "execution_count": null,
   "id": "7b98f5d8-0c7d-49e6-9831-e53c63f5d592",
   "metadata": {},
   "outputs": [],
   "source": []
  },
  {
   "cell_type": "code",
   "execution_count": null,
   "id": "0be95cb3-56a9-4651-b595-d7a9b18450f1",
   "metadata": {},
   "outputs": [],
   "source": []
  },
  {
   "cell_type": "code",
   "execution_count": 228,
   "id": "92a9ca60-f23f-4c64-99f5-b2aa034553e6",
   "metadata": {},
   "outputs": [
    {
     "data": {
      "text/plain": [
       "[array([1]),\n",
       " array([], dtype=int32),\n",
       " array([], dtype=int32),\n",
       " array([], dtype=int32),\n",
       " array([], dtype=int32)]"
      ]
     },
     "execution_count": 228,
     "metadata": {},
     "output_type": "execute_result"
    }
   ],
   "source": [
    "arr = np.array([1])\n",
    "np.array_split(arr, 5)"
   ]
  },
  {
   "cell_type": "code",
   "execution_count": null,
   "id": "65ea0ce8-7c0f-44a5-b152-b5f548138135",
   "metadata": {},
   "outputs": [],
   "source": []
  },
  {
   "cell_type": "code",
   "execution_count": null,
   "id": "fb74c8a4-94b8-4d11-9693-a986d1dc4669",
   "metadata": {},
   "outputs": [],
   "source": []
  },
  {
   "cell_type": "code",
   "execution_count": null,
   "id": "57f60b53-25ab-40e1-b46c-4ad52b5d8fd3",
   "metadata": {},
   "outputs": [],
   "source": []
  },
  {
   "cell_type": "code",
   "execution_count": null,
   "id": "f0f437c2-ba08-4725-b61b-db87ba3f7df8",
   "metadata": {},
   "outputs": [],
   "source": []
  },
  {
   "cell_type": "code",
   "execution_count": null,
   "id": "c03aad3b-0dcb-428d-987b-6eb57042b255",
   "metadata": {},
   "outputs": [],
   "source": []
  },
  {
   "cell_type": "code",
   "execution_count": null,
   "id": "39cce9fb-0cad-4668-869b-8497c20f46c6",
   "metadata": {},
   "outputs": [],
   "source": []
  },
  {
   "cell_type": "code",
   "execution_count": null,
   "id": "ec7aed13-750e-4705-b2ae-31b6affc2aa0",
   "metadata": {},
   "outputs": [],
   "source": []
  },
  {
   "cell_type": "code",
   "execution_count": null,
   "id": "d9a54a46-20e3-4ff7-90a7-42b078f9df29",
   "metadata": {},
   "outputs": [],
   "source": []
  },
  {
   "cell_type": "code",
   "execution_count": null,
   "id": "594fe00e-9e1b-45a7-aaaf-e78fa7843560",
   "metadata": {},
   "outputs": [],
   "source": []
  },
  {
   "cell_type": "code",
   "execution_count": null,
   "id": "40d0e855-eba2-4a2d-bee3-515f7eb70425",
   "metadata": {},
   "outputs": [],
   "source": []
  },
  {
   "cell_type": "code",
   "execution_count": null,
   "id": "417b6dbe-0de3-4baf-8662-55fabaeac255",
   "metadata": {},
   "outputs": [],
   "source": []
  },
  {
   "cell_type": "code",
   "execution_count": null,
   "id": "6a130f9e-52b4-4a97-af52-5fdb051b9d6c",
   "metadata": {},
   "outputs": [],
   "source": []
  },
  {
   "cell_type": "code",
   "execution_count": null,
   "id": "55221004-c180-4616-b75c-4ccf8219fcc4",
   "metadata": {},
   "outputs": [],
   "source": []
  },
  {
   "cell_type": "code",
   "execution_count": null,
   "id": "88a969cc-4fe1-42ea-828a-8dd8a245aad4",
   "metadata": {},
   "outputs": [],
   "source": []
  },
  {
   "cell_type": "code",
   "execution_count": 1,
   "id": "ae5aaac4-e4a1-4598-85a0-7e88b07c06ee",
   "metadata": {},
   "outputs": [],
   "source": [
    "import numpy as np"
   ]
  },
  {
   "cell_type": "code",
   "execution_count": null,
   "id": "92c50a79-23ab-4d7b-a398-992af5ff96cb",
   "metadata": {},
   "outputs": [],
   "source": []
  },
  {
   "cell_type": "code",
   "execution_count": 2,
   "id": "cb24b67e-7aa3-469d-ab82-9ec888bbb1b9",
   "metadata": {},
   "outputs": [
    {
     "data": {
      "text/plain": [
       "(array([[3, 7],\n",
       "        [0, 8]]),\n",
       " array([[1, 4],\n",
       "        [3, 9]]))"
      ]
     },
     "execution_count": 2,
     "metadata": {},
     "output_type": "execute_result"
    }
   ],
   "source": [
    "arr1 = np.random.randint(0, 10, (2,2))\n",
    "arr2 = np.random.randint(0, 10, (2,2))\n",
    "\n",
    "arr1, arr2"
   ]
  },
  {
   "cell_type": "code",
   "execution_count": 10,
   "id": "d30eef5c-1c56-414d-9bb6-fb1c30d41e4d",
   "metadata": {},
   "outputs": [
    {
     "data": {
      "text/plain": [
       "array([[3, 7, 1, 4],\n",
       "       [0, 8, 3, 9]])"
      ]
     },
     "execution_count": 10,
     "metadata": {},
     "output_type": "execute_result"
    }
   ],
   "source": [
    "np.concatenate((arr1, arr2), axis=1)"
   ]
  },
  {
   "cell_type": "code",
   "execution_count": 11,
   "id": "df54b388-2f49-41c9-b132-7f53eb1f0507",
   "metadata": {},
   "outputs": [
    {
     "data": {
      "text/plain": [
       "array([[3, 7],\n",
       "       [0, 8],\n",
       "       [1, 4],\n",
       "       [3, 9]])"
      ]
     },
     "execution_count": 11,
     "metadata": {},
     "output_type": "execute_result"
    }
   ],
   "source": [
    "np.vstack((arr1, arr2))"
   ]
  },
  {
   "cell_type": "code",
   "execution_count": 13,
   "id": "9821ee32-5b06-49f0-98d2-7a63e4774ee2",
   "metadata": {},
   "outputs": [
    {
     "data": {
      "text/plain": [
       "array([[3, 7, 1, 4],\n",
       "       [0, 8, 3, 9]])"
      ]
     },
     "execution_count": 13,
     "metadata": {},
     "output_type": "execute_result"
    }
   ],
   "source": [
    "np.hstack((arr1, arr2))"
   ]
  },
  {
   "cell_type": "code",
   "execution_count": 21,
   "id": "7b2f5864-cb88-4d04-a7c6-c3b3b8015d7b",
   "metadata": {},
   "outputs": [
    {
     "data": {
      "text/plain": [
       "array([[[3, 7],\n",
       "        [1, 4]],\n",
       "\n",
       "       [[0, 8],\n",
       "        [3, 9]]])"
      ]
     },
     "execution_count": 21,
     "metadata": {},
     "output_type": "execute_result"
    }
   ],
   "source": [
    "np.stack((arr1, arr2), axis=1)"
   ]
  },
  {
   "cell_type": "code",
   "execution_count": null,
   "id": "a2b1eb8e-ef15-4eb0-9629-905648ccc19e",
   "metadata": {},
   "outputs": [],
   "source": []
  },
  {
   "cell_type": "code",
   "execution_count": null,
   "id": "6218b94b-a04f-4760-b8f3-98becd532dec",
   "metadata": {},
   "outputs": [],
   "source": []
  },
  {
   "cell_type": "code",
   "execution_count": null,
   "id": "c59172b0-3a52-4819-b8c5-2b428beec828",
   "metadata": {},
   "outputs": [],
   "source": []
  },
  {
   "cell_type": "code",
   "execution_count": null,
   "id": "3b543836-5c71-468a-83a3-f3a9ad3fc1c4",
   "metadata": {},
   "outputs": [],
   "source": []
  },
  {
   "cell_type": "code",
   "execution_count": 83,
   "id": "5ae57ed5-632c-4f73-80ff-876b8fef7603",
   "metadata": {},
   "outputs": [
    {
     "data": {
      "text/plain": [
       "(array([[[0, 1],\n",
       "         [8, 5]],\n",
       " \n",
       "        [[4, 1],\n",
       "         [0, 0]]]),\n",
       " array([[[2, 2],\n",
       "         [5, 6]],\n",
       " \n",
       "        [[4, 4],\n",
       "         [7, 8]]]))"
      ]
     },
     "execution_count": 83,
     "metadata": {},
     "output_type": "execute_result"
    }
   ],
   "source": [
    "arr1 = np.random.randint(0,9, (2,2,2))\n",
    "arr2 = np.random.randint(0,9, (2,2,2))\n",
    "arr1, arr2"
   ]
  },
  {
   "cell_type": "code",
   "execution_count": 85,
   "id": "010b53ce-38cc-40eb-a1cf-4db5092ee8d1",
   "metadata": {},
   "outputs": [
    {
     "data": {
      "text/plain": [
       "array([[[0, 1],\n",
       "        [8, 5],\n",
       "        [2, 2],\n",
       "        [5, 6]],\n",
       "\n",
       "       [[4, 1],\n",
       "        [0, 0],\n",
       "        [4, 4],\n",
       "        [7, 8]]])"
      ]
     },
     "execution_count": 85,
     "metadata": {},
     "output_type": "execute_result"
    }
   ],
   "source": [
    "np.concatenate((arr1,arr2),axis=1)"
   ]
  },
  {
   "cell_type": "code",
   "execution_count": null,
   "id": "21d89a8a-2776-424b-b464-b790a2885894",
   "metadata": {},
   "outputs": [],
   "source": []
  },
  {
   "cell_type": "code",
   "execution_count": null,
   "id": "721fd950-5d8b-41fb-ab17-104984a3369c",
   "metadata": {},
   "outputs": [],
   "source": []
  },
  {
   "cell_type": "code",
   "execution_count": null,
   "id": "4cab45db-1a47-4ff3-84fb-db7af56e536c",
   "metadata": {},
   "outputs": [],
   "source": []
  },
  {
   "cell_type": "code",
   "execution_count": null,
   "id": "9a4e55ff-7706-4b07-9d3f-4953d7e82e48",
   "metadata": {},
   "outputs": [],
   "source": []
  },
  {
   "cell_type": "code",
   "execution_count": null,
   "id": "53b577ca-f389-4e63-aaa9-075155d43720",
   "metadata": {},
   "outputs": [],
   "source": []
  },
  {
   "cell_type": "code",
   "execution_count": null,
   "id": "49e464a2-7ef1-4cc6-8293-31c5d7db5b8e",
   "metadata": {},
   "outputs": [],
   "source": []
  },
  {
   "cell_type": "code",
   "execution_count": 78,
   "id": "8fe74c39-85df-4bde-aefe-62ba60e96996",
   "metadata": {},
   "outputs": [],
   "source": [
    "arr1 = [1,2,3]\n",
    "arr2 = [4,5,6]"
   ]
  },
  {
   "cell_type": "code",
   "execution_count": 79,
   "id": "33d0a7e6-1993-4d85-bab5-6096dd97f7ed",
   "metadata": {},
   "outputs": [
    {
     "data": {
      "text/plain": [
       "array([[1, 4],\n",
       "       [2, 5],\n",
       "       [3, 6]])"
      ]
     },
     "execution_count": 79,
     "metadata": {},
     "output_type": "execute_result"
    }
   ],
   "source": [
    "np.column_stack((arr1,arr2))"
   ]
  },
  {
   "cell_type": "code",
   "execution_count": 81,
   "id": "7f8bad59-ca2d-45f7-9967-ad166207c1df",
   "metadata": {},
   "outputs": [
    {
     "data": {
      "text/plain": [
       "array([[1, 4],\n",
       "       [2, 5],\n",
       "       [3, 6]])"
      ]
     },
     "execution_count": 81,
     "metadata": {},
     "output_type": "execute_result"
    }
   ],
   "source": [
    "np.stack((arr1,arr2), axis=1)"
   ]
  },
  {
   "cell_type": "code",
   "execution_count": null,
   "id": "42598a15-7c51-4898-9dd4-b7944a7af517",
   "metadata": {},
   "outputs": [],
   "source": []
  },
  {
   "cell_type": "code",
   "execution_count": null,
   "id": "02ab01af-6e29-474a-9b79-d605316ed25e",
   "metadata": {},
   "outputs": [],
   "source": []
  },
  {
   "cell_type": "code",
   "execution_count": null,
   "id": "a64f22af-2e82-43b3-94e7-904c67983937",
   "metadata": {},
   "outputs": [],
   "source": []
  },
  {
   "cell_type": "code",
   "execution_count": null,
   "id": "1f8a0ed2-7ff9-4467-b12a-6a5f4d14fcc0",
   "metadata": {},
   "outputs": [],
   "source": []
  },
  {
   "cell_type": "code",
   "execution_count": null,
   "id": "ad2945d0-a20f-414f-a88c-5a023ba06f02",
   "metadata": {},
   "outputs": [],
   "source": []
  },
  {
   "cell_type": "code",
   "execution_count": null,
   "id": "026fe613-5c09-48bd-9a26-fdbb5321ee3b",
   "metadata": {},
   "outputs": [],
   "source": []
  },
  {
   "cell_type": "code",
   "execution_count": null,
   "id": "5bb0df97-9ddd-4a66-8a7e-8da78955f3e1",
   "metadata": {},
   "outputs": [],
   "source": []
  },
  {
   "cell_type": "code",
   "execution_count": null,
   "id": "d601e5fe-e41e-4877-a3b3-65d298e077d4",
   "metadata": {},
   "outputs": [],
   "source": []
  },
  {
   "cell_type": "code",
   "execution_count": null,
   "id": "217600c6-160f-41dc-8b41-e2fdd03cd620",
   "metadata": {},
   "outputs": [],
   "source": []
  },
  {
   "cell_type": "code",
   "execution_count": null,
   "id": "90e371f6-309c-43d0-9f09-98158e6bdb39",
   "metadata": {},
   "outputs": [],
   "source": []
  },
  {
   "cell_type": "code",
   "execution_count": null,
   "id": "c63e2ad6-861c-4951-896e-d215a5772133",
   "metadata": {},
   "outputs": [],
   "source": []
  },
  {
   "cell_type": "code",
   "execution_count": null,
   "id": "bdb39650-e47c-466a-8131-d5a605ed849f",
   "metadata": {},
   "outputs": [],
   "source": []
  },
  {
   "cell_type": "code",
   "execution_count": null,
   "id": "e335070b-727b-48a7-b0fc-0ed0398ade18",
   "metadata": {},
   "outputs": [],
   "source": []
  },
  {
   "cell_type": "code",
   "execution_count": 92,
   "id": "a6023511-2c58-4432-9116-08f117d5116f",
   "metadata": {},
   "outputs": [
    {
     "data": {
      "text/plain": [
       "(array([[9, 8, 7, 7],\n",
       "        [2, 9, 0, 9],\n",
       "        [3, 1, 8, 7],\n",
       "        [7, 6, 6, 3]]),\n",
       " array([[1, 2, 6, 0],\n",
       "        [8, 3, 3, 4],\n",
       "        [9, 7, 3, 8],\n",
       "        [5, 0, 7, 4]]))"
      ]
     },
     "execution_count": 92,
     "metadata": {},
     "output_type": "execute_result"
    }
   ],
   "source": [
    "arr1 = np.random.randint(0, 10, (4,4))\n",
    "arr2 = np.random.randint(0, 10, (4,4))\n",
    "\n",
    "arr1, arr2"
   ]
  },
  {
   "cell_type": "code",
   "execution_count": 96,
   "id": "aecabe4f-f892-4238-b6b2-1d69f3d337e1",
   "metadata": {},
   "outputs": [
    {
     "data": {
      "text/plain": [
       "[array([[9, 8, 7, 7],\n",
       "        [2, 9, 0, 9]]),\n",
       " array([[3, 1, 8, 7],\n",
       "        [7, 6, 6, 3]])]"
      ]
     },
     "execution_count": 96,
     "metadata": {},
     "output_type": "execute_result"
    }
   ],
   "source": [
    "np.vsplit(arr1,2)"
   ]
  },
  {
   "cell_type": "code",
   "execution_count": 97,
   "id": "ce4190f6-74d5-42e3-8aaf-4bd08df4c678",
   "metadata": {},
   "outputs": [
    {
     "data": {
      "text/plain": [
       "[array([[9, 8],\n",
       "        [2, 9],\n",
       "        [3, 1],\n",
       "        [7, 6]]),\n",
       " array([[7, 7],\n",
       "        [0, 9],\n",
       "        [8, 7],\n",
       "        [6, 3]])]"
      ]
     },
     "execution_count": 97,
     "metadata": {},
     "output_type": "execute_result"
    }
   ],
   "source": [
    "np.hsplit(arr1,2)"
   ]
  },
  {
   "cell_type": "code",
   "execution_count": 105,
   "id": "f1037947-40eb-42ba-9f44-9b761dffe53f",
   "metadata": {},
   "outputs": [
    {
     "data": {
      "text/plain": [
       "[array([[9, 8],\n",
       "        [2, 9],\n",
       "        [3, 1],\n",
       "        [7, 6]]),\n",
       " array([[7, 7],\n",
       "        [0, 9],\n",
       "        [8, 7],\n",
       "        [6, 3]])]"
      ]
     },
     "execution_count": 105,
     "metadata": {},
     "output_type": "execute_result"
    }
   ],
   "source": [
    "np.split(arr1,2,axis=1)"
   ]
  },
  {
   "cell_type": "code",
   "execution_count": 103,
   "id": "243909c4-2e1a-4654-b80a-2e78cdeec729",
   "metadata": {},
   "outputs": [
    {
     "data": {
      "text/plain": [
       "\u001b[1;31mSignature:\u001b[0m \u001b[0mnp\u001b[0m\u001b[1;33m.\u001b[0m\u001b[0msplit\u001b[0m\u001b[1;33m(\u001b[0m\u001b[0mary\u001b[0m\u001b[1;33m,\u001b[0m \u001b[0mindices_or_sections\u001b[0m\u001b[1;33m,\u001b[0m \u001b[0maxis\u001b[0m\u001b[1;33m=\u001b[0m\u001b[1;36m0\u001b[0m\u001b[1;33m)\u001b[0m\u001b[1;33m\u001b[0m\u001b[1;33m\u001b[0m\u001b[0m\n",
       "\u001b[1;31mDocstring:\u001b[0m\n",
       "Split an array into multiple sub-arrays as views into `ary`.\n",
       "\n",
       "Parameters\n",
       "----------\n",
       "ary : ndarray\n",
       "    Array to be divided into sub-arrays.\n",
       "indices_or_sections : int or 1-D array\n",
       "    If `indices_or_sections` is an integer, N, the array will be divided\n",
       "    into N equal arrays along `axis`.  If such a split is not possible,\n",
       "    an error is raised.\n",
       "\n",
       "    If `indices_or_sections` is a 1-D array of sorted integers, the entries\n",
       "    indicate where along `axis` the array is split.  For example,\n",
       "    ``[2, 3]`` would, for ``axis=0``, result in\n",
       "\n",
       "      - ary[:2]\n",
       "      - ary[2:3]\n",
       "      - ary[3:]\n",
       "\n",
       "    If an index exceeds the dimension of the array along `axis`,\n",
       "    an empty sub-array is returned correspondingly.\n",
       "axis : int, optional\n",
       "    The axis along which to split, default is 0.\n",
       "\n",
       "Returns\n",
       "-------\n",
       "sub-arrays : list of ndarrays\n",
       "    A list of sub-arrays as views into `ary`.\n",
       "\n",
       "Raises\n",
       "------\n",
       "ValueError\n",
       "    If `indices_or_sections` is given as an integer, but\n",
       "    a split does not result in equal division.\n",
       "\n",
       "See Also\n",
       "--------\n",
       "array_split : Split an array into multiple sub-arrays of equal or\n",
       "              near-equal size.  Does not raise an exception if\n",
       "              an equal division cannot be made.\n",
       "hsplit : Split array into multiple sub-arrays horizontally (column-wise).\n",
       "vsplit : Split array into multiple sub-arrays vertically (row wise).\n",
       "dsplit : Split array into multiple sub-arrays along the 3rd axis (depth).\n",
       "concatenate : Join a sequence of arrays along an existing axis.\n",
       "stack : Join a sequence of arrays along a new axis.\n",
       "hstack : Stack arrays in sequence horizontally (column wise).\n",
       "vstack : Stack arrays in sequence vertically (row wise).\n",
       "dstack : Stack arrays in sequence depth wise (along third dimension).\n",
       "\n",
       "Examples\n",
       "--------\n",
       ">>> x = np.arange(9.0)\n",
       ">>> np.split(x, 3)\n",
       "[array([0.,  1.,  2.]), array([3.,  4.,  5.]), array([6.,  7.,  8.])]\n",
       "\n",
       ">>> x = np.arange(8.0)\n",
       ">>> np.split(x, [3, 5, 6, 10])\n",
       "[array([0.,  1.,  2.]),\n",
       " array([3.,  4.]),\n",
       " array([5.]),\n",
       " array([6.,  7.]),\n",
       " array([], dtype=float64)]\n",
       "\u001b[1;31mFile:\u001b[0m      c:\\programdata\\anaconda3\\envs\\tools-and-techniques-in-data-science\\lib\\site-packages\\numpy\\lib\\shape_base.py\n",
       "\u001b[1;31mType:\u001b[0m      function\n"
      ]
     },
     "metadata": {},
     "output_type": "display_data"
    }
   ],
   "source": [
    "np.split?"
   ]
  },
  {
   "cell_type": "code",
   "execution_count": null,
   "id": "c4ceedaf-6917-443b-9629-8c615255a8d2",
   "metadata": {},
   "outputs": [],
   "source": []
  },
  {
   "cell_type": "code",
   "execution_count": null,
   "id": "b9f38c09-7ff0-4f49-b6f3-9f702fa7deb9",
   "metadata": {},
   "outputs": [],
   "source": []
  },
  {
   "cell_type": "code",
   "execution_count": null,
   "id": "b8d2db0b-442e-4ffc-8ecd-159fa919223c",
   "metadata": {},
   "outputs": [],
   "source": []
  },
  {
   "cell_type": "code",
   "execution_count": null,
   "id": "81e159fe-ac5d-4fa9-bed0-602f82155da4",
   "metadata": {},
   "outputs": [],
   "source": []
  },
  {
   "cell_type": "code",
   "execution_count": null,
   "id": "603570fe-ce99-48da-bbb0-6b5c082edd90",
   "metadata": {},
   "outputs": [],
   "source": []
  },
  {
   "cell_type": "code",
   "execution_count": null,
   "id": "509a6106-8b37-4588-8173-92f966b99ca5",
   "metadata": {},
   "outputs": [],
   "source": []
  },
  {
   "cell_type": "code",
   "execution_count": null,
   "id": "37b49dd0-68d5-4076-ac48-f3b7abd50197",
   "metadata": {},
   "outputs": [],
   "source": []
  },
  {
   "cell_type": "code",
   "execution_count": null,
   "id": "08a3540d-efa0-430f-8175-2e83ffc6f0af",
   "metadata": {},
   "outputs": [],
   "source": []
  },
  {
   "cell_type": "code",
   "execution_count": null,
   "id": "1aa02025-494a-4035-bf23-f9262e7b1bac",
   "metadata": {},
   "outputs": [],
   "source": []
  },
  {
   "cell_type": "code",
   "execution_count": null,
   "id": "eb2d0e67-fd2b-46ca-92f1-eafa17d54c11",
   "metadata": {},
   "outputs": [],
   "source": []
  },
  {
   "cell_type": "code",
   "execution_count": null,
   "id": "2eeed3e4-f4f8-46cb-9872-728d6457daac",
   "metadata": {},
   "outputs": [],
   "source": []
  },
  {
   "cell_type": "code",
   "execution_count": null,
   "id": "99f19cd9-b71c-4b98-ae41-3e2438668185",
   "metadata": {},
   "outputs": [],
   "source": []
  },
  {
   "cell_type": "code",
   "execution_count": null,
   "id": "cb23b3a2-3d06-4106-9622-7ab503301d0f",
   "metadata": {},
   "outputs": [],
   "source": []
  },
  {
   "cell_type": "code",
   "execution_count": null,
   "id": "85a316c3-3317-4bac-9e0c-878cce65f95b",
   "metadata": {},
   "outputs": [],
   "source": []
  },
  {
   "cell_type": "code",
   "execution_count": null,
   "id": "7b761984-29e5-4380-8607-e569cf8c9fab",
   "metadata": {},
   "outputs": [],
   "source": []
  },
  {
   "cell_type": "code",
   "execution_count": null,
   "id": "9e840f32-d2d6-46bc-89c7-361c4b1f408c",
   "metadata": {},
   "outputs": [],
   "source": [
    "np.stack?"
   ]
  },
  {
   "cell_type": "code",
   "execution_count": null,
   "id": "97c1ee03-75de-4350-b704-9cce730ee2f9",
   "metadata": {},
   "outputs": [],
   "source": [
    "np.vstack?"
   ]
  },
  {
   "cell_type": "code",
   "execution_count": null,
   "id": "e6e5c252-7540-424b-8a19-feb6da77e7f6",
   "metadata": {},
   "outputs": [],
   "source": [
    "np.hstack?"
   ]
  },
  {
   "cell_type": "code",
   "execution_count": null,
   "id": "72cb72aa-396f-43d7-91ca-f2f79b4d90f0",
   "metadata": {},
   "outputs": [],
   "source": [
    "np.column_stack?"
   ]
  },
  {
   "cell_type": "code",
   "execution_count": null,
   "id": "dd9cf19f-0a41-4120-adac-4edb34eadf23",
   "metadata": {},
   "outputs": [],
   "source": [
    "np.row_stack?"
   ]
  },
  {
   "cell_type": "code",
   "execution_count": null,
   "id": "85bdde66-bcd4-42c4-b115-2416a8e70899",
   "metadata": {},
   "outputs": [],
   "source": []
  },
  {
   "cell_type": "code",
   "execution_count": 125,
   "id": "6369bbf7-d148-43dd-be26-64f617171a42",
   "metadata": {},
   "outputs": [
    {
     "data": {
      "text/plain": [
       "(array([[3, 3, 7],\n",
       "        [3, 5, 8],\n",
       "        [3, 7, 7]]),\n",
       " array([[6, 2, 8],\n",
       "        [0, 6, 8],\n",
       "        [4, 7, 4]]))"
      ]
     },
     "execution_count": 125,
     "metadata": {},
     "output_type": "execute_result"
    }
   ],
   "source": [
    "arr1 = np.random.randint(0,10,(3,3))\n",
    "arr2 = np.random.randint(0,10,(3,3))\n",
    "arr1, arr2"
   ]
  },
  {
   "cell_type": "code",
   "execution_count": 126,
   "id": "d1a4f22d-805b-4f26-8399-83fdcc236ee2",
   "metadata": {},
   "outputs": [
    {
     "data": {
      "text/plain": [
       "array([[3, 3, 7, 6, 2, 8],\n",
       "       [3, 5, 8, 0, 6, 8],\n",
       "       [3, 7, 7, 4, 7, 4]])"
      ]
     },
     "execution_count": 126,
     "metadata": {},
     "output_type": "execute_result"
    }
   ],
   "source": [
    "np.hstack((arr1,arr2))"
   ]
  },
  {
   "cell_type": "code",
   "execution_count": 127,
   "id": "a2b401a8-2b7f-4f42-a403-bcf84d38b1c3",
   "metadata": {},
   "outputs": [
    {
     "data": {
      "text/plain": [
       "array([[3, 3, 7],\n",
       "       [3, 5, 8],\n",
       "       [3, 7, 7],\n",
       "       [6, 2, 8],\n",
       "       [0, 6, 8],\n",
       "       [4, 7, 4]])"
      ]
     },
     "execution_count": 127,
     "metadata": {},
     "output_type": "execute_result"
    }
   ],
   "source": [
    "np.vstack((arr1,arr2))"
   ]
  },
  {
   "cell_type": "code",
   "execution_count": 128,
   "id": "b64d231e-6895-49ff-af77-b143404c34a1",
   "metadata": {},
   "outputs": [
    {
     "data": {
      "text/plain": [
       "array([[3, 3, 7],\n",
       "       [3, 5, 8],\n",
       "       [3, 7, 7],\n",
       "       [6, 2, 8],\n",
       "       [0, 6, 8],\n",
       "       [4, 7, 4]])"
      ]
     },
     "execution_count": 128,
     "metadata": {},
     "output_type": "execute_result"
    }
   ],
   "source": [
    "np.row_stack((arr1,arr2))"
   ]
  },
  {
   "cell_type": "code",
   "execution_count": 129,
   "id": "ed806874-82b6-4b02-aaff-80e1718f98f1",
   "metadata": {},
   "outputs": [
    {
     "data": {
      "text/plain": [
       "array([[3, 3, 7, 6, 2, 8],\n",
       "       [3, 5, 8, 0, 6, 8],\n",
       "       [3, 7, 7, 4, 7, 4]])"
      ]
     },
     "execution_count": 129,
     "metadata": {},
     "output_type": "execute_result"
    }
   ],
   "source": [
    "np.column_stack((arr1, arr2))"
   ]
  },
  {
   "cell_type": "code",
   "execution_count": null,
   "id": "46a64aec-7b94-48c9-bec2-dfe582094ec3",
   "metadata": {},
   "outputs": [],
   "source": []
  },
  {
   "cell_type": "code",
   "execution_count": null,
   "id": "f6f6bbbd-c107-4958-acd3-73f885530cc0",
   "metadata": {},
   "outputs": [],
   "source": []
  },
  {
   "cell_type": "code",
   "execution_count": 158,
   "id": "0dd8bbd8-0cb9-4688-a460-ecb5932a0d3a",
   "metadata": {},
   "outputs": [
    {
     "data": {
      "text/plain": [
       "(array([3, 4, 4, 6]), array([2, 2, 7, 8]))"
      ]
     },
     "execution_count": 158,
     "metadata": {},
     "output_type": "execute_result"
    }
   ],
   "source": [
    "arr1 = np.random.randint(1,10,4)\n",
    "arr2 = np.random.randint(1,10,4)\n",
    "arr1,arr2"
   ]
  },
  {
   "cell_type": "code",
   "execution_count": null,
   "id": "bbede44d-e784-4c3b-b76f-c43776f1c4a9",
   "metadata": {},
   "outputs": [],
   "source": []
  },
  {
   "cell_type": "code",
   "execution_count": 159,
   "id": "1cd2ebb9-71cf-4090-8898-04888277c51d",
   "metadata": {},
   "outputs": [
    {
     "data": {
      "text/plain": [
       "array([3, 4, 4, 6, 2, 2, 7, 8])"
      ]
     },
     "execution_count": 159,
     "metadata": {},
     "output_type": "execute_result"
    }
   ],
   "source": [
    "np.hstack((arr1,arr2))"
   ]
  },
  {
   "cell_type": "code",
   "execution_count": 160,
   "id": "fe1588ea-8611-4867-a2f2-acd9767c91d2",
   "metadata": {},
   "outputs": [
    {
     "data": {
      "text/plain": [
       "array([[3, 4, 4, 6],\n",
       "       [2, 2, 7, 8]])"
      ]
     },
     "execution_count": 160,
     "metadata": {},
     "output_type": "execute_result"
    }
   ],
   "source": [
    "np.vstack((arr1,arr2))"
   ]
  },
  {
   "cell_type": "code",
   "execution_count": null,
   "id": "edd5b683-f4a6-446f-83a7-23fde6b56b2f",
   "metadata": {},
   "outputs": [],
   "source": []
  },
  {
   "cell_type": "code",
   "execution_count": null,
   "id": "a2024711-f1ec-418d-b7a6-0f59ca45db27",
   "metadata": {},
   "outputs": [],
   "source": []
  },
  {
   "cell_type": "code",
   "execution_count": 136,
   "id": "30004006-4c39-4ffb-b720-e2aa00cf883f",
   "metadata": {},
   "outputs": [
    {
     "data": {
      "text/plain": [
       "array([[6, 6, 7, 6],\n",
       "       [6, 4, 3, 7]])"
      ]
     },
     "execution_count": 136,
     "metadata": {},
     "output_type": "execute_result"
    }
   ],
   "source": [
    "np.stack((arr1,arr2))"
   ]
  },
  {
   "cell_type": "code",
   "execution_count": null,
   "id": "d8f7933d-33ac-46bb-889a-14e60401f869",
   "metadata": {},
   "outputs": [],
   "source": []
  },
  {
   "cell_type": "code",
   "execution_count": 137,
   "id": "715e2545-d3fd-4a1d-a758-a24e0f90aad5",
   "metadata": {},
   "outputs": [
    {
     "data": {
      "text/plain": [
       "array([[6, 6],\n",
       "       [6, 4],\n",
       "       [7, 3],\n",
       "       [6, 7]])"
      ]
     },
     "execution_count": 137,
     "metadata": {},
     "output_type": "execute_result"
    }
   ],
   "source": [
    "np.stack((arr1,arr2), axis=1)"
   ]
  },
  {
   "cell_type": "code",
   "execution_count": null,
   "id": "eb8d33d8-c9a2-42d7-beea-b6bc4730943d",
   "metadata": {},
   "outputs": [],
   "source": []
  },
  {
   "cell_type": "code",
   "execution_count": 145,
   "id": "41ead35a-08ce-4925-a29b-c737023d2d94",
   "metadata": {},
   "outputs": [
    {
     "data": {
      "text/plain": [
       "(array([[1, 5, 8],\n",
       "        [7, 9, 6],\n",
       "        [5, 5, 1]]),\n",
       " array([[5, 3, 4],\n",
       "        [8, 5, 0],\n",
       "        [0, 5, 4]]))"
      ]
     },
     "execution_count": 145,
     "metadata": {},
     "output_type": "execute_result"
    }
   ],
   "source": [
    "arr1 = np.random.randint(0,10,(3,3))\n",
    "arr2 = np.random.randint(0,10,(3,3))\n",
    "arr1, arr2"
   ]
  },
  {
   "cell_type": "code",
   "execution_count": 146,
   "id": "732fa75f-79d9-47b4-8d2c-c85804d3664e",
   "metadata": {},
   "outputs": [
    {
     "data": {
      "text/plain": [
       "array([[[1, 5, 8],\n",
       "        [7, 9, 6],\n",
       "        [5, 5, 1]],\n",
       "\n",
       "       [[5, 3, 4],\n",
       "        [8, 5, 0],\n",
       "        [0, 5, 4]]])"
      ]
     },
     "execution_count": 146,
     "metadata": {},
     "output_type": "execute_result"
    }
   ],
   "source": [
    "np.stack((arr1,arr2))"
   ]
  },
  {
   "cell_type": "code",
   "execution_count": 149,
   "id": "b35e7353-083b-4544-88fa-48175744e1e7",
   "metadata": {},
   "outputs": [
    {
     "data": {
      "text/plain": [
       "array([[[1, 5, 8],\n",
       "        [5, 3, 4]],\n",
       "\n",
       "       [[7, 9, 6],\n",
       "        [8, 5, 0]],\n",
       "\n",
       "       [[5, 5, 1],\n",
       "        [0, 5, 4]]])"
      ]
     },
     "execution_count": 149,
     "metadata": {},
     "output_type": "execute_result"
    }
   ],
   "source": [
    "np.stack((arr1,arr2), axis=1)"
   ]
  },
  {
   "cell_type": "code",
   "execution_count": null,
   "id": "a86575bd-3f0b-415a-a31a-1a6b14ab784a",
   "metadata": {},
   "outputs": [],
   "source": []
  },
  {
   "cell_type": "code",
   "execution_count": null,
   "id": "d608105f-3eec-4270-9622-6190dbf73d2a",
   "metadata": {},
   "outputs": [],
   "source": []
  },
  {
   "cell_type": "code",
   "execution_count": null,
   "id": "2917c10a-7378-4315-9b6f-fa8bb1623121",
   "metadata": {},
   "outputs": [],
   "source": []
  },
  {
   "cell_type": "code",
   "execution_count": null,
   "id": "6cdc5256-fe80-4c54-a7b0-58b19660d509",
   "metadata": {},
   "outputs": [],
   "source": []
  },
  {
   "cell_type": "code",
   "execution_count": null,
   "id": "86acebc8-b71d-4bfd-bad2-cc60bcb9f297",
   "metadata": {},
   "outputs": [],
   "source": []
  },
  {
   "cell_type": "code",
   "execution_count": null,
   "id": "1645d7cc-d3d4-439f-a690-ecef4c979280",
   "metadata": {},
   "outputs": [],
   "source": []
  },
  {
   "cell_type": "code",
   "execution_count": 120,
   "id": "8e967868-bdcf-4584-894f-b279358265f7",
   "metadata": {},
   "outputs": [],
   "source": [
    "arr1 = [1,2,3]\n",
    "arr2 = [4,5,6]"
   ]
  },
  {
   "cell_type": "code",
   "execution_count": 121,
   "id": "a68bb80f-f18b-4bfd-bc89-59161322a2dc",
   "metadata": {},
   "outputs": [
    {
     "data": {
      "text/plain": [
       "array([[1, 2, 3],\n",
       "       [4, 5, 6]])"
      ]
     },
     "execution_count": 121,
     "metadata": {},
     "output_type": "execute_result"
    }
   ],
   "source": [
    "np.row_stack((arr1,arr2))"
   ]
  },
  {
   "cell_type": "code",
   "execution_count": 122,
   "id": "30ecb5b3-37f2-4660-9e42-b23de3c396cb",
   "metadata": {},
   "outputs": [
    {
     "data": {
      "text/plain": [
       "array([[1, 4],\n",
       "       [2, 5],\n",
       "       [3, 6]])"
      ]
     },
     "execution_count": 122,
     "metadata": {},
     "output_type": "execute_result"
    }
   ],
   "source": [
    "np.column_stack((arr1,arr2))"
   ]
  },
  {
   "cell_type": "code",
   "execution_count": null,
   "id": "fe409802-8a82-498f-8ff3-89de3eec0605",
   "metadata": {},
   "outputs": [],
   "source": []
  },
  {
   "cell_type": "code",
   "execution_count": null,
   "id": "2ee32f89-c17d-4c7d-81f7-9990a810def9",
   "metadata": {},
   "outputs": [],
   "source": []
  },
  {
   "cell_type": "code",
   "execution_count": null,
   "id": "93ac5f37-710b-490d-986d-e6e7a687e0fc",
   "metadata": {},
   "outputs": [],
   "source": []
  },
  {
   "cell_type": "code",
   "execution_count": null,
   "id": "5a7ccdf7-f732-48bf-a400-aa188165cafd",
   "metadata": {},
   "outputs": [],
   "source": []
  },
  {
   "cell_type": "code",
   "execution_count": null,
   "id": "3577c54e-0b0e-431b-a216-d214a1069b5a",
   "metadata": {},
   "outputs": [],
   "source": [
    "np.concatenate?"
   ]
  },
  {
   "cell_type": "code",
   "execution_count": 152,
   "id": "0e861465-aba2-48df-ad54-319e2ba585da",
   "metadata": {},
   "outputs": [
    {
     "data": {
      "text/plain": [
       "(array([[6, 2, 1],\n",
       "        [5, 6, 5],\n",
       "        [5, 7, 9]]),\n",
       " array([[8, 1, 1],\n",
       "        [1, 8, 4],\n",
       "        [8, 8, 8]]))"
      ]
     },
     "execution_count": 152,
     "metadata": {},
     "output_type": "execute_result"
    }
   ],
   "source": [
    "arr1 = np.random.randint(0,10,(3,3))\n",
    "arr2 = np.random.randint(0,10,(3,3))\n",
    "arr1, arr2"
   ]
  },
  {
   "cell_type": "code",
   "execution_count": 154,
   "id": "eda1bf6e-94cd-47c9-96a6-1fffd8e3db7a",
   "metadata": {},
   "outputs": [
    {
     "data": {
      "text/plain": [
       "array([[6, 2, 1],\n",
       "       [5, 6, 5],\n",
       "       [5, 7, 9],\n",
       "       [8, 1, 1],\n",
       "       [1, 8, 4],\n",
       "       [8, 8, 8]])"
      ]
     },
     "execution_count": 154,
     "metadata": {},
     "output_type": "execute_result"
    }
   ],
   "source": [
    "np.concatenate((arr1,arr2))"
   ]
  },
  {
   "cell_type": "code",
   "execution_count": 155,
   "id": "3368a2be-464c-443e-a90a-0c68b9e231d1",
   "metadata": {},
   "outputs": [
    {
     "data": {
      "text/plain": [
       "array([[6, 2, 1, 8, 1, 1],\n",
       "       [5, 6, 5, 1, 8, 4],\n",
       "       [5, 7, 9, 8, 8, 8]])"
      ]
     },
     "execution_count": 155,
     "metadata": {},
     "output_type": "execute_result"
    }
   ],
   "source": [
    "np.concatenate((arr1,arr2),axis=1)"
   ]
  },
  {
   "cell_type": "code",
   "execution_count": 157,
   "id": "931e2964-17a1-4263-8b3e-e1cef15d5266",
   "metadata": {},
   "outputs": [
    {
     "data": {
      "text/plain": [
       "(array([6, 8, 5, 3]), array([3, 7, 3, 2]))"
      ]
     },
     "execution_count": 157,
     "metadata": {},
     "output_type": "execute_result"
    }
   ],
   "source": [
    "arr1 = np.random.randint(1,10,4)\n",
    "arr2 = np.random.randint(1,10,4)\n",
    "arr1,arr2"
   ]
  },
  {
   "cell_type": "code",
   "execution_count": 163,
   "id": "76088ac4-52a6-4669-b141-fd9b4fd146b0",
   "metadata": {},
   "outputs": [
    {
     "data": {
      "text/plain": [
       "array([3, 4, 4, 6, 2, 2, 7, 8])"
      ]
     },
     "execution_count": 163,
     "metadata": {},
     "output_type": "execute_result"
    }
   ],
   "source": [
    "np.concatenate((arr1,arr2))"
   ]
  },
  {
   "cell_type": "code",
   "execution_count": 164,
   "id": "f20d4812-acbc-4b8e-a6dc-16dd0b02dd00",
   "metadata": {},
   "outputs": [
    {
     "ename": "AxisError",
     "evalue": "axis 1 is out of bounds for array of dimension 1",
     "output_type": "error",
     "traceback": [
      "\u001b[1;31m---------------------------------------------------------------------------\u001b[0m",
      "\u001b[1;31mAxisError\u001b[0m                                 Traceback (most recent call last)",
      "\u001b[1;32mF:\\else\\Windows\\DELLTE~1/ipykernel_12740/1526623953.py\u001b[0m in \u001b[0;36m<module>\u001b[1;34m\u001b[0m\n\u001b[1;32m----> 1\u001b[1;33m \u001b[0mnp\u001b[0m\u001b[1;33m.\u001b[0m\u001b[0mconcatenate\u001b[0m\u001b[1;33m(\u001b[0m\u001b[1;33m(\u001b[0m\u001b[0marr1\u001b[0m\u001b[1;33m,\u001b[0m\u001b[0marr2\u001b[0m\u001b[1;33m)\u001b[0m\u001b[1;33m,\u001b[0m\u001b[0maxis\u001b[0m\u001b[1;33m=\u001b[0m\u001b[1;36m1\u001b[0m\u001b[1;33m)\u001b[0m\u001b[1;33m\u001b[0m\u001b[1;33m\u001b[0m\u001b[0m\n\u001b[0m",
      "\u001b[1;32m<__array_function__ internals>\u001b[0m in \u001b[0;36mconcatenate\u001b[1;34m(*args, **kwargs)\u001b[0m\n",
      "\u001b[1;31mAxisError\u001b[0m: axis 1 is out of bounds for array of dimension 1"
     ]
    }
   ],
   "source": [
    "np.concatenate((arr1,arr2),axis=1)"
   ]
  },
  {
   "cell_type": "code",
   "execution_count": null,
   "id": "d6d385a7-9ce1-402e-bb6c-63775910048c",
   "metadata": {},
   "outputs": [],
   "source": []
  },
  {
   "cell_type": "code",
   "execution_count": null,
   "id": "7fb27426-040a-457e-9de4-4ef80db9a307",
   "metadata": {},
   "outputs": [],
   "source": []
  },
  {
   "cell_type": "code",
   "execution_count": null,
   "id": "da645b8d-7152-4a73-8811-5ce63031e562",
   "metadata": {},
   "outputs": [],
   "source": []
  },
  {
   "cell_type": "code",
   "execution_count": null,
   "id": "9d229d83-4542-42cf-905f-41b12c6b449a",
   "metadata": {},
   "outputs": [],
   "source": []
  },
  {
   "cell_type": "code",
   "execution_count": 176,
   "id": "3fff6933-ec0b-41e6-aa41-cf93dcd2c6d7",
   "metadata": {},
   "outputs": [
    {
     "data": {
      "text/plain": [
       "array([1, 2, 3, 4])"
      ]
     },
     "execution_count": 176,
     "metadata": {},
     "output_type": "execute_result"
    }
   ],
   "source": [
    "np.hstack(([1,2],[3,4]))"
   ]
  },
  {
   "cell_type": "code",
   "execution_count": null,
   "id": "1c26f17c-69ad-43ab-bfa2-62ca97369ce1",
   "metadata": {},
   "outputs": [],
   "source": []
  },
  {
   "cell_type": "code",
   "execution_count": null,
   "id": "170e74b4-ad84-40ec-a526-bc0f90a2b12c",
   "metadata": {},
   "outputs": [],
   "source": []
  },
  {
   "cell_type": "code",
   "execution_count": null,
   "id": "0ce148b0-8698-4436-a022-5eebb6a40c7d",
   "metadata": {},
   "outputs": [],
   "source": []
  },
  {
   "cell_type": "code",
   "execution_count": null,
   "id": "8d9f7860-e961-443b-9a57-5be055b74b5b",
   "metadata": {},
   "outputs": [],
   "source": []
  },
  {
   "cell_type": "code",
   "execution_count": null,
   "id": "faae5e40-6b5e-4dcb-a366-03c2965cf8d2",
   "metadata": {},
   "outputs": [],
   "source": [
    "np.split?"
   ]
  },
  {
   "cell_type": "code",
   "execution_count": null,
   "id": "6dfb6dee-8fd9-4a8f-a5da-e5df29864955",
   "metadata": {},
   "outputs": [],
   "source": [
    "np.vsplit?"
   ]
  },
  {
   "cell_type": "code",
   "execution_count": null,
   "id": "6204cb83-4f3c-49fa-ab8c-f00d333aab74",
   "metadata": {},
   "outputs": [],
   "source": [
    "np.hsplit?"
   ]
  },
  {
   "cell_type": "code",
   "execution_count": null,
   "id": "dab2910e-a653-4441-9680-ca09783a2360",
   "metadata": {},
   "outputs": [],
   "source": []
  },
  {
   "cell_type": "code",
   "execution_count": null,
   "id": "aaa5f989-4cad-4262-ba2c-32eedd663a35",
   "metadata": {},
   "outputs": [],
   "source": []
  },
  {
   "cell_type": "code",
   "execution_count": 181,
   "id": "641e275f-05f8-449a-b1da-c82658c70473",
   "metadata": {},
   "outputs": [
    {
     "data": {
      "text/plain": [
       "array([[9, 8, 1, 9],\n",
       "       [8, 4, 9, 4],\n",
       "       [7, 6, 2, 8],\n",
       "       [7, 2, 7, 7]])"
      ]
     },
     "execution_count": 181,
     "metadata": {},
     "output_type": "execute_result"
    }
   ],
   "source": [
    "arr = np.random.randint(0,10,(4,4))\n",
    "arr"
   ]
  },
  {
   "cell_type": "code",
   "execution_count": 182,
   "id": "0a147c52-c2f9-4706-b6ea-3bf3d26bc9e9",
   "metadata": {},
   "outputs": [
    {
     "data": {
      "text/plain": [
       "[array([[9, 8, 1, 9],\n",
       "        [8, 4, 9, 4]]),\n",
       " array([[7, 6, 2, 8],\n",
       "        [7, 2, 7, 7]])]"
      ]
     },
     "execution_count": 182,
     "metadata": {},
     "output_type": "execute_result"
    }
   ],
   "source": [
    "np.split(arr,2)"
   ]
  },
  {
   "cell_type": "code",
   "execution_count": 183,
   "id": "adcf0ec4-d444-466f-8129-7815f4163228",
   "metadata": {},
   "outputs": [
    {
     "data": {
      "text/plain": [
       "[array([[9, 8],\n",
       "        [8, 4],\n",
       "        [7, 6],\n",
       "        [7, 2]]),\n",
       " array([[1, 9],\n",
       "        [9, 4],\n",
       "        [2, 8],\n",
       "        [7, 7]])]"
      ]
     },
     "execution_count": 183,
     "metadata": {},
     "output_type": "execute_result"
    }
   ],
   "source": [
    "np.split(arr,2,axis=1)"
   ]
  },
  {
   "cell_type": "code",
   "execution_count": 185,
   "id": "85b50a36-9a79-424a-8b86-c369776fc329",
   "metadata": {},
   "outputs": [
    {
     "data": {
      "text/plain": [
       "[array([[9, 8],\n",
       "        [8, 4],\n",
       "        [7, 6],\n",
       "        [7, 2]]),\n",
       " array([[1, 9],\n",
       "        [9, 4],\n",
       "        [2, 8],\n",
       "        [7, 7]])]"
      ]
     },
     "execution_count": 185,
     "metadata": {},
     "output_type": "execute_result"
    }
   ],
   "source": [
    "np.hsplit(arr,2)"
   ]
  },
  {
   "cell_type": "code",
   "execution_count": 186,
   "id": "46d9b640-43bc-4e5b-8471-b801d197f12d",
   "metadata": {},
   "outputs": [
    {
     "data": {
      "text/plain": [
       "[array([[9, 8, 1, 9],\n",
       "        [8, 4, 9, 4]]),\n",
       " array([[7, 6, 2, 8],\n",
       "        [7, 2, 7, 7]])]"
      ]
     },
     "execution_count": 186,
     "metadata": {},
     "output_type": "execute_result"
    }
   ],
   "source": [
    "np.vsplit(arr,2)"
   ]
  },
  {
   "cell_type": "code",
   "execution_count": null,
   "id": "d1099743-39ec-419c-a7c6-01d1bed198ca",
   "metadata": {},
   "outputs": [],
   "source": []
  },
  {
   "cell_type": "code",
   "execution_count": null,
   "id": "74a08482-9e4f-4950-9662-da018c0d9b3f",
   "metadata": {},
   "outputs": [],
   "source": []
  },
  {
   "cell_type": "code",
   "execution_count": null,
   "id": "d6d1f63e-9b93-4e2e-b41b-01fc1e4643a8",
   "metadata": {},
   "outputs": [],
   "source": []
  },
  {
   "cell_type": "code",
   "execution_count": null,
   "id": "63338263-627f-4edf-ba11-a63ec6536a10",
   "metadata": {},
   "outputs": [],
   "source": [
    "np.array_split?"
   ]
  },
  {
   "cell_type": "code",
   "execution_count": 195,
   "id": "6fccbe64-904e-47d2-8465-d300e81f45fe",
   "metadata": {},
   "outputs": [
    {
     "data": {
      "text/plain": [
       "[array([1, 2]), array([3, 4]), array([5]), array([6])]"
      ]
     },
     "execution_count": 195,
     "metadata": {},
     "output_type": "execute_result"
    }
   ],
   "source": [
    "np.array_split([1,2,3,4,5,6],4)"
   ]
  },
  {
   "cell_type": "code",
   "execution_count": 197,
   "id": "1017bb8a-08a2-4665-a833-87aa197f2373",
   "metadata": {},
   "outputs": [
    {
     "data": {
      "text/plain": [
       "array([[3, 2, 2],\n",
       "       [1, 1, 3],\n",
       "       [1, 2, 3]])"
      ]
     },
     "execution_count": 197,
     "metadata": {},
     "output_type": "execute_result"
    }
   ],
   "source": [
    "arr = np.random.randint(1,5,(3,3))\n",
    "arr"
   ]
  },
  {
   "cell_type": "code",
   "execution_count": 199,
   "id": "c4bb8dfc-949f-45c7-9e91-0e850a6d817d",
   "metadata": {},
   "outputs": [
    {
     "data": {
      "text/plain": [
       "[array([[3, 2],\n",
       "        [1, 1],\n",
       "        [1, 2]]),\n",
       " array([[2],\n",
       "        [3],\n",
       "        [3]])]"
      ]
     },
     "execution_count": 199,
     "metadata": {},
     "output_type": "execute_result"
    }
   ],
   "source": [
    "np.array_split(arr,2,axis=1)"
   ]
  }
 ],
 "metadata": {
  "kernelspec": {
   "display_name": "tools-and-techniques-in-data-science",
   "language": "python",
   "name": "tools-and-techniques-in-data-science"
  },
  "language_info": {
   "codemirror_mode": {
    "name": "ipython",
    "version": 3
   },
   "file_extension": ".py",
   "mimetype": "text/x-python",
   "name": "python",
   "nbconvert_exporter": "python",
   "pygments_lexer": "ipython3",
   "version": "3.9.7"
  }
 },
 "nbformat": 4,
 "nbformat_minor": 5
}
