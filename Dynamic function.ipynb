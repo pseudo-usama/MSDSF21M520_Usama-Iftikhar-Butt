{
 "cells": [
  {
   "cell_type": "markdown",
   "id": "68e7d47f-892f-44c7-84d4-b6cf602b1662",
   "metadata": {},
   "source": [
    "# https://gist.github.com/dhagrow/d3414e3c6ae25dfa606238355aea2ca5"
   ]
  },
  {
   "cell_type": "markdown",
   "id": "2b770ddb-fdb9-45fa-b1fe-4ffa735af89f",
   "metadata": {
    "tags": []
   },
   "source": [
    "Python is a dynamic language, and it is relatively easy to dynamically create\n",
    "and modify things such as classes and objects. Functions, however, are quite\n",
    "challenging to create dynamically.\n",
    "\n",
    "One area where we might want to do this is in an RPC library, where a function\n",
    "defined on a server needs to be available remotely on a client.\n",
    "\n",
    "The naive solution is to simply pass arguments to a generic function that\n",
    "accepts `*args` and `**kwargs`. A lot of information is lost with this approach,\n",
    "however, in particular the number of arguments taken. Used in an RPC\n",
    "implementation, this also delays any error feedback until after the arguments\n",
    "have reached the server.\n",
    "\n",
    "If you search online, most practical solutions involve `exec()`. This is\n",
    "generally the approach chosen by many Python RPC libraries. This is, of course,\n",
    "a very insecure solution, one that opens any program up to malicious code\n",
    "execution.\n",
    "\n",
    "This experiment creates a real function at the highest layer available: the AST. \n",
    "There are several challenges to this approach. The most significant is that on \n",
    "the AST layer, function arguments must be defined according to their type. This \n",
    "greatly limits the flexibility allowed when defining a function with Python \n",
    "syntax. \n",
    "\n",
    "This experiment has a few requirements that introduce (and relieve) additional\n",
    " challenges:\n",
    "\n",
    "- Must return a representative function signature to the Python interpreter\n",
    "- Must support both Python 2 and 3\n",
    "- Must allow serialization to JSON and/or MsgPack"
   ]
  },
  {
   "cell_type": "code",
   "execution_count": 7,
   "id": "a8550a70-a1b7-4622-894c-7228f77a7da3",
   "metadata": {},
   "outputs": [],
   "source": [
    "from __future__ import print_function\n",
    "\n",
    "import ast\n",
    "import sys\n",
    "import types\n",
    "import numbers\n",
    "import collections"
   ]
  },
  {
   "cell_type": "code",
   "execution_count": 8,
   "id": "db85184e-30d4-46d8-8db8-614779f93472",
   "metadata": {},
   "outputs": [],
   "source": [
    "PY3 = sys.version_info.major >= 3"
   ]
  },
  {
   "cell_type": "markdown",
   "id": "81e27bb2-b640-42f3-bb3c-34640e93c91f",
   "metadata": {},
   "source": [
    "# Creating function dynamically function"
   ]
  },
  {
   "cell_type": "code",
   "execution_count": 6,
   "id": "343dd1a8-8283-4b46-b0ac-f6ff180d04f9",
   "metadata": {},
   "outputs": [],
   "source": [
    "def create_function(name, signature, callback):\n",
    "    \"\"\"Dynamically creates a function that wraps a call to *callback*, based\n",
    "    on the provided *signature*.\n",
    "\n",
    "    Note that only default arguments with a value of `None` are supported. Any\n",
    "    other value will raise a `TypeError`.\n",
    "    \"\"\"\n",
    "    # utils to set default values when creating a ast objects\n",
    "    Loc = lambda cls, **kw: cls(annotation=None, lineno=1, col_offset=0, **kw)\n",
    "    Name = lambda id, ctx=None: Loc(ast.Name, id=id, ctx=ctx or ast.Load())\n",
    "\n",
    "    # vars for the callback call\n",
    "    call_args = []\n",
    "    call_keywords = []      # PY3\n",
    "    call_starargs = None    # PY2\n",
    "    call_kwargs = None      # PY2\n",
    "\n",
    "    # vars for the generated function signature\n",
    "    func_args = []\n",
    "    func_defaults = []\n",
    "    vararg = None\n",
    "    kwarg = None\n",
    "\n",
    "    # vars for the args with default values\n",
    "    defaults = []\n",
    "\n",
    "    # assign args based on *signature*\n",
    "    for param in viewvalues(signature.parameters):\n",
    "        if param.default is not param.empty:\n",
    "            if isinstance(param.default, type(None)):\n",
    "                # `ast.NameConstant` is used in PY3, but both support `ast.Name`\n",
    "                func_defaults.append(Name('None'))\n",
    "            elif isinstance(param.default, bool):\n",
    "                # `ast.NameConstant` is used in PY3, but both support `ast.Name`\n",
    "                typ = str if PY3 else bytes\n",
    "                func_defaults.append(Name(typ(param.default)))\n",
    "            elif isinstance(param.default, numbers.Number):\n",
    "                func_defaults.append(Loc(ast.Num, n=param.default))\n",
    "            elif isinstance(param.default, str):\n",
    "                func_defaults.append(Loc(ast.Str, s=param.default))\n",
    "            elif isinstance(param.default, bytes):\n",
    "                typ = ast.Bytes if PY3 else ast.Str\n",
    "                func_defaults.append(Loc(typ, s=param.default))\n",
    "            elif isinstance(param.default, list):\n",
    "                func_defaults.append(Loc(ast.List,\n",
    "                    elts=param.default, ctx=ast.Load()))\n",
    "            elif isinstance(param.default, tuple):\n",
    "                func_defaults.append(Loc(ast.Tuple,\n",
    "                    elts=list(param.default), ctx=ast.Load()))\n",
    "            elif isinstance(param.default, dict):\n",
    "                func_defaults.append(Loc(ast.Dict,\n",
    "                    keys=list(viewkeys(param.default)),\n",
    "                    values=list(viewvalues(param.default))))\n",
    "            else:\n",
    "                err = 'unsupported default argument type: {}'\n",
    "                raise TypeError(err.format(type(param.default)))\n",
    "            defaults.append(param.default)\n",
    "            # func_defaults.append(Name('None'))\n",
    "            # defaults.append(None)\n",
    "\n",
    "        if param.kind in {param.POSITIONAL_ONLY, param.POSITIONAL_OR_KEYWORD}:\n",
    "            call_args.append(Name(param.name))\n",
    "            if PY3:\n",
    "                func_args.append(Loc(ast.arg, arg=param.name))\n",
    "            else:\n",
    "                func_args.append(Name(param.name, ast.Param()))\n",
    "        elif param.kind == param.VAR_POSITIONAL:\n",
    "            if PY3:\n",
    "                call_args.append(Loc(ast.Starred,\n",
    "                    value=Name(param.name),\n",
    "                    ctx=ast.Load()))\n",
    "                vararg = Loc(ast.arg, arg=param.name)\n",
    "            else:\n",
    "                call_starargs = Name(param.name)\n",
    "                vararg = param.name\n",
    "        elif param.kind == param.KEYWORD_ONLY:\n",
    "            err = 'TODO: KEYWORD_ONLY param support, param: {}'\n",
    "            raise TypeError(err.format(param.name))\n",
    "        elif param.kind == param.VAR_KEYWORD:\n",
    "            if PY3:\n",
    "                call_keywords.append(Loc(ast.keyword,\n",
    "                    arg=None, value=Name(param.name)))\n",
    "                kwarg = Loc(ast.arg, arg=param.name)\n",
    "            else:\n",
    "                call_kwargs = Name(param.name)\n",
    "                kwarg = param.name\n",
    "\n",
    "    # generate the ast for the *callback* call\n",
    "    call_ast = Loc(ast.Call,\n",
    "        func=Name(callback.__name__),\n",
    "        args=call_args, keywords=call_keywords,\n",
    "        starargs=call_starargs, kwargs=call_kwargs)\n",
    "\n",
    "    # generate the function ast\n",
    "    func_ast = Loc(ast.FunctionDef, name=to_func_name(name),\n",
    "        args=ast.arguments(\n",
    "            args=func_args, vararg=vararg, defaults=func_defaults,\n",
    "            kwarg=kwarg, kwonlyargs=[], kw_defaults=[]),\n",
    "        body=[Loc(ast.Return, value=call_ast)],\n",
    "        decorator_list=[], returns=None)\n",
    "\n",
    "    # compile the ast and get the function code\n",
    "    mod_ast = ast.Module(body=[func_ast])\n",
    "    module_code = compile(mod_ast, '<generated-ast>', 'exec')\n",
    "    func_code = [c for c in module_code.co_consts\n",
    "        if isinstance(c, types.CodeType)][0]\n",
    "\n",
    "    # return the generated function\n",
    "    return types.FunctionType(func_code, {callback.__name__: callback},\n",
    "        argdefs=tuple(defaults))"
   ]
  },
  {
   "cell_type": "markdown",
   "id": "80f5c1ba-1049-48f1-b6a0-49d71c913848",
   "metadata": {},
   "source": [
    "# Support functions"
   ]
  },
  {
   "cell_type": "code",
   "execution_count": 4,
   "id": "76e4f220-ecbc-4b00-b904-24e48d07175b",
   "metadata": {
    "tags": []
   },
   "outputs": [],
   "source": [
    "def viewitems(obj):\n",
    "    return getattr(obj, \"viewitems\", obj.items)()\n",
    "\n",
    "def viewkeys(obj):\n",
    "    return getattr(obj, \"viewkeys\", obj.keys)()\n",
    "\n",
    "def viewvalues(obj):\n",
    "    return getattr(obj, \"viewvalues\", obj.values)()\n",
    "\n",
    "def to_func_name(name):\n",
    "    # func.__name__ must be bytes in Python2\n",
    "    return to_unicode(name) if PY3 else to_bytes(name)\n",
    "\n",
    "def to_bytes(s, encoding='utf8'):\n",
    "    if isinstance(s, bytes):\n",
    "        pass\n",
    "    elif isinstance(s, str):\n",
    "        s = s.encode(encoding)\n",
    "    return s\n",
    "\n",
    "def to_unicode(s, encoding='utf8'):\n",
    "    if isinstance(s, bytes):\n",
    "        s = s.decode(encoding)\n",
    "    elif isinstance(s, str):\n",
    "        pass\n",
    "    elif isinstance(s, dict):\n",
    "        s = {to_unicode(k): to_unicode(v) for k, v in viewitems(s)}\n",
    "    elif isinstance(s, collections.Iterable):\n",
    "        s = [to_unicode(x, encoding) for x in s]\n",
    "    return s"
   ]
  },
  {
   "cell_type": "markdown",
   "id": "b37d4046-546f-4cdd-ac05-ea3622e68f93",
   "metadata": {},
   "source": [
    "# Demo"
   ]
  },
  {
   "cell_type": "code",
   "execution_count": 5,
   "id": "90c99d08-d7f1-47b2-8010-47bc5ee2c7df",
   "metadata": {},
   "outputs": [
    {
     "name": "stdout",
     "output_type": "stream",
     "text": [
      "original: <function original at 0x0000025B4C08ED30>\n",
      "original signature: (a, b, *args, **kwargs)\n",
      "original ret: (1, 2, (4,), {'borp': 'torp'})\n"
     ]
    },
    {
     "ename": "TypeError",
     "evalue": "required field \"posonlyargs\" missing from arguments",
     "output_type": "error",
     "traceback": [
      "\u001b[1;31m---------------------------------------------------------------------------\u001b[0m",
      "\u001b[1;31mTypeError\u001b[0m                                 Traceback (most recent call last)",
      "\u001b[1;32mF:\\else\\Windows\\DELLTE~1/ipykernel_7748/1002197481.py\u001b[0m in \u001b[0;36m<module>\u001b[1;34m\u001b[0m\n\u001b[0;32m     16\u001b[0m \u001b[1;32mdef\u001b[0m \u001b[0mcallback\u001b[0m\u001b[1;33m(\u001b[0m\u001b[1;33m*\u001b[0m\u001b[0margs\u001b[0m\u001b[1;33m,\u001b[0m \u001b[1;33m**\u001b[0m\u001b[0mkwargs\u001b[0m\u001b[1;33m)\u001b[0m\u001b[1;33m:\u001b[0m\u001b[1;33m\u001b[0m\u001b[1;33m\u001b[0m\u001b[0m\n\u001b[0;32m     17\u001b[0m     \u001b[1;32mreturn\u001b[0m \u001b[0margs\u001b[0m\u001b[1;33m,\u001b[0m \u001b[0mkwargs\u001b[0m\u001b[1;33m\u001b[0m\u001b[1;33m\u001b[0m\u001b[0m\n\u001b[1;32m---> 18\u001b[1;33m \u001b[0mcloned\u001b[0m \u001b[1;33m=\u001b[0m \u001b[0mcreate_function\u001b[0m\u001b[1;33m(\u001b[0m\u001b[1;34m'clone'\u001b[0m\u001b[1;33m,\u001b[0m \u001b[0msig\u001b[0m\u001b[1;33m,\u001b[0m \u001b[0mcallback\u001b[0m\u001b[1;33m)\u001b[0m\u001b[1;33m\u001b[0m\u001b[1;33m\u001b[0m\u001b[0m\n\u001b[0m\u001b[0;32m     19\u001b[0m \u001b[1;33m\u001b[0m\u001b[0m\n\u001b[0;32m     20\u001b[0m \u001b[0msig\u001b[0m \u001b[1;33m=\u001b[0m \u001b[0msignature\u001b[0m\u001b[1;33m(\u001b[0m\u001b[0mcloned\u001b[0m\u001b[1;33m)\u001b[0m\u001b[1;33m\u001b[0m\u001b[1;33m\u001b[0m\u001b[0m\n",
      "\u001b[1;32mF:\\else\\Windows\\DELLTE~1/ipykernel_7748/1427432535.py\u001b[0m in \u001b[0;36mcreate_function\u001b[1;34m(name, signature, callback)\u001b[0m\n\u001b[0;32m    112\u001b[0m     \u001b[1;31m# compile the ast and get the function code\u001b[0m\u001b[1;33m\u001b[0m\u001b[1;33m\u001b[0m\u001b[0m\n\u001b[0;32m    113\u001b[0m     \u001b[0mmod_ast\u001b[0m \u001b[1;33m=\u001b[0m \u001b[0mast\u001b[0m\u001b[1;33m.\u001b[0m\u001b[0mModule\u001b[0m\u001b[1;33m(\u001b[0m\u001b[0mbody\u001b[0m\u001b[1;33m=\u001b[0m\u001b[1;33m[\u001b[0m\u001b[0mfunc_ast\u001b[0m\u001b[1;33m]\u001b[0m\u001b[1;33m)\u001b[0m\u001b[1;33m\u001b[0m\u001b[1;33m\u001b[0m\u001b[0m\n\u001b[1;32m--> 114\u001b[1;33m     \u001b[0mmodule_code\u001b[0m \u001b[1;33m=\u001b[0m \u001b[0mcompile\u001b[0m\u001b[1;33m(\u001b[0m\u001b[0mmod_ast\u001b[0m\u001b[1;33m,\u001b[0m \u001b[1;34m'<generated-ast>'\u001b[0m\u001b[1;33m,\u001b[0m \u001b[1;34m'exec'\u001b[0m\u001b[1;33m)\u001b[0m\u001b[1;33m\u001b[0m\u001b[1;33m\u001b[0m\u001b[0m\n\u001b[0m\u001b[0;32m    115\u001b[0m     func_code = [c for c in module_code.co_consts\n\u001b[0;32m    116\u001b[0m         if isinstance(c, types.CodeType)][0]\n",
      "\u001b[1;31mTypeError\u001b[0m: required field \"posonlyargs\" missing from arguments"
     ]
    }
   ],
   "source": [
    "if PY3:\n",
    "    from inspect import signature\n",
    "else:\n",
    "    from funcsigs import signature\n",
    "\n",
    "# original function\n",
    "def original(a, b, *args, **kwargs):\n",
    "    return a, b, args, kwargs\n",
    "\n",
    "sig = signature(original)\n",
    "print('original:', original)\n",
    "print('original signature:', sig)\n",
    "print('original ret:', original(1, 2, 4, borp='torp'))\n",
    "\n",
    "# cloned function\n",
    "def callback(*args, **kwargs):\n",
    "    return args, kwargs\n",
    "cloned = create_function('clone', sig, callback)\n",
    "\n",
    "sig = signature(cloned)\n",
    "print('cloned:', cloned)\n",
    "print('cloned signature:', sig)\n",
    "print('cloned ret:', cloned(1, 2, 4, borp='torp'))"
   ]
  },
  {
   "cell_type": "code",
   "execution_count": 17,
   "id": "b3b4a7fc-9b32-4afa-a4d0-0671c84b569d",
   "metadata": {},
   "outputs": [],
   "source": [
    "def fn(a, b=1):\n",
    "    pass"
   ]
  },
  {
   "cell_type": "code",
   "execution_count": 20,
   "id": "e97e06a0-299a-4317-adb2-8f5952efbd22",
   "metadata": {},
   "outputs": [
    {
     "data": {
      "text/plain": [
       "<Signature (a, b=1)>"
      ]
     },
     "execution_count": 20,
     "metadata": {},
     "output_type": "execute_result"
    }
   ],
   "source": [
    "signature(fn)"
   ]
  }
 ],
 "metadata": {
  "kernelspec": {
   "display_name": "tools-and-techniques-in-data-science",
   "language": "python",
   "name": "tools-and-techniques-in-data-science"
  },
  "language_info": {
   "codemirror_mode": {
    "name": "ipython",
    "version": 3
   },
   "file_extension": ".py",
   "mimetype": "text/x-python",
   "name": "python",
   "nbconvert_exporter": "python",
   "pygments_lexer": "ipython3",
   "version": "3.9.7"
  }
 },
 "nbformat": 4,
 "nbformat_minor": 5
}
