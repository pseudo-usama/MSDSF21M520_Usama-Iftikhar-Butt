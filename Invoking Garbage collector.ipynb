{
 "cells": [
  {
   "cell_type": "markdown",
   "id": "45fad948-52e2-42e9-b124-8353584644d8",
   "metadata": {},
   "source": [
    "# https://www.geeksforgeeks.org/garbage-collection-python/"
   ]
  },
  {
   "cell_type": "code",
   "execution_count": 1,
   "id": "59554bb1-a0f9-47aa-b91a-ce43b97d77e5",
   "metadata": {},
   "outputs": [],
   "source": [
    "import gc"
   ]
  },
  {
   "cell_type": "code",
   "execution_count": 2,
   "id": "4b2bc399-a113-4844-98e3-fd9ff831d304",
   "metadata": {},
   "outputs": [
    {
     "name": "stdout",
     "output_type": "stream",
     "text": [
      "Garbage collector: collected 0 objects.\n"
     ]
    }
   ],
   "source": [
    "# Returns the number of\n",
    "# objects it has collected\n",
    "# and deallocated\n",
    "collected = gc.collect()\n",
    " \n",
    "# Prints Garbage collector\n",
    "# as 0 object\n",
    "print(f\"Garbage collector: collected {collected} objects.\")"
   ]
  },
  {
   "cell_type": "code",
   "execution_count": null,
   "id": "f84c6c84-36c1-49f5-8825-f6d31e262799",
   "metadata": {},
   "outputs": [],
   "source": []
  },
  {
   "cell_type": "code",
   "execution_count": null,
   "id": "df105271-a985-4323-bd3f-ca5ed167c8b5",
   "metadata": {},
   "outputs": [],
   "source": []
  },
  {
   "cell_type": "code",
   "execution_count": null,
   "id": "a3a74b97-91c8-4f93-a7f5-2b3045d17b4d",
   "metadata": {},
   "outputs": [],
   "source": []
  },
  {
   "cell_type": "code",
   "execution_count": 5,
   "id": "c9af3781-b466-488d-a8b8-63ef73121274",
   "metadata": {},
   "outputs": [
    {
     "name": "stdout",
     "output_type": "stream",
     "text": [
      "Garbage collector: collected 0 objects.\n",
      "Creating cycles...\n",
      "{1: {...}}\n",
      "{2: {...}}\n",
      "{3: {...}}\n",
      "{4: {...}}\n",
      "{5: {...}}\n",
      "{6: {...}}\n",
      "{7: {...}}\n",
      "{8: {...}}\n",
      "{9: {...}}\n",
      "{10: {...}}\n",
      "Garbage collector: collected 10 objects.\n"
     ]
    }
   ],
   "source": [
    "i = 0\n",
    " \n",
    "# create a cycle and on each iteration x as a dictionary\n",
    "# assigned to 1\n",
    "def create_cycle():\n",
    "    x = { }\n",
    "    x[i+1] = x\n",
    "    print (x)\n",
    " \n",
    "# lists are cleared whenever a full collection or\n",
    "# collection of the highest generation (2) is run\n",
    "collected = gc.collect() # or gc.collect(2)\n",
    "print(f\"Garbage collector: collected {collected} objects.\")\n",
    " \n",
    "print(\"Creating cycles...\")\n",
    "for i in range(10):\n",
    "    create_cycle()\n",
    " \n",
    "collected = gc.collect()\n",
    " \n",
    "print(f\"Garbage collector: collected {collected} objects.\")"
   ]
  }
 ],
 "metadata": {
  "kernelspec": {
   "display_name": "Python 3 (ipykernel)",
   "language": "python",
   "name": "python3"
  },
  "language_info": {
   "codemirror_mode": {
    "name": "ipython",
    "version": 3
   },
   "file_extension": ".py",
   "mimetype": "text/x-python",
   "name": "python",
   "nbconvert_exporter": "python",
   "pygments_lexer": "ipython3",
   "version": "3.9.7"
  }
 },
 "nbformat": 4,
 "nbformat_minor": 5
}
